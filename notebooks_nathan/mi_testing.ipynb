{
 "cells": [
  {
   "cell_type": "code",
   "execution_count": 1,
   "metadata": {},
   "outputs": [],
   "source": [
    "import os\n",
    "import numpy as np\n",
    "import matplotlib.pyplot as plt\n",
    "import torch\n",
    "import torch.nn as nn\n",
    "from scipy.spatial import cKDTree\n",
    "\n",
    "os.environ[\"CUDA_DEVICE_ORDER\"] = \"PCI_BUS_ID\"\n",
    "os.environ[\"CUDA_VISIBLE_DEVICES\"] = \"7\"\n",
    "device = torch.device('cuda:0' if torch.cuda.is_available() else 'cpu')\n",
    "\n",
    "%matplotlib inline"
   ]
  },
  {
   "cell_type": "markdown",
   "metadata": {},
   "source": [
    "# MINE"
   ]
  },
  {
   "cell_type": "code",
   "execution_count": 2,
   "metadata": {},
   "outputs": [],
   "source": [
    "sigma_x = .7\n",
    "sigma_y = .5\n",
    "sigma_xy = .3\n",
    "cov = np.array([[sigma_x, sigma_xy], [sigma_xy, sigma_y]]) ** 2\n",
    "mu = [0, 0]\n",
    "\n",
    "n_points = 100\n",
    "\n",
    "def sample_xy():\n",
    "    x, y = np.random.multivariate_normal(mu, cov, n_points).T\n",
    "    x = x[:, None]\n",
    "    y = y[:, None]\n",
    "    return x, y"
   ]
  },
  {
   "cell_type": "code",
   "execution_count": 3,
   "metadata": {},
   "outputs": [
    {
     "data": {
      "text/plain": [
       "0.6634354703245452"
      ]
     },
     "execution_count": 3,
     "metadata": {},
     "output_type": "execute_result"
    }
   ],
   "source": [
    "mi = - 1 / 2 * np.log(1 - (sigma_xy / (sigma_x * sigma_y)) ** 2)\n",
    "mi"
   ]
  },
  {
   "cell_type": "code",
   "execution_count": 4,
   "metadata": {},
   "outputs": [
    {
     "data": {
      "text/plain": [
       "0.6586275647284517"
      ]
     },
     "execution_count": 4,
     "metadata": {},
     "output_type": "execute_result"
    }
   ],
   "source": [
    "# data\n",
    "var = 0.2\n",
    "def func(x):\n",
    "    return x\n",
    "#     return np.sin(x)\n",
    "\n",
    "def sample_xy():\n",
    "#     x = np.random.normal(0, 1, [data_size, 1])\n",
    "    x = np.sign(np.random.normal(0.,1.,[data_size,1]))\n",
    "    y = func(x) + np.random.normal(0, np.sqrt(var), [data_size, 1])\n",
    "    return x, y\n",
    "\n",
    "data_size = 1000000\n",
    "x, y = sample_xy()\n",
    "p_y_x = np.exp(-(y - x) ** 2 / (2 * var))\n",
    "p_y_x_minus = np.exp(-(y + 1) ** 2 / (2 * var))\n",
    "p_y_x_plus = np.exp(-(y - 1) ** 2 / (2 * var))\n",
    "mi = np.average(np.log(p_y_x / (0.5 * p_y_x_minus + 0.5 * p_y_x_plus)))\n",
    "mi"
   ]
  },
  {
   "cell_type": "code",
   "execution_count": 5,
   "metadata": {},
   "outputs": [
    {
     "name": "stdout",
     "output_type": "stream",
     "text": [
      "0 50 100 150 200 250 300 350 400 450 "
     ]
    }
   ],
   "source": [
    "H = 10\n",
    "n_epoch = 500\n",
    "n_points = 20000\n",
    "\n",
    "class Net(nn.Module):\n",
    "    def __init__(self):\n",
    "        super(Net, self).__init__()\n",
    "        self.fc1 = nn.Linear(1, H)\n",
    "        self.fc2 = nn.Linear(1, H)\n",
    "        self.fc3 = nn.Linear(H, 1)\n",
    "\n",
    "    def forward(self, x, y):\n",
    "        h1 = torch.relu(self.fc1(x) + self.fc2(y))\n",
    "        h2 = self.fc3(h1)\n",
    "        return h2\n",
    "\n",
    "model = Net().to(device)\n",
    "optimizer = torch.optim.Adam(model.parameters(), lr=0.01)\n",
    "\n",
    "plot_loss = []\n",
    "for epoch in range(n_epoch):\n",
    "    x_sample, y_sample = sample_xy()\n",
    "    y_shuffle = np.random.permutation(y_sample)\n",
    "    \n",
    "    x_sample = torch.tensor(x_sample, dtype=torch.float32, device=device, requires_grad=True)\n",
    "    y_sample = torch.tensor(y_sample, dtype=torch.float32, device=device, requires_grad=True)\n",
    "    y_shuffle = torch.tensor(y_shuffle, dtype=torch.float32, device=device, requires_grad=True)    \n",
    "    \n",
    "    pred_xy = model(x_sample, y_sample)\n",
    "    pred_x_y = model(x_sample, y_shuffle)\n",
    "\n",
    "    ret = torch.mean(pred_xy) - torch.log(torch.mean(torch.exp(pred_x_y)))\n",
    "    loss = - ret  # maximize\n",
    "    plot_loss.append(loss.item())\n",
    "    \n",
    "    model.zero_grad()\n",
    "    loss.backward()\n",
    "    optimizer.step()\n",
    "    \n",
    "    if epoch % 50 == 0:\n",
    "        print(epoch, end=\" \")"
   ]
  },
  {
   "cell_type": "code",
   "execution_count": 34,
   "metadata": {},
   "outputs": [],
   "source": [
    "xy = sample_xy()\n",
    "mi_kraskov = mi_Kraskov(xy)\n",
    "mi_lnc = mi_LNC(xy)"
   ]
  },
  {
   "cell_type": "code",
   "execution_count": 55,
   "metadata": {},
   "outputs": [
    {
     "data": {
      "text/plain": [
       "<matplotlib.legend.Legend at 0x7f103cb5ddd8>"
      ]
     },
     "execution_count": 55,
     "metadata": {},
     "output_type": "execute_result"
    },
    {
     "data": {
      "image/png": "[encoded data removed]",
      "text/plain": [
       "<matplotlib.figure.Figure at 0x7f10141ebbe0>"
      ]
     },
     "metadata": {},
     "output_type": "display_data"
    }
   ],
   "source": [
    "plot_x = np.arange(len(plot_loss))\n",
    "plot_y = np.array(plot_loss).reshape(-1,)\n",
    "\n",
    "plt.plot(plot_x, -plot_y, label=\"MINE\")\n",
    "plt.hlines(mi, plot_x.min(), plot_x.max(), label=\"True MI\")\n",
    "# plt.hlines(mi_kraskov, plot_x.min(), plot_x.max(), label=\"Kraskov\", colors=\"r\")\n",
    "# plt.hlines(mi_lnc, plot_x.min(), plot_x.max(), label=\"LNC\", colors=\"g\", linestyles=\"dashed\")\n",
    "plt.legend()"
   ]
  },
  {
   "cell_type": "markdown",
   "metadata": {},
   "source": [
    "# kNN-MI and ..."
   ]
  },
  {
   "cell_type": "code",
   "execution_count": 18,
   "metadata": {},
   "outputs": [],
   "source": [
    "from scipy import stats\n",
    "import numpy as np\n",
    "from scipy.spatial import cKDTree\n",
    "from scipy.special import digamma, gamma\n",
    "import numpy.random as nr\n",
    "import random\n",
    "import matplotlib.pyplot as plt\n",
    "import re\n",
    "from scipy.stats.stats import pearsonr\n",
    "import numpy.linalg as la\n",
    "from numpy.linalg import eig, inv, norm, det\n",
    "from scipy import stats\n",
    "from math import log, pi, hypot, fabs, sqrt\n",
    "\n",
    "\n",
    "def avgdigamma(points, dvec):\n",
    "    # This part finds number of neighbors in some radius in the marginal space\n",
    "    # returns expectation value of <psi(nx)>\n",
    "    N = len(points)\n",
    "    tree = cKDTree(points)\n",
    "    avg = 0.0\n",
    "    for i in range(N):\n",
    "        dist = dvec[i]\n",
    "        # subtlety, we don't include the boundary point,\n",
    "        # but we are implicitly adding 1 to kraskov def bc center point is included\n",
    "        num_points = len(tree.query_ball_point(points[i], dist - 1e-15, p=float(\"inf\")))\n",
    "        avg += digamma(num_points) / N\n",
    "    return avg\n",
    "\n",
    "\n",
    "def mi_Kraskov(X, k=5, base=np.exp(1), intens=1e-10):\n",
    "    \"\"\"\n",
    "    The mutual information estimator by Kraskov et al.\n",
    "    ith row of X represents ith dimension of the data, e.g. X = [[1.0,3.0,3.0],[0.1,1.2,5.4]], if X has two dimensions and we have three samples\n",
    "    \"\"\"\n",
    "    # adding small noise to X, e.g., x<-X+noise\n",
    "    x = []\n",
    "    for i in range(len(X)):\n",
    "        tem = []\n",
    "        for j in range(len(X[i])):\n",
    "            tem.append([X[i][j] + intens * nr.rand(1)[0]])\n",
    "        x.append(tem)\n",
    "\n",
    "    points = []\n",
    "    for j in range(len(x[0])):\n",
    "        tem = []\n",
    "        for i in range(len(x)):\n",
    "            tem.append(x[i][j][0])\n",
    "        points.append(tem)\n",
    "    tree = cKDTree(points)\n",
    "    dvec = []\n",
    "    for i in range(len(x)):\n",
    "        dvec.append([])\n",
    "    for point in points:\n",
    "        # Find k-nearest neighbors in joint space, p=inf means max norm\n",
    "        knn = tree.query(point, k + 1, p=float(\"inf\"))\n",
    "        points_knn = []\n",
    "        for i in range(len(x)):\n",
    "            dvec[i].append(float(\"-inf\"))\n",
    "            points_knn.append([])\n",
    "        for j in range(k + 1):\n",
    "            for i in range(len(x)):\n",
    "                points_knn[i].append(points[knn[1][j]][i])\n",
    "\n",
    "        # Find distances to k-nearest neighbors in each marginal space\n",
    "        for i in range(k + 1):\n",
    "            for j in range(len(x)):\n",
    "                if dvec[j][-1] < fabs(points_knn[j][i] - points_knn[j][0]):\n",
    "                    dvec[j][-1] = fabs(points_knn[j][i] - points_knn[j][0])\n",
    "\n",
    "    ret = 0.\n",
    "    for i in range(len(x)):\n",
    "        ret -= avgdigamma(x[i], dvec[i])\n",
    "    ret += (\n",
    "        digamma(k)\n",
    "        - (float(len(x)) - 1.) / float(k)\n",
    "        + (float(len(x)) - 1.) * digamma(len(x[0]))\n",
    "    )\n",
    "    return ret\n",
    "\n",
    "\n",
    "def mi_Kraskov2(x: np.ndarray, k=5, base=np.exp(1), intens=1e-10):\n",
    "    \"\"\"\n",
    "    The mutual information estimator by Kraskov et al.\n",
    "    ith row of X represents ith dimension of the data, e.g. X = [[1.0,3.0,3.0],[0.1,1.2,5.4]], if X has two dimensions and we have three samples\n",
    "    \"\"\"\n",
    "\n",
    "    n_vars, n_samples = x.shape\n",
    "\n",
    "    # adding small noise to X, e.g., x<-X+noise\n",
    "    x += intens * nr.rand(n_vars, n_samples)\n",
    "    x = x.T\n",
    "\n",
    "    tree = cKDTree(x)\n",
    "    dvec = [[] for _ in range(n_vars)]\n",
    "\n",
    "    for point in x:\n",
    "        # Find k-nearest neighbors in joint space, p=inf means max norm\n",
    "        knn = tree.query(point, k + 1, p=float(\"inf\"))\n",
    "        points_knn = []\n",
    "        for i in range(len(x)):\n",
    "            dvec[i].append(float(\"-inf\"))\n",
    "            points_knn.append([])\n",
    "        for j in range(k + 1):\n",
    "            for i in range(len(x)):\n",
    "                points_knn[i].append(points[knn[1][j]][i])\n",
    "\n",
    "        # Find distances to k-nearest neighbors in each marginal space\n",
    "        for i in range(k + 1):\n",
    "            for j in range(len(x)):\n",
    "                if dvec[j][-1] < fabs(points_knn[j][i] - points_knn[j][0]):\n",
    "                    dvec[j][-1] = fabs(points_knn[j][i] - points_knn[j][0])\n",
    "\n",
    "    ret = 0.\n",
    "    for i in range(len(x)):\n",
    "        ret -= avgdigamma(x[i], dvec[i])\n",
    "    ret += (\n",
    "        digamma(k)\n",
    "        - (float(len(x)) - 1.) / float(k)\n",
    "        + (float(len(x)) - 1.) * digamma(len(x[0]))\n",
    "    )\n",
    "    return ret\n",
    "\n",
    "\n",
    "def mi_LNC(X, k=5, base=np.exp(1), alpha=0.25, intens=1e-10):\n",
    "    \"\"\"The mutual information estimator by PCA-based local non-uniform correction(LNC)\n",
    "        ith row of X represents ith dimension of the data, e.g. X = [[1.0,3.0,3.0],[0.1,1.2,5.4]], if X has two dimensions and we have three samples\n",
    "        alpha is a threshold parameter related to k and d(dimensionality), please refer to our paper for details about this parameter\n",
    "    \"\"\"\n",
    "    # N is the number of samples\n",
    "    N = len(X[0])\n",
    "\n",
    "    # First Step: calculate the mutual information using the Kraskov mutual information estimator\n",
    "    # adding small noise to X, e.g., x<-X+noise\n",
    "    x = []\n",
    "    for i in range(len(X)):\n",
    "        tem = []\n",
    "        for j in range(len(X[i])):\n",
    "            tem.append([X[i][j] + intens * nr.rand(1)[0]])\n",
    "        x.append(tem)\n",
    "\n",
    "    points = []\n",
    "    for j in range(len(x[0])):\n",
    "        tem = []\n",
    "        for i in range(len(x)):\n",
    "            tem.append(x[i][j][0])\n",
    "        points.append(tem)\n",
    "    tree = cKDTree(points)\n",
    "    dvec = []\n",
    "    for i in range(len(x)):\n",
    "        dvec.append([])\n",
    "    for point in points:\n",
    "        # Find k-nearest neighbors in joint space, p=inf means max norm\n",
    "        knn = tree.query(point, k + 1, p=float(\"inf\"))\n",
    "        points_knn = []\n",
    "        for i in range(len(x)):\n",
    "            dvec[i].append(float(\"-inf\"))\n",
    "            points_knn.append([])\n",
    "        for j in range(k + 1):\n",
    "            for i in range(len(x)):\n",
    "                points_knn[i].append(points[knn[1][j]][i])\n",
    "\n",
    "        # Find distances to k-nearest neighbors in each marginal space\n",
    "        for i in range(k + 1):\n",
    "            for j in range(len(x)):\n",
    "                if dvec[j][-1] < fabs(points_knn[j][i] - points_knn[j][0]):\n",
    "                    dvec[j][-1] = fabs(points_knn[j][i] - points_knn[j][0])\n",
    "\n",
    "    ret = 0.\n",
    "    for i in range(len(x)):\n",
    "        ret -= avgdigamma(x[i], dvec[i])\n",
    "    ret += (\n",
    "        digamma(k)\n",
    "        - (float(len(x)) - 1.) / float(k)\n",
    "        + (float(len(x)) - 1.) * digamma(len(x[0]))\n",
    "    )\n",
    "\n",
    "    # Second Step: Add the correction term (Local Non-Uniform Correction)\n",
    "    e = 0.\n",
    "    tot = -1\n",
    "    for point in points:\n",
    "        tot += 1\n",
    "        # Find k-nearest neighbors in joint space, p=inf means max norm\n",
    "        knn = tree.query(point, k + 1, p=float(\"inf\"))\n",
    "        knn_points = []\n",
    "        for i in range(k + 1):\n",
    "            tem = []\n",
    "            for j in range(len(point)):\n",
    "                tem.append(points[knn[1][i]][j])\n",
    "            knn_points.append(tem)\n",
    "\n",
    "        # Substract mean\tof k-nearest neighbor points\n",
    "        for i in range(len(point)):\n",
    "            avg = knn_points[0][i]\n",
    "            for j in range(k + 1):\n",
    "                knn_points[j][i] -= avg\n",
    "\n",
    "        # Calculate covariance matrix of k-nearest neighbor points, obtain eigen vectors\n",
    "        covr = []\n",
    "        for i in range(len(point)):\n",
    "            tem = 0\n",
    "            covr.append([])\n",
    "            for j in range(len(point)):\n",
    "                covr[i].append(0)\n",
    "        for i in range(len(point)):\n",
    "            for j in range(len(point)):\n",
    "                avg = 0.\n",
    "                for ii in range(1, k + 1):\n",
    "                    avg += knn_points[ii][i] * knn_points[ii][j] / float(k)\n",
    "                covr[i][j] = avg\n",
    "        w, v = la.eig(covr)\n",
    "\n",
    "        # Calculate PCA-bounding box using eigen vectors\n",
    "        V_rect = 0\n",
    "        cur = []\n",
    "        for i in range(len(point)):\n",
    "            maxV = 0.\n",
    "            for j in range(0, k + 1):\n",
    "                tem = 0.\n",
    "                for jj in range(len(point)):\n",
    "                    tem += v[jj, i] * knn_points[j][jj]\n",
    "                if fabs(tem) > maxV:\n",
    "                    maxV = fabs(tem)\n",
    "            cur.append(maxV)\n",
    "            V_rect = V_rect + log(cur[i])\n",
    "\n",
    "        # Calculate the volume of original box\n",
    "        log_knn_dist = 0.\n",
    "        for i in range(len(dvec)):\n",
    "            log_knn_dist += log(dvec[i][tot])\n",
    "\n",
    "        # Perform local non-uniformity checking\n",
    "        if V_rect >= log_knn_dist + log(alpha):\n",
    "            V_rect = log_knn_dist\n",
    "\n",
    "        # Update correction term\n",
    "        if (log_knn_dist - V_rect) > 0:\n",
    "            e += (log_knn_dist - V_rect) / N\n",
    "\n",
    "    return (ret + e) / log(base)\n",
    "\n",
    "\n",
    "def entropy(x, k=3, base=np.exp(1), intens=1e-10):\n",
    "    \"\"\"\n",
    "    The classic K-L k-nearest neighbor continuous entropy estimator\n",
    "    x should be a list of vectors, e.g. x = [[1.3],[3.7],[5.1],[2.4]]\n",
    "    if x is a one-dimensional scalar and we have four samples\n",
    "    \"\"\"\n",
    "    assert k <= len(x) - 1, \"Set k smaller than num. samples - 1\"\n",
    "    d = len(x[0])\n",
    "    N = len(x)\n",
    "    x = [list(p + intens * nr.rand(len(x[0]))) for p in x]\n",
    "    tree = cKDTree(x)\n",
    "    nn = [tree.query(point, k + 1, p=float(\"inf\"))[0][k] for point in x]\n",
    "    const = digamma(N) - digamma(k) + d * log(2)\n",
    "    return (const + d * np.mean(map(log, nn))) / log(base)"
   ]
  },
  {
   "cell_type": "code",
   "execution_count": 83,
   "metadata": {},
   "outputs": [],
   "source": [
    "x_sample = gen_x()\n",
    "y_sample = gen_y(x_sample)"
   ]
  },
  {
   "cell_type": "code",
   "execution_count": 84,
   "metadata": {},
   "outputs": [
    {
     "name": "stdout",
     "output_type": "stream",
     "text": [
      "0.662 0.657 0.659\n"
     ]
    }
   ],
   "source": [
    "mi_lnc = MI.mi_LNC([x_sample.squeeze(), y_sample.squeeze()])\n",
    "mi_kraskov = MI.mi_Kraskov([x_sample.squeeze(), y_sample.squeeze()])\n",
    "print(f\"{mi_lnc:.3f} {mi_kraskov:.3f} {mi:.3f}\")"
   ]
  },
  {
   "cell_type": "code",
   "execution_count": 19,
   "metadata": {},
   "outputs": [],
   "source": []
  },
  {
   "cell_type": "code",
   "execution_count": 47,
   "metadata": {},
   "outputs": [
    {
     "name": "stdout",
     "output_type": "stream",
     "text": [
      "10.3 s ± 467 ms per loop (mean ± std. dev. of 7 runs, 1 loop each)\n"
     ]
    }
   ],
   "source": [
    "%%timeit\n",
    "mi_LNC([x_sample.squeeze(), y_sample.squeeze()])"
   ]
  },
  {
   "cell_type": "code",
   "execution_count": 48,
   "metadata": {},
   "outputs": [
    {
     "name": "stdout",
     "output_type": "stream",
     "text": [
      "7.02 s ± 502 ms per loop (mean ± std. dev. of 7 runs, 1 loop each)\n"
     ]
    }
   ],
   "source": [
    "%%timeit\n",
    "mi_Kraskov([x_sample.squeeze(), y_sample.squeeze()])"
   ]
  },
  {
   "cell_type": "code",
   "execution_count": 52,
   "metadata": {},
   "outputs": [
    {
     "data": {
      "text/plain": [
       "(2, 11)"
      ]
     },
     "execution_count": 52,
     "metadata": {},
     "output_type": "execute_result"
    }
   ],
   "source": [
    "xy = np.stack([x, y])\n",
    "xy.shape"
   ]
  },
  {
   "cell_type": "code",
   "execution_count": 85,
   "metadata": {},
   "outputs": [
    {
     "name": "stdout",
     "output_type": "stream",
     "text": [
      "(11,)\n",
      "(11,)\n"
     ]
    }
   ],
   "source": [
    "for row in xy:\n",
    "    print(row.shape)"
   ]
  },
  {
   "cell_type": "code",
   "execution_count": 74,
   "metadata": {},
   "outputs": [],
   "source": [
    "intens = 1e-10\n",
    "base = np.exp(1)\n",
    "k = 5\n",
    "x = np.stack([x_sample.squeeze()[:10], y_sample.squeeze()[:10]])"
   ]
  },
  {
   "cell_type": "code",
   "execution_count": 86,
   "metadata": {},
   "outputs": [
    {
     "data": {
      "text/plain": [
       "(10, 2)"
      ]
     },
     "execution_count": 86,
     "metadata": {},
     "output_type": "execute_result"
    }
   ],
   "source": [
    "x += intens * nr.rand(*x.shape)\n",
    "x = x.T\n",
    "x.shape"
   ]
  },
  {
   "cell_type": "code",
   "execution_count": 87,
   "metadata": {},
   "outputs": [],
   "source": [
    "tree = cKDTree(x)"
   ]
  },
  {
   "cell_type": "code",
   "execution_count": 91,
   "metadata": {},
   "outputs": [
    {
     "data": {
      "text/plain": [
       "(array([-0.        ,  0.05889131,  0.12357177,  0.51272224,  0.53690141,\n",
       "         0.55660894]), array([0, 7, 3, 4, 6, 2]))"
      ]
     },
     "execution_count": 91,
     "metadata": {},
     "output_type": "execute_result"
    }
   ],
   "source": [
    "tree.query(x[0], k + 1, p=float(\"inf\"))"
   ]
  },
  {
   "cell_type": "code",
   "execution_count": null,
   "metadata": {},
   "outputs": [],
   "source": []
  }
 ],
 "metadata": {
  "kernelspec": {
   "display_name": "Python 3",
   "language": "python",
   "name": "python3"
  },
  "language_info": {
   "codemirror_mode": {
    "name": "ipython",
    "version": 3
   },
   "file_extension": ".py",
   "mimetype": "text/x-python",
   "name": "python",
   "nbconvert_exporter": "python",
   "pygments_lexer": "ipython3",
   "version": "3.6.4"
  }
 },
 "nbformat": 4,
 "nbformat_minor": 2
}
