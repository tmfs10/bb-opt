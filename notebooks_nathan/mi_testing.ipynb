{
 "cells": [
  {
   "cell_type": "code",
   "execution_count": 1,
   "metadata": {},
   "outputs": [
    {
     "name": "stdout",
     "output_type": "stream",
     "text": [
      "Running on GPU 1\n"
     ]
    }
   ],
   "source": [
    "%load_ext autoreload\n",
    "%autoreload 2\n",
    "\n",
    "import numpy as np\n",
    "import matplotlib.pyplot as plt\n",
    "import torch\n",
    "import torch.nn as nn\n",
    "from scipy.spatial import cKDTree\n",
    "from bb_opt.src.knn_mi import estimate_mi\n",
    "from gpu_utils.utils import gpu_init\n",
    "\n",
    "gpu_id = gpu_init()\n",
    "print(f\"Running on GPU {gpu_id}\")\n",
    "device = torch.device('cuda:0' if torch.cuda.is_available() else 'cpu')\n",
    "\n",
    "%matplotlib inline"
   ]
  },
  {
   "cell_type": "markdown",
   "metadata": {},
   "source": [
    "# MINE"
   ]
  },
  {
   "cell_type": "code",
   "execution_count": 2,
   "metadata": {},
   "outputs": [],
   "source": [
    "sigma_x = .7\n",
    "sigma_y = .5\n",
    "sigma_xy = .3\n",
    "cov = np.array([[sigma_x, sigma_xy], [sigma_xy, sigma_y]]) ** 2\n",
    "mu = [0, 0]\n",
    "\n",
    "def sample_xy():\n",
    "    x, y = np.random.multivariate_normal(mu, cov, n_samples).T\n",
    "    x = x[:, None]\n",
    "    y = y[:, None]\n",
    "    return x, y"
   ]
  },
  {
   "cell_type": "code",
   "execution_count": 3,
   "metadata": {},
   "outputs": [
    {
     "data": {
      "text/plain": [
       "0.6634354703245452"
      ]
     },
     "execution_count": 3,
     "metadata": {},
     "output_type": "execute_result"
    }
   ],
   "source": [
    "mi = - 1 / 2 * np.log(1 - (sigma_xy / (sigma_x * sigma_y)) ** 2)\n",
    "mi"
   ]
  },
  {
   "cell_type": "code",
   "execution_count": 4,
   "metadata": {},
   "outputs": [
    {
     "data": {
      "text/plain": [
       "0.6588447277483649"
      ]
     },
     "execution_count": 4,
     "metadata": {},
     "output_type": "execute_result"
    }
   ],
   "source": [
    "# data\n",
    "var = 0.2\n",
    "def func(x):\n",
    "    return x\n",
    "#     return np.sin(x)\n",
    "\n",
    "def sample_xy():\n",
    "#     x = np.random.normal(0, 1, [data_size, 1])\n",
    "    x = np.sign(np.random.normal(0., 1., [n_samples, 1]))\n",
    "    y = func(x) + np.random.normal(0, np.sqrt(var), [n_samples, 1])\n",
    "    return x, y\n",
    "\n",
    "n_samples = 1000000\n",
    "x, y = sample_xy()\n",
    "p_y_x = np.exp(-(y - x) ** 2 / (2 * var))\n",
    "p_y_x_minus = np.exp(-(y + 1) ** 2 / (2 * var))\n",
    "p_y_x_plus = np.exp(-(y - 1) ** 2 / (2 * var))\n",
    "mi = np.average(np.log(p_y_x / (0.5 * p_y_x_minus + 0.5 * p_y_x_plus)))\n",
    "mi"
   ]
  },
  {
   "cell_type": "code",
   "execution_count": 5,
   "metadata": {},
   "outputs": [
    {
     "name": "stdout",
     "output_type": "stream",
     "text": [
      "0 50 100 150 200 250 300 350 400 450 "
     ]
    }
   ],
   "source": [
    "H = 10\n",
    "n_epoch = 500\n",
    "n_samples = 20000\n",
    "\n",
    "class Net(nn.Module):\n",
    "    def __init__(self):\n",
    "        super(Net, self).__init__()\n",
    "        self.fc1 = nn.Linear(1, H)\n",
    "        self.fc2 = nn.Linear(1, H)\n",
    "        self.fc3 = nn.Linear(H, 1)\n",
    "\n",
    "    def forward(self, x, y):\n",
    "        h1 = torch.relu(self.fc1(x) + self.fc2(y))\n",
    "        h2 = self.fc3(h1)\n",
    "        return h2\n",
    "\n",
    "model = Net().to(device)\n",
    "optimizer = torch.optim.Adam(model.parameters(), lr=0.01)\n",
    "\n",
    "plot_loss = []\n",
    "for epoch in range(n_epoch):\n",
    "    x_sample, y_sample = sample_xy()\n",
    "    y_shuffle = np.random.permutation(y_sample)\n",
    "    \n",
    "    x_sample = torch.tensor(x_sample, dtype=torch.float32, device=device, requires_grad=True)\n",
    "    y_sample = torch.tensor(y_sample, dtype=torch.float32, device=device, requires_grad=True)\n",
    "    y_shuffle = torch.tensor(y_shuffle, dtype=torch.float32, device=device, requires_grad=True)    \n",
    "    \n",
    "    pred_xy = model(x_sample, y_sample)\n",
    "    pred_x_y = model(x_sample, y_shuffle)\n",
    "\n",
    "    ret = torch.mean(pred_xy) - torch.log(torch.mean(torch.exp(pred_x_y)))\n",
    "    loss = - ret  # maximize\n",
    "    plot_loss.append(loss.item())\n",
    "    \n",
    "    model.zero_grad()\n",
    "    loss.backward()\n",
    "    optimizer.step()\n",
    "    \n",
    "    if epoch % 50 == 0:\n",
    "        print(epoch, end=\" \")"
   ]
  },
  {
   "cell_type": "code",
   "execution_count": 6,
   "metadata": {},
   "outputs": [],
   "source": [
    "n_samples = 10_000\n",
    "\n",
    "xy = sample_xy()\n",
    "xy = np.stack(xy).squeeze()\n",
    "mi_ksg = estimate_mi(xy, method=\"KSG\")\n",
    "mi_lnc = estimate_mi(xy)"
   ]
  },
  {
   "cell_type": "code",
   "execution_count": 10,
   "metadata": {},
   "outputs": [
    {
     "data": {
      "text/plain": [
       "<matplotlib.legend.Legend at 0x7f5eb0f0ad30>"
      ]
     },
     "execution_count": 10,
     "metadata": {},
     "output_type": "execute_result"
    },
    {
     "data": {
      "image/png": "[encoded data removed]",
      "text/plain": [
       "<matplotlib.figure.Figure at 0x7f5eb0fe8a58>"
      ]
     },
     "metadata": {},
     "output_type": "display_data"
    }
   ],
   "source": [
    "plot_x = np.arange(len(plot_loss))\n",
    "plot_y = np.array(plot_loss).reshape(-1,)\n",
    "\n",
    "plt.plot(plot_x, -plot_y, label=\"MINE\")\n",
    "plt.hlines(mi, plot_x.min(), plot_x.max(), label=\"True\")\n",
    "plt.hlines(mi_ksg, plot_x.min(), plot_x.max(), label=\"KSG\", colors=\"r\")\n",
    "plt.hlines(mi_lnc, plot_x.min(), plot_x.max(), label=\"LNC\", colors=\"g\", linestyles=\"dashed\")\n",
    "\n",
    "plt.ylabel(\"MI\")\n",
    "plt.xlabel(\"# Epochs\")\n",
    "plt.legend()"
   ]
  },
  {
   "cell_type": "markdown",
   "metadata": {},
   "source": [
    "# kNN-MI and LNC"
   ]
  },
  {
   "cell_type": "code",
   "execution_count": 11,
   "metadata": {},
   "outputs": [],
   "source": [
    "n_samples = 10_000\n",
    "\n",
    "xy = sample_xy()\n",
    "xy = np.stack(xy).squeeze()"
   ]
  },
  {
   "cell_type": "code",
   "execution_count": 12,
   "metadata": {},
   "outputs": [
    {
     "name": "stdout",
     "output_type": "stream",
     "text": [
      "440 ms ± 7.21 ms per loop (mean ± std. dev. of 7 runs, 1 loop each)\n"
     ]
    }
   ],
   "source": [
    "%%timeit\n",
    "estimate_mi(xy)"
   ]
  },
  {
   "cell_type": "code",
   "execution_count": 13,
   "metadata": {},
   "outputs": [
    {
     "name": "stdout",
     "output_type": "stream",
     "text": [
      "399 ms ± 5.2 ms per loop (mean ± std. dev. of 7 runs, 1 loop each)\n"
     ]
    }
   ],
   "source": [
    "%%timeit\n",
    "estimate_mi(xy, method=\"KSG\")"
   ]
  },
  {
   "cell_type": "code",
   "execution_count": 14,
   "metadata": {},
   "outputs": [
    {
     "data": {
      "text/plain": [
       "(0.6564674510328236, 0.6542902021813628)"
      ]
     },
     "execution_count": 14,
     "metadata": {},
     "output_type": "execute_result"
    }
   ],
   "source": [
    "estimate_mi(xy), estimate_mi(xy, method=\"KSG\")"
   ]
  },
  {
   "cell_type": "code",
   "execution_count": 15,
   "metadata": {},
   "outputs": [],
   "source": [
    "from sklearn import neighbors"
   ]
  },
  {
   "cell_type": "code",
   "execution_count": null,
   "metadata": {},
   "outputs": [],
   "source": [
    "neighbors.LSHForest()"
   ]
  },
  {
   "cell_type": "code",
   "execution_count": 15,
   "metadata": {},
   "outputs": [],
   "source": [
    "X = np.random.random((10_000, 3))\n",
    "tree = neighbors.KDTree(X, p=float(\"inf\"))"
   ]
  },
  {
   "cell_type": "code",
   "execution_count": 21,
   "metadata": {},
   "outputs": [],
   "source": [
    "X = np.random.random((10, 3))\n",
    "tree = neighbors.BallTree(X, p=float(\"inf\"))"
   ]
  },
  {
   "cell_type": "code",
   "execution_count": 27,
   "metadata": {},
   "outputs": [
    {
     "data": {
      "text/plain": [
       "array([array([0, 2, 9]), array([1]), array([0, 2, 8, 9]), array([3]),\n",
       "       array([4, 7]), array([5]), array([6]), array([4, 7]),\n",
       "       array([2, 8, 9]), array([0, 2, 8, 9])], dtype=object)"
      ]
     },
     "execution_count": 27,
     "metadata": {},
     "output_type": "execute_result"
    }
   ],
   "source": [
    "tree.query_radius(X, [.3] * len(X))"
   ]
  },
  {
   "cell_type": "code",
   "execution_count": 18,
   "metadata": {},
   "outputs": [
    {
     "data": {
      "text/plain": [
       "tensor([[-1.0000,  1.0000, -1.0000,  ...,  1.0000,  1.0000,  1.0000],\n",
       "        [-1.2767,  1.2997, -0.2671,  ...,  1.5881,  0.9844,  0.3332]],\n",
       "       device='cuda:0', dtype=torch.float64)"
      ]
     },
     "execution_count": 18,
     "metadata": {},
     "output_type": "execute_result"
    }
   ],
   "source": [
    "q = torch.tensor(xy, device=device)\n",
    "q"
   ]
  },
  {
   "cell_type": "code",
   "execution_count": 20,
   "metadata": {},
   "outputs": [
    {
     "name": "stdout",
     "output_type": "stream",
     "text": [
      "426 ms ± 7.47 ms per loop (mean ± std. dev. of 7 runs, 1 loop each)\n"
     ]
    }
   ],
   "source": [
    "%%timeit\n",
    "estimate_mi(q.cpu().numpy())"
   ]
  },
  {
   "cell_type": "code",
   "execution_count": null,
   "metadata": {},
   "outputs": [],
   "source": []
  }
 ],
 "metadata": {
  "kernelspec": {
   "display_name": "Python 3",
   "language": "python",
   "name": "python3"
  },
  "language_info": {
   "codemirror_mode": {
    "name": "ipython",
    "version": 3
   },
   "file_extension": ".py",
   "mimetype": "text/x-python",
   "name": "python",
   "nbconvert_exporter": "python",
   "pygments_lexer": "ipython3",
   "version": "3.6.4"
  }
 },
 "nbformat": 4,
 "nbformat_minor": 2
}
