{
 "cells": [
  {
   "cell_type": "code",
   "execution_count": 4,
   "metadata": {},
   "outputs": [
    {
     "name": "stdout",
     "output_type": "stream",
     "text": [
      "The autoreload extension is already loaded. To reload it, use:\n",
      "  %reload_ext autoreload\n",
      "Running on GPU 0\n"
     ]
    }
   ],
   "source": [
    "%load_ext autoreload\n",
    "%autoreload 2\n",
    "\n",
    "import torch\n",
    "import pyro\n",
    "import numpy as np\n",
    "import matplotlib.pyplot as plt\n",
    "import seaborn as sns\n",
    "from bb_opt.src.bayesian_opt import (\n",
    "    optimize,\n",
    "    get_model_bnn,\n",
    "    train_model_bnn,\n",
    "    partial_train_model_bnn,\n",
    ")\n",
    "from bb_opt.src.utils import get_path\n",
    "from gpu_utils.utils import gpu_init\n",
    "\n",
    "gpu_id = gpu_init()\n",
    "print(f\"Running on GPU {gpu_id}\")\n",
    "device = torch.device('cuda:0' if torch.cuda.is_available() else 'cpu')\n",
    "\n",
    "%matplotlib inline"
   ]
  },
  {
   "cell_type": "code",
   "execution_count": 3,
   "metadata": {},
   "outputs": [],
   "source": [
    "def jointplot(predicted, true, title: str=\"\"):\n",
    "    if isinstance(predicted, torch.Tensor):\n",
    "        predicted = predicted.detach().cpu().numpy()\n",
    "\n",
    "    if isinstance(true, torch.Tensor):\n",
    "        true = true.detach().cpu().numpy()\n",
    "        \n",
    "    ax = sns.jointplot(predicted, true, s=3, alpha=0.5)\n",
    "    ax.set_axis_labels('Predicted', 'True')\n",
    "    ax.ax_marg_x.set_title(title)\n",
    "    return ax"
   ]
  },
  {
   "cell_type": "code",
   "execution_count": 5,
   "metadata": {},
   "outputs": [],
   "source": [
    "project = \"dna_binding\"\n",
    "dataset = \"crx_ref_r1\"\n",
    "batch_size = 1\n",
    "retrain_every = 1000000\n",
    "partial_steps = 20\n",
    "\n",
    "root = \"/cluster/nhunt/github/bb_opt/\"\n",
    "data_dir = get_path(root, \"data\", project, dataset)\n",
    "inputs = np.load(get_path(data_dir, \"inputs.npy\"))\n",
    "labels = np.load(get_path(data_dir, \"labels.npy\"))\n",
    "\n",
    "top_k_percent = 1"
   ]
  },
  {
   "cell_type": "code",
   "execution_count": 8,
   "metadata": {},
   "outputs": [],
   "source": [
    "bnn_model, guide = get_model_bnn(n_inputs=inputs.shape[1])\n",
    "optimizer = pyro.optim.Adam({})\n",
    "\n",
    "model_name = \"../models/crx_1000\"\n",
    "pyro.get_param_store().load(f\"{model_name}.params\")\n",
    "optimizer.load(f\"{model_name}.opt\")\n",
    "\n",
    "inputs = torch.tensor(inputs, dtype=torch.float32, device=device)\n",
    "labels = torch.tensor(labels, dtype=torch.float32, device=device)"
   ]
  },
  {
   "cell_type": "code",
   "execution_count": null,
   "metadata": {},
   "outputs": [],
   "source": []
  },
  {
   "cell_type": "code",
   "execution_count": null,
   "metadata": {},
   "outputs": [],
   "source": []
  },
  {
   "cell_type": "code",
   "execution_count": null,
   "metadata": {},
   "outputs": [],
   "source": []
  }
 ],
 "metadata": {
  "kernelspec": {
   "display_name": "Python 3",
   "language": "python",
   "name": "python3"
  },
  "language_info": {
   "codemirror_mode": {
    "name": "ipython",
    "version": 3
   },
   "file_extension": ".py",
   "mimetype": "text/x-python",
   "name": "python",
   "nbconvert_exporter": "python",
   "pygments_lexer": "ipython3",
   "version": "3.6.4"
  }
 },
 "nbformat": 4,
 "nbformat_minor": 2
}
