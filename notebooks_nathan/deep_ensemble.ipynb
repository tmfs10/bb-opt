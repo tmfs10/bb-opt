{
 "cells": [
  {
   "cell_type": "code",
   "execution_count": 2,
   "metadata": {},
   "outputs": [
    {
     "name": "stdout",
     "output_type": "stream",
     "text": [
      "Running on GPU 0\n"
     ]
    }
   ],
   "source": [
    "%load_ext autoreload\n",
    "%autoreload 2\n",
    "\n",
    "import torch\n",
    "from torch.nn import Sequential, Linear\n",
    "from torch.utils.data import TensorDataset, DataLoader\n",
    "import pyro\n",
    "import numpy as np\n",
    "import matplotlib.pyplot as plt\n",
    "import seaborn as sns\n",
    "from sklearn.model_selection import train_test_split\n",
    "from bb_opt.src.bayesian_opt import (\n",
    "    optimize,\n",
    "    get_model_bnn,\n",
    "    train_model_bnn,\n",
    "    partial_train_model_bnn,\n",
    ")\n",
    "from bb_opt.src.utils import get_path\n",
    "from gpu_utils.utils import gpu_init\n",
    "\n",
    "gpu_id = gpu_init()\n",
    "print(f\"Running on GPU {gpu_id}\")\n",
    "device = torch.device('cuda:0' if torch.cuda.is_available() else 'cpu')\n",
    "\n",
    "%matplotlib inline"
   ]
  },
  {
   "cell_type": "code",
   "execution_count": 3,
   "metadata": {},
   "outputs": [],
   "source": [
    "def jointplot(predicted, true, title: str=\"\"):\n",
    "    if isinstance(predicted, torch.Tensor):\n",
    "        predicted = predicted.detach().cpu().numpy()\n",
    "\n",
    "    if isinstance(true, torch.Tensor):\n",
    "        true = true.detach().cpu().numpy()\n",
    "        \n",
    "    ax = sns.jointplot(predicted, true, s=3, alpha=0.5)\n",
    "    ax.set_axis_labels('Predicted', 'True')\n",
    "    ax.ax_marg_x.set_title(title)\n",
    "    return ax"
   ]
  },
  {
   "cell_type": "code",
   "execution_count": 4,
   "metadata": {},
   "outputs": [],
   "source": [
    "project = \"dna_binding\"\n",
    "dataset = \"crx_ref_r1\"\n",
    "\n",
    "root = \"/cluster/nhunt/github/bb_opt/\"\n",
    "data_dir = get_path(root, \"data\", project, dataset)\n",
    "inputs = np.load(get_path(data_dir, \"inputs.npy\"))\n",
    "labels = np.load(get_path(data_dir, \"labels.npy\"))\n",
    "\n",
    "top_k_percent = 1"
   ]
  },
  {
   "cell_type": "code",
   "execution_count": 5,
   "metadata": {},
   "outputs": [],
   "source": [
    "n_hidden = 100\n",
    "non_linearity = 'ReLU'\n",
    "n_inputs = inputs.shape[1]"
   ]
  },
  {
   "cell_type": "code",
   "execution_count": 6,
   "metadata": {},
   "outputs": [],
   "source": [
    "class NN(torch.nn.Module):\n",
    "    def __init__(self, n_inputs: int, n_hidden: int, min_variance: float=1e-5):\n",
    "        super().__init__()\n",
    "        self.hidden = Linear(n_inputs, n_hidden)\n",
    "        self.output = Linear(n_hidden, 2)\n",
    "        self.non_linearity = torch.nn.ReLU()\n",
    "        self.softplus = torch.nn.Softplus()\n",
    "        self.min_variance = min_variance\n",
    "\n",
    "    def forward(self, x):\n",
    "        hidden = self.non_linearity(self.hidden(x))\n",
    "        output = self.output(hidden)\n",
    "        mean = output[:, 0]\n",
    "        variance = self.softplus(output[:, 1]) + self.min_variance\n",
    "        return mean, variance\n",
    "\n",
    "\n",
    "class NNEnsemble(torch.nn.Module):\n",
    "    \"\"\"\n",
    "    Note that if training your model takes a lot of GPU resources, it would be better to train\n",
    "    the individual models on separate GPUs in parallel and then save them and load the weights\n",
    "    into an ensemble afterwards for evaluation.\n",
    "    \"\"\"\n",
    "    def __init__(self, n_models: int, n_inputs: int, n_hidden: int, min_variance: float=1e-5, adversarial_epsilon: Optional=None):\n",
    "        super().__init__()\n",
    "        self.n_models = n_models\n",
    "        self.models = torch.nn.ModuleList([NN(n_inputs, n_hidden, min_variance) for _ in range(n_models)])\n",
    "        self.adversarial_epsilon = adversarial_epsilon\n",
    "\n",
    "    def forward(self, x, y=None, optimizer=None, individual_predictions: bool=True):\n",
    "        if y is not None and self.adversarial_epsilon is not None:\n",
    "            x.requires_grad_()\n",
    "            means, variances = self(x)\n",
    "            negative_log_likelihood = compute_negative_log_likelihood(y, means, variances)\n",
    "            \n",
    "            grad = torch.autograd.grad(negative_log_likelihood, x, retain_graph=optimizer is not None)[0]\n",
    "            x = x.detach() + self.adversarial_epsilon * torch.sign(grad)\n",
    "            \n",
    "            if optimizer:\n",
    "                # then do a backward pass on x as well as returning the prediction\n",
    "                # for x_adv to do a pass on that\n",
    "                negative_log_likelihood.backward()\n",
    "                optimizer.step()\n",
    "                optimizer.zero_grad()\n",
    "\n",
    "        means, variances = list(zip(*[self.models[i](x) for i in range(self.n_models)]))\n",
    "\n",
    "        if individual_predictions:\n",
    "            return torch.stack(means), torch.stack(variances)\n",
    "\n",
    "        return combine_means_variances(means, variances)\n",
    "\n",
    "def combine_means_variances(means: torch.Tensor, variances: torch.Tensor) -> Tuple[torch.Tensor, torch.Tensor]:\n",
    "    mean = means.mean(dim=0)\n",
    "    variance = (variances + means ** 2).mean(dim=0) - mean ** 2\n",
    "    return mean, variance\n",
    "\n",
    "def compute_negative_log_likelihood(labels, means, variances, return_mse: bool=False):\n",
    "    mse = (labels - means) ** 2\n",
    "    negative_log_likelihood = 0.5 * (torch.log(variances) + mse / variances)\n",
    "    negative_log_likelihood = negative_log_likelihood.mean(dim=-1).sum()\n",
    "    \n",
    "    if return_mse:\n",
    "        mse = mse.mean(dim=-1).sum()\n",
    "        return negative_log_likelihood, mse\n",
    "    return negative_log_likelihood"
   ]
  },
  {
   "cell_type": "code",
   "execution_count": 13,
   "metadata": {},
   "outputs": [
    {
     "name": "stderr",
     "output_type": "stream",
     "text": [
      "/cluster/nhunt/anaconda/lib/python3.6/site-packages/sklearn/model_selection/_split.py:2026: FutureWarning: From version 0.21, test_size will always complement train_size unless both are specified.\n",
      "  FutureWarning)\n"
     ]
    }
   ],
   "source": [
    "batch_size = 128\n",
    "n_train = 1000\n",
    "\n",
    "train_inputs, test_inputs, train_labels, test_labels = train_test_split(inputs, labels, train_size=n_train, random_state=521)\n",
    "\n",
    "train_inputs = torch.tensor(train_inputs).float().to(device)\n",
    "train_labels = torch.tensor(train_labels).float().to(device)\n",
    "train_data = TensorDataset(train_inputs, train_labels)\n",
    "train_loader = DataLoader(train_data, batch_size=batch_size, shuffle=True)\n",
    "\n",
    "test_inputs = torch.tensor(test_inputs).float().to(device)\n",
    "test_labels = torch.tensor(test_labels).float().to(device)"
   ]
  },
  {
   "cell_type": "code",
   "execution_count": 176,
   "metadata": {},
   "outputs": [],
   "source": [
    "n_models = 100\n",
    "\n",
    "mins = train_inputs.min(dim=0)[0]\n",
    "maxes = train_inputs.max(dim=0)[0]\n",
    "adversarial_epsilon = 0.01 * (maxes - mins)\n",
    "adversarial_epsilon = None\n",
    "\n",
    "# model = NN(n_inputs, n_hidden).to(device)\n",
    "model = NNEnsemble(n_models, n_inputs, n_hidden, adversarial_epsilon=adversarial_epsilon).to(device)\n",
    "optimizer = torch.optim.Adam(model.parameters(), lr=0.01)"
   ]
  },
  {
   "cell_type": "markdown",
   "metadata": {},
   "source": [
    "## Ensemble Testing"
   ]
  },
  {
   "cell_type": "code",
   "execution_count": 177,
   "metadata": {},
   "outputs": [],
   "source": [
    "train_nll = []\n",
    "train_mse = []\n",
    "test_nll = []\n",
    "test_mse = []\n",
    "epoch = 0"
   ]
  },
  {
   "cell_type": "code",
   "execution_count": null,
   "metadata": {},
   "outputs": [
    {
     "name": "stdout",
     "output_type": "stream",
     "text": [
      "[E0] Train NLL = 105,505,202,176. Test NLL = 93,042,147,328\n",
      "[E100] Train NLL = 1,561,806,080. Test NLL = 1,569,690,368\n",
      "[E200] Train NLL = 832,269,824. Test NLL = 790,373,056\n",
      "[E300] Train NLL = 520,061,536. Test NLL = 504,217,760\n",
      "[E400] Train NLL = 365,008,928. Test NLL = 349,408,704\n",
      "[E500] Train NLL = 262,247,376. Test NLL = 250,783,376\n",
      "[E600] Train NLL = 168,484,176. Test NLL = 182,276,096\n",
      "[E700] Train NLL = 134,560,336. Test NLL = 132,344,464\n",
      "[E800] Train NLL = 92,421,408. Test NLL = 94,956,784\n",
      "[E900] Train NLL = 65,486,804. Test NLL = 66,644,440\n",
      "[E1000] Train NLL = 43,747,044. Test NLL = 45,227,652\n",
      "[E1100] Train NLL = 35,149,832. Test NLL = 29,316,904\n",
      "[E1200] Train NLL = 16,193,867. Test NLL = 17,978,356\n",
      "[E1300] Train NLL = 11,329,847. Test NLL = 10,482,231\n",
      "[E1400] Train NLL = 4,173,482. Test NLL = 6,086,251\n",
      "[E1500] Train NLL = 3,683,610. Test NLL = 3,905,650\n",
      "[E1600] Train NLL = 1,730,649. Test NLL = 2,970,903\n",
      "[E1700] Train NLL = 1,729,497. Test NLL = 2,533,377\n",
      "[E1800] Train NLL = 2,066,084. Test NLL = 2,225,926\n",
      "[E1900] Train NLL = 1,191,100. Test NLL = 1,946,824\n",
      "[E2000] Train NLL = 992,896. Test NLL = 1,692,577\n",
      "[E2100] Train NLL = 837,893. Test NLL = 1,474,102\n",
      "[E2200] Train NLL = 1,064,286. Test NLL = 1,294,061\n",
      "[E2300] Train NLL = 802,287. Test NLL = 1,142,355\n"
     ]
    }
   ],
   "source": [
    "for epoch in range(epoch, epoch + 6000):\n",
    "    model.train()\n",
    "    for batch in train_loader:\n",
    "        batch_inputs, batch_labels = batch\n",
    "        optimizer.zero_grad()\n",
    "\n",
    "        means, variances = model(batch_inputs, batch_labels)\n",
    "\n",
    "        negative_log_likelihood, mse = compute_negative_log_likelihood(batch_labels, means, variances, return_mse=True)\n",
    "        negative_log_likelihood.backward()\n",
    "\n",
    "        optimizer.step()\n",
    "\n",
    "        train_nll.append(negative_log_likelihood.item())\n",
    "        train_mse.append(mse.item())\n",
    "\n",
    "    model.eval()\n",
    "    with torch.no_grad():\n",
    "        means, variances = model(test_inputs)\n",
    "\n",
    "        negative_log_likelihood, mse = compute_negative_log_likelihood(test_labels, means, variances, return_mse=True)        \n",
    "        test_nll.append(negative_log_likelihood.item())\n",
    "        test_mse.append(mse.item())\n",
    "\n",
    "    if epoch % 100 == 0:\n",
    "        print(f'[E{epoch}] Train NLL = {train_nll[-1]:,.0f}. Test NLL = {test_nll[-1]:,.0f}')"
   ]
  },
  {
   "cell_type": "code",
   "execution_count": null,
   "metadata": {},
   "outputs": [],
   "source": [
    "plt.figure(figsize=(12, 4))\n",
    "\n",
    "plt.subplot(121)\n",
    "plt.plot(np.linspace(0, len(test_nll), len(train_nll)), train_nll, label=\"Train\")\n",
    "plt.plot(test_nll, label=\"Test\")\n",
    "plt.yscale(\"log\")\n",
    "plt.legend()\n",
    "plt.title(\"NLL\")\n",
    "\n",
    "plt.subplot(122)\n",
    "plt.plot(np.linspace(0, len(test_mse), len(train_mse)), train_mse, label=\"Train\")\n",
    "plt.plot(test_mse, label=\"Test\")\n",
    "plt.yscale(\"log\")\n",
    "plt.legend()\n",
    "plt.title(\"MSE\");"
   ]
  },
  {
   "cell_type": "code",
   "execution_count": null,
   "metadata": {},
   "outputs": [],
   "source": [
    "title = \"DNA Binding - CRX\"\n",
    "train_title = title + \" (train)\"\n",
    "test_title = title + \" (test)\"\n",
    "\n",
    "with torch.no_grad():\n",
    "    means, variances = model(train_inputs)\n",
    "mean, variance = combine_means_variances(means, variances)\n",
    "jointplot(mean, train_labels, train_title)\n",
    "\n",
    "with torch.no_grad():\n",
    "    means, variances = model(test_inputs)\n",
    "mean, variance = combine_means_variances(means, variances)\n",
    "jointplot(mean, test_labels, test_title)"
   ]
  },
  {
   "cell_type": "code",
   "execution_count": null,
   "metadata": {},
   "outputs": [],
   "source": [
    "%%notify\n",
    "\"\""
   ]
  },
  {
   "cell_type": "code",
   "execution_count": null,
   "metadata": {},
   "outputs": [],
   "source": []
  },
  {
   "cell_type": "markdown",
   "metadata": {},
   "source": [
    "$M = 1$ (no AT, 50% train)\n",
    "\n",
    "89 87\n",
    "91 88\n",
    "92 89\n",
    "93 90 (2600 @ 128)\n",
    "\n",
    "$M = 5$ (AT, 1K train)\n",
    "46 42 (1600 @ 128)\n",
    "67 62 (2600)\n",
    "69 62 (3600)\n",
    "82 68 (4600)\n",
    "92 71 (6600)\n",
    "99 71 (12600)\n",
    "\n",
    "$M = 5$ (no AT, 1K train)\n",
    "91 71 (6000 @ 128)\n",
    "\n",
    "$M = 100$ (no AT, 1K train)\n",
    " (6000 @ 128)"
   ]
  },
  {
   "cell_type": "code",
   "execution_count": 56,
   "metadata": {},
   "outputs": [
    {
     "data": {
      "text/plain": [
       "tensor(258252.7969, device='cuda:0')"
      ]
     },
     "execution_count": 56,
     "metadata": {},
     "output_type": "execute_result"
    }
   ],
   "source": [
    "train_labels.max()"
   ]
  },
  {
   "cell_type": "code",
   "execution_count": 50,
   "metadata": {},
   "outputs": [],
   "source": [
    "with torch.no_grad():\n",
    "    means, variances = model(test_inputs)"
   ]
  },
  {
   "cell_type": "code",
   "execution_count": 68,
   "metadata": {},
   "outputs": [],
   "source": [
    "sorted_idx = means.sort(dim=1, descending=True)[1]"
   ]
  },
  {
   "cell_type": "code",
   "execution_count": 75,
   "metadata": {},
   "outputs": [
    {
     "data": {
      "text/plain": [
       "['181,430', '279,365', '262,527', '190,107', '306,347']"
      ]
     },
     "execution_count": 75,
     "metadata": {},
     "output_type": "execute_result"
    }
   ],
   "source": [
    "i = 0\n",
    "[f\"{test_labels[sorted_idx[i][:10]].max().item():,.0f}\" for i in range(len(sorted_idx))]"
   ]
  },
  {
   "cell_type": "code",
   "execution_count": 86,
   "metadata": {},
   "outputs": [
    {
     "data": {
      "text/plain": [
       "21"
      ]
     },
     "execution_count": 86,
     "metadata": {},
     "output_type": "execute_result"
    }
   ],
   "source": [
    "len(set(q.contiguous().view(-1).tolist()))"
   ]
  },
  {
   "cell_type": "code",
   "execution_count": 88,
   "metadata": {},
   "outputs": [
    {
     "data": {
      "text/plain": [
       "tensor([366908.3750, 366577.5938, 343089.6562, 330452.0000, 328993.2812,\n",
       "        328504.0938, 327849.2812, 323384.2188, 317339.3750, 311019.8750],\n",
       "       device='cuda:0')"
      ]
     },
     "execution_count": 88,
     "metadata": {},
     "output_type": "execute_result"
    }
   ],
   "source": [
    "test_labels.sort(descending=True)[0][:10]"
   ]
  },
  {
   "cell_type": "code",
   "execution_count": 90,
   "metadata": {},
   "outputs": [],
   "source": [
    "mean, variance = combine_means_variances(means, variances)"
   ]
  },
  {
   "cell_type": "code",
   "execution_count": 171,
   "metadata": {},
   "outputs": [],
   "source": [
    "n_samples = 5000\n",
    "i = 0"
   ]
  },
  {
   "cell_type": "code",
   "execution_count": 175,
   "metadata": {},
   "outputs": [
    {
     "data": {
      "image/png": "[encoded data removed]",
      "text/plain": [
       "<matplotlib.figure.Figure at 0x7fb3420dbc18>"
      ]
     },
     "metadata": {},
     "output_type": "display_data"
    }
   ],
   "source": [
    "mixture_samples = np.random.normal(means[:, i], variances[:, i].sqrt(),\n",
    "                                   ((n_samples // model.n_models, model.n_models)))\n",
    "combined_samples = np.random.normal(mean[i], variance[i].sqrt(), size=n_samples)\n",
    "\n",
    "for j in range(model.n_models):\n",
    "    sns.distplot(mixture_samples[:, j], label=\"Individual\" if j == 0 else None, color=\"green\")\n",
    "\n",
    "sns.distplot(mixture_samples.ravel(), label=\"Mixture\", color=\"black\")\n",
    "sns.distplot(combined_samples, label=\"Combined\", color=\"red\")\n",
    "plt.legend()\n",
    "\n",
    "i += 1"
   ]
  },
  {
   "cell_type": "code",
   "execution_count": null,
   "metadata": {},
   "outputs": [],
   "source": []
  },
  {
   "cell_type": "code",
   "execution_count": null,
   "metadata": {},
   "outputs": [],
   "source": []
  },
  {
   "cell_type": "code",
   "execution_count": 55,
   "metadata": {},
   "outputs": [
    {
     "data": {
      "text/plain": [
       "tensor(366908.3750, device='cuda:0')"
      ]
     },
     "execution_count": 55,
     "metadata": {},
     "output_type": "execute_result"
    }
   ],
   "source": [
    "test_labels.max()"
   ]
  },
  {
   "cell_type": "code",
   "execution_count": 54,
   "metadata": {},
   "outputs": [
    {
     "data": {
      "text/plain": [
       "tensor([141012.4531, 138143.2188, 141012.4531, 141012.4531, 141012.4531],\n",
       "       device='cuda:0')"
      ]
     },
     "execution_count": 54,
     "metadata": {},
     "output_type": "execute_result"
    }
   ],
   "source": [
    "test_labels[means.argmax(dim=1)]"
   ]
  },
  {
   "cell_type": "code",
   "execution_count": null,
   "metadata": {},
   "outputs": [],
   "source": []
  },
  {
   "cell_type": "code",
   "execution_count": 51,
   "metadata": {},
   "outputs": [
    {
     "data": {
      "text/plain": [
       "torch.Size([5, 31896])"
      ]
     },
     "execution_count": 51,
     "metadata": {},
     "output_type": "execute_result"
    }
   ],
   "source": [
    "means.shape"
   ]
  },
  {
   "cell_type": "code",
   "execution_count": null,
   "metadata": {},
   "outputs": [],
   "source": []
  },
  {
   "cell_type": "code",
   "execution_count": 387,
   "metadata": {},
   "outputs": [],
   "source": [
    "with torch.no_grad():\n",
    "    means, variances = model(train_inputs)\n",
    "\n",
    "mean, variance = combine_means_variances(means, variances)\n",
    "sqrt2 = torch.sqrt(torch.tensor(2.0, device=device))\n",
    "cdf_probs = 0.5 * (1 + torch.erf((train_labels - mean) / (variance.sqrt() * sqrt2)))"
   ]
  },
  {
   "cell_type": "code",
   "execution_count": 388,
   "metadata": {},
   "outputs": [
    {
     "data": {
      "text/plain": [
       "array([0.70409775, 0.81341195, 0.7310919 , ..., 0.7262889 , 0.5938716 ,\n",
       "       0.12171692], dtype=float32)"
      ]
     },
     "execution_count": 388,
     "metadata": {},
     "output_type": "execute_result"
    }
   ],
   "source": [
    "eq = np.array([(cdf_probs <= cdf_prob).float().mean() for cdf_prob in cdf_probs])\n",
    "eq"
   ]
  },
  {
   "cell_type": "code",
   "execution_count": 389,
   "metadata": {},
   "outputs": [],
   "source": [
    "from sklearn.isotonic import IsotonicRegression"
   ]
  },
  {
   "cell_type": "code",
   "execution_count": 390,
   "metadata": {},
   "outputs": [],
   "source": [
    "calibration_regressor = IsotonicRegression(0, 1)"
   ]
  },
  {
   "cell_type": "code",
   "execution_count": 391,
   "metadata": {},
   "outputs": [
    {
     "data": {
      "text/plain": [
       "IsotonicRegression(increasing=True, out_of_bounds='nan', y_max=1, y_min=0)"
      ]
     },
     "execution_count": 391,
     "metadata": {},
     "output_type": "execute_result"
    }
   ],
   "source": [
    "calibration_regressor.fit(cdf_probs, eq)"
   ]
  },
  {
   "cell_type": "code",
   "execution_count": 392,
   "metadata": {},
   "outputs": [
    {
     "data": {
      "image/png": "[encoded data removed]",
      "text/plain": [
       "<matplotlib.figure.Figure at 0x7ff4c92cf470>"
      ]
     },
     "metadata": {},
     "output_type": "display_data"
    }
   ],
   "source": [
    "with torch.no_grad():\n",
    "    means, variances = model(train_inputs)\n",
    "\n",
    "mean, variance = combine_means_variances(means, variances)\n",
    "sqrt2 = torch.sqrt(torch.tensor(2.0, device=device))\n",
    "cdf_probs = 0.5 * (1 + torch.erf((train_labels - mean) / (variance.sqrt() * sqrt2)))\n",
    "\n",
    "threshes = np.linspace(.1, 1, 10)\n",
    "e = [(cdf_probs < thresh).float().mean().item() for thresh in threshes]\n",
    "plt.plot(threshes, e, label=\"Uncalibrated\")\n",
    "\n",
    "cdf_probs = calibration_regressor.transform(cdf_probs)\n",
    "e = [(cdf_probs < thresh).mean() for thresh in threshes]\n",
    "plt.plot(threshes, e, label=\"Calibrated\")\n",
    "\n",
    "plt.xlim(0, 1)\n",
    "plt.ylim(0, 1)\n",
    "plt.xlabel(\"Expected Confidence Level\")\n",
    "plt.ylabel(\"Observed Confidence Level\")\n",
    "plt.legend();"
   ]
  },
  {
   "cell_type": "code",
   "execution_count": 393,
   "metadata": {},
   "outputs": [
    {
     "data": {
      "image/png": "[encoded data removed]",
      "text/plain": [
       "<matplotlib.figure.Figure at 0x7ff4c91d2400>"
      ]
     },
     "metadata": {},
     "output_type": "display_data"
    }
   ],
   "source": [
    "with torch.no_grad():\n",
    "    means, variances = model(test_inputs)\n",
    "\n",
    "mean, variance = combine_means_variances(means, variances)\n",
    "sqrt2 = torch.sqrt(torch.tensor(2.0, device=device))\n",
    "cdf_probs = 0.5 * (1 + torch.erf((test_labels - mean) / (variance.sqrt() * sqrt2)))\n",
    "\n",
    "threshes = np.linspace(.1, 1, 10)\n",
    "e = [(cdf_probs < thresh).float().mean().item() for thresh in threshes]\n",
    "plt.plot(threshes, e, label=\"Uncalibrated\")\n",
    "\n",
    "cdf_probs = calibration_regressor.transform(cdf_probs)\n",
    "e = [(cdf_probs < thresh).mean() for thresh in threshes]\n",
    "plt.plot(threshes, e, label=\"Calibrated\")\n",
    "\n",
    "plt.xlim(0, 1)\n",
    "plt.ylim(0, 1)\n",
    "plt.xlabel(\"Expected Confidence Level\")\n",
    "plt.ylabel(\"Observed Confidence Level\")\n",
    "plt.legend();"
   ]
  },
  {
   "cell_type": "code",
   "execution_count": null,
   "metadata": {},
   "outputs": [],
   "source": []
  },
  {
   "cell_type": "code",
   "execution_count": 20,
   "metadata": {},
   "outputs": [
    {
     "data": {
      "text/plain": [
       "<matplotlib.axes._subplots.AxesSubplot at 0x7f5f8b2542e8>"
      ]
     },
     "execution_count": 20,
     "metadata": {},
     "output_type": "execute_result"
    },
    {
     "data": {
      "image/png": "[encoded data removed]",
      "text/plain": [
       "<matplotlib.figure.Figure at 0x7f5f8b250588>"
      ]
     },
     "metadata": {},
     "output_type": "display_data"
    }
   ],
   "source": [
    "import pandas as pd\n",
    "\n",
    "sigmoid = lambda x: 1 / (1 + np.exp(-x))\n",
    "\n",
    "alpha_elu = 1\n",
    "alpha_selu = 1.67326\n",
    "lambda_selu = 1.0507\n",
    "\n",
    "x = np.linspace(-4, 3, 100)\n",
    "y = {\n",
    "    \"gelu\": 0.5 * x * (1 + np.tanh(np.sqrt(2 / np.pi) * (x + 0.044715 * x **3))),\n",
    "    \"relu\": np.maximum(0, x),\n",
    "    \"elu\": np.where(x < 0, alpha_elu * (np.exp(x) - 1), x),\n",
    "#     \"selu\": lambda_selu * np.where(x < 0, alpha_selu * (np.exp(x) - 1), x),\n",
    "    \"swish\": x * sigmoid(x)\n",
    "}\n",
    "\n",
    "df = pd.DataFrame(y)\n",
    "df.plot(x=x)"
   ]
  },
  {
   "cell_type": "code",
   "execution_count": null,
   "metadata": {},
   "outputs": [],
   "source": []
  }
 ],
 "metadata": {
  "kernelspec": {
   "display_name": "Python 3",
   "language": "python",
   "name": "python3"
  },
  "language_info": {
   "codemirror_mode": {
    "name": "ipython",
    "version": 3
   },
   "file_extension": ".py",
   "mimetype": "text/x-python",
   "name": "python",
   "nbconvert_exporter": "python",
   "pygments_lexer": "ipython3",
   "version": "3.6.4"
  }
 },
 "nbformat": 4,
 "nbformat_minor": 2
}
