{
 "cells": [
  {
   "cell_type": "code",
   "execution_count": 1,
   "metadata": {},
   "outputs": [
    {
     "name": "stderr",
     "output_type": "stream",
     "text": [
      "Using TensorFlow backend.\n"
     ]
    }
   ],
   "source": [
    "import tensorflow as tf\n",
    "import keras\n",
    "import os\n",
    "from tensorflow.keras.backend import set_session\n",
    "\n",
    "os.environ['CUDA_VISIBLE_DEVICES'] = \"\"\n",
    "config = tf.ConfigProto()\n",
    "config.gpu_options.per_process_gpu_memory_fraction = 0.3\n",
    "set_session(tf.Session(config=config))"
   ]
  },
  {
   "cell_type": "code",
   "execution_count": null,
   "metadata": {
    "collapsed": true
   },
   "outputs": [],
   "source": [
    "import torch\n",
    "import torch.nn\n",
    "import numpy as np\n",
    "import matlab\n",
    "import matlab.engine\n",
    "import h5py"
   ]
  },
  {
   "cell_type": "code",
   "execution_count": null,
   "metadata": {},
   "outputs": [],
   "source": [
    "from chemvae_bopt import chemvae_gpopt_pes"
   ]
  },
  {
   "cell_type": "code",
   "execution_count": null,
   "metadata": {
    "collapsed": true
   },
   "outputs": [],
   "source": [
    "zinc250k = []\n",
    "with open('/cluster/sj1/bb_opt/chemical_vae/models/zinc_properties/250k_rndm_zinc_drugs_clean_3.csv') as f:\n",
    "    next(f)\n",
    "    for line in f:\n",
    "        line = [k.strip() for k in line.strip().split('\\t')]\n",
    "        zinc250k += [line[0], [float(k) for k in line[1:]]]"
   ]
  },
  {
   "cell_type": "code",
   "execution_count": null,
   "metadata": {
    "collapsed": true
   },
   "outputs": [],
   "source": [
    "from chemvae_keras import vae_utils\n",
    "from chemvae_keras import mol_utils as mu"
   ]
  },
  {
   "cell_type": "code",
   "execution_count": null,
   "metadata": {
    "collapsed": true
   },
   "outputs": [],
   "source": [
    "is_cuda = True\n",
    "directory = '../chemical_vae/models/zinc_properties'\n",
    "n_init_samples = 1000\n",
    "n_opt_samples = 10\n",
    "cur_dir = '/cluster/sj1/bb_opt/src'\n",
    "score_fn = lambda x : x[0]"
   ]
  },
  {
   "cell_type": "code",
   "execution_count": null,
   "metadata": {
    "collapsed": true
   },
   "outputs": [],
   "source": [
    "def obj(x):\n",
    "    noise = 5\n",
    "    df = vae.z_to_smiles(x, decode_attempts=100, noise_norm=noise)\n",
    "    smiles = {k : vae.smiles_to_hot(mu.canon_smiles(k)) for k in set(df['smiles'])}\n",
    "    best_smile = None\n",
    "    best_smile_score = -1\n",
    "    for smile in smiles:\n",
    "        score = score_fn(vae.predict_prop_Z(vae.encode(smile))[0])\n",
    "        if score > best_smile_score:\n",
    "            best_smile = smile\n",
    "            best_smile_score = score\n",
    "    return best_smile_score"
   ]
  },
  {
   "cell_type": "code",
   "execution_count": null,
   "metadata": {},
   "outputs": [],
   "source": [
    "os.chdir(cur_dir)\n",
    "vae = vae_utils.VAEUtils(directory=directory)"
   ]
  },
  {
   "cell_type": "code",
   "execution_count": null,
   "metadata": {
    "collapsed": true
   },
   "outputs": [],
   "source": []
  }
 ],
 "metadata": {
  "kernelspec": {
   "display_name": "Python 3 (chemvae)",
   "language": "python",
   "name": "chemvae"
  },
  "language_info": {
   "codemirror_mode": {
    "name": "ipython",
    "version": 3
   },
   "file_extension": ".py",
   "mimetype": "text/x-python",
   "name": "python",
   "nbconvert_exporter": "python",
   "pygments_lexer": "ipython3",
   "version": "3.6.6"
  }
 },
 "nbformat": 4,
 "nbformat_minor": 2
}
