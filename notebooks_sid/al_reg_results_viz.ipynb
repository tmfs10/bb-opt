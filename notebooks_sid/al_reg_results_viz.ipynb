{
 "cells": [
  {
   "cell_type": "code",
   "execution_count": 9,
   "metadata": {
    "collapsed": true
   },
   "outputs": [],
   "source": [
    "import sys\n",
    "sys.path.append('/cluster/sj1/bb_opt/scripts')"
   ]
  },
  {
   "cell_type": "code",
   "execution_count": 10,
   "metadata": {},
   "outputs": [
    {
     "name": "stdout",
     "output_type": "stream",
     "text": [
      "The autoreload extension is already loaded. To reload it, use:\n",
      "  %reload_ext autoreload\n"
     ]
    }
   ],
   "source": [
    "%load_ext autoreload\n",
    "%autoreload 2\n",
    "\n",
    "import torch\n",
    "import numpy as np\n",
    "import matplotlib.pyplot as plt\n",
    "import seaborn as sns\n",
    "import collect_stats as cs\n",
    "\n",
    "%matplotlib inline"
   ]
  },
  {
   "cell_type": "code",
   "execution_count": 11,
   "metadata": {
    "collapsed": true
   },
   "outputs": [],
   "source": [
    "import collect_stats as cs"
   ]
  },
  {
   "cell_type": "code",
   "execution_count": 12,
   "metadata": {
    "collapsed": true
   },
   "outputs": [],
   "source": [
    "exp_folder = '/cluster/sj1/bb_opt/experiments/imdbwiki'\n",
    "batches = [20, 50, 200]\n",
    "num_acks = 50"
   ]
  },
  {
   "cell_type": "code",
   "execution_count": 13,
   "metadata": {
    "collapsed": true
   },
   "outputs": [],
   "source": [
    "filenames = ['wiki']"
   ]
  },
  {
   "cell_type": "code",
   "execution_count": 14,
   "metadata": {
    "collapsed": true
   },
   "outputs": [],
   "source": [
    "def sigmoid(x, exp=np.exp):\n",
    "  return 1.0 / (1.0 + exp(-x))"
   ]
  },
  {
   "cell_type": "code",
   "execution_count": 42,
   "metadata": {
    "collapsed": true
   },
   "outputs": [],
   "source": [
    "arrs = {}"
   ]
  },
  {
   "cell_type": "code",
   "execution_count": 162,
   "metadata": {
    "collapsed": true
   },
   "outputs": [],
   "source": [
    "to_read = {\n",
    "    #'ensemble8/o_max_std_2k_reg_maxvar_g00020510_': [None, 'e8_2k_maxvar_g00020510'],\n",
    "    #'ensemble8/o_max_std_2k_reg_maxinvar_g00020510_': [None, 'e8_2k_maxinvar_g00020510'],\n",
    "    #'ensemble8/o_max_std_2k_reg_maxvar_g0005102040_': [None, 'e8_2k_maxvar_g0005102040'],\n",
    "    'ensemble8/o_max_std_2k_reg_maxvar_g0002051020_': [None, 'e8_2k_maxvar_g0002051020'],\n",
    "    'ensemble8/o_max_std_2k_reg_maxinvar_g0002051020_': [None, 'e8_2k_maxinvar_g0002051020'],\n",
    "    'ensemble8/o_max_std_2k_reg_maxinoutvar_g0002051020_': [None, 'e8_2k_maxinoutvar_g0002051020'],\n",
    "    'ensemble8/o_max_std_2k_reg_inverse_density_maxvar_g0002051020_': [None, 'e8_2k_inverse_maxvar_g0002051020'],\n",
    "}\n"
   ]
  },
  {
   "cell_type": "code",
   "execution_count": 227,
   "metadata": {},
   "outputs": [
    {
     "name": "stdout",
     "output_type": "stream",
     "text": [
      "reading ensemble8/o_max_std_2k_reg_maxvar_g0002051020_\n",
      "reading sample 1\n",
      "reading sample 2\n",
      "reading sample 3\n",
      "reading sample 4\n",
      "reading sample 5\n",
      "reading sample 6\n",
      "reading sample 7\n",
      "reading sample 8\n",
      "reading sample 9\n",
      "reading sample 10\n",
      "reading sample 11\n",
      "reading sample 12\n",
      "reading sample 13\n",
      "reading sample 14\n",
      "reading sample 15\n",
      "reading sample 16\n",
      "reading sample 17\n",
      "reading sample 18\n",
      "reading sample 19\n",
      "reading sample 20\n",
      "reading sample 21\n",
      "reading sample 22\n",
      "reading sample 23\n",
      "reading sample 24\n",
      "reading sample 25\n",
      "reading sample 26\n",
      "reading sample 27\n",
      "reading sample 28\n",
      "reading sample 29\n",
      "reading sample 30\n",
      "reading sample 31\n",
      "reading sample 32\n",
      "reading sample 33\n",
      "reading sample 34\n",
      "reading sample 35\n",
      "reading sample 36\n",
      "reading sample 37\n",
      "reading sample 38\n",
      "reading sample 39\n",
      "reading sample 40\n",
      "reading sample 41\n",
      "reading sample 42\n",
      "reading sample 43\n",
      "reading sample 44\n",
      "reading sample 45\n",
      "reading sample 46\n",
      "reading sample 47\n",
      "reading sample 48\n",
      "reading sample 49\n",
      "reading sample 50\n",
      "reading sample 51\n",
      "reading sample 52\n",
      "reading sample 53\n",
      "reading sample 54\n",
      "reading sample 55\n",
      "reading sample 56\n",
      "reading sample 57\n",
      "reading sample 58\n",
      "reading sample 59\n",
      "reading sample 60\n",
      "reading ensemble8/o_max_std_2k_reg_maxinvar_g0002051020_\n",
      "reading sample 1\n",
      "reading sample 2\n",
      "reading sample 3\n",
      "reading sample 4\n",
      "reading sample 5\n",
      "reading sample 6\n",
      "reading sample 7\n",
      "reading sample 8\n",
      "reading sample 9\n",
      "reading sample 10\n",
      "reading sample 11\n",
      "reading sample 12\n",
      "reading sample 13\n",
      "reading sample 14\n",
      "reading sample 15\n",
      "reading sample 16\n",
      "reading sample 17\n",
      "reading sample 18\n",
      "reading sample 19\n",
      "reading sample 20\n",
      "reading sample 21\n",
      "reading sample 22\n",
      "reading sample 23\n",
      "reading sample 24\n",
      "reading sample 25\n",
      "reading sample 26\n",
      "reading sample 27\n",
      "reading sample 28\n",
      "reading sample 29\n",
      "reading sample 30\n",
      "reading sample 31\n",
      "reading sample 32\n",
      "reading sample 33\n",
      "reading sample 34\n",
      "reading sample 35\n",
      "reading sample 36\n",
      "reading sample 37\n",
      "reading sample 38\n",
      "reading sample 39\n",
      "reading sample 40\n",
      "reading sample 41\n",
      "reading sample 42\n",
      "reading sample 43\n",
      "reading sample 44\n",
      "reading sample 45\n",
      "reading sample 46\n",
      "reading sample 47\n",
      "reading sample 48\n",
      "reading sample 49\n",
      "reading sample 51\n",
      "reading sample 52\n",
      "reading sample 53\n",
      "reading sample 54\n",
      "reading sample 55\n",
      "reading sample 56\n",
      "reading sample 57\n",
      "reading ensemble8/o_max_std_2k_reg_maxinoutvar_g0002051020_\n",
      "reading sample 1\n",
      "reading sample 2\n",
      "reading sample 3\n",
      "reading sample 4\n",
      "reading sample 5\n",
      "reading sample 6\n",
      "reading sample 7\n",
      "reading sample 8\n",
      "reading sample 9\n",
      "reading sample 10\n",
      "reading sample 11\n",
      "reading sample 12\n",
      "reading sample 13\n",
      "reading sample 14\n",
      "reading sample 15\n",
      "reading sample 16\n",
      "reading sample 17\n",
      "reading sample 18\n",
      "reading sample 19\n",
      "reading sample 20\n",
      "reading ensemble8/o_max_std_2k_reg_inverse_density_maxvar_g0002051020_\n",
      "reading sample 1\n",
      "reading sample 2\n",
      "reading sample 3\n",
      "reading sample 4\n",
      "reading sample 5\n",
      "reading sample 6\n",
      "reading sample 7\n",
      "reading sample 8\n",
      "reading sample 9\n",
      "reading sample 10\n",
      "reading sample 11\n",
      "reading sample 12\n",
      "reading sample 13\n",
      "reading sample 14\n",
      "reading sample 15\n",
      "reading sample 16\n",
      "reading sample 17\n",
      "reading sample 18\n",
      "reading sample 19\n",
      "reading sample 20\n",
      "reading sample 21\n",
      "reading sample 22\n",
      "reading sample 23\n",
      "reading sample 24\n",
      "reading sample 25\n",
      "reading sample 29\n",
      "reading sample 30\n",
      "reading sample 31\n",
      "reading sample 32\n",
      "reading sample 33\n",
      "reading sample 37\n",
      "reading sample 38\n",
      "reading sample 39\n",
      "reading sample 40\n",
      "reading sample 41\n",
      "reading sample 45\n",
      "reading sample 46\n",
      "reading sample 47\n",
      "reading sample 48\n",
      "reading sample 53\n",
      "reading sample 54\n",
      "reading sample 55\n",
      "reading sample 56\n"
     ]
    }
   ],
   "source": [
    "for k in to_read:\n",
    "    arrs[k] = to_read[k]\n",
    "for experiment in to_read:\n",
    "    print('reading', experiment)\n",
    "    arrs[experiment][0] = cs.get_data(exp_folder, experiment, batches, num_samples=100)"
   ]
  },
  {
   "cell_type": "code",
   "execution_count": 148,
   "metadata": {
    "collapsed": true
   },
   "outputs": [],
   "source": [
    "to_eval = [\n",
    "    #'ensemble8/o_max_std_2k_reg_maxvar_g00020510_',\n",
    "    #'ensemble8/o_max_std_2k_reg_maxinvar_g00020510_',\n",
    "    #'ensemble8/o_max_std_2k_reg_maxvar_g0005102040_',\n",
    "    'ensemble8/o_max_std_2k_reg_maxvar_g0002051020_',\n",
    "    'ensemble8/o_max_std_2k_reg_maxinvar_g0002051020_',\n",
    "    'ensemble8/o_max_std_2k_reg_maxinoutvar_g0002051020_',\n",
    "    'ensemble8/o_max_std_2k_reg_inverse_density_maxvar_g0002051020_',\n",
    "]"
   ]
  },
  {
   "cell_type": "code",
   "execution_count": 20,
   "metadata": {
    "collapsed": true
   },
   "outputs": [],
   "source": [
    "test_fn = lambda bs, prop: lambda x, filename : x[bs + 'test_pred_stats'][prop]\n",
    "bs_test_rmse_fn = lambda x, filename : x['test_pred_stats']['baseline_rmse']\n",
    "ood_fn = lambda bs, prop: lambda x, filename : x[bs + 'ood_pred_stats'][prop]\n",
    "bs_ood_rmse_fn = lambda x, filename : x['test_pred_stats']['baseline_rmse']"
   ]
  },
  {
   "cell_type": "code",
   "execution_count": 233,
   "metadata": {},
   "outputs": [
    {
     "name": "stdout",
     "output_type": "stream",
     "text": [
      "comparing <lambda> <lambda>\n",
      "wiki 0.4614413412557662 -0.05470928888029929 -0.039198030146576884 1 \t (std: 0.12159119569440985 0.12995023975910744 )\n",
      "combined pval: nan vs 0.46144\n",
      "count: 1/1\n"
     ]
    }
   ],
   "source": [
    "dist = \"test\"\n",
    "dist = \"ood\"\n",
    "prop = \"log_prob\"\n",
    "#prop = \"rmse\"\n",
    "#prop = \"pred_std\"\n",
    "#prop = 'rmse_std_corr'\n",
    "bs = \"zero_gamma_\"\n",
    "#bs = \"invar_gamma_\"\n",
    "\n",
    "#fn = [globals()[dist+\"_\" + prop + \"_fn\"](\"\"), globals()[dist + \"_\" + prop + \"_fn\"](bs)]\n",
    "fn = [globals()[dist+\"_fn\"](\"\", prop), globals()[dist+\"_fn\"](bs, prop)]\n",
    "cs.prop_test2(50, \n",
    "             filenames,\n",
    "             fn, \n",
    "             arrs, \n",
    "             to_eval[1],\n",
    "             0,\n",
    "             pval_threshold=1, \n",
    "             paired_test=True,\n",
    "            )"
   ]
  },
  {
   "cell_type": "code",
   "execution_count": 205,
   "metadata": {},
   "outputs": [
    {
     "name": "stdout",
     "output_type": "stream",
     "text": [
      "comparing e8_2k_maxvar_g0002051020 e8_2k_maxinvar_g0002051020\n",
      "wiki 0.9941955362201875 -0.050210851436371315 -0.050408425069479054 0 \t (std: 0.13336418604092118 0.1259670073034092 )\n",
      "combined pval: 0.99420 vs nan\n",
      "count: 0/1\n"
     ]
    }
   ],
   "source": [
    "cs.prop_test(50, \n",
    "             filenames,\n",
    "             ood_fn(\"\", \"log_prob\"), \n",
    "             arrs, \n",
    "             [to_eval[0], to_eval[1]],\n",
    "             0,\n",
    "             pval_threshold=1, \n",
    "             paired_test=False,\n",
    "            )"
   ]
  },
  {
   "cell_type": "code",
   "execution_count": null,
   "metadata": {},
   "outputs": [],
   "source": [
    "cs.plot_data_vs_ack_iter(\n",
    "    50,\n",
    "    filenames,\n",
    "    'avg_seeds',\n",
    "    'rmse',\n",
    "    test_rmse_fn,\n",
    "    20,\n",
    "    arrs,\n",
    "    to_eval,\n",
    "    legend_loc=3,\n",
    ")"
   ]
  },
  {
   "cell_type": "code",
   "execution_count": null,
   "metadata": {},
   "outputs": [],
   "source": [
    "cs.plot_data_vs_ack_iter(\n",
    "    20,\n",
    "    filenames,\n",
    "    'avg_seeds',\n",
    "    'log_prob',\n",
    "    lambda x, filename: x['best_gamma'],\n",
    "    30,\n",
    "    arrs,\n",
    "    to_eval,\n",
    "    legend_loc=3,\n",
    ")"
   ]
  },
  {
   "cell_type": "code",
   "execution_count": null,
   "metadata": {},
   "outputs": [],
   "source": [
    "cs.plot_data_vs_ack_iter(\n",
    "    50,\n",
    "    filenames,\n",
    "    'avg_seeds',\n",
    "    'nll',\n",
    "    lambda x, filename : x['logging'][1]['best']['nll'],\n",
    "    20,\n",
    "    arrs,\n",
    "    to_eval,\n",
    "    legend_loc=3,\n",
    ")"
   ]
  },
  {
   "cell_type": "code",
   "execution_count": null,
   "metadata": {},
   "outputs": [],
   "source": [
    "cs.plot_data_vs_ack_iter(\n",
    "    200,\n",
    "    filenames,\n",
    "    'avg_seeds',\n",
    "    'rmse',\n",
    "    test_rmse_fn,\n",
    "    20,\n",
    "    arrs,\n",
    "    to_eval,\n",
    "    legend_loc=3,\n",
    ")"
   ]
  },
  {
   "cell_type": "code",
   "execution_count": null,
   "metadata": {
    "collapsed": true
   },
   "outputs": [],
   "source": []
  }
 ],
 "metadata": {
  "kernelspec": {
   "display_name": "Python (py36)",
   "language": "python",
   "name": "py36"
  },
  "language_info": {
   "codemirror_mode": {
    "name": "ipython",
    "version": 3
   },
   "file_extension": ".py",
   "mimetype": "text/x-python",
   "name": "python",
   "nbconvert_exporter": "python",
   "pygments_lexer": "ipython3",
   "version": "3.6.6"
  }
 },
 "nbformat": 4,
 "nbformat_minor": 2
}
