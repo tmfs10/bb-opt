{
 "cells": [
  {
   "cell_type": "code",
   "execution_count": 9,
   "metadata": {
    "collapsed": true
   },
   "outputs": [],
   "source": [
    "import sys\n",
    "sys.path.append('/cluster/sj1/bb_opt/scripts')"
   ]
  },
  {
   "cell_type": "code",
   "execution_count": 10,
   "metadata": {},
   "outputs": [
    {
     "name": "stdout",
     "output_type": "stream",
     "text": [
      "The autoreload extension is already loaded. To reload it, use:\n",
      "  %reload_ext autoreload\n"
     ]
    }
   ],
   "source": [
    "%load_ext autoreload\n",
    "%autoreload 2\n",
    "\n",
    "import torch\n",
    "import numpy as np\n",
    "import matplotlib.pyplot as plt\n",
    "import seaborn as sns\n",
    "import collect_stats as cs\n",
    "\n",
    "%matplotlib inline"
   ]
  },
  {
   "cell_type": "code",
   "execution_count": 11,
   "metadata": {
    "collapsed": true
   },
   "outputs": [],
   "source": [
    "import collect_stats as cs"
   ]
  },
  {
   "cell_type": "code",
   "execution_count": 12,
   "metadata": {
    "collapsed": true
   },
   "outputs": [],
   "source": [
    "exp_folder = '/cluster/sj1/bb_opt/experiments/imdbwiki'\n",
    "batches = [20, 50, 200]\n",
    "num_acks = 50"
   ]
  },
  {
   "cell_type": "code",
   "execution_count": 13,
   "metadata": {
    "collapsed": true
   },
   "outputs": [],
   "source": [
    "filenames = ['wiki']"
   ]
  },
  {
   "cell_type": "code",
   "execution_count": 14,
   "metadata": {
    "collapsed": true
   },
   "outputs": [],
   "source": [
    "def sigmoid(x, exp=np.exp):\n",
    "  return 1.0 / (1.0 + exp(-x))"
   ]
  },
  {
   "cell_type": "code",
   "execution_count": 42,
   "metadata": {
    "collapsed": true
   },
   "outputs": [],
   "source": [
    "arrs = {}"
   ]
  },
  {
   "cell_type": "code",
   "execution_count": 870,
   "metadata": {
    "collapsed": true
   },
   "outputs": [],
   "source": [
    "to_read = {\n",
    "    #'ensemble8/o_max_std_2k_reg_maxvar_g00020510_': [None, 'e8_2k_maxvar_g00020510'],\n",
    "    #'ensemble8/o_max_std_2k_reg_maxinvar_g00020510_': [None, 'e8_2k_maxinvar_g00020510'],\n",
    "    #'ensemble8/o_max_std_2k_reg_maxvar_g0005102040_': [None, 'e8_2k_maxvar_g0005102040'],\n",
    "    #'ensemble8/o_max_std_2k_reg_maxvar_g0002051020_': [None, 'MOD'],\n",
    "    #'ensemble8/o_max_std_2k_reg_maxinvar_g0002051020_': [None, 'MTD'],\n",
    "    #'ensemble8/o_max_std_2k_reg_maxinoutvar_g0002051020_': [None, 'e8_2k_maxinoutvar_g0002051020'],\n",
    "    #'ensemble8/o_max_std_2k_reg_inverse_density_maxvar_g0002051020_': [None, 'MODD on male'],\n",
    "    #'ensemble8/o_max_std_re_2k_reg_inverse_ood_maxvar_g0002051020_': [None, 'MODD on female'],\n",
    "    #'ensemble8/o_max_std_2k_reg_ood_maxvar_g0002051020_': [None, 'MOD on female'],\n",
    "    #'ensemble9/o_max_std_2k_reg_inverse_density_maxvar_g0002051020_': [None, 'e9_2k_inverse_maxvar_g0002051020'],\n",
    "    #'ensemble9/o_max_std_2k_reg_maxvar_g0002051020_': [None, 'e9_2k_maxvar_g0002051020'],\n",
    "    #'ensemble9/o_max_std_2k_reg_inverse_density_bbfc_maxvar_g0002051020_': [None, 'e9_2k_inverse_bbfc_maxvar_g0002051020'],\n",
    "    #'ensemble9/o_max_std_2k_reg_inverse_density_pomfc_maxvar_g0002051020_': [None, 'e9_2k_inverse_pomfc_maxvar_g0002051020']\n",
    "    #'ensemble9/o_max_std_2k_reg_inverse_density_pomfc_maxvar_g0002051020_': [None, 'pomfc'],\n",
    "    #'ensemble13/o_max_std_2k_reg_ood_maxvar_g0002051020_': [None, 'MOD on OOD'],\n",
    "    'ensemble13/o_max_std_2k_reg_normal_': [None, 'Normal'],\n",
    "    'ensemble13/o_max_std_2k_reg_inverse_ood_maxvar_g0002051020_': [None, 'MODD on OOD'],\n",
    "    'ensemble13/o_max_std_2k_reg_inverse_uniput_maxvar_g0002051020_': [None, 'MODD on uinput'],\n",
    "    'ensemble13/o_max_std_2k_reg_uniput_maxvar_g0002051020_': [None, 'MOD on uinput'],\n",
    "    'ensemble13/o_max_std_2k_reg_inverse_bbfc_maxvar_g0002051020_': [None, 'MODD on bbfc'],\n",
    "    'ensemble13/o_max_std_2k_reg_inverse_ufc_maxvar_g0002051020_': [None, 'MODD on ufc'],\n",
    "}\n"
   ]
  },
  {
   "cell_type": "code",
   "execution_count": 878,
   "metadata": {
    "scrolled": true
   },
   "outputs": [
    {
     "name": "stdout",
     "output_type": "stream",
     "text": [
      "reading ensemble13/o_max_std_2k_reg_normal_\n",
      "reading sample 1\n",
      "reading sample 2\n",
      "reading sample 3\n",
      "reading sample 4\n",
      "reading sample 5\n",
      "reading sample 6\n",
      "reading sample 7\n",
      "reading sample 8\n",
      "reading sample 9\n",
      "reading sample 10\n",
      "reading ensemble13/o_max_std_2k_reg_inverse_ood_maxvar_g0002051020_\n",
      "reading sample 1\n",
      "reading sample 2\n",
      "reading sample 3\n",
      "reading sample 4\n",
      "reading sample 5\n",
      "reading sample 6\n",
      "reading sample 7\n",
      "reading sample 8\n",
      "reading sample 9\n",
      "reading sample 10\n",
      "reading ensemble13/o_max_std_2k_reg_inverse_uniput_maxvar_g0002051020_\n",
      "reading sample 1\n",
      "reading sample 2\n",
      "reading sample 3\n",
      "reading sample 4\n",
      "reading sample 5\n",
      "reading sample 6\n",
      "reading sample 7\n",
      "reading sample 8\n",
      "reading sample 9\n",
      "reading sample 10\n",
      "reading ensemble13/o_max_std_2k_reg_uniput_maxvar_g0002051020_\n",
      "reading sample 1\n",
      "reading sample 2\n",
      "reading sample 3\n",
      "reading sample 4\n",
      "reading sample 5\n",
      "reading sample 6\n",
      "reading sample 7\n",
      "reading sample 8\n",
      "reading sample 9\n",
      "reading sample 10\n",
      "reading ensemble13/o_max_std_2k_reg_inverse_bbfc_maxvar_g0002051020_\n",
      "reading sample 1\n",
      "reading sample 2\n",
      "reading sample 3\n",
      "reading sample 4\n",
      "reading sample 5\n",
      "reading sample 6\n",
      "reading sample 7\n",
      "reading sample 8\n",
      "reading sample 9\n",
      "reading sample 10\n",
      "reading ensemble13/o_max_std_2k_reg_inverse_ufc_maxvar_g0002051020_\n",
      "reading sample 1\n",
      "reading sample 2\n",
      "reading sample 3\n",
      "reading sample 4\n",
      "reading sample 5\n",
      "reading sample 6\n",
      "reading sample 7\n",
      "reading sample 8\n",
      "reading sample 9\n",
      "reading sample 10\n"
     ]
    }
   ],
   "source": [
    "for k in to_read:\n",
    "    arrs[k] = to_read[k]\n",
    "for experiment in to_read:\n",
    "    print('reading', experiment)\n",
    "    arrs[experiment][0] = cs.get_data(exp_folder, experiment, batches, num_samples=10)"
   ]
  },
  {
   "cell_type": "code",
   "execution_count": 872,
   "metadata": {
    "collapsed": true
   },
   "outputs": [],
   "source": [
    "to_eval = [\n",
    "    #'ensemble8/o_max_std_2k_reg_maxvar_g00020510_',\n",
    "    #'ensemble8/o_max_std_2k_reg_maxinvar_g00020510_',\n",
    "    #'ensemble8/o_max_std_2k_reg_maxvar_g0005102040_',\n",
    "    #'ensemble8/o_max_std_2k_reg_maxvar_g0002051020_', # MOD male\n",
    "    #'ensemble8/o_max_std_2k_reg_maxinvar_g0002051020_', # MTD\n",
    "    #'ensemble8/o_max_std_2k_reg_ood_maxvar_g0002051020_', # MOD female\n",
    "    #'ensemble8/o_max_std_2k_reg_maxinoutvar_g0002051020_',\n",
    "    #'ensemble8/o_max_std_2k_reg_inverse_density_maxvar_g0002051020_', # MODD male\n",
    "    #'ensemble8/o_max_std_2k_reg_inverse_ood_maxvar_g0002051020_', # MODD female\n",
    "    \n",
    "    'ensemble13/o_max_std_2k_reg_normal_',\n",
    "    'ensemble13/o_max_std_2k_reg_ood_maxvar_g0002051020_',\n",
    "    'ensemble13/o_max_std_2k_reg_inverse_ood_maxvar_g0002051020_',\n",
    "    'ensemble13/o_max_std_2k_reg_uniput_maxvar_g0002051020_',\n",
    "    'ensemble13/o_max_std_2k_reg_inverse_uniput_maxvar_g0002051020_',\n",
    "    'ensemble13/o_max_std_2k_reg_inverse_bbfc_maxvar_g0002051020_',\n",
    "    'ensemble13/o_max_std_2k_reg_inverse_ufc_maxvar_g0002051020_',\n",
    "    \n",
    "    #'ensemble9/o_max_std_2k_reg_maxvar_g0002051020_',\n",
    "    #'ensemble9/o_max_std_2k_reg_inverse_density_maxvar_g0002051020_',\n",
    "    #'ensemble9/o_max_std_2k_reg_inverse_density_bbfc_maxvar_g0002051020_',\n",
    "    #'ensemble9/o_max_std_2k_reg_inverse_density_pomfc_maxvar_g0002051020_',\n",
    "    #'ensemble9/o_max_std_2k_reg_uniform_input_simple_maxvar_g000205101520_',\n",
    "    #'ensemble9/o_max_std_2k_reg_uniform_input_simple_maxinvar_g000205101520_',\n",
    "    #'ensemble10/o_max_std_2k_reg_uinput_maxvar_g000205101520_',\n",
    "    #'ensemble10/o_max_std_2k_reg_uinput_maxinvar_g000205101520_',\n",
    "    #'ensemble10/o_max_std_2k_reg_inverse_ufc_maxvar_g000205101520_',\n",
    "    #'ensemble9/o_max_std_2k_reg_bbfc_simple_maxvar_g000205101520_',\n",
    "    #'ensemble9/o_max_std_2k_reg_inverse_density_bbfc_simple_maxvar_g000205101520_',\n",
    "    #'ensemble9/o_max_std_2k_reg_inverse_density_uniform_input_simple_maxvar_g000205101520_',\n",
    "    #'ensemble9/o_max_std_2k_reg_tinverse_density_uniform_input_simple_maxvar_g000205101520_',\n",
    "    #'ensemble9/o_max_std_2k_reg_inverse_density_uniform_input_to_fc_simple_maxvar_g000205101520_',\n",
    "]"
   ]
  },
  {
   "cell_type": "code",
   "execution_count": 563,
   "metadata": {
    "collapsed": true
   },
   "outputs": [],
   "source": [
    "test_fn = lambda bs, prop: lambda x, filename : x[bs + 'test_pred_stats'][prop]\n",
    "bs_test_rmse_fn = lambda x, filename : x['test_pred_stats']['baseline_rmse']\n",
    "ood_fn = lambda bs, prop: lambda x, filename : x[bs + 'ood_pred_stats'][prop]\n",
    "bs_ood_rmse_fn = lambda x, filename : x['test_pred_stats']['baseline_rmse']\n",
    "test_log_fn = lambda prop, prop2: lambda x, filename : x['logging'][1][prop][prop2]"
   ]
  },
  {
   "cell_type": "code",
   "execution_count": 901,
   "metadata": {},
   "outputs": [
    {
     "name": "stdout",
     "output_type": "stream",
     "text": [
      "comparing <lambda> <lambda>\n",
      "wiki 0.051855359804833745 -0.14877453073859215 -0.11523646861314774 1 \t (std: 0.04429 0.04979, #n: 10 10)\n",
      "combined pval: nan vs 0.05186\n",
      "count: 1/1\n"
     ]
    }
   ],
   "source": [
    "dist = \"test\"\n",
    "dist = \"ood\"\n",
    "prop = \"log_prob\"\n",
    "#prop = \"rmse\"\n",
    "#prop = \"pred_std\"\n",
    "#prop = 'rmse_std_corr'\n",
    "bs = \"zero_gamma_\"\n",
    "#bs = \"invar_gamma_\"\n",
    "\n",
    "#fn = [globals()[dist+\"_\" + prop + \"_fn\"](\"\"),globals()[dist + \"_\" + prop + \"_fn\"](bs)]\n",
    "fn = [globals()[dist+\"_fn\"](\"\", prop), globals()[dist+\"_fn\"](bs, prop)]\n",
    "cs.prop_test2(50, \n",
    "             filenames,\n",
    "             fn, \n",
    "             arrs,\n",
    "             to_eval[2],\n",
    "             0,\n",
    "             pval_threshold=1,\n",
    "             paired_test=True,\n",
    "            )"
   ]
  },
  {
   "cell_type": "code",
   "execution_count": 890,
   "metadata": {},
   "outputs": [
    {
     "name": "stdout",
     "output_type": "stream",
     "text": [
      "comparing Normal MOD on uinput\n",
      "wiki 0.004932234053805227 -0.15257118567824363 -0.07521529663354158 1 \t (std: 0.03526 0.06053, #n: 10 10)\n",
      "combined pval: nan vs 0.00493\n",
      "count: 1/1\n"
     ]
    }
   ],
   "source": [
    "cs.prop_test(50, \n",
    "             filenames,\n",
    "             ood_fn(\"\", \"log_prob\"), \n",
    "             arrs, \n",
    "             [to_eval[0], to_eval[4]],\n",
    "             0,\n",
    "             pval_threshold=1, \n",
    "             paired_test=False,\n",
    "            )"
   ]
  },
  {
   "cell_type": "code",
   "execution_count": null,
   "metadata": {
    "collapsed": true
   },
   "outputs": [],
   "source": []
  },
  {
   "cell_type": "code",
   "execution_count": null,
   "metadata": {},
   "outputs": [],
   "source": [
    "cs.plot_data_vs_ack_iter(\n",
    "    50,\n",
    "    filenames,\n",
    "    'avg_seeds',\n",
    "    'rmse',\n",
    "    test_rmse_fn,\n",
    "    20,\n",
    "    arrs,\n",
    "    to_eval,\n",
    "    legend_loc=3,\n",
    ")"
   ]
  },
  {
   "cell_type": "code",
   "execution_count": null,
   "metadata": {},
   "outputs": [],
   "source": [
    "cs.plot_data_vs_ack_iter(\n",
    "    20,\n",
    "    filenames,\n",
    "    'avg_seeds',\n",
    "    'log_prob',\n",
    "    lambda x, filename: x['best_gamma'],\n",
    "    30,\n",
    "    arrs,\n",
    "    to_eval,\n",
    "    legend_loc=3,\n",
    ")"
   ]
  },
  {
   "cell_type": "code",
   "execution_count": null,
   "metadata": {},
   "outputs": [],
   "source": [
    "cs.plot_data_vs_ack_iter(\n",
    "    50,\n",
    "    filenames,\n",
    "    'avg_seeds',\n",
    "    'nll',\n",
    "    lambda x, filename : x['logging'][1]['best']['nll'],\n",
    "    20,\n",
    "    arrs,\n",
    "    to_eval,\n",
    "    legend_loc=3,\n",
    ")"
   ]
  },
  {
   "cell_type": "code",
   "execution_count": null,
   "metadata": {},
   "outputs": [],
   "source": [
    "cs.plot_data_vs_ack_iter(\n",
    "    200,\n",
    "    filenames,\n",
    "    'avg_seeds',\n",
    "    'rmse',\n",
    "    test_rmse_fn,\n",
    "    20,\n",
    "    arrs,\n",
    "    to_eval,\n",
    "    legend_loc=3,\n",
    ")"
   ]
  },
  {
   "cell_type": "code",
   "execution_count": null,
   "metadata": {
    "collapsed": true
   },
   "outputs": [],
   "source": []
  }
 ],
 "metadata": {
  "kernelspec": {
   "display_name": "Python (py36)",
   "language": "python",
   "name": "py36"
  },
  "language_info": {
   "codemirror_mode": {
    "name": "ipython",
    "version": 3
   },
   "file_extension": ".py",
   "mimetype": "text/x-python",
   "name": "python",
   "nbconvert_exporter": "python",
   "pygments_lexer": "ipython3",
   "version": "3.6.6"
  }
 },
 "nbformat": 4,
 "nbformat_minor": 2
}
