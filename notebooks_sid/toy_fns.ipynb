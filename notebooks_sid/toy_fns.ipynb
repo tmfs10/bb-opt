{
 "cells": [
  {
   "cell_type": "code",
   "execution_count": 1,
   "metadata": {
    "collapsed": true
   },
   "outputs": [],
   "source": [
    "import sys\n",
    "sys.path.append('/cluster/sj1/bb_opt/src')\n",
    "sys.path.append('/cluster/sj1/bb_opt/scripts')"
   ]
  },
  {
   "cell_type": "code",
   "execution_count": 2,
   "metadata": {
    "collapsed": true
   },
   "outputs": [],
   "source": [
    "%load_ext autoreload\n",
    "%autoreload 2\n",
    "\n",
    "import torch\n",
    "import random\n",
    "import numpy as np\n",
    "import matplotlib.pyplot as plt\n",
    "import seaborn as sns\n",
    "import collect_stats as cs\n",
    "\n",
    "%matplotlib inline"
   ]
  },
  {
   "cell_type": "code",
   "execution_count": 3,
   "metadata": {
    "collapsed": true
   },
   "outputs": [],
   "source": [
    "import collect_stats as cs\n"
   ]
  },
  {
   "cell_type": "code",
   "execution_count": 4,
   "metadata": {
    "collapsed": true
   },
   "outputs": [],
   "source": [
    "import test_fns"
   ]
  },
  {
   "cell_type": "code",
   "execution_count": 5,
   "metadata": {
    "collapsed": true
   },
   "outputs": [],
   "source": [
    "arrs = {}"
   ]
  },
  {
   "cell_type": "code",
   "execution_count": 345,
   "metadata": {
    "collapsed": true
   },
   "outputs": [],
   "source": [
    "exp_folder = '/cluster/sj1/bb_opt/experiments'\n",
    "test_filepath = '/cluster/sj1/bb_opt/data/tatsu_pbm/test_files'\n",
    "filedir = '/cluster/sj1/bb_opt/data/paper_data2'\n",
    "num_tfs_to_test = 38\n",
    "batches = [10, 20, 100, 200]\n",
    "batches = [10]\n",
    "#batches = [4]\n",
    "num_acks = 100"
   ]
  },
  {
   "cell_type": "code",
   "execution_count": 7,
   "metadata": {
    "collapsed": true
   },
   "outputs": [],
   "source": [
    "def sigmoid(x, exp=np.exp):\n",
    "  return 1.0 / (1.0 + exp(-x))"
   ]
  },
  {
   "cell_type": "code",
   "execution_count": 318,
   "metadata": {
    "collapsed": true
   },
   "outputs": [],
   "source": [
    "filenames = [\n",
    "    #'hartmann6d',\n",
    "    #'branin',\n",
    "    #'bohachevsky',\n",
    "    'ackley',\n",
    "]\n",
    "bb_fn = {filenames[i] : getattr(test_fns, filenames[i])() for i in range(len(filenames))}"
   ]
  },
  {
   "cell_type": "code",
   "execution_count": 350,
   "metadata": {
    "collapsed": true
   },
   "outputs": [],
   "source": [
    "to_read = {\n",
    "    'ensemble13/o_pdts_grad_': [None, 'pdts'],\n",
    "    #'ensemble13/o_er_grad_': [None, 'er'],\n",
    "    #'ensemble13/o_ucb_grad_': [None, 'er'],\n",
    "    #'ensemble13/o_pdts_rand_grad_randdiv_1_': [None, 'pdts_rand_div_1'],\n",
    "    #'ensemble13/o_pdts_rand_grad_randdiv_2_': [None, 'pdts_rand_div_2'],\n",
    "    'ensemble13/o_pdts_info_grad_': [None, 'pdts_info'],\n",
    "    #'ensemble13/o_er_rand_grad_randdiv_1_': [None, 'er_rand_div_1'],\n",
    "    #'ensemble13/o_er_info_grad_': [None, 'er_info'],\n",
    "}"
   ]
  },
  {
   "cell_type": "code",
   "execution_count": 356,
   "metadata": {
    "scrolled": false
   },
   "outputs": [
    {
     "name": "stdout",
     "output_type": "stream",
     "text": [
      "reading ensemble13/o_pdts_grad_\n",
      "reading sample 1\n",
      "reading sample 2\n",
      "reading sample 3\n",
      "reading sample 4\n",
      "reading sample 5\n",
      "reading sample 6\n",
      "reading sample 7\n",
      "reading sample 8\n",
      "reading sample 9\n",
      "reading sample 10\n",
      "reading sample 11\n",
      "reading sample 12\n",
      "reading sample 13\n",
      "reading sample 14\n",
      "reading sample 15\n",
      "reading sample 16\n",
      "reading sample 17\n",
      "reading sample 18\n",
      "reading sample 19\n",
      "reading sample 20\n",
      "reading ensemble13/o_pdts_info_grad_\n",
      "reading sample 1\n",
      "reading sample 2\n",
      "reading sample 3\n",
      "reading sample 4\n",
      "reading sample 5\n",
      "reading sample 6\n",
      "reading sample 7\n",
      "reading sample 8\n",
      "reading sample 9\n",
      "reading sample 10\n",
      "reading sample 11\n",
      "reading sample 12\n",
      "reading sample 13\n",
      "reading sample 14\n",
      "reading sample 15\n",
      "reading sample 16\n",
      "reading sample 17\n",
      "reading sample 18\n",
      "reading sample 19\n",
      "reading sample 20\n"
     ]
    }
   ],
   "source": [
    "for k in to_read:\n",
    "    arrs[k] = to_read[k]\n",
    "for experiment in to_read:\n",
    "    print('reading', experiment)\n",
    "    arrs[experiment][0] = cs.get_data(exp_folder, experiment, batches, num_samples=20, mode=\"bayes_opt\", filenames_to_extract=filenames)\n",
    "    #cs.get_data(exp_folder, experiment, batches, num_samples=20, mode=\"bayes_opt\")"
   ]
  },
  {
   "cell_type": "code",
   "execution_count": 11,
   "metadata": {
    "collapsed": true
   },
   "outputs": [],
   "source": [
    "to_eval = [\n",
    "    'ensemble13/o_pdts_grad_',\n",
    "    #'ensemble13/o_pdts_rand_grad_randdiv_1_',\n",
    "    #'ensemble13/o_pdts_rand_grad_randdiv_2_',\n",
    "    #'ensemble13/o_pdts_info_grad_',\n",
    "]"
   ]
  },
  {
   "cell_type": "code",
   "execution_count": 13,
   "metadata": {
    "collapsed": true
   },
   "outputs": [],
   "source": [
    "idx_data_extractor = lambda x, filename : x['idx_frac'][0].item()"
   ]
  },
  {
   "cell_type": "code",
   "execution_count": 14,
   "metadata": {
    "collapsed": true
   },
   "outputs": [],
   "source": [
    "ack_rel_opt_val_data_extractor = lambda x, filename : x['ack_rel_opt_value']"
   ]
  },
  {
   "cell_type": "code",
   "execution_count": 15,
   "metadata": {
    "collapsed": true
   },
   "outputs": [],
   "source": [
    "ir_rel_opt_val_data_extractor = lambda x, filename : x['ir_rel_opt_value']"
   ]
  },
  {
   "cell_type": "code",
   "execution_count": 16,
   "metadata": {
    "collapsed": true
   },
   "outputs": [],
   "source": [
    "train_rmse_fn = lambda x, filename : x['logging'][1]['train']['std']"
   ]
  },
  {
   "cell_type": "code",
   "execution_count": 358,
   "metadata": {},
   "outputs": [
    {
     "name": "stdout",
     "output_type": "stream",
     "text": [
      "comparing pdts pdts_info\n",
      "ackley 0.38848819735541484 2.7145915627843733 2.7499978411736787 1 \t (std: 0.12846 0.12163, #n: 20 20)\n",
      "combined pval: nan vs 0.38849\n",
      "count: 1/1\n"
     ]
    }
   ],
   "source": [
    "cs.prop_test(10, \n",
    "             filenames, \n",
    "             #ack_regret_fn, \n",
    "             ack_rel_opt_val_data_extractor,\n",
    "             arrs,\n",
    "             [to_eval[0], to_eval[1]],\n",
    "             99,\n",
    "             pval_threshold=1, \n",
    "             paired_test=False,\n",
    "            )"
   ]
  },
  {
   "cell_type": "code",
   "execution_count": 42,
   "metadata": {},
   "outputs": [
    {
     "ename": "NameError",
     "evalue": "name 'ir_regret_fn' is not defined",
     "output_type": "error",
     "traceback": [
      "\u001b[0;31m---------------------------------------------------------------------------\u001b[0m",
      "\u001b[0;31mNameError\u001b[0m                                 Traceback (most recent call last)",
      "\u001b[0;32m<ipython-input-42-c0e34f570605>\u001b[0m in \u001b[0;36m<module>\u001b[0;34m()\u001b[0m\n\u001b[1;32m      1\u001b[0m cs.prop_test(40, \n\u001b[1;32m      2\u001b[0m              \u001b[0mfilenames\u001b[0m\u001b[0;34m,\u001b[0m\u001b[0;34m\u001b[0m\u001b[0m\n\u001b[0;32m----> 3\u001b[0;31m              \u001b[0mir_regret_fn\u001b[0m\u001b[0;34m,\u001b[0m\u001b[0;34m\u001b[0m\u001b[0m\n\u001b[0m\u001b[1;32m      4\u001b[0m              \u001b[0marrs\u001b[0m\u001b[0;34m,\u001b[0m\u001b[0;34m\u001b[0m\u001b[0m\n\u001b[1;32m      5\u001b[0m              \u001b[0;34m[\u001b[0m\u001b[0mto_eval\u001b[0m\u001b[0;34m[\u001b[0m\u001b[0;34m-\u001b[0m\u001b[0;36m2\u001b[0m\u001b[0;34m]\u001b[0m\u001b[0;34m,\u001b[0m \u001b[0mto_eval\u001b[0m\u001b[0;34m[\u001b[0m\u001b[0;34m-\u001b[0m\u001b[0;36m1\u001b[0m\u001b[0;34m]\u001b[0m\u001b[0;34m]\u001b[0m\u001b[0;34m,\u001b[0m\u001b[0;34m\u001b[0m\u001b[0m\n",
      "\u001b[0;31mNameError\u001b[0m: name 'ir_regret_fn' is not defined"
     ]
    }
   ],
   "source": [
    "cs.prop_test(40, \n",
    "             filenames, \n",
    "             ir_regret_fn, \n",
    "             arrs, \n",
    "             [to_eval[-2], to_eval[-1]],\n",
    "             14,\n",
    "             pval_threshold=1,\n",
    "             paired_test=True,\n",
    "            )"
   ]
  },
  {
   "cell_type": "code",
   "execution_count": 46,
   "metadata": {
    "collapsed": true
   },
   "outputs": [],
   "source": [
    "import collect_stats as cs"
   ]
  },
  {
   "cell_type": "code",
   "execution_count": 55,
   "metadata": {},
   "outputs": [
    {
     "name": "stdout",
     "output_type": "stream",
     "text": [
      "comparing pdts\n",
      "branin 5.237370760960503e-24 24.161627 1.813373504192776 0 \t (std: 1.12536 2.15831, #n: 18 18)\n",
      "combined pval: 0.00000 vs nan\n",
      "count: 0/1\n"
     ]
    }
   ],
   "source": [
    "cs.uniform_baseline_bb_fn(\n",
    "    2,\n",
    "    bb_fn,\n",
    "    4,\n",
    "    filenames, \n",
    "    ack_rel_opt_val_data_extractor,\n",
    "    arrs,\n",
    "    to_eval[0], \n",
    "    99,\n",
    "    pval_threshold=1, \n",
    ")"
   ]
  },
  {
   "cell_type": "code",
   "execution_count": 311,
   "metadata": {
    "collapsed": true
   },
   "outputs": [],
   "source": [
    "filenames = [\n",
    "    #'hartmann6d',\n",
    "    #'branin',\n",
    "    #'bohachevsky',\n",
    "    'ackley',\n",
    "]\n",
    "bb_fn = {filenames[i] : getattr(test_fns, filenames[i])() for i in range(len(filenames))}"
   ]
  },
  {
   "cell_type": "code",
   "execution_count": 331,
   "metadata": {
    "collapsed": true
   },
   "outputs": [],
   "source": [
    "to_eval = [\n",
    "    'ensemble13/o_pdts_grad_',\n",
    "    #'ensemble13/o_ucb_grad_',\n",
    "    #'ensemble13/o_pdts_rand_grad_randdiv_1_',\n",
    "    #'ensemble13/o_pdts_rand_grad_randdiv_2_',\n",
    "    'ensemble13/o_pdts_info_grad_',\n",
    "    #'ensemble13/o_er_rand_grad_randdiv_1_',\n",
    "    #'ensemble13/o_er_info_grad_',\n",
    "]"
   ]
  },
  {
   "cell_type": "code",
   "execution_count": 152,
   "metadata": {
    "scrolled": false
   },
   "outputs": [
    {
     "name": "stdout",
     "output_type": "stream",
     "text": [
      "BATCH SIZE 20\n",
      "chemvae\n",
      "e13_it20: 0.068394 0.027590 0.016963 0.009838 ;   0.00 val_nll ; 40 samples\n",
      "pdts_it20: 0.055785 0.024354 0.015531 0.009347 ;   0.00 val_nll ; 39 samples\n",
      "mves_bs_0_it20: 0.063887 0.025413 0.015743 0.009276 ;   0.00 val_nll ; 60 samples\n",
      "mves_div_10_bs_0_it20: 0.061247 0.025353 0.015786 0.009309 ;   0.00 val_nll ; 40 samples\n",
      "mves_bs_0_it20_fp: 0.050060 0.022436 0.014587 0.008910 ;   0.00 val_nll ; 40 samples\n"
     ]
    }
   ],
   "source": [
    "ack_iter = 29\n",
    "for batch_size in [20]:\n",
    "    print(\"BATCH SIZE\", batch_size)\n",
    "    for filename in filenames:\n",
    "        filename_printed = False\n",
    "        for experiment in to_eval:\n",
    "            if len(arrs[experiment][0]) == 0:\n",
    "                continue\n",
    "            idx_frac = None\n",
    "            num_used = 0\n",
    "            val_nll = 0\n",
    "            try:\n",
    "                for stats in arrs[experiment][0]:\n",
    "                    if filename not in stats:\n",
    "                        continue\n",
    "                    if batch_size not in stats[filename]:\n",
    "                        continue\n",
    "                    if len(stats[filename][batch_size]) <= ack_iter:\n",
    "                        continue\n",
    "                    num_used += 1\n",
    "                    mean = 0\n",
    "                    #for i in range(len(stats[filename][batch_size])):\n",
    "                        #mean += stats[filename][batch_size][i]['logging'][1]['best']['nll']\n",
    "                    if len(stats[filename][batch_size]) > 0:\n",
    "                        mean /= (len(stats[filename][batch_size]))\n",
    "                    #val_nll += stats[filename][batch_size][0]['logging'][1]['best']['nll']\n",
    "                    val_nll += mean\n",
    "                    if idx_frac is None:\n",
    "                        idx_frac = stats[filename][batch_size][ack_iter]['idx_frac']\n",
    "                        #idx_frac = tf_labels[filename][stats[filename][batch_size][ack_iter]['ir_batch_cur_idx'][-1]]\n",
    "                        #idx_frac = stats[filename][batch_size][ack_iter]['corr_stats'][1]\n",
    "                    else:\n",
    "                        idx_frac = idx_frac + stats[filename][batch_size][ack_iter]['idx_frac']\n",
    "                        #idx_frac = torch.max(idx_frac, stats[filename][batch_size][ack_iter]['idx_frac'])\n",
    "                        #idx_frac = idx_frac + tf_labels[filename][stats[filename][batch_size][ack_iter]['ir_batch_cur_idx'][-1]]\n",
    "                        #idx_frac = idx_frac + stats[filename][batch_size][ack_iter]['corr_stats'][1]\n",
    "                if num_used > 0:\n",
    "                    if not filename_printed:\n",
    "                        print(filename)\n",
    "                        filename_printed = True\n",
    "                    idx_frac = idx_frac/num_used\n",
    "                    #idx_frac = idx_frac.numpy()\n",
    "                    print(arrs[experiment][1] + \":\", \" \".join((\"{:6.6f}\".format(k) for k in idx_frac)), \";\", \"{:6.2f}\".format(val_nll/num_used), \"val_nll ;\", str(num_used), \"samples\")\n",
    "                    #print(arrs[experiment][1] + \":\", str(idx_frac), \";\", \"{:6.2f}\".format(val_nll/num_used), \"val_nll ;\", str(num_used), \"samples\")\n",
    "            except Exception as e:\n",
    "                pass"
   ]
  },
  {
   "cell_type": "code",
   "execution_count": 179,
   "metadata": {
    "collapsed": true
   },
   "outputs": [],
   "source": [
    "import collect_stats as cs"
   ]
  },
  {
   "cell_type": "code",
   "execution_count": 37,
   "metadata": {
    "collapsed": true
   },
   "outputs": [],
   "source": [
    "ack_rel_opt_val_data_extractor = lambda x, filename : np.log(x['ack_rel_opt_value'])"
   ]
  },
  {
   "cell_type": "code",
   "execution_count": 359,
   "metadata": {
    "scrolled": false
   },
   "outputs": [
    {
     "data": {
      "image/png": "[encoded data removed]",
      "text/plain": [
       "<Figure size 432x288 with 1 Axes>"
      ]
     },
     "metadata": {},
     "output_type": "display_data"
    }
   ],
   "source": [
    "cs.plot_data_vs_ack_iter(\n",
    "    10,\n",
    "    filenames,\n",
    "    'avg_seeds',\n",
    "    'regret',\n",
    "    #ack_regret_fn,\n",
    "    ack_rel_opt_val_data_extractor,\n",
    "    99,\n",
    "    arrs,\n",
    "    to_eval,\n",
    "    legend_loc=3,\n",
    "    figsize=(6, 4),\n",
    "    num_samples_label=True,\n",
    "    save_path='/cluster/sj1/bb_opt/plots',\n",
    "    start_iter=0,\n",
    ")"
   ]
  },
  {
   "cell_type": "code",
   "execution_count": null,
   "metadata": {
    "collapsed": true
   },
   "outputs": [],
   "source": [
    "cs.plot_data_vs_ack_iter(\n",
    "    10,\n",
    "    filenames[0:15],\n",
    "    'avg_seeds',\n",
    "    'gamma',\n",
    "    lambda x : x['best_gamma'] if x['best_gamma'] is not None else 0,\n",
    "    30,\n",
    "    arrs,\n",
    "    to_eval,\n",
    "    legend_loc=3,\n",
    ")"
   ]
  }
 ],
 "metadata": {
  "kernelspec": {
   "display_name": "Python (py36)",
   "language": "python",
   "name": "py36"
  },
  "language_info": {
   "codemirror_mode": {
    "name": "ipython",
    "version": 3
   },
   "file_extension": ".py",
   "mimetype": "text/x-python",
   "name": "python",
   "nbconvert_exporter": "python",
   "pygments_lexer": "ipython3",
   "version": "3.6.6"
  }
 },
 "nbformat": 4,
 "nbformat_minor": 2
}
