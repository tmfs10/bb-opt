{
 "cells": [
  {
   "cell_type": "code",
   "execution_count": 63,
   "metadata": {
    "collapsed": true
   },
   "outputs": [],
   "source": [
    "import sys\n",
    "sys.path.append('/cluster/sj1/bb_opt/src')\n",
    "sys.path.append('/cluster/sj1/bb_opt/scripts')"
   ]
  },
  {
   "cell_type": "code",
   "execution_count": 2,
   "metadata": {
    "collapsed": true
   },
   "outputs": [],
   "source": [
    "%load_ext autoreload\n",
    "%autoreload 2\n",
    "\n",
    "import torch\n",
    "import numpy as np\n",
    "import matplotlib.pyplot as plt\n",
    "import seaborn as sns\n",
    "import collect_stats as cs\n",
    "\n",
    "%matplotlib inline"
   ]
  },
  {
   "cell_type": "code",
   "execution_count": 3,
   "metadata": {
    "collapsed": true
   },
   "outputs": [],
   "source": [
    "import collect_stats as cs"
   ]
  },
  {
   "cell_type": "code",
   "execution_count": 4,
   "metadata": {
    "collapsed": true
   },
   "outputs": [],
   "source": [
    "exp_folder = '/cluster/sj1/bb_opt/experiments/imdbwiki'\n",
    "batches = [20, 50, 200]\n",
    "num_acks = 50"
   ]
  },
  {
   "cell_type": "code",
   "execution_count": 5,
   "metadata": {
    "collapsed": true
   },
   "outputs": [],
   "source": [
    "filenames = ['wiki']"
   ]
  },
  {
   "cell_type": "code",
   "execution_count": 6,
   "metadata": {
    "collapsed": true
   },
   "outputs": [],
   "source": [
    "def sigmoid(x, exp=np.exp):\n",
    "  return 1.0 / (1.0 + exp(-x))"
   ]
  },
  {
   "cell_type": "markdown",
   "metadata": {},
   "source": [
    "1. ensemble16 - verify paper results"
   ]
  },
  {
   "cell_type": "code",
   "execution_count": 7,
   "metadata": {
    "collapsed": true
   },
   "outputs": [],
   "source": [
    "arrs = {}"
   ]
  },
  {
   "cell_type": "code",
   "execution_count": 60,
   "metadata": {
    "scrolled": true
   },
   "outputs": [
    {
     "name": "stdout",
     "output_type": "stream",
     "text": [
      "The history saving thread hit an unexpected error (OperationalError('attempt to write a readonly database',)).History will not be written to the database.\n"
     ]
    }
   ],
   "source": [
    "to_read = {\n",
    "    #'ensemble18/o_max_std_start_3k_reg_': [None, 'normal'],\n",
    "    #'ensemble18/o_max_std_start_3k_reg_maxinvar_g00020510204080_': [None, 'MTD_big'],\n",
    "    #'ensemble18/o_max_std_start_3k_reg_uinput_maxvar_g00020510204080_': [None, 'MOD_big'],\n",
    "    #'ensemble18/o_max_std_start_3k_reg_nc_g00020510204080_': [None, 'NC_big'],\n",
    "    #'ensemble18/o_max_std_start_3k_reg_adve_': [None, 'adve'],\n",
    "    #'ensemble18/o_max_std_start_3k_reg_id_maxvar_g00020510204080_': [None, 'idMOD_big'],\n",
    "    #'ensemble18/o_max_std_start_3k_reg_maxvar_boundary_std_1.0_g00020510204080_': [None, 'MOD-boundary_1.0'],\n",
    "    #'ensemble18/o_max_std_start_3k_reg_maxvar_boundary_std_0.5_g00020510204080_': [None, 'MOD-boundary_0.5'],\n",
    "    #'ensemble18/o_max_std_start_3k_reg_maxvar_boundary_std_0.2_g00020510204080_': [None, 'MOD-boundary_0.2'],\n",
    "    'ensemble18/o_max_std_start_3k_reg_maxvar_boundary_std_0.05_g00020510204080_': [None, 'MOD-boundary_0.05'],\n",
    "    \n",
    "}\n"
   ]
  },
  {
   "cell_type": "code",
   "execution_count": 117,
   "metadata": {
    "collapsed": true
   },
   "outputs": [],
   "source": [
    "to_read = {\n",
    "    #'ensemble18/o_max_std_start_600_reg_': [None, 'normal'],\n",
    "    'ensemble18/o_max_std_start_600_reg_maxinvar_g00020510204080_': [None, 'MTD_big'],\n",
    "    #'ensemble18/o_max_std_start_600_reg_uinput_maxvar_g00020510204080_': [None, 'MOD_big'],\n",
    "    #'ensemble18/o_max_std_start_600_reg_nc_g00020510204080_': [None, 'NC_big'],\n",
    "    #'ensemble18/o_max_std_start_3k_reg_adve_': [None, 'adve'],\n",
    "    #'ensemble18/o_max_std_start_3k_reg_id_maxvar_g00020510204080_': [None, 'idMOD_big'],\n",
    "    #'ensemble18/o_max_std_start_3k_reg_maxvar_boundary_std_1.0_g00020510204080_': [None, 'MOD-boundary_1.0'],\n",
    "    #'ensemble18/o_max_std_start_3k_reg_maxvar_boundary_std_0.5_g00020510204080_': [None, 'MOD-boundary_0.5'],\n",
    "    #'ensemble18/o_max_std_start_3k_reg_maxvar_boundary_std_0.2_g00020510204080_': [None, 'MOD-boundary_0.2'],\n",
    "    #'ensemble18/o_max_std_start_3k_reg_maxvar_boundary_std_0.05_g00020510204080_': [None, 'MOD-boundary_0.05'],\n",
    "    \n",
    "}\n"
   ]
  },
  {
   "cell_type": "code",
   "execution_count": 118,
   "metadata": {
    "scrolled": true
   },
   "outputs": [
    {
     "name": "stdout",
     "output_type": "stream",
     "text": [
      "reading ensemble18/o_max_std_start_600_reg_maxinvar_g00020510204080_\n",
      "reading sample 1\n",
      "reading sample 2\n",
      "reading sample 3\n",
      "reading sample 4\n",
      "reading sample 5\n",
      "reading sample 6\n",
      "reading sample 7\n",
      "reading sample 8\n",
      "reading sample 9\n",
      "reading sample 10\n",
      "reading sample 11\n",
      "reading sample 12\n",
      "reading sample 13\n",
      "reading sample 14\n",
      "reading sample 15\n",
      "reading sample 16\n",
      "reading sample 17\n",
      "reading sample 18\n",
      "reading sample 19\n",
      "reading sample 20\n"
     ]
    }
   ],
   "source": [
    "for k in to_read:\n",
    "    arrs[k] = to_read[k]\n",
    "for experiment in to_read:\n",
    "    print('reading', experiment)\n",
    "    arrs[experiment][0] = cs.get_data(exp_folder, experiment, batches, num_samples=20)"
   ]
  },
  {
   "cell_type": "code",
   "execution_count": 54,
   "metadata": {
    "collapsed": true
   },
   "outputs": [],
   "source": [
    "to_eval = [\n",
    "    'ensemble18/o_max_std_start_3k_reg_',\n",
    "    'ensemble18/o_max_std_start_3k_reg_maxinvar_g00020510204080_',\n",
    "    #'ensemble18/o_max_std_start_3k_reg_uinput_maxvar_g000.10.50102_',\n",
    "    'ensemble18/o_max_std_start_3k_reg_uinput_maxvar_g00020510204080_',\n",
    "    #'ensemble18/o_max_std_start_3k_reg_nc_g000.10.50102_',\n",
    "    'ensemble18/o_max_std_start_3k_reg_nc_g00020510204080_',\n",
    "    'ensemble18/o_max_std_start_3k_reg_adve_',\n",
    "    'ensemble18/o_max_std_start_3k_reg_id_maxvar_g00020510204080_',\n",
    "    'ensemble18/o_max_std_start_3k_reg_maxvar_boundary_std_0.05_g00020510204080_',\n",
    "    'ensemble18/o_max_std_start_3k_reg_maxvar_boundary_std_0.2_g00020510204080_',\n",
    "    'ensemble18/o_max_std_start_3k_reg_maxvar_boundary_std_0.5_g00020510204080_',\n",
    "    'ensemble18/o_max_std_start_3k_reg_maxvar_boundary_std_1.0_g00020510204080_',\n",
    "]"
   ]
  },
  {
   "cell_type": "code",
   "execution_count": 105,
   "metadata": {
    "collapsed": true
   },
   "outputs": [],
   "source": [
    "to_eval = [\n",
    "    'ensemble18/o_max_std_start_600_reg_maxinvar_g00020510204080_',\n",
    "    'ensemble18/o_max_std_start_600_reg_uinput_maxvar_g00020510204080_',\n",
    "    'ensemble18/o_max_std_start_600_reg_nc_g00020510204080_',\n",
    "    'ensemble18/o_max_std_start_3k_reg_adve_',\n",
    "    'ensemble18/o_max_std_start_3k_reg_id_maxvar_g00020510204080_',\n",
    "    'ensemble18/o_max_std_start_3k_reg_maxvar_boundary_std_0.05_g00020510204080_',\n",
    "    'ensemble18/o_max_std_start_3k_reg_maxvar_boundary_std_0.2_g00020510204080_',\n",
    "    'ensemble18/o_max_std_start_3k_reg_maxvar_boundary_std_0.5_g00020510204080_',\n",
    "    'ensemble18/o_max_std_start_3k_reg_maxvar_boundary_std_1.0_g00020510204080_',\n",
    "]"
   ]
  },
  {
   "cell_type": "code",
   "execution_count": 111,
   "metadata": {
    "collapsed": true
   },
   "outputs": [],
   "source": [
    "test_fn = lambda bs, prop: lambda x, filename : x[bs + 'test_pred_stats'][prop]\n",
    "bs_test_rmse_fn = lambda x, filename : x['test_pred_stats']['baseline_rmse']\n",
    "ood_fn = lambda bs, prop: lambda x, filename : x[bs + 'ood_pred_stats'][prop]\n",
    "bs_ood_rmse_fn = lambda x, filename : x['ood_pred_stats']['baseline_rmse']\n",
    "test_log_fn = lambda prop, prop2: lambda x, filename : x['logging'][1][prop][prop2]\n",
    "bs_test_logprob = test_log_fn('baseline', 'nll')"
   ]
  },
  {
   "cell_type": "code",
   "execution_count": 119,
   "metadata": {},
   "outputs": [
    {
     "name": "stdout",
     "output_type": "stream",
     "text": [
      "comparing <lambda> <lambda>\n",
      "wiki 0.15371776005952964 -0.13683342114090918 -0.11249062558636069 1 \t (std: 0.04159 0.08278, #n: 20 20)\n",
      "combined pval: 0.42314 vs 0.07686\n",
      "count: 1/1\n"
     ]
    }
   ],
   "source": [
    "#dist = \"test\"\n",
    "dist = \"ood\"\n",
    "prop = \"log_prob\"\n",
    "#prop = \"rmse\"\n",
    "#prop = \"pred_std\"\n",
    "#prop = 'rmse_std_corr'\n",
    "bs = \"zero_gamma_\"\n",
    "#bs = \"invar_gamma_\"\n",
    "\n",
    "#fn = [globals()[dist+\"_\" + prop + \"_fn\"](\"\"),globals()[dist + \"_\" + prop + \"_fn\"](bs)]\n",
    "fn = [globals()[dist+\"_fn\"](\"\", prop), globals()[dist+\"_fn\"](bs, prop)]\n",
    "#fn = [globals()[dist+\"_fn\"](bs, prop), bs_test_logprob]\n",
    "cs.prop_test2(50,\n",
    "             filenames,\n",
    "             fn, \n",
    "             arrs,\n",
    "             to_eval[0],\n",
    "             0,\n",
    "             pval_threshold=1,\n",
    "             paired_test=True,\n",
    "             single_test=True, \n",
    "            )"
   ]
  },
  {
   "cell_type": "code",
   "execution_count": 45,
   "metadata": {},
   "outputs": [
    {
     "name": "stdout",
     "output_type": "stream",
     "text": [
      "comparing adve MOD_big\n",
      "wiki 0.6123706414843653 0.38762935851563474 -0.16363334842026234 -0.16012667790055274 \t (std: 0.04442 0.02909, #n: 20 20)\n",
      "combined pval: 0.61237 vs 0.38763\n",
      "count: 1/1\n"
     ]
    }
   ],
   "source": [
    "cs.prop_test(50, \n",
    "             filenames,\n",
    "             ood_fn(\"\", \"log_prob\"), \n",
    "             arrs, \n",
    "             [to_eval[4], to_eval[2]],\n",
    "             0,\n",
    "             pval_threshold=1,\n",
    "             paired_test=False,\n",
    "            )"
   ]
  }
 ],
 "metadata": {
  "kernelspec": {
   "display_name": "Python (py36)",
   "language": "python",
   "name": "py36"
  },
  "language_info": {
   "codemirror_mode": {
    "name": "ipython",
    "version": 3
   },
   "file_extension": ".py",
   "mimetype": "text/x-python",
   "name": "python",
   "nbconvert_exporter": "python",
   "pygments_lexer": "ipython3",
   "version": "3.6.6"
  }
 },
 "nbformat": 4,
 "nbformat_minor": 2
}
