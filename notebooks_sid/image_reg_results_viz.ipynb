{
 "cells": [
  {
   "cell_type": "code",
   "execution_count": 3,
   "metadata": {
    "collapsed": true
   },
   "outputs": [],
   "source": [
    "import sys\n",
    "sys.path.append('/cluster/sj1/bb_opt/scripts')"
   ]
  },
  {
   "cell_type": "code",
   "execution_count": 4,
   "metadata": {
    "collapsed": true
   },
   "outputs": [],
   "source": [
    "%load_ext autoreload\n",
    "%autoreload 2\n",
    "\n",
    "import torch\n",
    "import numpy as np\n",
    "import matplotlib.pyplot as plt\n",
    "import seaborn as sns\n",
    "import collect_stats as cs\n",
    "\n",
    "%matplotlib inline"
   ]
  },
  {
   "cell_type": "code",
   "execution_count": 5,
   "metadata": {
    "collapsed": true
   },
   "outputs": [],
   "source": [
    "import collect_stats as cs"
   ]
  },
  {
   "cell_type": "code",
   "execution_count": 6,
   "metadata": {
    "collapsed": true
   },
   "outputs": [],
   "source": [
    "exp_folder = '/cluster/sj1/bb_opt/experiments/imdbwiki'\n",
    "batches = [20, 50, 200]\n",
    "num_acks = 50"
   ]
  },
  {
   "cell_type": "code",
   "execution_count": 7,
   "metadata": {
    "collapsed": true
   },
   "outputs": [],
   "source": [
    "filenames = ['wiki']"
   ]
  },
  {
   "cell_type": "code",
   "execution_count": 8,
   "metadata": {
    "collapsed": true
   },
   "outputs": [],
   "source": [
    "def sigmoid(x, exp=np.exp):\n",
    "  return 1.0 / (1.0 + exp(-x))"
   ]
  },
  {
   "cell_type": "markdown",
   "metadata": {},
   "source": [
    "1. ensemble16 - verify paper results"
   ]
  },
  {
   "cell_type": "code",
   "execution_count": 9,
   "metadata": {
    "collapsed": true
   },
   "outputs": [],
   "source": [
    "arrs = {}"
   ]
  },
  {
   "cell_type": "code",
   "execution_count": 97,
   "metadata": {
    "collapsed": true,
    "scrolled": true
   },
   "outputs": [],
   "source": [
    "to_read = {\n",
    "    #'ensemble18/o_max_std_start_3k_reg_': [None, 'normal'],\n",
    "    'ensemble18/o_max_std_start_3k_reg_maxinvar_g00020510204080_': [None, 'MTD_big'],\n",
    "    #'ensemble18/o_max_std_start_3k_reg_uinput_maxvar_g000.10.50102_': [None, 'MOD_small'],\n",
    "    #'ensemble18/o_max_std_start_3k_reg_uinput_maxvar_g00020510204080_': [None, 'MOD_big'],\n",
    "    #'ensemble18/o_max_std_start_3k_reg_nc_g00020510204080_': [None, 'NC_big'],\n",
    "    #'ensemble18/o_max_std_start_3k_reg_nc_g000.10.50102_': [None, 'NC_small'],\n",
    "    #'ensemble18/o_max_std_start_3k_reg_adve_': [None, 'adve'],\n",
    "    #'ensemble18/o_max_std_start_3k_reg_id_maxvar_g00020510204080_': [None, 'idMOD_big'],\n",
    "    \n",
    "}\n"
   ]
  },
  {
   "cell_type": "code",
   "execution_count": 98,
   "metadata": {
    "scrolled": false
   },
   "outputs": [
    {
     "name": "stdout",
     "output_type": "stream",
     "text": [
      "reading ensemble18/o_max_std_start_3k_reg_maxinvar_g00020510204080_\n",
      "reading sample 1\n",
      "reading sample 2\n",
      "reading sample 3\n",
      "reading sample 4\n",
      "reading sample 5\n",
      "reading sample 6\n",
      "reading sample 7\n",
      "reading sample 8\n",
      "reading sample 9\n",
      "reading sample 10\n",
      "reading sample 11\n",
      "reading sample 12\n",
      "reading sample 13\n",
      "reading sample 14\n",
      "reading sample 15\n",
      "reading sample 16\n",
      "reading sample 17\n",
      "reading sample 18\n",
      "reading sample 19\n",
      "reading sample 20\n"
     ]
    }
   ],
   "source": [
    "for k in to_read:\n",
    "    arrs[k] = to_read[k]\n",
    "for experiment in to_read:\n",
    "    print('reading', experiment)\n",
    "    arrs[experiment][0] = cs.get_data(exp_folder, experiment, batches, num_samples=20)"
   ]
  },
  {
   "cell_type": "code",
   "execution_count": 107,
   "metadata": {
    "collapsed": true
   },
   "outputs": [],
   "source": [
    "to_eval = [\n",
    "    'ensemble18/o_max_std_start_3k_reg_',\n",
    "    'ensemble18/o_max_std_start_3k_reg_maxinvar_g00020510204080_',\n",
    "    'ensemble18/o_max_std_start_3k_reg_uinput_maxvar_g000.10.50102_',\n",
    "    'ensemble18/o_max_std_start_3k_reg_uinput_maxvar_g00020510204080_',\n",
    "    'ensemble18/o_max_std_start_3k_reg_nc_g000.10.50102_',\n",
    "    'ensemble18/o_max_std_start_3k_reg_nc_g00020510204080_',\n",
    "    'ensemble18/o_max_std_start_3k_reg_adve_',\n",
    "    'ensemble18/o_max_std_start_3k_reg_id_maxvar_g00020510204080_',\n",
    "]"
   ]
  },
  {
   "cell_type": "code",
   "execution_count": 13,
   "metadata": {
    "collapsed": true
   },
   "outputs": [],
   "source": [
    "test_fn = lambda bs, prop: lambda x, filename : x[bs + 'test_pred_stats'][prop]\n",
    "bs_test_rmse_fn = lambda x, filename : x['test_pred_stats']['baseline_rmse']\n",
    "ood_fn = lambda bs, prop: lambda x, filename : x[bs + 'ood_pred_stats'][prop]\n",
    "bs_ood_rmse_fn = lambda x, filename : x['test_pred_stats']['baseline_rmse']\n",
    "test_log_fn = lambda prop, prop2: lambda x, filename : x['logging'][1][prop][prop2]"
   ]
  },
  {
   "cell_type": "code",
   "execution_count": 100,
   "metadata": {},
   "outputs": [
    {
     "name": "stdout",
     "output_type": "stream",
     "text": [
      "comparing <lambda> <lambda>\n",
      "wiki 0.41171424753134733 -0.13962985426187516 -0.13049787059426307 1 \t (std: 0.03075 0.04777, #n: 20 20)\n",
      "combined pval: nan vs 0.41171\n",
      "count: 1/1\n"
     ]
    }
   ],
   "source": [
    "dist = \"test\"\n",
    "dist = \"ood\"\n",
    "prop = \"log_prob\"\n",
    "#prop = \"rmse\"\n",
    "#prop = \"pred_std\"\n",
    "#prop = 'rmse_std_corr'\n",
    "bs = \"zero_gamma_\"\n",
    "#bs = \"invar_gamma_\"\n",
    "\n",
    "#fn = [globals()[dist+\"_\" + prop + \"_fn\"](\"\"),globals()[dist + \"_\" + prop + \"_fn\"](bs)]\n",
    "fn = [globals()[dist+\"_fn\"](\"\", prop), globals()[dist+\"_fn\"](bs, prop)]\n",
    "cs.prop_test2(50, \n",
    "             filenames,\n",
    "             fn, \n",
    "             arrs,\n",
    "             to_eval[1],\n",
    "             0,\n",
    "             pval_threshold=1,\n",
    "             paired_test=True,\n",
    "            )"
   ]
  },
  {
   "cell_type": "code",
   "execution_count": 110,
   "metadata": {},
   "outputs": [
    {
     "name": "stdout",
     "output_type": "stream",
     "text": [
      "comparing NC_big MTD_big\n",
      "wiki 0.763956068023512 -0.328290057182312 -0.3305874511599541 0 \t (std: 0.02135 0.02530, #n: 20 20)\n",
      "combined pval: 0.76396 vs nan\n",
      "count: 0/1\n"
     ]
    }
   ],
   "source": [
    "cs.prop_test(50, \n",
    "             filenames,\n",
    "             test_fn(\"\", \"log_prob\"), \n",
    "             arrs, \n",
    "             [to_eval[5], to_eval[3]],\n",
    "             0,\n",
    "             pval_threshold=1,\n",
    "             paired_test=False,\n",
    "            )"
   ]
  },
  {
   "cell_type": "code",
   "execution_count": null,
   "metadata": {
    "collapsed": true
   },
   "outputs": [],
   "source": [
    "cs.plot_data_vs_ack_iter(\n",
    "    50,\n",
    "    filenames,\n",
    "    'avg_seeds',\n",
    "    'rmse',\n",
    "    test_rmse_fn,\n",
    "    20,\n",
    "    arrs,\n",
    "    to_eval,\n",
    "    legend_loc=3,\n",
    ")"
   ]
  },
  {
   "cell_type": "code",
   "execution_count": null,
   "metadata": {
    "collapsed": true
   },
   "outputs": [],
   "source": [
    "cs.plot_data_vs_ack_iter(\n",
    "    20,\n",
    "    filenames,\n",
    "    'avg_seeds',\n",
    "    'log_prob',\n",
    "    lambda x, filename: x['best_gamma'],\n",
    "    30,\n",
    "    arrs,\n",
    "    to_eval,\n",
    "    legend_loc=3,\n",
    ")"
   ]
  },
  {
   "cell_type": "code",
   "execution_count": null,
   "metadata": {
    "collapsed": true
   },
   "outputs": [],
   "source": [
    "cs.plot_data_vs_ack_iter(\n",
    "    50,\n",
    "    filenames,\n",
    "    'avg_seeds',\n",
    "    'nll',\n",
    "    lambda x, filename : x['logging'][1]['best']['nll'],\n",
    "    20,\n",
    "    arrs,\n",
    "    to_eval,\n",
    "    legend_loc=3,\n",
    ")"
   ]
  },
  {
   "cell_type": "code",
   "execution_count": null,
   "metadata": {
    "collapsed": true
   },
   "outputs": [],
   "source": [
    "cs.plot_data_vs_ack_iter(\n",
    "    200,\n",
    "    filenames,\n",
    "    'avg_seeds',\n",
    "    'rmse',\n",
    "    test_rmse_fn,\n",
    "    20,\n",
    "    arrs,\n",
    "    to_eval,\n",
    "    legend_loc=3,\n",
    ")"
   ]
  },
  {
   "cell_type": "code",
   "execution_count": null,
   "metadata": {
    "collapsed": true
   },
   "outputs": [],
   "source": []
  }
 ],
 "metadata": {
  "kernelspec": {
   "display_name": "Python (py36)",
   "language": "python",
   "name": "py36"
  },
  "language_info": {
   "codemirror_mode": {
    "name": "ipython",
    "version": 3
   },
   "file_extension": ".py",
   "mimetype": "text/x-python",
   "name": "python",
   "nbconvert_exporter": "python",
   "pygments_lexer": "ipython3",
   "version": "3.6.6"
  }
 },
 "nbformat": 4,
 "nbformat_minor": 2
}
