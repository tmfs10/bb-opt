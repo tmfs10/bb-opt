{
 "cells": [
  {
   "cell_type": "code",
   "execution_count": 1,
   "metadata": {},
   "outputs": [],
   "source": [
    "import sys\n",
    "folder_prefix='/data/cgs'\n",
    "sys.path.append(folder_prefix+'/sj1/bb_opt/src')\n",
    "sys.path.append(folder_prefix+'/sj1/bb_opt/scripts')"
   ]
  },
  {
   "cell_type": "code",
   "execution_count": 3,
   "metadata": {},
   "outputs": [
    {
     "name": "stdout",
     "output_type": "stream",
     "text": [
      "The autoreload extension is already loaded. To reload it, use:\n",
      "  %reload_ext autoreload\n"
     ]
    }
   ],
   "source": [
    "%load_ext autoreload\n",
    "%autoreload 2\n",
    "\n",
    "import torch\n",
    "import numpy as np\n",
    "import matplotlib.pyplot as plt\n",
    "import seaborn as sns\n",
    "import collect_stats as cs\n",
    "\n",
    "%matplotlib inline"
   ]
  },
  {
   "cell_type": "code",
   "execution_count": 3,
   "metadata": {
    "collapsed": true
   },
   "outputs": [],
   "source": [
    "import collect_stats as cs"
   ]
  },
  {
   "cell_type": "code",
   "execution_count": 6,
   "metadata": {},
   "outputs": [],
   "source": [
    "exp_folder = folder_prefix+'/sj1/bb_opt/experiments'\n",
    "batches = [20, 50, 200]\n",
    "num_acks = 50"
   ]
  },
  {
   "cell_type": "code",
   "execution_count": 7,
   "metadata": {},
   "outputs": [],
   "source": [
    "filenames = ['wiki']"
   ]
  },
  {
   "cell_type": "code",
   "execution_count": 8,
   "metadata": {},
   "outputs": [],
   "source": [
    "def sigmoid(x, exp=np.exp):\n",
    "  return 1.0 / (1.0 + exp(-x))"
   ]
  },
  {
   "cell_type": "markdown",
   "metadata": {},
   "source": [
    "1. ensemble16 - verify paper results"
   ]
  },
  {
   "cell_type": "code",
   "execution_count": 9,
   "metadata": {},
   "outputs": [],
   "source": [
    "arrs = {}"
   ]
  },
  {
   "cell_type": "code",
   "execution_count": 205,
   "metadata": {
    "scrolled": true
   },
   "outputs": [],
   "source": [
    "to_read = {\n",
    "    #'imdbwiki1/o_max_std_3k_reg_uinput_maxvar_g0002051020_maxOodStd_': [None, 'MOD-std-sel'],\n",
    "    #'imdbwiki1/o_max_std_3k_reg_uinput_maxrmsestd_g00051020_': [None, 'rmse-std'],\n",
    "    #'imdbwiki1/o_max_std_3k_reg_uinput_maxrmsestd_g00020510204080_': [None, 'rmse-std-big'],\n",
    "    #'imdbwiki1_nips19/o_max_std_start_3k_reg_uinput_maxvar_g00020510204080_': [None, 'MOD_big'],\n",
    "    #'imdbwiki1_nips19/o_max_std_start_3k_reg_adve_': [None, 'adve'],\n",
    "    \n",
    "    #'imdbwiki1/o_max_std_3k_reg_ageOOD_uinput_maxvar_g00020510204080_': [None, 'MOD-age'],\n",
    "    #'imdbwiki1/o_max_std_3k_reg_ageOOD_uinput_maxinvar_g(0,2,5,10,20,40,80)_': [None, 'MODin-age'],\n",
    "    #'imdbwiki1/o_max_std_3k_reg_ageOOD_uinput_id_maxvar_g(0,2,5,10,20,40,80)_': [None, 'idMOD-age'],\n",
    "    #'imdbwiki1/o_max_std_3k_reg_ageOOD_uinput_id_maxvarAdv(lr-.1,.5,1,2;iter-1,2,5,10,20)_g(0,2,5,10,20,40,80)_': [None, 'idMODAdv-age'],\n",
    "    'imdbwiki1/o_max_std_3k_reg_ageOOD_uinput_adve_00.05.1.2_': [None, 'Adv-age'],\n",
    "    #'imdbwiki1/o_max_std_3k_reg_ageOOD_uinput_nc_g00020510204080_': [None, 'NC-age'],\n",
    "    #'imdbwiki1/o_max_std_3k_reg_ageOOD_uinput_maxvarAdv(lr-.1,.5,1;iter-1)_g(0,2,5,10,20,40,80)_': [None, 'MODAdv-age'],\n",
    "    #'imdbwiki1/o_max_std_3k_reg_ageOOD_uinput_maxvarAdv(lr-.1,.5,1;iter-1,2,5,10)_g(0,2,5,10,20,40,80)_': [None, 'MODAdv-age-iter'],\n",
    "    #'imdbwiki1/o_max_std_3k_reg_ageOOD_uinput_maxvarAdv(lr-.1,.5,1,2;iter-1,2,5,10,20)_g(0,2,5,10,20,40,80)_': [None, 'MODAdv-age-iter2'],\n",
    "    #'imdbwiki1/o_max_std_3k_reg_ageOOD_uinput_maxvarAdv_1_2_g00020510204080_': [None, 'ModAdv_1_2-age'],\n",
    "    \n",
    "}\n"
   ]
  },
  {
   "cell_type": "code",
   "execution_count": 117,
   "metadata": {
    "collapsed": true
   },
   "outputs": [],
   "source": [
    "to_read = {\n",
    "    #'ensemble18/o_max_std_start_600_reg_': [None, 'normal'],\n",
    "    #'ensemble18/o_max_std_start_600_reg_maxinvar_g00020510204080_': [None, 'MTD_big'],\n",
    "    #'ensemble18/o_max_std_start_600_reg_uinput_maxvar_g00020510204080_': [None, 'MOD_big'],\n",
    "    #'ensemble18/o_max_std_start_600_reg_nc_g00020510204080_': [None, 'NC_big'],\n",
    "    'ensemble18/o_max_std_start_3k_reg_adve_': [None, 'adve'],\n",
    "    #'ensemble18/o_max_std_start_3k_reg_id_maxvar_g00020510204080_': [None, 'idMOD_big'],\n",
    "    #'ensemble18/o_max_std_start_3k_reg_maxvar_boundary_std_1.0_g00020510204080_': [None, 'MOD-boundary_1.0'],\n",
    "    #'ensemble18/o_max_std_start_3k_reg_maxvar_boundary_std_0.5_g00020510204080_': [None, 'MOD-boundary_0.5'],\n",
    "    #'ensemble18/o_max_std_start_3k_reg_maxvar_boundary_std_0.2_g00020510204080_': [None, 'MOD-boundary_0.2'],\n",
    "    #'ensemble18/o_max_std_start_3k_reg_maxvar_boundary_std_0.05_g00020510204080_': [None, 'MOD-boundary_0.05'],\n",
    "    \n",
    "}\n"
   ]
  },
  {
   "cell_type": "code",
   "execution_count": 206,
   "metadata": {
    "scrolled": true
   },
   "outputs": [
    {
     "name": "stdout",
     "output_type": "stream",
     "text": [
      "reading imdbwiki1/o_max_std_3k_reg_ageOOD_uinput_adve_00.05.1.2_\n",
      "reading sample 1\n",
      "reading sample 2\n",
      "reading sample 3\n",
      "reading sample 4\n",
      "reading sample 5\n",
      "reading sample 6\n",
      "reading sample 7\n",
      "reading sample 8\n",
      "reading sample 9\n",
      "reading sample 10\n",
      "reading sample 11\n",
      "reading sample 12\n",
      "reading sample 13\n",
      "reading sample 14\n",
      "reading sample 15\n",
      "reading sample 16\n",
      "reading sample 17\n",
      "reading sample 18\n",
      "reading sample 19\n",
      "reading sample 20\n"
     ]
    }
   ],
   "source": [
    "for k in to_read:\n",
    "    arrs[k] = to_read[k]\n",
    "for experiment in to_read:\n",
    "    print('reading', experiment)\n",
    "    arrs[experiment][0] = cs.get_data(exp_folder, experiment, batches, num_samples=20)"
   ]
  },
  {
   "cell_type": "code",
   "execution_count": 54,
   "metadata": {
    "collapsed": true
   },
   "outputs": [],
   "source": [
    "to_eval = [\n",
    "    'ensemble18/o_max_std_start_3k_reg_',\n",
    "    'ensemble18/o_max_std_start_3k_reg_maxinvar_g00020510204080_',\n",
    "    #'ensemble18/o_max_std_start_3k_reg_uinput_maxvar_g000.10.50102_',\n",
    "    'ensemble18/o_max_std_start_3k_reg_uinput_maxvar_g00020510204080_',\n",
    "    #'ensemble18/o_max_std_start_3k_reg_nc_g000.10.50102_',\n",
    "    'ensemble18/o_max_std_start_3k_reg_nc_g00020510204080_',\n",
    "    'ensemble18/o_max_std_start_3k_reg_adve_',\n",
    "    'ensemble18/o_max_std_start_3k_reg_id_maxvar_g00020510204080_',\n",
    "    'ensemble18/o_max_std_start_3k_reg_maxvar_boundary_std_0.05_g00020510204080_',\n",
    "    'ensemble18/o_max_std_start_3k_reg_maxvar_boundary_std_0.2_g00020510204080_',\n",
    "    'ensemble18/o_max_std_start_3k_reg_maxvar_boundary_std_0.5_g00020510204080_',\n",
    "    'ensemble18/o_max_std_start_3k_reg_maxvar_boundary_std_1.0_g00020510204080_',\n",
    "]"
   ]
  },
  {
   "cell_type": "code",
   "execution_count": 208,
   "metadata": {},
   "outputs": [],
   "source": [
    "to_eval = [\n",
    "    #'imdbwiki1_nips19/o_max_std_start_3k_reg_uinput_maxvar_g00020510204080_',\n",
    "    #'imdbwiki1_nips19/o_max_std_start_3k_reg_adve_',\n",
    "    #'imdbwiki1/o_max_std_3k_reg_uinput_maxvar_g0002051020_maxOodStd_',\n",
    "    #'imdbwiki1/o_max_std_3k_reg_uinput_maxrmsestd_g00051020_',\n",
    "    #'imdbwiki1/o_max_std_3k_reg_uinput_maxrmsestd_g00020510204080_',\n",
    "    \n",
    "    'imdbwiki1/o_max_std_3k_reg_ageOOD_uinput_maxvar_g00020510204080_',\n",
    "    'imdbwiki1/o_max_std_3k_reg_ageOOD_uinput_maxinvar_g(0,2,5,10,20,40,80)_',\n",
    "    'imdbwiki1/o_max_std_3k_reg_ageOOD_uinput_id_maxvar_g(0,2,5,10,20,40,80)_',\n",
    "    'imdbwiki1/o_max_std_3k_reg_ageOOD_uinput_id_maxvarAdv(lr-.1,.5,1,2;iter-1,2,5,10,20)_g(0,2,5,10,20,40,80)_',\n",
    "    'imdbwiki1/o_max_std_3k_reg_ageOOD_uinput_adve_00.05.1.2_',\n",
    "    'imdbwiki1/o_max_std_3k_reg_ageOOD_uinput_nc_g00020510204080_',\n",
    "    'imdbwiki1/o_max_std_3k_reg_ageOOD_uinput_maxvarAdv(lr-.1,.5,1;iter-1)_g(0,2,5,10,20,40,80)_',\n",
    "    'imdbwiki1/o_max_std_3k_reg_ageOOD_uinput_maxvarAdv(lr-.1,.5,1;iter-1,2,5,10)_g(0,2,5,10,20,40,80)_',\n",
    "    'imdbwiki1/o_max_std_3k_reg_ageOOD_uinput_maxvarAdv(lr-.1,.5,1,2;iter-1,2,5,10,20)_g(0,2,5,10,20,40,80)_',\n",
    "    #'imdbwiki1/o_max_std_3k_reg_ageOOD_uinput_maxvarAdv_1_2_g00020510204080_',\n",
    "]"
   ]
  },
  {
   "cell_type": "code",
   "execution_count": 13,
   "metadata": {},
   "outputs": [],
   "source": [
    "test_fn = lambda bs, prop: lambda x, filename : x[bs + 'test_pred_stats'][prop]\n",
    "bs_test_rmse_fn = lambda x, filename : x['test_pred_stats']['baseline_rmse']\n",
    "ood_fn = lambda bs, prop: lambda x, filename : x[bs + 'ood_pred_stats'][prop]\n",
    "bs_ood_rmse_fn = lambda x, filename : x['ood_pred_stats']['baseline_rmse']\n",
    "test_log_fn = lambda prop, prop2: lambda x, filename : x['logging'][1][prop][prop2]\n",
    "bs_test_logprob = test_log_fn('baseline', 'nll')"
   ]
  },
  {
   "cell_type": "code",
   "execution_count": 249,
   "metadata": {},
   "outputs": [
    {
     "name": "stdout",
     "output_type": "stream",
     "text": [
      "comparing <lambda> <lambda>\n",
      "wiki 0.05187040076299627 1.154692806695637 1.3044591891138178 1 \t (std: 0.18650 0.25387, #n: 19 19)\n",
      "combined pval: 0.47406 vs 0.02594\n",
      "count: 1/1\n"
     ]
    }
   ],
   "source": [
    "#dist = \"test\"\n",
    "dist = \"ood\"\n",
    "prop = \"log_prob\"\n",
    "#prop = \"rmse\"\n",
    "#prop = \"std\"\n",
    "#prop = \"pred_std\"\n",
    "#prop = 'rmse_std_corr'\n",
    "bs = \"zero_gamma_\"\n",
    "#bs = \"invar_gamma_\"\n",
    "\n",
    "#fn = [globals()[dist+\"_\" + prop + \"_fn\"](\"\"),globals()[dist + \"_\" + prop + \"_fn\"](bs)]\n",
    "fn = [globals()[dist+\"_fn\"](\"\", prop), globals()[dist+\"_fn\"](bs, prop)]\n",
    "#fn = [globals()[dist+\"_fn\"](bs, prop), bs_test_logprob]\n",
    "cs.prop_test2(50,\n",
    "             filenames,\n",
    "             fn, \n",
    "             arrs,\n",
    "             to_eval[-3],\n",
    "             0,\n",
    "             pval_threshold=1,\n",
    "             paired_test=False,\n",
    "             single_test=True, \n",
    "            )"
   ]
  },
  {
   "cell_type": "code",
   "execution_count": 248,
   "metadata": {},
   "outputs": [
    {
     "name": "stdout",
     "output_type": "stream",
     "text": [
      "comparing MODin-age idMOD-age\n",
      "wiki 0.1429935472539532 0.8570064527460468 1.2624663531780242 1.184663426876068 \t (std: 0.19612 0.24415, #n: 20 20)\n",
      "combined pval: 0.14299 vs 0.85701\n",
      "count: 0/1\n"
     ]
    }
   ],
   "source": [
    "cs.prop_test(50, \n",
    "             filenames,\n",
    "             ood_fn(\"\", \"log_prob\"), \n",
    "             arrs, \n",
    "             [to_eval[1], to_eval[2]],\n",
    "             0,\n",
    "             pval_threshold=1,\n",
    "             paired_test=False,\n",
    "            )"
   ]
  },
  {
   "cell_type": "code",
   "execution_count": null,
   "metadata": {},
   "outputs": [],
   "source": []
  }
 ],
 "metadata": {
  "kernelspec": {
   "display_name": "Python (py36)",
   "language": "python",
   "name": "py36"
  },
  "language_info": {
   "codemirror_mode": {
    "name": "ipython",
    "version": 3
   },
   "file_extension": ".py",
   "mimetype": "text/x-python",
   "name": "python",
   "nbconvert_exporter": "python",
   "pygments_lexer": "ipython3",
   "version": "3.6.9"
  }
 },
 "nbformat": 4,
 "nbformat_minor": 2
}
