{
 "cells": [
  {
   "cell_type": "code",
   "execution_count": 4,
   "metadata": {
    "collapsed": true
   },
   "outputs": [],
   "source": [
    "import sys\n",
    "sys.path.append('/cluster/sj1/bb_opt/scripts')"
   ]
  },
  {
   "cell_type": "code",
   "execution_count": 5,
   "metadata": {
    "collapsed": true
   },
   "outputs": [],
   "source": [
    "%load_ext autoreload\n",
    "%autoreload 2\n",
    "\n",
    "import torch\n",
    "import numpy as np\n",
    "import matplotlib.pyplot as plt\n",
    "import seaborn as sns\n",
    "import collect_stats as cs\n",
    "\n",
    "%matplotlib inline"
   ]
  },
  {
   "cell_type": "code",
   "execution_count": 6,
   "metadata": {
    "collapsed": true
   },
   "outputs": [],
   "source": [
    "import collect_stats as cs"
   ]
  },
  {
   "cell_type": "code",
   "execution_count": 3,
   "metadata": {
    "collapsed": true
   },
   "outputs": [],
   "source": [
    "filenames = [\n",
    "    'HOXC4_R158L_R1_8mers.txt',\n",
    "    'HOXD13_REF_R1_8mers.txt',\n",
    "    'GFI1_REF_R1_8mers.txt',\n",
    "    'HOXC4_R158L_R2_8mers.txt',\n",
    "    'PAX4_REF_R1_8mers.txt',\n",
    "    'OVOL2_D228E_R1_8mers.txt',\n",
    "    'POU3F4_V322M_R1_8mers.txt',\n",
    "    'KLF11_R402Q_R1_8mers.txt',\n",
    "    'HOXB7_R189C_R1_8mers.txt',\n",
    "    'CRX_R90W_R1_8mers.txt',\n",
    "]"
   ]
  },
  {
   "cell_type": "code",
   "execution_count": 176,
   "metadata": {},
   "outputs": [
    {
     "name": "stdout",
     "output_type": "stream",
     "text": [
      "reading sample 1\n",
      "reading sample 2\n",
      "reading sample 3\n"
     ]
    }
   ],
   "source": [
    "mves = cs.get_data_mves('/cluster/sj1/bb_opt', 'mves_1_')"
   ]
  },
  {
   "cell_type": "code",
   "execution_count": 58,
   "metadata": {},
   "outputs": [
    {
     "name": "stdout",
     "output_type": "stream",
     "text": [
      "reading sample 1\n",
      "reading sample 2\n",
      "reading sample 3\n",
      "reading sample 4\n"
     ]
    }
   ],
   "source": [
    "mves2 = cs.get_data_mves('/cluster/sj1/bb_opt', 'mves_2_')"
   ]
  },
  {
   "cell_type": "code",
   "execution_count": 9,
   "metadata": {},
   "outputs": [
    {
     "name": "stdout",
     "output_type": "stream",
     "text": [
      "reading sample 1\n",
      "reading sample 2\n",
      "reading sample 3\n",
      "reading sample 4\n",
      "reading sample 5\n",
      "reading sample 6\n",
      "reading sample 7\n",
      "reading sample 8\n",
      "reading sample 9\n",
      "reading sample 10\n"
     ]
    }
   ],
   "source": [
    "pdts = cs.get_data_mves('/cluster/sj1/bb_opt', 'pdts_dna_n')"
   ]
  },
  {
   "cell_type": "code",
   "execution_count": 10,
   "metadata": {},
   "outputs": [
    {
     "name": "stdout",
     "output_type": "stream",
     "text": [
      "reading sample 1\n",
      "reading sample 2\n",
      "reading sample 3\n",
      "reading sample 4\n",
      "reading sample 5\n",
      "reading sample 6\n",
      "reading sample 7\n",
      "reading sample 8\n",
      "reading sample 9\n",
      "reading sample 10\n"
     ]
    }
   ],
   "source": [
    "pdts_mix = cs.get_data_mves('/cluster/sj1/bb_opt', 'pdts_dna_cond_n')"
   ]
  },
  {
   "cell_type": "code",
   "execution_count": 159,
   "metadata": {},
   "outputs": [
    {
     "name": "stdout",
     "output_type": "stream",
     "text": [
      "reading sample 1\n",
      "reading sample 2\n",
      "reading sample 3\n",
      "reading sample 4\n",
      "reading sample 5\n",
      "reading sample 6\n",
      "reading sample 7\n",
      "reading sample 8\n",
      "reading sample 9\n",
      "reading sample 10\n"
     ]
    }
   ],
   "source": [
    "mves_ei_mix = cs.get_data_mves('/cluster/sj1/bb_opt', 'ei_mves_mix')"
   ]
  },
  {
   "cell_type": "code",
   "execution_count": 145,
   "metadata": {},
   "outputs": [
    {
     "name": "stdout",
     "output_type": "stream",
     "text": [
      "reading sample 1\n",
      "reading sample 2\n",
      "reading sample 3\n",
      "reading sample 4\n",
      "reading sample 5\n"
     ]
    }
   ],
   "source": [
    "mves_condense = cs.get_data_mves('/cluster/sj1/bb_opt', 'cond_ei_test')"
   ]
  },
  {
   "cell_type": "code",
   "execution_count": 146,
   "metadata": {},
   "outputs": [
    {
     "name": "stdout",
     "output_type": "stream",
     "text": [
      "reading 0\n",
      "read 10 samples\n",
      "reading 1\n",
      "read 0 samples\n",
      "reading 2\n",
      "read 10 samples\n",
      "reading 3\n",
      "read 0 samples\n",
      "reading 4\n",
      "read 0 samples\n"
     ]
    }
   ],
   "source": [
    "ucb = cs.get_data_ucb('/cluster/sj1/bb_opt', 'n')"
   ]
  },
  {
   "cell_type": "code",
   "execution_count": 174,
   "metadata": {},
   "outputs": [
    {
     "name": "stdout",
     "output_type": "stream",
     "text": [
      "reading sample 1\n"
     ]
    }
   ],
   "source": [
    "mves_test = cs.get_data_mves('/cluster/sj1/bb_opt', 'cond_er2_200_samples')"
   ]
  },
  {
   "cell_type": "code",
   "execution_count": 267,
   "metadata": {},
   "outputs": [
    {
     "name": "stdout",
     "output_type": "stream",
     "text": [
      "reading sample 1\n",
      "reading sample 2\n",
      "reading sample 3\n",
      "reading sample 4\n",
      "reading sample 5\n",
      "reading sample 6\n",
      "reading sample 7\n",
      "reading sample 8\n",
      "reading sample 9\n"
     ]
    }
   ],
   "source": [
    "er_cond_4 = cs.get_data_mves('/cluster/sj1/bb_opt', 'er_condense_4_200_samples_')"
   ]
  },
  {
   "cell_type": "code",
   "execution_count": 193,
   "metadata": {},
   "outputs": [
    {
     "name": "stdout",
     "output_type": "stream",
     "text": [
      "reading sample 1\n",
      "reading sample 2\n",
      "reading sample 3\n",
      "reading sample 4\n",
      "reading sample 5\n"
     ]
    }
   ],
   "source": [
    "mix_200 = cs.get_data_mves('/cluster/sj1/bb_opt', 'er_mves_mix_200_samples_')"
   ]
  },
  {
   "cell_type": "code",
   "execution_count": 194,
   "metadata": {},
   "outputs": [
    {
     "name": "stdout",
     "output_type": "stream",
     "text": [
      "reading sample 1\n",
      "reading sample 2\n",
      "reading sample 3\n",
      "reading sample 4\n",
      "reading sample 5\n"
     ]
    }
   ],
   "source": [
    "mix_300 = cs.get_data_mves('/cluster/sj1/bb_opt', 'er_mves_mix_300_samples_')"
   ]
  },
  {
   "cell_type": "code",
   "execution_count": 261,
   "metadata": {},
   "outputs": [
    {
     "name": "stdout",
     "output_type": "stream",
     "text": [
      "reading sample 1\n",
      "reading sample 2\n",
      "reading sample 3\n",
      "reading sample 4\n",
      "reading sample 5\n",
      "reading sample 6\n",
      "reading sample 7\n",
      "reading sample 8\n",
      "reading sample 9\n",
      "reading sample 10\n"
     ]
    }
   ],
   "source": [
    "hardmix_200 = cs.get_data_mves('/cluster/sj1/bb_opt', 'er_mves_hardmix_200_samples_')"
   ]
  },
  {
   "cell_type": "code",
   "execution_count": 252,
   "metadata": {},
   "outputs": [
    {
     "name": "stdout",
     "output_type": "stream",
     "text": [
      "reading sample 1\n",
      "reading sample 2\n",
      "reading sample 3\n",
      "reading sample 4\n",
      "reading sample 5\n",
      "reading sample 6\n",
      "reading sample 7\n",
      "reading sample 8\n",
      "reading sample 9\n",
      "reading sample 10\n",
      "reading sample 11\n",
      "reading sample 12\n",
      "reading sample 13\n",
      "reading sample 14\n",
      "reading sample 15\n",
      "reading sample 16\n",
      "reading sample 17\n",
      "reading sample 18\n",
      "reading sample 19\n",
      "reading sample 20\n",
      "reading sample 1\n",
      "reading sample 2\n",
      "reading sample 3\n",
      "reading sample 4\n",
      "reading sample 5\n",
      "reading sample 6\n",
      "reading sample 7\n",
      "reading sample 8\n",
      "reading sample 9\n",
      "reading sample 10\n",
      "reading sample 11\n",
      "reading sample 12\n",
      "reading sample 13\n",
      "reading sample 14\n",
      "reading sample 15\n",
      "reading sample 16\n",
      "reading sample 17\n",
      "reading sample 18\n",
      "reading sample 19\n",
      "reading sample 20\n"
     ]
    }
   ],
   "source": [
    "er_shuffle = cs.get_data_mves_ucb('/cluster/sj1/bb_opt', 'ucb_n_shuffle', 0.0, num_samples=20)\n",
    "er_noshuffle = cs.get_data_mves_ucb('/cluster/sj1/bb_opt', 'ucb_n_noshuffle', 0.0, num_samples=20)"
   ]
  },
  {
   "cell_type": "code",
   "execution_count": 253,
   "metadata": {
    "collapsed": true
   },
   "outputs": [],
   "source": [
    "batch_idx = 1\n",
    "ack_iter_idx = -1\n",
    "stat_idx = -4"
   ]
  },
  {
   "cell_type": "code",
   "execution_count": 268,
   "metadata": {
    "scrolled": false
   },
   "outputs": [
    {
     "name": "stdout",
     "output_type": "stream",
     "text": [
      "HOXC4_R158L_R1_8mers.txt\n",
      "mves_er_mix: 3 0.16565041 0.17073171 0.014154871 0.17987806 68971.82\n",
      "mves2: 2 0.11890244 0.11890244 0.02743902 0.14634146 58559.36\n",
      "mves: 2 0.12804878 0.12804878 0.024390247 0.15243903 59612.258\n",
      "pdts*2: 10 0.12042682 0.12042683 0.017738037 0.14939025 67918.92\n",
      "pdts: 10 0.15365854 0.1554878 0.020686826 0.18597561 66866.02\n",
      "er*2: 5 0.16219512 0.16158536 0.021245426 0.19512194 66866.02\n",
      "mves_test: 1 0.042682927 0.042682927 0.0 0.042682927 31413.69\n",
      "mix_200: 4 0.15929878 0.16463414 0.013698324 0.17073171 66866.02\n",
      "mix_300: 5 0.1554878 0.16158536 0.011076768 0.16463415 68971.82\n",
      "hardmix_200: 9 0.1561653 0.16463415 0.012674995 0.16768293 68971.82\n",
      "ucb: 0.0 10 0.15030487 0.14939025 0.024046741 66866.02\n",
      "ucb: 1.0 10 0.1582317 0.16006097 0.014001173 68971.82\n",
      "HOXD13_REF_R1_8mers.txt\n",
      "mves_er_mix: 3 0.16463415 0.17073171 0.010850686 0.17378049 149168.34\n",
      "mves: 2 0.12804878 0.12804878 0.0060975626 0.13414635 146556.81\n",
      "pdts*2: 10 0.11189024 0.11432926 0.015428757 0.1402439 158176.05\n",
      "pdts: 10 0.14695123 0.14634147 0.014221834 0.17378049 152974.0\n",
      "er*2: 5 0.14512195 0.13719513 0.015133752 0.16768293 146057.94\n",
      "mves_test: 1 0.09146342 0.09146342 0.0 0.09146342 141616.25\n",
      "mix_200: 4 0.14100611 0.1417683 0.010197477 0.15243903 160495.98\n",
      "mix_300: 5 0.1597561 0.1554878 0.013579915 0.17987806 163733.34\n",
      "hardmix_200: 5 0.1597561 0.16463415 0.011979806 0.17682926 163437.98\n",
      "ucb: 0.0 10 0.14115852 0.13871951 0.020499507 161279.44\n",
      "ucb: 1.0 10 0.13506098 0.13414633 0.017086776 159712.53\n",
      "GFI1_REF_R1_8mers.txt\n",
      "mves_er_mix: 3 0.016260164 0.0030487804 0.018683717 0.042682927 153715.31\n",
      "mves: 2 0.050304875 0.050304875 0.0015243907 0.051829267 204534.62\n",
      "pdts*2: 10 0.024085365 0.015243903 0.027824193 0.08231708 209234.6\n",
      "pdts: 10 0.05457317 0.07317073 0.032335762 0.09146342 209234.6\n",
      "er*2: 5 0.046341468 0.05487805 0.027499935 0.08231708 187182.94\n",
      "mves_test: 1 0.06402439 0.06402439 0.0 0.06402439 183422.64\n",
      "mix_200: 5 0.08475609 0.07317073 0.021157745 0.11585366 218745.81\n",
      "mix_300: 5 0.07439025 0.07926829 0.033763096 0.125 218934.19\n",
      "er_shuffle: 20 0.06493902 0.07164635 0.045015737 0.15243903 197785.55\n",
      "er_noshuffle: 20 0.06631097 0.06859756 0.03548753 0.13109756 218934.19\n",
      "hardmix_200: 9 0.061314363 0.076219514 0.045820702 0.12804878 203400.12\n",
      "er_cond_4: 5 0.031097561 0.018292682 0.030573053 0.08231708 183851.9\n",
      "ucb: 0.0 10 0.11036585 0.13262194 0.04848999 253499.38\n",
      "ucb: 1.0 10 0.065853655 0.06097561 0.03414634 211072.97\n",
      "HOXC4_R158L_R2_8mers.txt\n",
      "mves_er_mix: 3 0.15345527 0.17073171 0.024432553 0.17073171 186546.17\n",
      "mves: 2 0.09146342 0.09146342 0.024390243 0.11585366 208114.55\n",
      "pdts*2: 10 0.10518293 0.103658535 0.014185841 0.13719513 197330.36\n",
      "pdts: 10 0.14420733 0.14786586 0.03478951 0.19512194 186546.17\n",
      "er*2: 5 0.13841464 0.14634146 0.012732081 0.15243903 186546.17\n",
      "mves_test: 1 0.10670732 0.10670732 0.0 0.10670732 208114.55\n",
      "mix_200: 3 0.14939024 0.13414635 0.023746591 0.18292683 186546.17\n",
      "mix_300: 5 0.118292674 0.1097561 0.040142145 0.16158536 156142.05\n",
      "hardmix_200: 5 0.14207318 0.14634146 0.012286245 0.1554878 186546.17\n",
      "ucb: 0.0 10 0.14512196 0.1554878 0.03460601 186546.17\n",
      "ucb: 1.0 10 0.14573172 0.15091464 0.029709583 186546.17\n",
      "PAX4_REF_R1_8mers.txt\n",
      "mves_er_mix: 3 0.11686992 0.112804875 0.020120924 0.14329268 528537.0\n",
      "mves: 2 0.09146342 0.09146342 0.018292684 0.1097561 528537.0\n",
      "pdts*2: 10 0.09390244 0.103658535 0.023725701 0.12804878 516584.56\n",
      "pdts: 10 0.13567074 0.14481707 0.021995638 0.16158536 517150.88\n",
      "er*2: 5 0.092073165 0.08841463 0.01606334 0.11890244 494828.8\n",
      "mves_test: 1 0.13414635 0.13414635 0.0 0.13414635 517150.88\n",
      "mix_200: 2 0.14176829 0.14176829 0.025914636 0.16768293 511682.9\n",
      "mix_300: 5 0.13658535 0.14329268 0.022847552 0.16158536 517150.88\n",
      "ucb: 0.0 10 0.13384145 0.15243903 0.028679611 505989.84\n",
      "ucb: 1.0 10 0.13628049 0.14329268 0.021387147 505989.84\n",
      "OVOL2_D228E_R1_8mers.txt\n",
      "mves_er_mix: 3 0.067073174 0.094512194 0.047688488 0.10670732 322937.0\n",
      "mves: 2 0.025914634 0.025914634 0.025914634 0.051829267 221426.06\n",
      "pdts*2: 10 0.037195124 0.024390245 0.041351173 0.11585366 177728.25\n",
      "pdts: 10 0.026829269 0.0 0.044386726 0.12804878 110814.98\n",
      "er*2: 5 0.026829269 0.0 0.05365854 0.13414635 110814.98\n",
      "mves_test: 1 0.06402439 0.06402439 0.0 0.06402439 337934.72\n",
      "mix_200: 2 0.0 0.0 0.0 0.0 107471.805\n",
      "mix_300: 5 0.0 0.0 0.0 0.0 112977.98\n",
      "ucb: 0.0 10 0.027134145 0.0 0.036418576 110814.98\n",
      "ucb: 1.0 10 0.03597561 0.032012194 0.037110057 249857.88\n",
      "POU3F4_V322M_R1_8mers.txt\n",
      "mves_er_mix: 3 0.16869919 0.16463415 0.015209988 0.18902439 182196.48\n",
      "mves: 2 0.10670732 0.10670732 0.006097559 0.112804875 208771.16\n",
      "pdts*2: 10 0.12378049 0.13414633 0.023306726 0.14939025 236874.44\n",
      "pdts: 10 0.1432927 0.13719513 0.027675135 0.17682926 208771.16\n",
      "er*2: 5 0.15914634 0.16158536 0.015830195 0.17987806 237437.73\n",
      "mves_test: 1 0.14939025 0.14939025 0.0 0.14939025 182196.48\n",
      "mix_200: 2 0.12804878 0.12804878 0.009146344 0.13719513 260870.58\n",
      "mix_300: 5 0.175 0.17378049 0.005654647 0.18292683 237437.73\n",
      "ucb: 0.0 10 0.16036585 0.16310975 0.018098565 223104.44\n",
      "ucb: 1.0 10 0.15243903 0.14481708 0.032808047 237437.73\n",
      "KLF11_R402Q_R1_8mers.txt\n",
      "mves_er_mix: 3 0.037601624 0.036585364 0.018683717 0.06097561 58635.81\n",
      "mves: 2 0.048780486 0.048780486 0.0060975607 0.05487805 58068.133\n",
      "pdts*2: 10 0.040853657 0.038109757 0.01865495 0.07012195 58068.812\n",
      "pdts: 10 0.063109756 0.07317073 0.021987183 0.08841463 58876.59\n",
      "er*2: 5 0.06646341 0.067073174 0.011143699 0.076219514 58088.03\n",
      "mves_test: 1 0.05792683 0.05792683 0.0 0.05792683 57584.62\n",
      "mix_200: 2 0.0777439 0.0777439 0.025914634 0.103658535 58618.27\n",
      "mix_300: 5 0.056097567 0.04573171 0.040611774 0.10670732 58005.77\n",
      "ucb: 0.0 10 0.07195122 0.08689024 0.03384558 58775.7\n",
      "ucb: 1.0 10 0.06890245 0.07164635 0.026091576 58876.59\n",
      "HOXB7_R189C_R1_8mers.txt\n",
      "mves_er_mix: 3 0.07012195 0.07317073 0.006586118 0.076219514 36595.58\n",
      "mves: 2 0.019817073 0.019817073 0.0015243907 0.021341464 34212.977\n",
      "pdts*2: 8 0.03582317 0.032012194 0.017629625 0.067073174 36852.36\n",
      "pdts: 10 0.055792682 0.051829267 0.014814061 0.085365854 36852.36\n",
      "er*2: 5 0.07012195 0.076219514 0.012346622 0.08231708 36852.36\n",
      "mves_test: 1 0.042682927 0.042682927 0.0 0.042682927 36566.4\n",
      "mix_200: 2 0.06402439 0.06402439 0.00914634 0.07317073 36595.58\n",
      "mix_300: 4 0.05868902 0.06402439 0.011279459 0.067073174 36723.97\n",
      "ucb: 0.0 10 0.0652439 0.06554878 0.010311912 36723.97\n",
      "ucb: 1.0 10 0.06859756 0.06859756 0.008966733 36852.36\n",
      "CRX_R90W_R1_8mers.txt\n",
      "mves_er_mix: 3 0.06808943 0.06097561 0.014586076 0.08841463 44789.36\n",
      "mves: 2 0.032012194 0.032012194 0.00457317 0.036585364 43885.68\n",
      "pdts*2: 5 0.064634144 0.06402439 0.0059118043 0.07317073 43348.49\n",
      "pdts: 10 0.06402439 0.06554878 0.015958846 0.085365854 44236.344\n",
      "er*2: 5 0.07073171 0.07317073 0.008043235 0.08231708 44789.36\n",
      "mves_test: 1 0.051829267 0.051829267 0.0 0.051829267 43683.33\n",
      "mix_200: 2 0.083841465 0.083841465 0.0015243888 0.085365854 43078.812\n",
      "mix_300: 4 0.070121944 0.07317073 0.0071500237 0.076219514 43202.97\n",
      "ucb: 0.0 10 0.071036585 0.07317073 0.011492729 43590.6\n",
      "ucb: 1.0 10 0.06615853 0.06554878 0.009930791 43630.18\n"
     ]
    }
   ],
   "source": [
    "arrs = {\n",
    "    'mves_er_mix' : mves_ei_mix,\n",
    "    'mves2': mves2,\n",
    "    'mves': mves,\n",
    "    'pdts*2': pdts_mix,\n",
    "    'pdts': pdts,\n",
    "    'er*2': mves_condense,\n",
    "    'mves_test': mves_test,\n",
    "    'mix_200': mix_200,\n",
    "    'mix_300': mix_300,\n",
    "    'er_shuffle': er_shuffle,\n",
    "    'er_noshuffle': er_noshuffle,\n",
    "    'hardmix_200': hardmix_200,\n",
    "    'er_cond_4': er_cond_4,\n",
    "       }\n",
    "for f in filenames:\n",
    "    print(f)\n",
    "    for k in arrs:\n",
    "        try:\n",
    "            arr = arrs[k][f][batch_idx]\n",
    "            arr_top = arr[:, ack_iter_idx, stat_idx]\n",
    "            print(k+':', arr.shape[0], np.mean(arr_top), np.median(arr_top), np.std(arr_top), np.max(arr_top), np.median(arr[:, ack_iter_idx, -5]))\n",
    "        except Exception as e:\n",
    "            pass\n",
    "\n",
    "    ucb_coeffs = [0.0, 0.5, 1.0, 2.0, 3.0]\n",
    "    for i in range(5):\n",
    "        try:\n",
    "            if len(ucb[i][f][batch_idx]) != 0:\n",
    "                arr = ucb[i][f][batch_idx]\n",
    "                arr_top = arr[:, ack_iter_idx, stat_idx]\n",
    "                print('ucb:', ucb_coeffs[i], arr.shape[0], np.mean(arr_top), np.median(arr_top), np.std(arr_top), np.median(arr[:, ack_iter_idx, 1]))\n",
    "        except Exception as e:\n",
    "            pass"
   ]
  },
  {
   "cell_type": "code",
   "execution_count": 266,
   "metadata": {
    "collapsed": true
   },
   "outputs": [],
   "source": [
    "batch_idx = 1\n",
    "ack_iter_idx = -1\n",
    "stat_idx = -4\n",
    "f = filenames[2]"
   ]
  },
  {
   "cell_type": "code",
   "execution_count": 233,
   "metadata": {},
   "outputs": [
    {
     "name": "stdout",
     "output_type": "stream",
     "text": [
      "[0.06097561 0.08536585 0.125      0.07926829 0.02134146]\n",
      "[0.15243903 0.04573171 0.1554878  0.12804878 0.         0.11585366\n",
      " 0.14329268 0.13719513 0.08841463 0.13719513]\n"
     ]
    }
   ],
   "source": [
    "print(mix_300[f][batch_idx][:, ack_iter_idx, stat_idx])\n",
    "print(ucb[0][f][batch_idx][:, ack_iter_idx, stat_idx])"
   ]
  },
  {
   "cell_type": "code",
   "execution_count": 232,
   "metadata": {},
   "outputs": [
    {
     "name": "stdout",
     "output_type": "stream",
     "text": [
      "GFI1_REF_R1_8mers.txt\n"
     ]
    },
    {
     "name": "stderr",
     "output_type": "stream",
     "text": [
      "/cluster/sj1/anaconda2/envs/py36/lib/python3.6/site-packages/scipy/stats/stats.py:1706: FutureWarning: Using a non-tuple sequence for multidimensional indexing is deprecated; use `arr[tuple(seq)]` instead of `arr[seq]`. In the future this will be interpreted as an array index, `arr[np.array(seq)]`, which will result either in an error or a different result.\n",
      "  return np.add.reduce(sorted[indexer] * weights, axis=axis) / sumval\n"
     ]
    },
    {
     "data": {
      "text/plain": [
       "<matplotlib.legend.Legend at 0x7f78963540f0>"
      ]
     },
     "execution_count": 232,
     "metadata": {},
     "output_type": "execute_result"
    },
    {
     "data": {
      "image/png": "[encoded data removed]",
      "text/plain": [
       "<Figure size 432x288 with 1 Axes>"
      ]
     },
     "metadata": {},
     "output_type": "display_data"
    }
   ],
   "source": [
    "print(f)\n",
    "t = 'mix_300'\n",
    "sns.distplot(getattr(sys.modules[__name__], t)[f][batch_idx][:, ack_iter_idx, stat_idx], label=t)\n",
    "sns.distplot(ucb[0][f][batch_idx][:, ack_iter_idx, stat_idx], label='er')\n",
    "sns.distplot(ucb[2][f][batch_idx][:, ack_iter_idx, stat_idx], label='ucb')\n",
    "plt.legend()"
   ]
  },
  {
   "cell_type": "code",
   "execution_count": 113,
   "metadata": {
    "collapsed": true
   },
   "outputs": [
    {
     "name": "stdout",
     "output_type": "stream",
     "text": [
      "reading sample 1\n",
      "reading sample 2\n",
      "reading sample 3\n",
      "reading sample 4\n",
      "reading sample 5\n",
      "reading sample 6\n",
      "reading sample 7\n",
      "reading sample 8\n",
      "reading sample 9\n",
      "reading sample 10\n"
     ]
    }
   ],
   "source": [
    "mves_condense_chemvae = cs.get_data_mves('/cluster/sj1/bb_opt', 'ei_cond_chemvae')"
   ]
  },
  {
   "cell_type": "code",
   "execution_count": 53,
   "metadata": {
    "collapsed": true
   },
   "outputs": [
    {
     "name": "stdout",
     "output_type": "stream",
     "text": [
      "reading sample 1\n",
      "reading sample 2\n",
      "reading sample 3\n",
      "reading sample 4\n",
      "reading sample 5\n",
      "reading sample 6\n",
      "reading sample 7\n",
      "reading sample 8\n",
      "reading sample 9\n",
      "reading sample 10\n"
     ]
    }
   ],
   "source": [
    "mves_chemvae = cs.get_data_mves('/cluster/sj1/bb_opt', 'chemvae_mves')"
   ]
  },
  {
   "cell_type": "code",
   "execution_count": 54,
   "metadata": {
    "collapsed": true
   },
   "outputs": [
    {
     "name": "stdout",
     "output_type": "stream",
     "text": [
      "reading sample 1\n",
      "reading sample 2\n",
      "reading sample 3\n",
      "reading sample 4\n",
      "reading sample 5\n",
      "reading sample 6\n",
      "reading sample 7\n",
      "reading sample 8\n",
      "reading sample 9\n",
      "reading sample 10\n"
     ]
    }
   ],
   "source": [
    "mves_chemvae_mix = cs.get_data_mves('/cluster/sj1/bb_opt', 'chemvae_mves_ei_mix')"
   ]
  },
  {
   "cell_type": "code",
   "execution_count": 48,
   "metadata": {
    "collapsed": true
   },
   "outputs": [
    {
     "name": "stdout",
     "output_type": "stream",
     "text": [
      "reading 0\n",
      "read 0 samples\n",
      "reading 1\n",
      "read 0 samples\n",
      "reading 2\n",
      "read 0 samples\n",
      "reading 3\n",
      "read 0 samples\n",
      "reading 4\n",
      "read 0 samples\n"
     ]
    }
   ],
   "source": [
    "ucb_chemvae = cs.get_data_ucb('/cluster/sj1/bb_opt', 'chemvae')"
   ]
  },
  {
   "cell_type": "code",
   "execution_count": 50,
   "metadata": {
    "collapsed": true
   },
   "outputs": [],
   "source": [
    "batch_idx = 1\n",
    "ack_iter_idx = -1\n",
    "stat_idx = -4\n",
    "f = 'chemvae'"
   ]
  },
  {
   "cell_type": "code",
   "execution_count": 55,
   "metadata": {},
   "outputs": [
    {
     "name": "stdout",
     "output_type": "stream",
     "text": [
      "ei*2: 10 0.004851644 0.0027221178 0.003809142 2.8603437\n",
      "mves_ei_mix: 10 0.0059743384 0.0041802125 0.005012029 2.8044257\n",
      "mves: 6 0.00020048115 0.00030624002 0.0 2.394831\n"
     ]
    }
   ],
   "source": [
    "try:\n",
    "    data = mves_condense_chemvae[f][batch_idx]\n",
    "    arr = data[:, ack_iter_idx, stat_idx]\n",
    "    print('ei*2:', data.shape[0], np.mean(arr), np.std(arr), np.median(arr), np.median(data[:, ack_iter_idx, -5]))\n",
    "except Exception as e:\n",
    "    print(e)\n",
    "    \n",
    "try:\n",
    "    data = mves_chemvae_mix[f][batch_idx]\n",
    "    arr = data[:, ack_iter_idx, stat_idx]\n",
    "    print('mves_ei_mix:', data.shape[0], np.mean(arr), np.std(arr), np.median(arr), np.median(data[:, ack_iter_idx, -5]))\n",
    "except Exception as e:\n",
    "    print(e)\n",
    "    \n",
    "try:\n",
    "    data = mves_chemvae[f][batch_idx]\n",
    "    arr = data[:, ack_iter_idx, stat_idx]\n",
    "    print('mves:', data.shape[0], np.mean(arr), np.std(arr), np.median(arr), np.median(data[:, ack_iter_idx, -5]))\n",
    "except Exception as e:\n",
    "    print(e)\n",
    "\n",
    "\n",
    "ucb_coeffs2 = [0.0, 0.5, 1.0]\n",
    "for i in range(len(ucb_coeffs2)):\n",
    "    try:\n",
    "        if len(ucb_chemvae[i][f][batch_idx]) != 0:\n",
    "            arr = ucb_chemvae[i][f][batch_idx][:, ack_iter_idx, stat_idx]\n",
    "            print('ucb:', ucb_coeffs2[i], ucb_chemvae[i][f][batch_idx].shape[0], np.mean(arr), np.std(arr), np.median(arr), np.median(ucb_chemvae[i][f][batch_idx][:, ack_iter_idx, -5]))\n",
    "    except Exception as e:\n",
    "        pass"
   ]
  },
  {
   "cell_type": "code",
   "execution_count": null,
   "metadata": {
    "collapsed": true
   },
   "outputs": [],
   "source": []
  }
 ],
 "metadata": {
  "kernelspec": {
   "display_name": "Python (py36)",
   "language": "python",
   "name": "py36"
  },
  "language_info": {
   "codemirror_mode": {
    "name": "ipython",
    "version": 3
   },
   "file_extension": ".py",
   "mimetype": "text/x-python",
   "name": "python",
   "nbconvert_exporter": "python",
   "pygments_lexer": "ipython3",
   "version": "3.6.6"
  }
 },
 "nbformat": 4,
 "nbformat_minor": 2
}
