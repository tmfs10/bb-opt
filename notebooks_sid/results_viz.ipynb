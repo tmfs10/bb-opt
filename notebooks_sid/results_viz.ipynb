{
 "cells": [
  {
   "cell_type": "code",
   "execution_count": 304,
   "metadata": {
    "collapsed": true
   },
   "outputs": [],
   "source": [
    "import sys\n",
    "sys.path.append('/cluster/sj1/bb_opt/scripts')"
   ]
  },
  {
   "cell_type": "code",
   "execution_count": 5,
   "metadata": {
    "collapsed": true
   },
   "outputs": [],
   "source": [
    "%load_ext autoreload\n",
    "%autoreload 2\n",
    "\n",
    "import torch\n",
    "import numpy as np\n",
    "import matplotlib.pyplot as plt\n",
    "import seaborn as sns\n",
    "import collect_stats as cs\n",
    "\n",
    "%matplotlib inline"
   ]
  },
  {
   "cell_type": "code",
   "execution_count": 6,
   "metadata": {
    "collapsed": true
   },
   "outputs": [],
   "source": [
    "import collect_stats as cs"
   ]
  },
  {
   "cell_type": "code",
   "execution_count": 3,
   "metadata": {
    "collapsed": true
   },
   "outputs": [],
   "source": [
    "filenames = [\n",
    "    'HOXC4_R158L_R1_8mers.txt',\n",
    "    'HOXD13_REF_R1_8mers.txt',\n",
    "    'GFI1_REF_R1_8mers.txt',\n",
    "    'HOXC4_R158L_R2_8mers.txt',\n",
    "    'PAX4_REF_R1_8mers.txt',\n",
    "    'OVOL2_D228E_R1_8mers.txt',\n",
    "    'POU3F4_V322M_R1_8mers.txt',\n",
    "    'KLF11_R402Q_R1_8mers.txt',\n",
    "    'HOXB7_R189C_R1_8mers.txt',\n",
    "    'CRX_R90W_R1_8mers.txt',\n",
    "]"
   ]
  },
  {
   "cell_type": "code",
   "execution_count": 176,
   "metadata": {},
   "outputs": [
    {
     "name": "stdout",
     "output_type": "stream",
     "text": [
      "reading sample 1\n",
      "reading sample 2\n",
      "reading sample 3\n"
     ]
    }
   ],
   "source": [
    "mves = cs.get_data_mves('/cluster/sj1/bb_opt', 'mves_1_')"
   ]
  },
  {
   "cell_type": "code",
   "execution_count": null,
   "metadata": {
    "collapsed": true
   },
   "outputs": [],
   "source": [
    "mves2 = cs.get_data_mves('/cluster/sj1/bb_opt', 'mves_2_')"
   ]
  },
  {
   "cell_type": "code",
   "execution_count": null,
   "metadata": {
    "collapsed": true
   },
   "outputs": [],
   "source": [
    "pdts = cs.get_data_mves('/cluster/sj1/bb_opt', 'pdts_dna_n')"
   ]
  },
  {
   "cell_type": "code",
   "execution_count": null,
   "metadata": {
    "collapsed": true
   },
   "outputs": [],
   "source": [
    "pdts_mix = cs.get_data_mves('/cluster/sj1/bb_opt', 'pdts_dna_cond_n')"
   ]
  },
  {
   "cell_type": "code",
   "execution_count": null,
   "metadata": {
    "collapsed": true
   },
   "outputs": [],
   "source": [
    "mves_ei_mix = cs.get_data_mves('/cluster/sj1/bb_opt', 'ei_mves_mix')"
   ]
  },
  {
   "cell_type": "code",
   "execution_count": null,
   "metadata": {
    "collapsed": true
   },
   "outputs": [],
   "source": [
    "mves_condense = cs.get_data_mves('/cluster/sj1/bb_opt', 'cond_ei_test')"
   ]
  },
  {
   "cell_type": "code",
   "execution_count": 334,
   "metadata": {},
   "outputs": [
    {
     "name": "stdout",
     "output_type": "stream",
     "text": [
      "reading sample 1\n",
      "reading sample 2\n",
      "reading sample 3\n",
      "reading sample 4\n",
      "reading sample 5\n",
      "reading sample 6\n",
      "reading sample 7\n",
      "reading sample 8\n",
      "reading sample 9\n",
      "reading sample 10\n",
      "reading sample 11\n",
      "reading sample 12\n",
      "reading sample 13\n",
      "reading sample 14\n",
      "reading sample 15\n",
      "reading sample 16\n"
     ]
    }
   ],
   "source": [
    "cut_mves = cs.get_data_mves('/cluster/sj1/bb_opt', 'cut_mves_1_', num_samples=20)"
   ]
  },
  {
   "cell_type": "code",
   "execution_count": 346,
   "metadata": {},
   "outputs": [
    {
     "name": "stdout",
     "output_type": "stream",
     "text": [
      "reading 0\n",
      "read 9 samples\n",
      "reading 1\n",
      "read 0 samples\n",
      "reading 2\n",
      "read 10 samples\n",
      "reading 3\n",
      "read 0 samples\n",
      "reading 4\n",
      "read 0 samples\n"
     ]
    }
   ],
   "source": [
    "ucb = cs.get_data_ucb('/cluster/sj1/bb_opt', 'n')"
   ]
  },
  {
   "cell_type": "code",
   "execution_count": 347,
   "metadata": {},
   "outputs": [
    {
     "name": "stdout",
     "output_type": "stream",
     "text": [
      "reading sample 1\n",
      "reading sample 2\n",
      "reading sample 3\n",
      "reading sample 4\n",
      "reading sample 5\n",
      "reading sample 6\n",
      "reading sample 7\n",
      "reading sample 8\n",
      "reading sample 9\n"
     ]
    }
   ],
   "source": [
    "er_pdts_mix = cs.get_data_mves('/cluster/sj1/bb_opt', 'er_pdts_mix_1_')"
   ]
  },
  {
   "cell_type": "code",
   "execution_count": null,
   "metadata": {
    "collapsed": true
   },
   "outputs": [],
   "source": [
    "mix_200 = cs.get_data_mves('/cluster/sj1/bb_opt', 'er_mves_mix_200_samples_')"
   ]
  },
  {
   "cell_type": "code",
   "execution_count": null,
   "metadata": {
    "collapsed": true
   },
   "outputs": [],
   "source": [
    "hardmix_200 = cs.get_data_mves('/cluster/sj1/bb_opt', 'er_mves_hardmix_200_samples_')"
   ]
  },
  {
   "cell_type": "code",
   "execution_count": 348,
   "metadata": {
    "collapsed": true
   },
   "outputs": [],
   "source": [
    "batch_idx = 1\n",
    "ack_iter_idx = -1\n",
    "stat_idx = -4"
   ]
  },
  {
   "cell_type": "code",
   "execution_count": 349,
   "metadata": {
    "scrolled": false
   },
   "outputs": [
    {
     "name": "stdout",
     "output_type": "stream",
     "text": [
      "HOXC4_R158L_R1_8mers.txt\n",
      "mves_er_mix: 3 0.16565041 0.17073171 0.014154871 0.17987806 68971.82\n",
      "mves2: 2 0.11890244 0.11890244 0.02743902 0.14634146 58559.36\n",
      "mves: 2 0.12804878 0.12804878 0.024390247 0.15243903 59612.258\n",
      "pdts*2: 10 0.12042682 0.12042683 0.017738037 0.14939025 67918.92\n",
      "pdts: 10 0.15365854 0.1554878 0.020686826 0.18597561 66866.02\n",
      "er*2: 5 0.16219512 0.16158536 0.021245426 0.19512194 66866.02\n",
      "mix_200: 4 0.15929878 0.16463414 0.013698324 0.17073171 66866.02\n",
      "hardmix_200: 9 0.1561653 0.16463415 0.012674995 0.16768293 68971.82\n",
      "er_pdts_mix: 9 0.14735773 0.14634146 0.018628359 0.17073171 68971.82\n",
      "cut_mves: 14 0.13436411 0.1402439 0.018454004 0.15853658 58559.36\n",
      "ucb: 0.0 9 0.1409214 0.14329268 0.008833608 68971.82\n",
      "ucb: 1.0 10 0.1582317 0.16006097 0.014001173 68971.82\n",
      "HOXD13_REF_R1_8mers.txt\n",
      "mves_er_mix: 3 0.16463415 0.17073171 0.010850686 0.17378049 149168.34\n",
      "mves: 2 0.12804878 0.12804878 0.0060975626 0.13414635 146556.81\n",
      "pdts*2: 10 0.11189024 0.11432926 0.015428757 0.1402439 158176.05\n",
      "pdts: 10 0.14695123 0.14634147 0.014221834 0.17378049 152974.0\n",
      "er*2: 5 0.14512195 0.13719513 0.015133752 0.16768293 146057.94\n",
      "mix_200: 4 0.14100611 0.1417683 0.010197477 0.15243903 160495.98\n",
      "hardmix_200: 5 0.1597561 0.16463415 0.011979806 0.17682926 163437.98\n",
      "er_pdts_mix: 9 0.14295393 0.14329268 0.014617514 0.16768293 161279.44\n",
      "cut_mves: 5 0.13353659 0.13109756 0.009327478 0.14939025 159712.53\n",
      "ucb: 0.0 4 0.14939025 0.14786586 0.011201937 155246.84\n",
      "ucb: 1.0 10 0.13506098 0.13414633 0.017086776 159712.53\n",
      "GFI1_REF_R1_8mers.txt\n",
      "mves_er_mix: 3 0.016260164 0.0030487804 0.018683717 0.042682927 153715.31\n",
      "mves: 2 0.050304875 0.050304875 0.0015243907 0.051829267 204534.62\n",
      "pdts*2: 10 0.024085365 0.015243903 0.027824193 0.08231708 209234.6\n",
      "pdts: 10 0.05457317 0.07317073 0.032335762 0.09146342 209234.6\n",
      "er*2: 5 0.046341468 0.05487805 0.027499935 0.08231708 187182.94\n",
      "mix_200: 5 0.08475609 0.07317073 0.021157745 0.11585366 218745.81\n",
      "hardmix_200: 9 0.061314363 0.076219514 0.045820702 0.12804878 203400.12\n",
      "er_pdts_mix: 9 0.06944445 0.076219514 0.0319687 0.11890244 203400.12\n",
      "cut_mves: 16 0.078887194 0.08689024 0.03929373 0.14939025 218745.81\n",
      "ucb: 0.0 9 0.07283198 0.08231708 0.034863632 231450.77\n",
      "ucb: 1.0 10 0.065853655 0.06097561 0.03414634 205032.6\n",
      "HOXC4_R158L_R2_8mers.txt\n",
      "mves_er_mix: 3 0.15345527 0.17073171 0.024432553 0.17073171 186546.17\n",
      "mves: 2 0.09146342 0.09146342 0.024390243 0.11585366 208114.55\n",
      "pdts*2: 10 0.10518293 0.103658535 0.014185841 0.13719513 197330.36\n",
      "pdts: 10 0.14420733 0.14786586 0.03478951 0.19512194 186546.17\n",
      "er*2: 5 0.13841464 0.14634146 0.012732081 0.15243903 186546.17\n",
      "mix_200: 3 0.14939024 0.13414635 0.023746591 0.18292683 186546.17\n",
      "hardmix_200: 5 0.14207318 0.14634146 0.012286245 0.1554878 186546.17\n",
      "er_pdts_mix: 9 0.12906504 0.13109756 0.017425232 0.14939025 208114.55\n",
      "cut_mves: 5 0.12134147 0.125 0.017396757 0.14634146 130231.24\n",
      "ucb: 0.0 4 0.1257622 0.125 0.0135276215 169172.89\n",
      "ucb: 1.0 10 0.14573172 0.15091464 0.029709583 186546.17\n",
      "PAX4_REF_R1_8mers.txt\n",
      "mves_er_mix: 3 0.11686992 0.112804875 0.020120924 0.14329268 528537.0\n",
      "mves: 2 0.09146342 0.09146342 0.018292684 0.1097561 528537.0\n",
      "pdts*2: 10 0.09390244 0.103658535 0.023725701 0.12804878 516584.56\n",
      "pdts: 10 0.13567074 0.14481707 0.021995638 0.16158536 517150.88\n",
      "er*2: 5 0.092073165 0.08841463 0.01606334 0.11890244 494828.8\n",
      "mix_200: 2 0.14176829 0.14176829 0.025914636 0.16768293 511682.9\n",
      "er_pdts_mix: 9 0.10365853 0.1097561 0.024726676 0.14329268 494828.8\n",
      "ucb: 0.0 4 0.11432926 0.102134146 0.023860482 505989.84\n",
      "ucb: 1.0 10 0.13628049 0.14329268 0.021387147 505989.84\n",
      "OVOL2_D228E_R1_8mers.txt\n",
      "mves_er_mix: 3 0.067073174 0.094512194 0.047688488 0.10670732 322937.0\n",
      "mves: 2 0.025914634 0.025914634 0.025914634 0.051829267 221426.06\n",
      "pdts*2: 10 0.037195124 0.024390245 0.041351173 0.11585366 177728.25\n",
      "pdts: 10 0.026829269 0.0 0.044386726 0.12804878 110814.98\n",
      "er*2: 5 0.026829269 0.0 0.05365854 0.13414635 110814.98\n",
      "mix_200: 2 0.0 0.0 0.0 0.0 107471.805\n",
      "er_pdts_mix: 9 0.03082656 0.018292682 0.034506317 0.094512194 210674.73\n",
      "ucb: 0.0 4 0.010670731 0.0121951215 0.007920964 170157.72\n",
      "ucb: 1.0 10 0.03597561 0.032012194 0.037110057 246324.0\n",
      "POU3F4_V322M_R1_8mers.txt\n",
      "mves_er_mix: 3 0.16869919 0.16463415 0.015209988 0.18902439 182196.48\n",
      "mves: 2 0.10670732 0.10670732 0.006097559 0.112804875 208771.16\n",
      "pdts*2: 10 0.12378049 0.13414633 0.023306726 0.14939025 236874.44\n",
      "pdts: 10 0.1432927 0.13719513 0.027675135 0.17682926 208771.16\n",
      "er*2: 5 0.15914634 0.16158536 0.015830195 0.17987806 237437.73\n",
      "mix_200: 2 0.12804878 0.12804878 0.009146344 0.13719513 260870.58\n",
      "er_pdts_mix: 9 0.14769648 0.14939025 0.014235707 0.16463415 182196.48\n",
      "ucb: 0.0 4 0.16996951 0.16768293 0.005854532 182196.48\n",
      "ucb: 1.0 10 0.15243903 0.14481708 0.032808047 237437.73\n",
      "KLF11_R402Q_R1_8mers.txt\n",
      "mves_er_mix: 3 0.037601624 0.036585364 0.018683717 0.06097561 58635.81\n",
      "mves: 2 0.048780486 0.048780486 0.0060975607 0.05487805 58068.133\n",
      "pdts*2: 10 0.040853657 0.038109757 0.01865495 0.07012195 58068.812\n",
      "pdts: 10 0.063109756 0.07317073 0.021987183 0.08841463 58876.59\n",
      "er*2: 5 0.06646341 0.067073174 0.011143699 0.076219514 58088.03\n",
      "mix_200: 2 0.0777439 0.0777439 0.025914634 0.103658535 58618.27\n",
      "er_pdts_mix: 5 0.07317074 0.085365854 0.032149818 0.10670732 57843.13\n",
      "ucb: 0.0 4 0.043445125 0.04420732 0.013179585 58359.95\n",
      "ucb: 1.0 10 0.06890245 0.07164635 0.026091576 58876.59\n",
      "HOXB7_R189C_R1_8mers.txt\n",
      "mves_er_mix: 3 0.07012195 0.07317073 0.006586118 0.076219514 36595.58\n",
      "mves: 2 0.019817073 0.019817073 0.0015243907 0.021341464 34212.977\n",
      "pdts*2: 8 0.03582317 0.032012194 0.017629625 0.067073174 36852.36\n",
      "pdts: 10 0.055792682 0.051829267 0.014814061 0.085365854 36852.36\n",
      "er*2: 5 0.07012195 0.076219514 0.012346622 0.08231708 36852.36\n",
      "mix_200: 2 0.06402439 0.06402439 0.00914634 0.07317073 36595.58\n",
      "er_pdts_mix: 5 0.07317074 0.07317073 0.01403764 0.094512194 36852.36\n",
      "ucb: 0.0 4 0.06402439 0.06402439 0.009641091 37010.863\n",
      "ucb: 1.0 10 0.06859756 0.06859756 0.008966733 36852.36\n",
      "CRX_R90W_R1_8mers.txt\n",
      "mves_er_mix: 3 0.06808943 0.06097561 0.014586076 0.08841463 44789.36\n",
      "mves: 2 0.032012194 0.032012194 0.00457317 0.036585364 43885.68\n",
      "pdts*2: 5 0.064634144 0.06402439 0.0059118043 0.07317073 43348.49\n",
      "pdts: 10 0.06402439 0.06554878 0.015958846 0.085365854 44236.344\n",
      "er*2: 5 0.07073171 0.07317073 0.008043235 0.08231708 44789.36\n",
      "mix_200: 2 0.083841465 0.083841465 0.0015243888 0.085365854 43078.812\n",
      "er_pdts_mix: 5 0.067073174 0.06402439 0.007950245 0.07926829 44789.36\n",
      "ucb: 0.0 4 0.0777439 0.074695125 0.010670731 43365.63\n",
      "ucb: 1.0 10 0.06615853 0.06554878 0.009930791 43630.18\n"
     ]
    }
   ],
   "source": [
    "arrs = {\n",
    "    'mves_er_mix' : mves_ei_mix,\n",
    "    'mves2': mves2,\n",
    "    'mves': mves,\n",
    "    'pdts*2': pdts_mix,\n",
    "    'pdts': pdts,\n",
    "    'er*2': mves_condense,\n",
    "    'mix_200': mix_200,\n",
    "    'hardmix_200': hardmix_200,\n",
    "    'er_pdts_mix': er_pdts_mix,\n",
    "    'cut_mves' : cut_mves,\n",
    "       }\n",
    "for f in filenames:\n",
    "    print(f)\n",
    "    for k in arrs:\n",
    "        try:\n",
    "            arr = arrs[k][f][batch_idx]\n",
    "            arr_top = arr[:, ack_iter_idx, stat_idx]\n",
    "            print(k+':', arr.shape[0], np.mean(arr_top), np.median(arr_top), np.std(arr_top), np.max(arr_top), np.median(arr[:, ack_iter_idx, -5]))\n",
    "        except Exception as e:\n",
    "            pass\n",
    "\n",
    "    ucb_coeffs = [0.0, 0.5, 1.0, 2.0, 3.0]\n",
    "    for i in range(5):\n",
    "        try:\n",
    "            if len(ucb[i][f][batch_idx]) != 0:\n",
    "                arr = ucb[i][f][batch_idx]\n",
    "                arr_top = arr[:, ack_iter_idx, stat_idx]\n",
    "                print('ucb:', ucb_coeffs[i], arr.shape[0], np.mean(arr_top), np.median(arr_top), np.std(arr_top), np.median(arr[:, ack_iter_idx, -5]))\n",
    "        except Exception as e:\n",
    "            pass"
   ]
  },
  {
   "cell_type": "code",
   "execution_count": 311,
   "metadata": {
    "collapsed": true
   },
   "outputs": [],
   "source": [
    "batch_idx = 1\n",
    "ack_iter_idx = -1\n",
    "stat_idx = -4\n",
    "f = filenames[2]\n",
    "t = 'cut_mves'"
   ]
  },
  {
   "cell_type": "code",
   "execution_count": 314,
   "metadata": {},
   "outputs": [
    {
     "name": "stdout",
     "output_type": "stream",
     "text": [
      "[0.08841463 0.12195122 0.         0.1097561  0.02439024 0.08536585\n",
      " 0.14939025 0.08231708 0.07317073 0.09146342 0.07317073 0.\n",
      " 0.08841463 0.09451219 0.07317073 0.10670732]\n",
      "[0.09146342 0.06707317 0.11890244 0.10670732 0.         0.08231708\n",
      " 0.05487805 0.09451219 0.03963415]\n"
     ]
    }
   ],
   "source": [
    "print(getattr(sys.modules[__name__], t)[f][batch_idx][:, ack_iter_idx, stat_idx])\n",
    "print(ucb[0][f][batch_idx][:, ack_iter_idx, stat_idx])"
   ]
  },
  {
   "cell_type": "code",
   "execution_count": 313,
   "metadata": {},
   "outputs": [
    {
     "name": "stdout",
     "output_type": "stream",
     "text": [
      "GFI1_REF_R1_8mers.txt\n"
     ]
    },
    {
     "name": "stderr",
     "output_type": "stream",
     "text": [
      "/cluster/sj1/anaconda2/envs/py36/lib/python3.6/site-packages/scipy/stats/stats.py:1706: FutureWarning: Using a non-tuple sequence for multidimensional indexing is deprecated; use `arr[tuple(seq)]` instead of `arr[seq]`. In the future this will be interpreted as an array index, `arr[np.array(seq)]`, which will result either in an error or a different result.\n",
      "  return np.add.reduce(sorted[indexer] * weights, axis=axis) / sumval\n"
     ]
    },
    {
     "data": {
      "text/plain": [
       "<matplotlib.legend.Legend at 0x7f7896179a20>"
      ]
     },
     "execution_count": 313,
     "metadata": {},
     "output_type": "execute_result"
    },
    {
     "data": {
      "image/png": "[encoded data removed]",
      "text/plain": [
       "<Figure size 432x288 with 1 Axes>"
      ]
     },
     "metadata": {},
     "output_type": "display_data"
    }
   ],
   "source": [
    "print(f)\n",
    "t = 'cut_mves'\n",
    "sns.distplot(getattr(sys.modules[__name__], t)[f][batch_idx][:, ack_iter_idx, stat_idx], label=t)\n",
    "sns.distplot(ucb[0][f][batch_idx][:, ack_iter_idx, stat_idx], label='er')\n",
    "sns.distplot(ucb[2][f][batch_idx][:, ack_iter_idx, stat_idx], label='ucb')\n",
    "plt.legend()"
   ]
  },
  {
   "cell_type": "code",
   "execution_count": 113,
   "metadata": {
    "collapsed": true
   },
   "outputs": [
    {
     "name": "stdout",
     "output_type": "stream",
     "text": [
      "reading sample 1\n",
      "reading sample 2\n",
      "reading sample 3\n",
      "reading sample 4\n",
      "reading sample 5\n",
      "reading sample 6\n",
      "reading sample 7\n",
      "reading sample 8\n",
      "reading sample 9\n",
      "reading sample 10\n"
     ]
    }
   ],
   "source": [
    "mves_condense_chemvae = cs.get_data_mves('/cluster/sj1/bb_opt', 'ei_cond_chemvae')"
   ]
  },
  {
   "cell_type": "code",
   "execution_count": 53,
   "metadata": {
    "collapsed": true
   },
   "outputs": [
    {
     "name": "stdout",
     "output_type": "stream",
     "text": [
      "reading sample 1\n",
      "reading sample 2\n",
      "reading sample 3\n",
      "reading sample 4\n",
      "reading sample 5\n",
      "reading sample 6\n",
      "reading sample 7\n",
      "reading sample 8\n",
      "reading sample 9\n",
      "reading sample 10\n"
     ]
    }
   ],
   "source": [
    "mves_chemvae = cs.get_data_mves('/cluster/sj1/bb_opt', 'chemvae_mves')"
   ]
  },
  {
   "cell_type": "code",
   "execution_count": 54,
   "metadata": {
    "collapsed": true
   },
   "outputs": [
    {
     "name": "stdout",
     "output_type": "stream",
     "text": [
      "reading sample 1\n",
      "reading sample 2\n",
      "reading sample 3\n",
      "reading sample 4\n",
      "reading sample 5\n",
      "reading sample 6\n",
      "reading sample 7\n",
      "reading sample 8\n",
      "reading sample 9\n",
      "reading sample 10\n"
     ]
    }
   ],
   "source": [
    "mves_chemvae_mix = cs.get_data_mves('/cluster/sj1/bb_opt', 'chemvae_mves_ei_mix')"
   ]
  },
  {
   "cell_type": "code",
   "execution_count": 48,
   "metadata": {
    "collapsed": true
   },
   "outputs": [
    {
     "name": "stdout",
     "output_type": "stream",
     "text": [
      "reading 0\n",
      "read 0 samples\n",
      "reading 1\n",
      "read 0 samples\n",
      "reading 2\n",
      "read 0 samples\n",
      "reading 3\n",
      "read 0 samples\n",
      "reading 4\n",
      "read 0 samples\n"
     ]
    }
   ],
   "source": [
    "ucb_chemvae = cs.get_data_ucb('/cluster/sj1/bb_opt', 'chemvae')"
   ]
  },
  {
   "cell_type": "code",
   "execution_count": 50,
   "metadata": {
    "collapsed": true
   },
   "outputs": [],
   "source": [
    "batch_idx = 1\n",
    "ack_iter_idx = -1\n",
    "stat_idx = -4\n",
    "f = 'chemvae'"
   ]
  },
  {
   "cell_type": "code",
   "execution_count": 55,
   "metadata": {},
   "outputs": [
    {
     "name": "stdout",
     "output_type": "stream",
     "text": [
      "ei*2: 10 0.004851644 0.0027221178 0.003809142 2.8603437\n",
      "mves_ei_mix: 10 0.0059743384 0.0041802125 0.005012029 2.8044257\n",
      "mves: 6 0.00020048115 0.00030624002 0.0 2.394831\n"
     ]
    }
   ],
   "source": [
    "try:\n",
    "    data = mves_condense_chemvae[f][batch_idx]\n",
    "    arr = data[:, ack_iter_idx, stat_idx]\n",
    "    print('ei*2:', data.shape[0], np.mean(arr), np.std(arr), np.median(arr), np.median(data[:, ack_iter_idx, -5]))\n",
    "except Exception as e:\n",
    "    print(e)\n",
    "    \n",
    "try:\n",
    "    data = mves_chemvae_mix[f][batch_idx]\n",
    "    arr = data[:, ack_iter_idx, stat_idx]\n",
    "    print('mves_ei_mix:', data.shape[0], np.mean(arr), np.std(arr), np.median(arr), np.median(data[:, ack_iter_idx, -5]))\n",
    "except Exception as e:\n",
    "    print(e)\n",
    "     p\n",
    "try:\n",
    "    data= mves_chemvae[f][batch_idx]\n",
    "    arr = data[:, ack_iter_idx, stat_idx]\n",
    "    print('mves:', data.shape[0], np.mean(arr), np.std(arr), np.median(arr), np.median(data[:, ack_iter_idx, -5]))\n",
    "except Exception as e:\n",
    "    print(e)\n",
    "\n",
    "\n",
    "ucb_coeffs2 = [0.0, 0.5, 1.0]\n",
    "for i in range(len(ucb_coeffs2)):\n",
    "    try:\n",
    "        if len(ucb_chemvae[i][f][batch_idx]) != 0:\n",
    "            arr = ucb_chemvae[i][f][batch_idx][:, ack_iter_idx, stat_idx]\n",
    "            print('ucb:', ucb_coeffs2[i], ucb_chemvae[i][f][batch_idx].shape[0], np.mean(arr), np.std(arr), np.median(arr), np.median(ucb_chemvae[i][f][batch_idx][:, ack_iter_idx, -5]))\n",
    "    except Exception as e:\n",
    "        pass"
   ]
  },
  {
   "cell_type": "code",
   "execution_count": null,
   "metadata": {
    "collapsed": true
   },
   "outputs": [],
   "source": []
  }
 ],
 "metadata": {
  "kernelspec": {
   "display_name": "Python (py36)",
   "language": "python",
   "name": "py36"
  },
  "language_info": {
   "codemirror_mode": {
    "name": "ipython",
    "version": 3
   },
   "file_extension": ".py",
   "mimetype": "text/x-python",
   "name": "python",
   "nbconvert_exporter": "python",
   "pygments_lexer": "ipython3",
   "version": "3.6.6"
  }
 },
 "nbformat": 4,
 "nbformat_minor": 2
}
