{
 "cells": [
  {
   "cell_type": "code",
   "execution_count": 1,
   "metadata": {
    "collapsed": true
   },
   "outputs": [],
   "source": [
    "import sys\n",
    "sys.path.append('/cluster/sj1/bb_opt/scripts')"
   ]
  },
  {
   "cell_type": "code",
   "execution_count": 2,
   "metadata": {},
   "outputs": [],
   "source": [
    "%load_ext autoreload\n",
    "%autoreload 2\n",
    "\n",
    "import torch\n",
    "import numpy as np\n",
    "import matplotlib.pyplot as plt\n",
    "import seaborn as sns\n",
    "import collect_stats as cs\n",
    "\n",
    "%matplotlib inline"
   ]
  },
  {
   "cell_type": "code",
   "execution_count": 33,
   "metadata": {
    "collapsed": true
   },
   "outputs": [],
   "source": [
    "import collect_stats as cs"
   ]
  },
  {
   "cell_type": "code",
   "execution_count": 23,
   "metadata": {},
   "outputs": [],
   "source": [
    "filenames = [\n",
    "    'HOXC4_R158L_R1_8mers.txt',\n",
    "    'HOXD13_REF_R1_8mers.txt',\n",
    "    'GFI1_REF_R1_8mers.txt',\n",
    "    'HOXC4_R158L_R2_8mers.txt',\n",
    "    'PAX4_REF_R1_8mers.txt',\n",
    "    'OVOL2_D228E_R1_8mers.txt',\n",
    "    'POU3F4_V322M_R1_8mers.txt',\n",
    "    'KLF11_R402Q_R1_8mers.txt',\n",
    "    'HOXB7_R189C_R1_8mers.txt',\n",
    "    'CRX_R90W_R1_8mers.txt',\n",
    "]"
   ]
  },
  {
   "cell_type": "code",
   "execution_count": null,
   "metadata": {
    "collapsed": true
   },
   "outputs": [],
   "source": [
    "mves_condense_compare_w_old = cs.get_data_mves('/cluster/sj1/bb_opt', 'e')"
   ]
  },
  {
   "cell_type": "code",
   "execution_count": 5,
   "metadata": {
    "scrolled": true
   },
   "outputs": [
    {
     "name": "stdout",
     "output_type": "stream",
     "text": [
      "reading /cluster/sj1/bb_opt/output_n1/HOXC4_R158L_R1_8mers.txt\n",
      "reading /cluster/sj1/bb_opt/output_n1/HOXD13_REF_R1_8mers.txt\n",
      "reading /cluster/sj1/bb_opt/output_n2/HOXC4_R158L_R1_8mers.txt\n",
      "reading /cluster/sj1/bb_opt/output_n2/HOXD13_REF_R1_8mers.txt\n",
      "reading /cluster/sj1/bb_opt/output_n2/GFI1_REF_R1_8mers.txt\n",
      "reading /cluster/sj1/bb_opt/output_n3/HOXC4_R158L_R1_8mers.txt\n",
      "reading /cluster/sj1/bb_opt/output_n3/HOXD13_REF_R1_8mers.txt\n",
      "reading /cluster/sj1/bb_opt/output_n3/GFI1_REF_R1_8mers.txt\n",
      "reading /cluster/sj1/bb_opt/output_n4/HOXC4_R158L_R1_8mers.txt\n",
      "reading /cluster/sj1/bb_opt/output_n4/HOXD13_REF_R1_8mers.txt\n",
      "reading /cluster/sj1/bb_opt/output_n4/GFI1_REF_R1_8mers.txt\n",
      "reading /cluster/sj1/bb_opt/output_n5/HOXC4_R158L_R1_8mers.txt\n",
      "reading /cluster/sj1/bb_opt/output_n5/HOXD13_REF_R1_8mers.txt\n",
      "reading /cluster/sj1/bb_opt/output_n5/GFI1_REF_R1_8mers.txt\n",
      "reading /cluster/sj1/bb_opt/output_n6/HOXC4_R158L_R1_8mers.txt\n",
      "reading /cluster/sj1/bb_opt/output_n6/HOXD13_REF_R1_8mers.txt\n",
      "reading /cluster/sj1/bb_opt/output_n6/GFI1_REF_R1_8mers.txt\n",
      "reading /cluster/sj1/bb_opt/output_n7/HOXC4_R158L_R1_8mers.txt\n",
      "reading /cluster/sj1/bb_opt/output_n7/HOXD13_REF_R1_8mers.txt\n",
      "reading /cluster/sj1/bb_opt/output_n7/GFI1_REF_R1_8mers.txt\n",
      "reading /cluster/sj1/bb_opt/output_n8/HOXC4_R158L_R1_8mers.txt\n",
      "reading /cluster/sj1/bb_opt/output_n8/HOXD13_REF_R1_8mers.txt\n",
      "reading /cluster/sj1/bb_opt/output_n8/GFI1_REF_R1_8mers.txt\n"
     ]
    }
   ],
   "source": [
    "mves = cs.get_data_mves('/cluster/sj1/bb_opt', 'n')"
   ]
  },
  {
   "cell_type": "code",
   "execution_count": 40,
   "metadata": {
    "scrolled": true
   },
   "outputs": [
    {
     "name": "stdout",
     "output_type": "stream",
     "text": [
      "reading sample 1\n",
      "reading sample 2\n",
      "reading sample 3\n",
      "reading sample 4\n",
      "reading sample 5\n",
      "reading sample 6\n",
      "reading sample 7\n",
      "reading sample 8\n",
      "reading sample 9\n",
      "reading sample 10\n"
     ]
    }
   ],
   "source": [
    "mves_condense = cs.get_data_mves('/cluster/sj1/bb_opt', 'f')"
   ]
  },
  {
   "cell_type": "code",
   "execution_count": 41,
   "metadata": {
    "scrolled": true
   },
   "outputs": [
    {
     "name": "stdout",
     "output_type": "stream",
     "text": [
      "reading sample 1\n",
      "reading sample 2\n",
      "reading sample 3\n",
      "reading sample 4\n",
      "reading sample 5\n",
      "reading sample 6\n",
      "reading sample 7\n",
      "reading sample 8\n",
      "reading sample 9\n",
      "reading sample 10\n"
     ]
    }
   ],
   "source": [
    "mves_ei_mix = cs.get_data_mves('/cluster/sj1/bb_opt', 'ei_mves_mix')"
   ]
  },
  {
   "cell_type": "code",
   "execution_count": 42,
   "metadata": {},
   "outputs": [
    {
     "name": "stdout",
     "output_type": "stream",
     "text": [
      "reading 0\n",
      "read 10 samples\n",
      "reading 1\n",
      "read 10 samples\n",
      "reading 2\n",
      "read 10 samples\n",
      "reading 3\n",
      "read 10 samples\n",
      "reading 4\n",
      "read 8 samples\n"
     ]
    }
   ],
   "source": [
    "ucb = cs.get_data_ucb('/cluster/sj1/bb_opt')"
   ]
  },
  {
   "cell_type": "code",
   "execution_count": 45,
   "metadata": {
    "collapsed": true
   },
   "outputs": [],
   "source": [
    "batch_idx = 3\n",
    "ack_iter_idx = 19\n",
    "stat_idx = -3"
   ]
  },
  {
   "cell_type": "code",
   "execution_count": 46,
   "metadata": {
    "scrolled": false
   },
   "outputs": [
    {
     "name": "stdout",
     "output_type": "stream",
     "text": [
      "HOXC4_R158L_R1_8mers.txt\n",
      "mves_ei_mix: 10 0.16423358 0.019441897 0.17001218\n",
      "mves_condense: 10 0.13375913 0.009456438 0.1335158\n",
      "ucb: 0.0 10 0.12761557 0.0063260347 0.12591241\n",
      "ucb: 0.5 10 0.12214111 0.0045745997 0.123783454\n",
      "ucb: 1.0 10 0.12682481 0.008354616 0.12712896\n",
      "ucb: 2.0 10 0.12487835 0.0068443497 0.12469587\n",
      "ucb: 3.0 8 0.11777677 0.007572549 0.11709246\n",
      "HOXD13_REF_R1_8mers.txt\n",
      "mves_ei_mix: 10 0.17086375 0.019860726 0.17883211\n",
      "mves_condense: 10 0.13059612 0.01566476 0.13412409\n",
      "ucb: 0.0 10 0.12329684 0.007269048 0.12621655\n",
      "ucb: 0.5 10 0.12049878 0.005683038 0.11739659\n",
      "ucb: 1.0 10 0.123236015 0.0071879174 0.123783454\n",
      "ucb: 2.0 10 0.12445257 0.0057525975 0.125\n",
      "ucb: 3.0 8 0.11861314 0.005865968 0.117700726\n",
      "GFI1_REF_R1_8mers.txt\n",
      "mves_ei_mix: 10 0.1276764 0.022326916 0.13625303\n",
      "mves_condense: 10 0.09635036 0.014740289 0.09854014\n",
      "ucb: 0.0 10 0.09166666 0.008419907 0.09184915\n",
      "ucb: 0.5 10 0.08643552 0.008108297 0.08576642\n",
      "ucb: 1.0 10 0.08613139 0.0078427065 0.08424574\n",
      "ucb: 2.0 10 0.08941605 0.009792998 0.08819951\n",
      "ucb: 3.0 8 0.08569039 0.009262121 0.08211679\n",
      "HOXC4_R158L_R2_8mers.txt\n",
      "mves_ei_mix: 10 0.14026764 0.012202499 0.14051095\n",
      "mves_condense: 10 0.123600975 0.012030271 0.1207421\n",
      "ucb: 0.0 10 0.10626521 0.01222325 0.11009733\n",
      "ucb: 0.5 10 0.114294395 0.0063648103 0.115571775\n",
      "ucb: 1.0 10 0.11009733 0.010009735 0.11253041\n",
      "ucb: 2.0 8 0.114811435 0.0072531872 0.11192214\n",
      "ucb: 3.0 4 0.10371046 0.0033730362 0.10218978\n",
      "PAX4_REF_R1_8mers.txt\n",
      "mves_ei_mix: 10 0.14416058 0.009548135 0.14385645\n",
      "mves_condense: 8 0.13222325 0.015721044 0.12986618\n",
      "ucb: 0.0 10 0.10644768 0.0066466136 0.10431874\n",
      "ucb: 0.5 10 0.11441606 0.012916163 0.11739659\n",
      "ucb: 1.0 10 0.113442816 0.0089861825 0.11253041\n",
      "ucb: 2.0 8 0.113746956 0.007682072 0.11283454\n",
      "ucb: 3.0 4 0.11405109 0.003559823 0.11435523\n",
      "OVOL2_D228E_R1_8mers.txt\n",
      "mves_ei_mix: 8 0.09808394 0.008509022 0.09671533\n",
      "mves_condense: 6 0.074614756 0.0125726005 0.07208029\n",
      "ucb: 0.0 10 0.06490268 0.009364434 0.062043793\n",
      "ucb: 0.5 10 0.06757908 0.01141042 0.06265207\n",
      "ucb: 1.0 7 0.06508516 0.011614206 0.06934307\n",
      "ucb: 2.0 5 0.06958638 0.014376865 0.07055961\n",
      "ucb: 3.0 4 0.06721412 0.013509264 0.06508516\n",
      "POU3F4_V322M_R1_8mers.txt\n",
      "mves_ei_mix: 8 0.17031631 0.010770031 0.16940388\n",
      "mves_condense: 6 0.13017033 0.0050770403 0.13047445\n",
      "ucb: 0.0 8 0.12005779 0.009626946 0.12104623\n",
      "ucb: 0.5 8 0.1297141 0.005177019 0.13138686\n",
      "ucb: 1.0 7 0.11982968 0.0072191753 0.11861314\n",
      "ucb: 2.0 5 0.12238443 0.004132672 0.1216545\n",
      "ucb: 3.0 4 0.1207421 0.00068006973 0.1207421\n",
      "KLF11_R402Q_R1_8mers.txt\n",
      "mves_ei_mix: 8 0.114887476 0.015389528 0.117700726\n",
      "mves_condense: 6 0.08171127 0.007488315 0.08181265\n",
      "ucb: 0.0 8 0.087591246 0.009491781 0.08972019\n",
      "ucb: 0.5 8 0.07831509 0.016949287 0.08090024\n",
      "ucb: 1.0 7 0.06969065 0.012337405 0.06934307\n",
      "ucb: 2.0 4 0.08424574 0.005397883 0.085158154\n",
      "ucb: 3.0 4 0.07147202 0.0066702277 0.07420924\n",
      "HOXB7_R189C_R1_8mers.txt\n",
      "mves_ei_mix: 8 0.11253041 0.0061882576 0.111618005\n",
      "mves_condense: 6 0.07948094 0.005946018 0.081204385\n",
      "ucb: 0.0 8 0.07489355 0.007968355 0.07694647\n",
      "ucb: 0.5 8 0.07542579 0.008825193 0.07451338\n",
      "ucb: 1.0 7 0.067170665 0.008656525 0.064476885\n",
      "ucb: 2.0 4 0.07664234 0.005818469 0.0763382\n",
      "ucb: 3.0 4 0.069190994 0.009268674 0.06995134\n",
      "CRX_R90W_R1_8mers.txt\n",
      "mves_ei_mix: 8 0.13085462 0.0046864357 0.13138686\n",
      "mves_condense: 6 0.10188565 0.004668928 0.10006083\n",
      "ucb: 0.0 8 0.09846412 0.00695826 0.09641119\n",
      "ucb: 0.5 8 0.09382603 0.006088425 0.095498785\n",
      "ucb: 1.0 7 0.08750435 0.0040534935 0.08819951\n",
      "ucb: 2.0 4 0.09686739 0.006178908 0.09580292\n",
      "ucb: 3.0 4 0.08972019 0.004741016 0.08819951\n"
     ]
    }
   ],
   "source": [
    "for f in filenames:\n",
    "    print(f)\n",
    "    try:\n",
    "        arr = mves_ei_mix[f][batch_idx][:, ack_iter_idx, stat_idx]\n",
    "        print('mves_ei_mix:', mves_ei_mix[f][batch_idx].shape[0], np.mean(arr), np.std(arr), np.median(arr))\n",
    "    except Exception as e:\n",
    "        pass\n",
    "    \n",
    "    try:\n",
    "        arr = mves_condense[f][batch_idx][:, ack_iter_idx, stat_idx]\n",
    "        print('mves_condense:', mves_condense[f][batch_idx].shape[0], np.mean(arr), np.std(arr), np.median(arr))\n",
    "    except Exception as e:\n",
    "        pass\n",
    "    \n",
    "    ucb_coeffs = [0.0, 0.5, 1.0, 2.0, 3.0]\n",
    "    for i in range(5):\n",
    "        try:\n",
    "            if len(ucb[i][f][batch_idx]) != 0:\n",
    "                arr = ucb[i][f][batch_idx][:, ack_iter_idx, stat_idx]\n",
    "                print('ucb:', ucb_coeffs[i], ucb[i][f][batch_idx].shape[0], np.mean(arr), np.std(arr), np.median(arr))\n",
    "        except Exception as e:\n",
    "            pass"
   ]
  },
  {
   "cell_type": "code",
   "execution_count": null,
   "metadata": {
    "collapsed": true
   },
   "outputs": [],
   "source": []
  }
 ],
 "metadata": {
  "kernelspec": {
   "display_name": "Python (py36)",
   "language": "python",
   "name": "py36"
  },
  "language_info": {
   "codemirror_mode": {
    "name": "ipython",
    "version": 3
   },
   "file_extension": ".py",
   "mimetype": "text/x-python",
   "name": "python",
   "nbconvert_exporter": "python",
   "pygments_lexer": "ipython3",
   "version": "3.6.6"
  }
 },
 "nbformat": 4,
 "nbformat_minor": 2
}
