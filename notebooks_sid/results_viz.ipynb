{
 "cells": [
  {
   "cell_type": "code",
   "execution_count": 188,
   "metadata": {
    "collapsed": true
   },
   "outputs": [],
   "source": [
    "import sys\n",
    "sys.path.append('/cluster/sj1/bb_opt/scripts')"
   ]
  },
  {
   "cell_type": "code",
   "execution_count": 189,
   "metadata": {},
   "outputs": [
    {
     "name": "stdout",
     "output_type": "stream",
     "text": [
      "The autoreload extension is already loaded. To reload it, use:\n",
      "  %reload_ext autoreload\n"
     ]
    }
   ],
   "source": [
    "%load_ext autoreload\n",
    "%autoreload 2\n",
    "\n",
    "import torch\n",
    "import numpy as np\n",
    "import matplotlib.pyplot as plt\n",
    "import seaborn as sns\n",
    "import collect_stats as cs\n",
    "\n",
    "%matplotlib inline"
   ]
  },
  {
   "cell_type": "code",
   "execution_count": 187,
   "metadata": {
    "collapsed": true
   },
   "outputs": [],
   "source": [
    "import collect_stats as cs"
   ]
  },
  {
   "cell_type": "code",
   "execution_count": 25,
   "metadata": {
    "collapsed": true
   },
   "outputs": [],
   "source": [
    "filenames = [\n",
    "    'HOXC4_R158L_R1_8mers.txt',\n",
    "    'HOXD13_REF_R1_8mers.txt',\n",
    "    'GFI1_REF_R1_8mers.txt',\n",
    "    'HOXC4_R158L_R2_8mers.txt',\n",
    "    'PAX4_REF_R1_8mers.txt',\n",
    "    'OVOL2_D228E_R1_8mers.txt',\n",
    "    'POU3F4_V322M_R1_8mers.txt',\n",
    "    'KLF11_R402Q_R1_8mers.txt',\n",
    "    'HOXB7_R189C_R1_8mers.txt',\n",
    "    'CRX_R90W_R1_8mers.txt',\n",
    "]"
   ]
  },
  {
   "cell_type": "code",
   "execution_count": null,
   "metadata": {
    "collapsed": true
   },
   "outputs": [],
   "source": [
    "mves_condense_compare_w_old = cs.get_data_mves('/cluster/sj1/bb_opt', 'e')"
   ]
  },
  {
   "cell_type": "code",
   "execution_count": 5,
   "metadata": {
    "scrolled": true
   },
   "outputs": [
    {
     "name": "stdout",
     "output_type": "stream",
     "text": [
      "reading /cluster/sj1/bb_opt/output_n1/HOXC4_R158L_R1_8mers.txt\n",
      "reading /cluster/sj1/bb_opt/output_n1/HOXD13_REF_R1_8mers.txt\n",
      "reading /cluster/sj1/bb_opt/output_n2/HOXC4_R158L_R1_8mers.txt\n",
      "reading /cluster/sj1/bb_opt/output_n2/HOXD13_REF_R1_8mers.txt\n",
      "reading /cluster/sj1/bb_opt/output_n2/GFI1_REF_R1_8mers.txt\n",
      "reading /cluster/sj1/bb_opt/output_n3/HOXC4_R158L_R1_8mers.txt\n",
      "reading /cluster/sj1/bb_opt/output_n3/HOXD13_REF_R1_8mers.txt\n",
      "reading /cluster/sj1/bb_opt/output_n3/GFI1_REF_R1_8mers.txt\n",
      "reading /cluster/sj1/bb_opt/output_n4/HOXC4_R158L_R1_8mers.txt\n",
      "reading /cluster/sj1/bb_opt/output_n4/HOXD13_REF_R1_8mers.txt\n",
      "reading /cluster/sj1/bb_opt/output_n4/GFI1_REF_R1_8mers.txt\n",
      "reading /cluster/sj1/bb_opt/output_n5/HOXC4_R158L_R1_8mers.txt\n",
      "reading /cluster/sj1/bb_opt/output_n5/HOXD13_REF_R1_8mers.txt\n",
      "reading /cluster/sj1/bb_opt/output_n5/GFI1_REF_R1_8mers.txt\n",
      "reading /cluster/sj1/bb_opt/output_n6/HOXC4_R158L_R1_8mers.txt\n",
      "reading /cluster/sj1/bb_opt/output_n6/HOXD13_REF_R1_8mers.txt\n",
      "reading /cluster/sj1/bb_opt/output_n6/GFI1_REF_R1_8mers.txt\n",
      "reading /cluster/sj1/bb_opt/output_n7/HOXC4_R158L_R1_8mers.txt\n",
      "reading /cluster/sj1/bb_opt/output_n7/HOXD13_REF_R1_8mers.txt\n",
      "reading /cluster/sj1/bb_opt/output_n7/GFI1_REF_R1_8mers.txt\n",
      "reading /cluster/sj1/bb_opt/output_n8/HOXC4_R158L_R1_8mers.txt\n",
      "reading /cluster/sj1/bb_opt/output_n8/HOXD13_REF_R1_8mers.txt\n",
      "reading /cluster/sj1/bb_opt/output_n8/GFI1_REF_R1_8mers.txt\n"
     ]
    }
   ],
   "source": [
    "mves = cs.get_data_mves('/cluster/sj1/bb_opt', 'n')"
   ]
  },
  {
   "cell_type": "code",
   "execution_count": 279,
   "metadata": {
    "scrolled": true
   },
   "outputs": [
    {
     "name": "stdout",
     "output_type": "stream",
     "text": [
      "reading sample 1\n",
      "reading sample 2\n",
      "reading sample 3\n",
      "reading sample 4\n",
      "reading sample 5\n",
      "reading sample 6\n",
      "reading sample 7\n",
      "reading sample 8\n",
      "reading sample 9\n",
      "reading sample 10\n"
     ]
    }
   ],
   "source": [
    "mves_condense = cs.get_data_mves('/cluster/sj1/bb_opt', 'f')"
   ]
  },
  {
   "cell_type": "code",
   "execution_count": 280,
   "metadata": {},
   "outputs": [
    {
     "name": "stdout",
     "output_type": "stream",
     "text": [
      "reading sample 1\n",
      "reading sample 2\n",
      "reading sample 3\n",
      "reading sample 4\n",
      "reading sample 5\n",
      "reading sample 6\n",
      "reading sample 7\n",
      "reading sample 9\n",
      "reading sample 10\n"
     ]
    }
   ],
   "source": [
    "mves = cs.get_data_mves('/cluster/sj1/bb_opt', 'mves')"
   ]
  },
  {
   "cell_type": "code",
   "execution_count": 272,
   "metadata": {},
   "outputs": [
    {
     "name": "stdout",
     "output_type": "stream",
     "text": [
      "reading sample 1\n",
      "reading sample 2\n",
      "reading sample 3\n",
      "reading sample 4\n",
      "reading sample 5\n",
      "reading sample 6\n",
      "reading sample 7\n",
      "reading sample 8\n",
      "reading sample 9\n",
      "reading sample 10\n"
     ]
    }
   ],
   "source": [
    "pdts = cs.get_data_mves('/cluster/sj1/bb_opt', 'pdts_dna_n')"
   ]
  },
  {
   "cell_type": "code",
   "execution_count": 253,
   "metadata": {},
   "outputs": [
    {
     "name": "stdout",
     "output_type": "stream",
     "text": [
      "reading sample 1\n",
      "reading sample 2\n",
      "reading sample 3\n",
      "reading sample 4\n",
      "reading sample 5\n",
      "reading sample 6\n",
      "reading sample 7\n",
      "reading sample 8\n",
      "reading sample 9\n",
      "reading sample 10\n"
     ]
    }
   ],
   "source": [
    "pdts_mix = cs.get_data_mves('/cluster/sj1/bb_opt', 'pdts_dna_cond_n')"
   ]
  },
  {
   "cell_type": "code",
   "execution_count": 130,
   "metadata": {},
   "outputs": [
    {
     "name": "stdout",
     "output_type": "stream",
     "text": [
      "reading sample 1\n",
      "reading sample 2\n",
      "reading sample 3\n",
      "reading sample 4\n",
      "reading sample 5\n",
      "reading sample 6\n",
      "reading sample 7\n",
      "reading sample 8\n",
      "reading sample 9\n",
      "reading sample 10\n"
     ]
    }
   ],
   "source": [
    "mves_ei_mix = cs.get_data_mves('/cluster/sj1/bb_opt', 'ei_mves_mix')"
   ]
  },
  {
   "cell_type": "code",
   "execution_count": 55,
   "metadata": {},
   "outputs": [
    {
     "name": "stdout",
     "output_type": "stream",
     "text": [
      "reading 0\n",
      "read 10 samples\n",
      "reading 1\n",
      "read 10 samples\n",
      "reading 2\n",
      "read 10 samples\n",
      "reading 3\n",
      "read 10 samples\n",
      "reading 4\n",
      "read 10 samples\n"
     ]
    }
   ],
   "source": [
    "ucb = cs.get_data_ucb('/cluster/sj1/bb_opt', 'n')"
   ]
  },
  {
   "cell_type": "code",
   "execution_count": 247,
   "metadata": {
    "collapsed": true
   },
   "outputs": [],
   "source": [
    "batch_idx = 1\n",
    "ack_iter_idx = -1\n",
    "stat_idx = -4"
   ]
  },
  {
   "cell_type": "code",
   "execution_count": 273,
   "metadata": {},
   "outputs": [
    {
     "name": "stdout",
     "output_type": "stream",
     "text": [
      "HOXC4_R158L_R1_8mers.txt\n",
      "pdts*2: 10 0.12042682 0.017738037 67918.92\n",
      "pdts: 10 0.15365854 0.020686826 66866.02\n",
      "ei*2: 10 0.15304878 0.015771361 68971.82\n",
      "ucb: 0.0 10 0.104573175 0.014688036 0.10060975\n",
      "ucb: 0.5 10 0.10579269 0.02177478 0.10670732\n",
      "ucb: 1.0 10 0.09390243 0.019701824 0.085365854\n",
      "ucb: 2.0 10 0.1015244 0.02194487 0.09146342\n",
      "ucb: 3.0 10 0.10121951 0.012702846 0.09908536\n",
      "HOXD13_REF_R1_8mers.txt\n",
      "pdts*2: 10 0.11189024 0.015428757 158176.05\n",
      "pdts: 10 0.14695123 0.014221834 152974.0\n",
      "ei*2: 10 0.13932927 0.0143033 159539.25\n",
      "ucb: 0.0 10 0.09603658 0.013095567 0.092987806\n",
      "ucb: 0.5 10 0.09908537 0.010316418 0.09756097\n",
      "ucb: 1.0 10 0.08810976 0.015750721 0.09146342\n",
      "ucb: 2.0 10 0.08384146 0.019294228 0.07926829\n",
      "ucb: 3.0 10 0.08871951 0.008563764 0.08841463\n",
      "GFI1_REF_R1_8mers.txt\n",
      "pdts*2: 10 0.024085365 0.027824193 209234.6\n",
      "pdts: 10 0.05457317 0.032335762 209234.6\n",
      "ei*2: 10 0.069817066 0.043362405 204043.16\n",
      "ucb: 0.0 10 0.02378049 0.025718411 0.013719512\n",
      "ucb: 0.5 10 0.03628049 0.0262071 0.042682927\n",
      "ucb: 1.0 10 0.03902439 0.029896708 0.04573171\n",
      "ucb: 2.0 10 0.039634146 0.025507927 0.048780486\n",
      "ucb: 3.0 10 0.035365853 0.025876947 0.032012194\n",
      "HOXC4_R158L_R2_8mers.txt\n",
      "pdts*2: 10 0.10518293 0.014185841 197330.36\n",
      "pdts: 10 0.14420733 0.03478951 186546.17\n",
      "ei*2: 10 0.120121956 0.016258892 186546.17\n",
      "ucb: 0.0 10 0.09756098 0.024918068 0.102134146\n",
      "ucb: 0.5 10 0.10182927 0.024168197 0.1097561\n",
      "ucb: 1.0 10 0.082926825 0.024267985 0.08689024\n",
      "ucb: 2.0 10 0.08689024 0.022289483 0.092987806\n",
      "ucb: 3.0 9 0.08231708 0.018179415 0.09146342\n",
      "PAX4_REF_R1_8mers.txt\n",
      "pdts*2: 10 0.09390244 0.023725701 516584.56\n",
      "pdts: 10 0.13567074 0.021995638 517150.88\n",
      "ei*2: 10 0.09237805 0.022979394 472820.12\n",
      "ucb: 0.0 10 0.089329265 0.019947972 0.083841465\n",
      "ucb: 0.5 10 0.08719512 0.021993522 0.08841464\n",
      "ucb: 1.0 10 0.08323171 0.015667884 0.083841465\n",
      "ucb: 2.0 10 0.090548776 0.029686105 0.08993903\n",
      "ucb: 3.0 8 0.09756098 0.012934879 0.09603658\n",
      "OVOL2_D228E_R1_8mers.txt\n",
      "pdts*2: 10 0.037195124 0.041351173 177728.25\n",
      "pdts: 10 0.026829269 0.044386726 110814.98\n",
      "ei*2: 10 0.01859756 0.029916912 112977.98\n",
      "ucb: 0.0 10 0.0024390244 0.007317073 0.0\n",
      "ucb: 0.5 10 0.0021341464 0.006402439 0.0\n",
      "ucb: 1.0 10 0.021341462 0.022362344 0.0121951215\n",
      "ucb: 2.0 10 0.0067073167 0.0191273 0.0\n",
      "ucb: 3.0 8 0.013719512 0.025462335 0.0\n",
      "POU3F4_V322M_R1_8mers.txt\n",
      "pdts*2: 10 0.12378049 0.023306726 236874.44\n",
      "pdts: 10 0.1432927 0.027675135 208771.16\n",
      "ei*2: 10 0.14542684 0.018845804 237437.73\n",
      "ucb: 0.0 10 0.1082317 0.026447184 0.112804875\n",
      "ucb: 0.5 10 0.107317075 0.019320708 0.11585366\n",
      "ucb: 1.0 10 0.096036576 0.013854351 0.09603658\n",
      "ucb: 2.0 10 0.10884146 0.012350382 0.1097561\n",
      "ucb: 3.0 8 0.086509146 0.017773207 0.085365854\n",
      "KLF11_R402Q_R1_8mers.txt\n",
      "pdts*2: 10 0.040853657 0.01865495 58068.812\n",
      "pdts: 10 0.063109756 0.021987183 58876.59\n",
      "ei*2: 10 0.06432927 0.027824193 58480.42\n",
      "ucb: 0.0 10 0.04176829 0.028241975 0.041158535\n",
      "ucb: 0.5 10 0.046036586 0.020289857 0.04420732\n",
      "ucb: 1.0 10 0.036890246 0.014586432 0.035060976\n",
      "ucb: 2.0 10 0.043292683 0.020533485 0.041158535\n",
      "ucb: 3.0 8 0.032012194 0.019039629 0.027439024\n",
      "HOXB7_R189C_R1_8mers.txt\n",
      "pdts*2: 8 0.03582317 0.017629625 36852.36\n",
      "pdts: 10 0.055792682 0.014814061 36852.36\n",
      "ei*2: 8 0.06859756 0.01790753 36595.58\n",
      "ucb: 0.0 10 0.034756098 0.014697525 0.03658537\n",
      "ucb: 0.5 10 0.036890246 0.012967177 0.033536587\n",
      "ucb: 1.0 10 0.042987805 0.011921473 0.04420732\n",
      "ucb: 2.0 10 0.032926828 0.013205127 0.033536587\n",
      "ucb: 3.0 8 0.035060976 0.015243903 0.033536583\n",
      "CRX_R90W_R1_8mers.txt\n",
      "pdts*2: 5 0.064634144 0.0059118043 43348.49\n",
      "pdts: 5 0.071951225 0.010311912 44789.36\n",
      "ei*2: 8 0.077362806 0.008880472 43365.63\n",
      "ucb: 0.0 10 0.05152439 0.0061657773 0.051829267\n",
      "ucb: 0.5 10 0.04542683 0.00646025 0.04420732\n",
      "ucb: 1.0 10 0.039939024 0.010512768 0.038109757\n",
      "ucb: 2.0 8 0.04306402 0.008945651 0.041158535\n",
      "ucb: 3.0 5 0.043902438 0.0065672733 0.04573171\n"
     ]
    }
   ],
   "source": [
    "for f in filenames:\n",
    "    print(f)\n",
    "    try:\n",
    "        arr = mves_ei_mix[f][batch_idx]\n",
    "        arr_top = arr[:, ack_iter_idx, stat_idx]\n",
    "        print('mves_ei_mix:', arr.shape[0], np.mean(arr_top), np.std(arr_top), np.median(arr[:, ack_iter_idx, -5]))\n",
    "    except Exception as e:\n",
    "        pass\n",
    "\n",
    "        \n",
    "    try:\n",
    "        arr = pdts_mix[f][batch_idx]\n",
    "        arr_top = arr[:, ack_iter_idx, stat_idx]\n",
    "        print('pdts*2:', arr.shape[0], np.mean(arr_top), np.std(arr_top), np.median(arr[:, ack_iter_idx, -5]))\n",
    "    except Exception as e:\n",
    "        pass\n",
    "    \n",
    "    try:\n",
    "        arr = pdts[f][batch_idx]\n",
    "        arr_top = arr[:, ack_iter_idx, stat_idx]\n",
    "        print('pdts:', arr.shape[0], np.mean(arr_top), np.std(arr_top), np.median(arr[:, ack_iter_idx, -5]))\n",
    "    except Exception as e:\n",
    "        print(e)\n",
    "    \n",
    "        \n",
    "    try:\n",
    "        arr = mves[f][batch_idx]\n",
    "        arr_top = arr[:, ack_iter_idx, stat_idx]\n",
    "        print('mves:', arr.shape[0], np.mean(arr_top), np.std(arr_top), np.median(arr[:, ack_iter_idx, -5]))\n",
    "    except Exception as e:\n",
    "        pass  \n",
    "    \n",
    "    try:\n",
    "        arr = mves_condense[f][batch_idx]\n",
    "        arr_top = arr[:, ack_iter_idx, stat_idx]\n",
    "        print('ei*2:', arr.shape[0], np.mean(arr_top), np.std(arr_top), np.median(arr[:, ack_iter_idx, -5]))\n",
    "    except Exception as e:\n",
    "        pass\n",
    "    \n",
    "    ucb_coeffs = [0.0, 0.5, 1.0, 2.0, 3.0]\n",
    "    for i in range(5):\n",
    "        try:\n",
    "            if len(ucb[i][f][batch_idx]) != 0:\n",
    "                arr = ucb[i][f][batch_idx][:, ack_iter_idx, stat_idx]\n",
    "                print('ucb:', ucb_coeffs[i], ucb[i][f][batch_idx].shape[0], np.mean(arr), np.std(arr), np.median(arr))\n",
    "        except Exception as e:\n",
    "            pass"
   ]
  },
  {
   "cell_type": "code",
   "execution_count": 138,
   "metadata": {},
   "outputs": [
    {
     "name": "stdout",
     "output_type": "stream",
     "text": [
      "reading sample 1\n",
      "reading sample 2\n",
      "reading sample 3\n",
      "reading sample 4\n",
      "reading sample 5\n",
      "reading sample 6\n",
      "reading sample 7\n",
      "reading sample 8\n",
      "reading sample 9\n",
      "reading sample 10\n"
     ]
    }
   ],
   "source": [
    "mves_condense_chemvae = cs.get_data_mves('/cluster/sj1/bb_opt', 'ei_cond_chemvae')"
   ]
  },
  {
   "cell_type": "code",
   "execution_count": 276,
   "metadata": {},
   "outputs": [
    {
     "name": "stdout",
     "output_type": "stream",
     "text": [
      "reading sample 1\n",
      "reading sample 2\n",
      "reading sample 3\n",
      "reading sample 4\n",
      "reading sample 5\n",
      "reading sample 6\n",
      "reading sample 7\n",
      "reading sample 8\n",
      "reading sample 9\n",
      "reading sample 10\n"
     ]
    }
   ],
   "source": [
    "mves_chemvae = cs.get_data_mves('/cluster/sj1/bb_opt', 'chemvae_mves')"
   ]
  },
  {
   "cell_type": "code",
   "execution_count": 264,
   "metadata": {
    "scrolled": false
   },
   "outputs": [
    {
     "name": "stdout",
     "output_type": "stream",
     "text": [
      "reading sample 1\n",
      "reading sample 2\n",
      "reading sample 3\n",
      "reading sample 4\n",
      "reading sample 5\n",
      "reading sample 6\n",
      "reading sample 7\n",
      "reading sample 8\n",
      "reading sample 9\n",
      "reading sample 10\n"
     ]
    }
   ],
   "source": [
    "mves_chemvae_mix = cs.get_data_mves('/cluster/sj1/bb_opt', 'chemvae_mves_ei_mix')"
   ]
  },
  {
   "cell_type": "code",
   "execution_count": 219,
   "metadata": {},
   "outputs": [
    {
     "name": "stdout",
     "output_type": "stream",
     "text": [
      "reading 0\n",
      "read 10 samples\n",
      "reading 1\n",
      "read 0 samples\n",
      "reading 2\n",
      "read 10 samples\n",
      "reading 3\n",
      "read 0 samples\n",
      "reading 4\n",
      "read 0 samples\n"
     ]
    }
   ],
   "source": [
    "ucb_chemvae = cs.get_data_ucb('/cluster/sj1/bb_opt', 'chemvae')"
   ]
  },
  {
   "cell_type": "code",
   "execution_count": 277,
   "metadata": {
    "collapsed": true
   },
   "outputs": [],
   "source": [
    "batch_idx = 1\n",
    "ack_iter_idx = -1\n",
    "stat_idx = -4\n",
    "f = 'chemvae'"
   ]
  },
  {
   "cell_type": "code",
   "execution_count": 278,
   "metadata": {},
   "outputs": [
    {
     "name": "stdout",
     "output_type": "stream",
     "text": [
      "ei*2: 10 0.004851644 0.0027221178 0.003809142 2.8603437\n",
      "mves_ei_mix: 10 0.0059743384 0.0041802125 0.005012029 2.8044257\n",
      "mves: 5 0.00016038492 0.00032076985 0.0 2.353311\n",
      "ucb: 0.0 10 0.0031676025 0.0023547788 0.0024057738 2.7301798\n",
      "ucb: 1.0 7 0.0024057738 0.0011541666 0.0024057738 2.8295903\n"
     ]
    }
   ],
   "source": [
    "try:\n",
    "    data = mves_condense_chemvae[f][batch_idx]\n",
    "    arr = data[:, ack_iter_idx, stat_idx]\n",
    "    print('ei*2:', data.shape[0], np.mean(arr), np.std(arr), np.median(arr), np.median(data[:, ack_iter_idx, -5]))\n",
    "except Exception as e:\n",
    "    print(e)\n",
    "    \n",
    "try:\n",
    "    data = mves_chemvae_mix[f][batch_idx]\n",
    "    arr = data[:, ack_iter_idx, stat_idx]\n",
    "    print('mves_ei_mix:', data.shape[0], np.mean(arr), np.std(arr), np.median(arr), np.median(data[:, ack_iter_idx, -5]))\n",
    "except Exception as e:\n",
    "    print(e)\n",
    "    \n",
    "try:\n",
    "    data = mves_chemvae[f][batch_idx]\n",
    "    arr = data[:, ack_iter_idx, stat_idx]\n",
    "    print('mves:', data.shape[0], np.mean(arr), np.std(arr), np.median(arr), np.median(data[:, ack_iter_idx, -5]))\n",
    "except Exception as e:\n",
    "    print(e)\n",
    "\n",
    "\n",
    "ucb_coeffs2 = [0.0, 0.5, 1.0]\n",
    "for i in range(len(ucb_coeffs2)):\n",
    "    try:\n",
    "        if len(ucb_chemvae[i][f][batch_idx]) != 0:\n",
    "            arr = ucb_chemvae[i][f][batch_idx][:, ack_iter_idx, stat_idx]\n",
    "            print('ucb:', ucb_coeffs2[i], ucb_chemvae[i][f][batch_idx].shape[0], np.mean(arr), np.std(arr), np.median(arr), np.median(ucb_chemvae[i][f][batch_idx][:, ack_iter_idx, -5]))\n",
    "    except Exception as e:\n",
    "        pass"
   ]
  },
  {
   "cell_type": "code",
   "execution_count": null,
   "metadata": {
    "collapsed": true
   },
   "outputs": [],
   "source": []
  }
 ],
 "metadata": {
  "kernelspec": {
   "display_name": "Python (py36)",
   "language": "python",
   "name": "py36"
  },
  "language_info": {
   "codemirror_mode": {
    "name": "ipython",
    "version": 3
   },
   "file_extension": ".py",
   "mimetype": "text/x-python",
   "name": "python",
   "nbconvert_exporter": "python",
   "pygments_lexer": "ipython3",
   "version": "3.6.6"
  }
 },
 "nbformat": 4,
 "nbformat_minor": 2
}
