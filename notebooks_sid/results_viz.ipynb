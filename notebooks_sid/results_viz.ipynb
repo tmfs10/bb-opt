{
 "cells": [
  {
   "cell_type": "code",
   "execution_count": 3,
   "metadata": {
    "collapsed": true
   },
   "outputs": [],
   "source": [
    "import sys\n",
    "sys.path.append('/cluster/sj1/bb_opt/scripts')"
   ]
  },
  {
   "cell_type": "code",
   "execution_count": 4,
   "metadata": {
    "collapsed": true
   },
   "outputs": [],
   "source": [
    "%load_ext autoreload\n",
    "%autoreload 2\n",
    "\n",
    "import torch\n",
    "import numpy as np\n",
    "import matplotlib.pyplot as plt\n",
    "import seaborn as sns\n",
    "import collect_stats as cs\n",
    "\n",
    "%matplotlib inline"
   ]
  },
  {
   "cell_type": "code",
   "execution_count": 29,
   "metadata": {
    "collapsed": true
   },
   "outputs": [],
   "source": [
    "import collect_stats as cs"
   ]
  },
  {
   "cell_type": "code",
   "execution_count": 25,
   "metadata": {
    "collapsed": true
   },
   "outputs": [],
   "source": [
    "filenames = [\n",
    "    'HOXC4_R158L_R1_8mers.txt',\n",
    "    'HOXD13_REF_R1_8mers.txt',\n",
    "    'GFI1_REF_R1_8mers.txt',\n",
    "    'HOXC4_R158L_R2_8mers.txt',\n",
    "    'PAX4_REF_R1_8mers.txt',\n",
    "    'OVOL2_D228E_R1_8mers.txt',\n",
    "    'POU3F4_V322M_R1_8mers.txt',\n",
    "    'KLF11_R402Q_R1_8mers.txt',\n",
    "    'HOXB7_R189C_R1_8mers.txt',\n",
    "    'CRX_R90W_R1_8mers.txt',\n",
    "]"
   ]
  },
  {
   "cell_type": "code",
   "execution_count": null,
   "metadata": {
    "collapsed": true
   },
   "outputs": [],
   "source": [
    "mves_condense_compare_w_old = cs.get_data_mves('/cluster/sj1/bb_opt', 'e')"
   ]
  },
  {
   "cell_type": "code",
   "execution_count": 5,
   "metadata": {
    "scrolled": true
   },
   "outputs": [
    {
     "name": "stdout",
     "output_type": "stream",
     "text": [
      "reading /cluster/sj1/bb_opt/output_n1/HOXC4_R158L_R1_8mers.txt\n",
      "reading /cluster/sj1/bb_opt/output_n1/HOXD13_REF_R1_8mers.txt\n",
      "reading /cluster/sj1/bb_opt/output_n2/HOXC4_R158L_R1_8mers.txt\n",
      "reading /cluster/sj1/bb_opt/output_n2/HOXD13_REF_R1_8mers.txt\n",
      "reading /cluster/sj1/bb_opt/output_n2/GFI1_REF_R1_8mers.txt\n",
      "reading /cluster/sj1/bb_opt/output_n3/HOXC4_R158L_R1_8mers.txt\n",
      "reading /cluster/sj1/bb_opt/output_n3/HOXD13_REF_R1_8mers.txt\n",
      "reading /cluster/sj1/bb_opt/output_n3/GFI1_REF_R1_8mers.txt\n",
      "reading /cluster/sj1/bb_opt/output_n4/HOXC4_R158L_R1_8mers.txt\n",
      "reading /cluster/sj1/bb_opt/output_n4/HOXD13_REF_R1_8mers.txt\n",
      "reading /cluster/sj1/bb_opt/output_n4/GFI1_REF_R1_8mers.txt\n",
      "reading /cluster/sj1/bb_opt/output_n5/HOXC4_R158L_R1_8mers.txt\n",
      "reading /cluster/sj1/bb_opt/output_n5/HOXD13_REF_R1_8mers.txt\n",
      "reading /cluster/sj1/bb_opt/output_n5/GFI1_REF_R1_8mers.txt\n",
      "reading /cluster/sj1/bb_opt/output_n6/HOXC4_R158L_R1_8mers.txt\n",
      "reading /cluster/sj1/bb_opt/output_n6/HOXD13_REF_R1_8mers.txt\n",
      "reading /cluster/sj1/bb_opt/output_n6/GFI1_REF_R1_8mers.txt\n",
      "reading /cluster/sj1/bb_opt/output_n7/HOXC4_R158L_R1_8mers.txt\n",
      "reading /cluster/sj1/bb_opt/output_n7/HOXD13_REF_R1_8mers.txt\n",
      "reading /cluster/sj1/bb_opt/output_n7/GFI1_REF_R1_8mers.txt\n",
      "reading /cluster/sj1/bb_opt/output_n8/HOXC4_R158L_R1_8mers.txt\n",
      "reading /cluster/sj1/bb_opt/output_n8/HOXD13_REF_R1_8mers.txt\n",
      "reading /cluster/sj1/bb_opt/output_n8/GFI1_REF_R1_8mers.txt\n"
     ]
    }
   ],
   "source": [
    "mves = cs.get_data_mves('/cluster/sj1/bb_opt', 'n')"
   ]
  },
  {
   "cell_type": "code",
   "execution_count": 129,
   "metadata": {
    "scrolled": true
   },
   "outputs": [
    {
     "name": "stdout",
     "output_type": "stream",
     "text": [
      "reading sample 1\n",
      "reading sample 2\n",
      "reading sample 3\n",
      "reading sample 4\n",
      "reading sample 5\n",
      "reading sample 6\n",
      "reading sample 7\n",
      "reading sample 8\n",
      "reading sample 9\n",
      "reading sample 10\n"
     ]
    }
   ],
   "source": [
    "mves_condense = cs.get_data_mves('/cluster/sj1/bb_opt', 'f')"
   ]
  },
  {
   "cell_type": "code",
   "execution_count": 148,
   "metadata": {},
   "outputs": [
    {
     "name": "stdout",
     "output_type": "stream",
     "text": [
      "reading sample 2\n",
      "reading sample 3\n",
      "reading sample 4\n",
      "reading sample 5\n",
      "reading sample 6\n",
      "reading sample 7\n",
      "reading sample 9\n",
      "reading sample 10\n"
     ]
    }
   ],
   "source": [
    "mves = cs.get_data_mves('/cluster/sj1/bb_opt', 'mves')"
   ]
  },
  {
   "cell_type": "code",
   "execution_count": 141,
   "metadata": {},
   "outputs": [
    {
     "name": "stdout",
     "output_type": "stream",
     "text": [
      "reading sample 1\n",
      "reading sample 2\n",
      "reading sample 3\n",
      "reading sample 4\n",
      "reading sample 5\n",
      "reading sample 6\n",
      "reading sample 7\n",
      "reading sample 8\n",
      "reading sample 9\n"
     ]
    }
   ],
   "source": [
    "pdts = cs.get_data_mves('/cluster/sj1/bb_opt', 'pdts_dna_n')"
   ]
  },
  {
   "cell_type": "code",
   "execution_count": 142,
   "metadata": {},
   "outputs": [
    {
     "name": "stdout",
     "output_type": "stream",
     "text": [
      "reading sample 1\n",
      "reading sample 2\n",
      "reading sample 3\n",
      "reading sample 4\n",
      "reading sample 5\n",
      "reading sample 6\n",
      "reading sample 7\n",
      "reading sample 8\n",
      "reading sample 9\n",
      "reading sample 10\n"
     ]
    }
   ],
   "source": [
    "pdts_mix = cs.get_data_mves('/cluster/sj1/bb_opt', 'pdts_dna_cond_n')"
   ]
  },
  {
   "cell_type": "code",
   "execution_count": 130,
   "metadata": {},
   "outputs": [
    {
     "name": "stdout",
     "output_type": "stream",
     "text": [
      "reading sample 1\n",
      "reading sample 2\n",
      "reading sample 3\n",
      "reading sample 4\n",
      "reading sample 5\n",
      "reading sample 6\n",
      "reading sample 7\n",
      "reading sample 8\n",
      "reading sample 9\n",
      "reading sample 10\n"
     ]
    }
   ],
   "source": [
    "mves_ei_mix = cs.get_data_mves('/cluster/sj1/bb_opt', 'ei_mves_mix')"
   ]
  },
  {
   "cell_type": "code",
   "execution_count": 55,
   "metadata": {},
   "outputs": [
    {
     "name": "stdout",
     "output_type": "stream",
     "text": [
      "reading 0\n",
      "read 10 samples\n",
      "reading 1\n",
      "read 10 samples\n",
      "reading 2\n",
      "read 10 samples\n",
      "reading 3\n",
      "read 10 samples\n",
      "reading 4\n",
      "read 10 samples\n"
     ]
    }
   ],
   "source": [
    "ucb = cs.get_data_ucb('/cluster/sj1/bb_opt', 'n')"
   ]
  },
  {
   "cell_type": "code",
   "execution_count": 150,
   "metadata": {
    "collapsed": true
   },
   "outputs": [],
   "source": [
    "batch_idx = 1\n",
    "ack_iter_idx = 19\n",
    "stat_idx = -4"
   ]
  },
  {
   "cell_type": "code",
   "execution_count": 152,
   "metadata": {},
   "outputs": [
    {
     "name": "stdout",
     "output_type": "stream",
     "text": [
      "HOXC4_R158L_R1_8mers.txt\n",
      "pdts*2: 10 0.12042682 0.017738037 67918.92\n",
      "pdts: 9 0.05182927 0.00964109 66866.02\n",
      "ei*2: 10 0.15304878 0.015771361 0.1570122\n",
      "ucb: 0.0 10 0.104573175 0.014688036 0.10060975\n",
      "ucb: 0.5 10 0.10579269 0.02177478 0.10670732\n",
      "ucb: 1.0 10 0.09390243 0.019701824 0.085365854\n",
      "ucb: 2.0 10 0.1015244 0.02194487 0.09146342\n",
      "ucb: 3.0 10 0.10121951 0.012702846 0.09908536\n",
      "HOXD13_REF_R1_8mers.txt\n",
      "pdts*2: 10 0.11189024 0.015428757 158176.05\n",
      "pdts: 9 0.056910567 0.016260162 146057.94\n",
      "ei*2: 10 0.13932927 0.0143033 0.14176829\n",
      "ucb: 0.0 10 0.09603658 0.013095567 0.092987806\n",
      "ucb: 0.5 10 0.09908537 0.010316418 0.09756097\n",
      "ucb: 1.0 10 0.08810976 0.015750721 0.09146342\n",
      "ucb: 2.0 10 0.08384146 0.019294228 0.07926829\n",
      "ucb: 3.0 10 0.08871951 0.008563764 0.08841463\n",
      "GFI1_REF_R1_8mers.txt\n",
      "pdts*2: 10 0.024085365 0.027824193 209234.6\n",
      "pdts: 9 0.018292684 0.013093597 174996.73\n",
      "ei*2: 10 0.069817066 0.043362405 0.074695125\n",
      "ucb: 0.0 10 0.02378049 0.025718411 0.013719512\n",
      "ucb: 0.5 10 0.03628049 0.0262071 0.042682927\n",
      "ucb: 1.0 10 0.03902439 0.029896708 0.04573171\n",
      "ucb: 2.0 10 0.039634146 0.025507927 0.048780486\n",
      "ucb: 3.0 10 0.035365853 0.025876947 0.032012194\n",
      "HOXC4_R158L_R2_8mers.txt\n",
      "pdts*2: 10 0.10518293 0.014185841 197330.36\n",
      "pdts: 9 0.047764227 0.01613263 130231.24\n",
      "ei*2: 10 0.120121956 0.016258892 0.11890244\n",
      "ucb: 0.0 10 0.09756098 0.024918068 0.102134146\n",
      "ucb: 0.5 10 0.10182927 0.024168197 0.1097561\n",
      "ucb: 1.0 10 0.082926825 0.024267985 0.08689024\n",
      "ucb: 2.0 10 0.08689024 0.022289483 0.092987806\n",
      "ucb: 3.0 9 0.08231708 0.018179415 0.09146342\n",
      "PAX4_REF_R1_8mers.txt\n",
      "pdts*2: 10 0.09390244 0.023725701 516584.56\n",
      "pdts: 9 0.042682927 0.011039411 516018.25\n",
      "ei*2: 10 0.09237805 0.022979394 0.08689024\n",
      "ucb: 0.0 10 0.089329265 0.019947972 0.083841465\n",
      "ucb: 0.5 10 0.08719512 0.021993522 0.08841464\n",
      "ucb: 1.0 10 0.08323171 0.015667884 0.083841465\n",
      "ucb: 2.0 10 0.090548776 0.029686105 0.08993903\n",
      "ucb: 3.0 8 0.09756098 0.012934879 0.09603658\n",
      "OVOL2_D228E_R1_8mers.txt\n",
      "pdts*2: 10 0.037195124 0.041351173 177728.25\n",
      "pdts: 9 0.009823848 0.012674992 110814.98\n",
      "ei*2: 10 0.01859756 0.029916912 0.0\n",
      "ucb: 0.0 10 0.0024390244 0.007317073 0.0\n",
      "ucb: 0.5 10 0.0021341464 0.006402439 0.0\n",
      "ucb: 1.0 10 0.021341462 0.022362344 0.0121951215\n",
      "ucb: 2.0 10 0.0067073167 0.0191273 0.0\n",
      "ucb: 3.0 8 0.013719512 0.025462335 0.0\n",
      "POU3F4_V322M_R1_8mers.txt\n",
      "pdts*2: 10 0.12378049 0.023306726 236874.44\n",
      "pdts: 9 0.05487805 0.011132572 208771.16\n",
      "ei*2: 10 0.14542684 0.018845804 0.14329268\n",
      "ucb: 0.0 10 0.1082317 0.026447184 0.112804875\n",
      "ucb: 0.5 10 0.107317075 0.019320708 0.11585366\n",
      "ucb: 1.0 10 0.096036576 0.013854351 0.09603658\n",
      "ucb: 2.0 10 0.10884146 0.012350382 0.1097561\n",
      "ucb: 3.0 8 0.086509146 0.017773207 0.085365854\n",
      "KLF11_R402Q_R1_8mers.txt\n",
      "pdts*2: 10 0.040853657 0.01865495 58068.812\n",
      "pdts: 9 0.022018969 0.011477693 57807.2\n",
      "ei*2: 10 0.06432927 0.027824193 0.076219514\n",
      "ucb: 0.0 10 0.04176829 0.028241975 0.041158535\n",
      "ucb: 0.5 10 0.046036586 0.020289857 0.04420732\n",
      "ucb: 1.0 10 0.036890246 0.014586432 0.035060976\n",
      "ucb: 2.0 10 0.043292683 0.020533485 0.041158535\n",
      "ucb: 3.0 8 0.032012194 0.019039629 0.027439024\n",
      "HOXB7_R189C_R1_8mers.txt\n",
      "pdts*2: 8 0.03582317 0.017629625 36852.36\n",
      "pdts: 9 0.03319783 0.005069996 36493.96\n",
      "ei*2: 8 0.06859756 0.01790753 0.067073174\n",
      "ucb: 0.0 10 0.034756098 0.014697525 0.03658537\n",
      "ucb: 0.5 10 0.036890246 0.012967177 0.033536587\n",
      "ucb: 1.0 10 0.042987805 0.011921473 0.04420732\n",
      "ucb: 2.0 10 0.032926828 0.013205127 0.033536587\n",
      "ucb: 3.0 8 0.035060976 0.015243903 0.033536583\n",
      "CRX_R90W_R1_8mers.txt\n",
      "pdts*2: 5 0.064634144 0.0059118043 43348.49\n",
      "pdts: 9 0.03319783 0.010003268 43096.08\n",
      "ei*2: 8 0.077362806 0.008880472 0.076219514\n",
      "ucb: 0.0 10 0.05152439 0.0061657773 0.051829267\n",
      "ucb: 0.5 10 0.04542683 0.00646025 0.04420732\n",
      "ucb: 1.0 10 0.039939024 0.010512768 0.038109757\n",
      "ucb: 2.0 8 0.04306402 0.008945651 0.041158535\n",
      "ucb: 3.0 5 0.043902438 0.0065672733 0.04573171\n"
     ]
    }
   ],
   "source": [
    "for f in filenames:\n",
    "    print(f)\n",
    "    try:\n",
    "        arr = mves_ei_mix[f][batch_idx]\n",
    "        arr_top = arr[:, ack_iter_idx, stat_idx]\n",
    "        print('mves_ei_mix:', arr.shape[0], np.mean(arr_top), np.std(arr_top), np.median(arr[:, ack_iter_idx, -5]))\n",
    "    except Exception as e:\n",
    "        pass\n",
    "\n",
    "        \n",
    "    try:\n",
    "        arr = pdts_mix[f][batch_idx]\n",
    "        arr_top = arr[:, ack_iter_idx, stat_idx]\n",
    "        print('pdts*2:', arr.shape[0], np.mean(arr_top), np.std(arr_top), np.median(arr[:, ack_iter_idx, -5]))\n",
    "    except Exception as e:\n",
    "        pass\n",
    "    \n",
    "    try:\n",
    "        arr = pdts[f][batch_idx]\n",
    "        arr_top = arr[:, ack_iter_idx, stat_idx]\n",
    "        print('pdts:', arr.shape[0], np.mean(arr_top), np.std(arr_top), np.median(arr[:, ack_iter_idx, -5]))\n",
    "    except Exception as e:\n",
    "        pass\n",
    "    \n",
    "        \n",
    "    try:\n",
    "        arr = mves[f][batch_idx]\n",
    "        arr_top = arr[:, ack_iter_idx, stat_idx]\n",
    "        print('mves:', arr.shape[0], np.mean(arr_top), np.std(arr_top), np.median(arr[:, ack_iter_idx, -5]))\n",
    "    except Exception as e:\n",
    "        pass  \n",
    "    \n",
    "    try:\n",
    "        arr = mves_condense[f][batch_idx][:, ack_iter_idx, stat_idx]\n",
    "        print('ei*2:', mves_condense[f][batch_idx].shape[0], np.mean(arr), np.std(arr), np.median(arr))\n",
    "    except Exception as e:\n",
    "        pass\n",
    "    \n",
    "    ucb_coeffs = [0.0, 0.5, 1.0, 2.0, 3.0]\n",
    "    for i in range(5):\n",
    "        try:\n",
    "            if len(ucb[i][f][batch_idx]) != 0:\n",
    "                arr = ucb[i][f][batch_idx][:, ack_iter_idx, stat_idx]\n",
    "                print('ucb:', ucb_coeffs[i], ucb[i][f][batch_idx].shape[0], np.mean(arr), np.std(arr), np.median(arr))\n",
    "        except Exception as e:\n",
    "            pass"
   ]
  },
  {
   "cell_type": "code",
   "execution_count": 138,
   "metadata": {},
   "outputs": [
    {
     "name": "stdout",
     "output_type": "stream",
     "text": [
      "reading sample 1\n",
      "reading sample 2\n",
      "reading sample 3\n",
      "reading sample 4\n",
      "reading sample 5\n",
      "reading sample 6\n",
      "reading sample 7\n",
      "reading sample 8\n",
      "reading sample 9\n",
      "reading sample 10\n"
     ]
    }
   ],
   "source": [
    "mves_condense_chemvae = cs.get_data_mves('/cluster/sj1/bb_opt', 'ei_cond_chemvae')"
   ]
  },
  {
   "cell_type": "code",
   "execution_count": 90,
   "metadata": {},
   "outputs": [
    {
     "name": "stdout",
     "output_type": "stream",
     "text": [
      "reading 0\n",
      "read 10 samples\n",
      "reading 1\n",
      "read 0 samples\n",
      "reading 2\n",
      "read 2 samples\n",
      "reading 3\n",
      "read 0 samples\n",
      "reading 4\n",
      "read 0 samples\n"
     ]
    }
   ],
   "source": [
    "ucb_chemvae = cs.get_data_ucb('/cluster/sj1/bb_opt', 'chemvae')"
   ]
  },
  {
   "cell_type": "code",
   "execution_count": 134,
   "metadata": {
    "collapsed": true
   },
   "outputs": [],
   "source": [
    "batch_idx = 1\n",
    "ack_iter_idx = -1\n",
    "stat_idx = -4\n",
    "f = 'chemvae'"
   ]
  },
  {
   "cell_type": "code",
   "execution_count": 139,
   "metadata": {},
   "outputs": [
    {
     "name": "stdout",
     "output_type": "stream",
     "text": [
      "mves_ei*2: 10 0.004851644 0.0027221178 0.003809142 2.8603437\n",
      "ucb: 0.0 10 0.0031676025 0.0023547788 0.0024057738 2.7301798\n",
      "ucb: 1.0 2 0.0028067362 0.0012028869 0.0028067362 2.8094695\n"
     ]
    }
   ],
   "source": [
    "try:\n",
    "    data = mves_condense_chemvae[f][batch_idx]\n",
    "    arr = data[:, ack_iter_idx, stat_idx]\n",
    "    print('mves_ei*2:', data.shape[0], np.mean(arr), np.std(arr), np.median(arr), np.median(data[:, ack_iter_idx, -5]))\n",
    "except Exception as e:\n",
    "    print(e)\n",
    "\n",
    "ucb_coeffs2 = [0.0, 0.5, 1.0]\n",
    "for i in range(len(ucb_coeffs2)):\n",
    "    try:\n",
    "        if len(ucb_chemvae[i][f][batch_idx]) != 0:\n",
    "            arr = ucb_chemvae[i][f][batch_idx][:, ack_iter_idx, stat_idx]\n",
    "            print('ucb:', ucb_coeffs2[i], ucb_chemvae[i][f][batch_idx].shape[0], np.mean(arr), np.std(arr), np.median(arr), np.median(ucb_chemvae[i][f][batch_idx][:, ack_iter_idx, -5]))\n",
    "    except Exception as e:\n",
    "        pass"
   ]
  },
  {
   "cell_type": "code",
   "execution_count": null,
   "metadata": {
    "collapsed": true
   },
   "outputs": [],
   "source": []
  }
 ],
 "metadata": {
  "kernelspec": {
   "display_name": "Python (py36)",
   "language": "python",
   "name": "py36"
  },
  "language_info": {
   "codemirror_mode": {
    "name": "ipython",
    "version": 3
   },
   "file_extension": ".py",
   "mimetype": "text/x-python",
   "name": "python",
   "nbconvert_exporter": "python",
   "pygments_lexer": "ipython3",
   "version": "3.6.6"
  }
 },
 "nbformat": 4,
 "nbformat_minor": 2
}
