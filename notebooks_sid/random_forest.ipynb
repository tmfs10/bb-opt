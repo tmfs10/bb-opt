{
 "cells": [
  {
   "cell_type": "code",
   "execution_count": 1,
   "metadata": {
    "collapsed": true
   },
   "outputs": [],
   "source": [
    "import sys\n",
    "sys.path.append('/cluster/sj1')"
   ]
  },
  {
   "cell_type": "code",
   "execution_count": 2,
   "metadata": {},
   "outputs": [
    {
     "name": "stderr",
     "output_type": "stream",
     "text": [
      "/cluster/sj1/anaconda2/envs/py36/lib/python3.6/site-packages/sklearn/ensemble/weight_boosting.py:29: DeprecationWarning: numpy.core.umath_tests is an internal NumPy module and should not be imported. It will be removed in a future NumPy release.\n",
      "  from numpy.core.umath_tests import inner1d\n"
     ]
    },
    {
     "name": "stdout",
     "output_type": "stream",
     "text": [
      "Running on GPU 0\n"
     ]
    }
   ],
   "source": [
    "%load_ext autoreload\n",
    "%autoreload 2\n",
    "\n",
    "import torch\n",
    "import pyro\n",
    "import numpy as np\n",
    "from scipy.stats import kendalltau\n",
    "from sklearn.model_selection import train_test_split\n",
    "from sklearn.ensemble import RandomForestRegressor\n",
    "import matplotlib.pyplot as plt\n",
    "import seaborn as sns\n",
    "from bb_opt.src.bayesian_opt import (\n",
    "    optimize,\n",
    "    get_model_bnn,\n",
    "    train_model_bnn,\n",
    "    partial_train_model_bnn,\n",
    "    train,\n",
    "    bnn_predict\n",
    ")\n",
    "from bb_opt.src.utils import get_path, save_pyro_model, load_pyro_model\n",
    "from bb_opt.src import hsic as hsic\n",
    "from bb_opt.src import knn_mi as knn_mi\n",
    "from gpu_utils.utils import gpu_init\n",
    "from tqdm import tnrange\n",
    "\n",
    "gpu_id = gpu_init()\n",
    "print(f\"Running on GPU {gpu_id}\")\n",
    "device = torch.device('cuda:0' if torch.cuda.is_available() else 'cpu')\n",
    "\n",
    "%matplotlib inline"
   ]
  },
  {
   "cell_type": "code",
   "execution_count": 3,
   "metadata": {},
   "outputs": [
    {
     "name": "stderr",
     "output_type": "stream",
     "text": [
      "/cluster/sj1/anaconda2/envs/py36/lib/python3.6/site-packages/sklearn/model_selection/_split.py:2026: FutureWarning: From version 0.21, test_size will always complement train_size unless both are specified.\n",
      "  FutureWarning)\n"
     ]
    }
   ],
   "source": [
    "n_train = 1000\n",
    "\n",
    "project = \"dna_binding\"\n",
    "dataset = \"crx_ref_r1\"\n",
    "batch_size = 1\n",
    "retrain_every = 1000000\n",
    "partial_steps = 20\n",
    "\n",
    "root = \"/cluster/sj1/bb_opt/\"\n",
    "data_dir = get_path(root, \"data\", project, dataset)\n",
    "inputs = np.load(get_path(data_dir, \"inputs.npy\"))\n",
    "labels = np.load(get_path(data_dir, \"labels.npy\"))\n",
    "train_inputs, test_inputs, train_labels, test_labels = train_test_split(inputs, labels, train_size=n_train, random_state=521)\n",
    "train_inputs, val_inputs, train_labels, val_labels = train_test_split(train_inputs, train_labels, train_size=0.9, random_state=521)\n",
    "\n",
    "top_k_percent = 1"
   ]
  },
  {
   "cell_type": "code",
   "execution_count": 4,
   "metadata": {
    "collapsed": true
   },
   "outputs": [],
   "source": [
    "train_label_mean = train_labels.mean()\n",
    "train_label_std = train_labels.std()\n",
    "\n",
    "train_labels = (train_labels - train_label_mean) / train_label_std\n",
    "val_labels = (val_labels - train_label_mean) / train_label_std\n",
    "test_labels = (test_labels - train_label_mean) / train_label_std"
   ]
  },
  {
   "cell_type": "code",
   "execution_count": 6,
   "metadata": {},
   "outputs": [],
   "source": [
    "import forestci as fci"
   ]
  },
  {
   "cell_type": "code",
   "execution_count": 7,
   "metadata": {},
   "outputs": [
    {
     "data": {
      "text/plain": [
       "RandomForestRegressor(bootstrap=True, criterion='mse', max_depth=None,\n",
       "           max_features='auto', max_leaf_nodes=None,\n",
       "           min_impurity_decrease=0.0, min_impurity_split=None,\n",
       "           min_samples_leaf=1, min_samples_split=2,\n",
       "           min_weight_fraction_leaf=0.0, n_estimators=2000, n_jobs=1,\n",
       "           oob_score=False, random_state=42, verbose=0, warm_start=False)"
      ]
     },
     "execution_count": 7,
     "metadata": {},
     "output_type": "execute_result"
    }
   ],
   "source": [
    "n_trees = 2000\n",
    "rf = RandomForestRegressor(n_estimators=n_trees, random_state=42)\n",
    "rf.fit(train_inputs, train_labels)"
   ]
  },
  {
   "cell_type": "code",
   "execution_count": 8,
   "metadata": {
    "collapsed": true
   },
   "outputs": [],
   "source": [
    "y_hat = rf.predict(test_inputs)"
   ]
  },
  {
   "cell_type": "code",
   "execution_count": 9,
   "metadata": {
    "collapsed": true
   },
   "outputs": [],
   "source": [
    "def jointplot(predicted, true, title: str=\"\"):\n",
    "    if isinstance(predicted, torch.Tensor):\n",
    "        predicted = predicted.detach().cpu().numpy()\n",
    "\n",
    "    if isinstance(true, torch.Tensor):\n",
    "        true = true.detach().cpu().numpy()\n",
    "        \n",
    "    ax = sns.jointplot(predicted, true, s=3, alpha=0.5)\n",
    "    #ax = sns.regplot(predicted, true)\n",
    "    ax.set_axis_labels('Predicted', 'True')\n",
    "    ax.ax_marg_x.set_title(title)\n",
    "    return ax"
   ]
  },
  {
   "cell_type": "code",
   "execution_count": 21,
   "metadata": {},
   "outputs": [
    {
     "name": "stdout",
     "output_type": "stream",
     "text": [
      "0\n",
      "1\n",
      "2\n",
      "3\n",
      "4\n",
      "5\n",
      "6\n",
      "7\n",
      "8\n",
      "9\n",
      "10\n",
      "11\n",
      "12\n",
      "13\n",
      "14\n",
      "15\n",
      "16\n",
      "17\n",
      "18\n",
      "19\n",
      "20\n",
      "21\n",
      "22\n",
      "23\n",
      "24\n",
      "25\n",
      "26\n",
      "27\n",
      "28\n",
      "29\n",
      "30\n",
      "31\n",
      "32\n",
      "33\n",
      "34\n",
      "35\n",
      "36\n",
      "37\n",
      "38\n",
      "39\n",
      "40\n",
      "41\n",
      "42\n",
      "43\n",
      "44\n",
      "45\n",
      "46\n",
      "47\n",
      "48\n",
      "49\n",
      "50\n",
      "51\n",
      "52\n",
      "53\n",
      "54\n",
      "55\n",
      "56\n",
      "57\n",
      "58\n",
      "59\n",
      "60\n",
      "61\n",
      "62\n",
      "63\n",
      "64\n",
      "65\n",
      "66\n",
      "67\n",
      "68\n",
      "69\n",
      "70\n",
      "71\n",
      "72\n",
      "73\n",
      "74\n",
      "75\n",
      "76\n",
      "77\n",
      "78\n",
      "79\n",
      "80\n",
      "81\n",
      "82\n",
      "83\n",
      "84\n",
      "85\n",
      "86\n",
      "87\n",
      "88\n",
      "89\n",
      "90\n",
      "91\n",
      "92\n",
      "93\n",
      "94\n",
      "95\n",
      "96\n",
      "97\n",
      "98\n",
      "99\n"
     ]
    }
   ],
   "source": [
    "preds = []\n",
    "e_idx = np.arange(len(rf.estimators_))\n",
    "np.random.shuffle(e_idx)\n",
    "n_samples = 100\n",
    "for i in range(n_samples):\n",
    "    print(i)\n",
    "    rfe = rf.estimators_[e_idx[i]]\n",
    "    preds += [rf.predict(inputs)]\n",
    "preds = np.array(preds)"
   ]
  },
  {
   "cell_type": "code",
   "execution_count": 22,
   "metadata": {},
   "outputs": [
    {
     "data": {
      "text/plain": [
       "(100, 32896)"
      ]
     },
     "execution_count": 22,
     "metadata": {},
     "output_type": "execute_result"
    }
   ],
   "source": [
    "preds.shape"
   ]
  },
  {
   "cell_type": "code",
   "execution_count": 24,
   "metadata": {},
   "outputs": [],
   "source": [
    "max_pred_idx = preds.argmax(axis=1)"
   ]
  },
  {
   "cell_type": "code",
   "execution_count": 25,
   "metadata": {},
   "outputs": [
    {
     "data": {
      "text/plain": [
       "array([13242, 13242, 13242, 13242, 13242, 13242, 13242, 13242, 13242,\n",
       "       13242, 13242, 13242, 13242, 13242, 13242, 13242, 13242, 13242,\n",
       "       13242, 13242, 13242, 13242, 13242, 13242, 13242, 13242, 13242,\n",
       "       13242, 13242, 13242, 13242, 13242, 13242, 13242, 13242, 13242,\n",
       "       13242, 13242, 13242, 13242, 13242, 13242, 13242, 13242, 13242,\n",
       "       13242, 13242, 13242, 13242, 13242, 13242, 13242, 13242, 13242,\n",
       "       13242, 13242, 13242, 13242, 13242, 13242, 13242, 13242, 13242,\n",
       "       13242, 13242, 13242, 13242, 13242, 13242, 13242, 13242, 13242,\n",
       "       13242, 13242, 13242, 13242, 13242, 13242, 13242, 13242, 13242,\n",
       "       13242, 13242, 13242, 13242, 13242, 13242, 13242, 13242, 13242,\n",
       "       13242, 13242, 13242, 13242, 13242, 13242, 13242, 13242, 13242,\n",
       "       13242])"
      ]
     },
     "execution_count": 25,
     "metadata": {},
     "output_type": "execute_result"
    }
   ],
   "source": [
    "max_pred_idx"
   ]
  },
  {
   "cell_type": "code",
   "execution_count": 30,
   "metadata": {
    "collapsed": true
   },
   "outputs": [],
   "source": [
    "sort_idx = labels.argsort()"
   ]
  },
  {
   "cell_type": "code",
   "execution_count": 26,
   "metadata": {},
   "outputs": [
    {
     "data": {
      "text/plain": [
       "258252.8"
      ]
     },
     "execution_count": 26,
     "metadata": {},
     "output_type": "execute_result"
    }
   ],
   "source": [
    "labels[13242]"
   ]
  },
  {
   "cell_type": "code",
   "execution_count": 31,
   "metadata": {},
   "outputs": [
    {
     "data": {
      "text/plain": [
       "(array([32856]),)"
      ]
     },
     "execution_count": 31,
     "metadata": {},
     "output_type": "execute_result"
    }
   ],
   "source": [
    "np.where(sort_idx == 13242)"
   ]
  },
  {
   "cell_type": "code",
   "execution_count": 32,
   "metadata": {},
   "outputs": [
    {
     "data": {
      "text/plain": [
       "(32896,)"
      ]
     },
     "execution_count": 32,
     "metadata": {},
     "output_type": "execute_result"
    }
   ],
   "source": [
    "labels.shape"
   ]
  },
  {
   "cell_type": "code",
   "execution_count": 34,
   "metadata": {},
   "outputs": [
    {
     "data": {
      "text/plain": [
       "100379.08"
      ]
     },
     "execution_count": 34,
     "metadata": {},
     "output_type": "execute_result"
    }
   ],
   "source": [
    "labels[26348]"
   ]
  },
  {
   "cell_type": "code",
   "execution_count": 37,
   "metadata": {},
   "outputs": [
    {
     "data": {
      "text/plain": [
       "array([199452.83, 200311.19, 200572.42, 201128.14, 201244.64, 201828.4 ,\n",
       "       202365.8 , 202739.2 , 203029.5 , 203229.56, 203378.75, 204484.38,\n",
       "       204876.72, 206875.22, 207043.4 , 207944.84, 208545.97, 208556.84,\n",
       "       209676.31, 209717.58], dtype=float32)"
      ]
     },
     "execution_count": 37,
     "metadata": {},
     "output_type": "execute_result"
    }
   ],
   "source": [
    "labels[sort_idx][-100:-80]"
   ]
  },
  {
   "cell_type": "code",
   "execution_count": null,
   "metadata": {
    "collapsed": true
   },
   "outputs": [],
   "source": []
  }
 ],
 "metadata": {
  "kernelspec": {
   "display_name": "Python (py36)",
   "language": "python",
   "name": "py36"
  },
  "language_info": {
   "codemirror_mode": {
    "name": "ipython",
    "version": 3
   },
   "file_extension": ".py",
   "mimetype": "text/x-python",
   "name": "python",
   "nbconvert_exporter": "python",
   "pygments_lexer": "ipython3",
   "version": "3.6.6"
  }
 },
 "nbformat": 4,
 "nbformat_minor": 2
}
