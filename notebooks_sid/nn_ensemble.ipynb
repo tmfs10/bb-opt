{
 "cells": [
  {
   "cell_type": "code",
   "execution_count": 1,
   "metadata": {
    "collapsed": true
   },
   "outputs": [],
   "source": [
    "import sys\n",
    "sys.path.append('/cluster/sj1')"
   ]
  },
  {
   "cell_type": "code",
   "execution_count": 2,
   "metadata": {},
   "outputs": [
    {
     "name": "stderr",
     "output_type": "stream",
     "text": [
      "/cluster/sj1/anaconda2/envs/py36/lib/python3.6/site-packages/sklearn/ensemble/weight_boosting.py:29: DeprecationWarning: numpy.core.umath_tests is an internal NumPy module and should not be imported. It will be removed in a future NumPy release.\n",
      "  from numpy.core.umath_tests import inner1d\n"
     ]
    },
    {
     "name": "stdout",
     "output_type": "stream",
     "text": [
      "Running on GPU 0\n"
     ]
    }
   ],
   "source": [
    "%load_ext autoreload\n",
    "%autoreload 2\n",
    "\n",
    "import torch\n",
    "import pyro\n",
    "import numpy as np\n",
    "from scipy.stats import kendalltau\n",
    "from sklearn.model_selection import train_test_split\n",
    "from sklearn.ensemble import RandomForestRegressor\n",
    "import matplotlib.pyplot as plt\n",
    "import seaborn as sns\n",
    "from bb_opt.src.bayesian_opt import (\n",
    "    optimize,\n",
    "    get_model_bnn,\n",
    "    train_model_bnn,\n",
    "    partial_train_model_bnn,\n",
    "    train,\n",
    "    bnn_predict\n",
    ")\n",
    "from bb_opt.src.utils import get_path, save_pyro_model, load_pyro_model\n",
    "from bb_opt.src import hsic as hsic\n",
    "from bb_opt.src import knn_mi as knn_mi\n",
    "from gpu_utils.utils import gpu_init\n",
    "from tqdm import tnrange\n",
    "\n",
    "gpu_id = gpu_init()\n",
    "print(f\"Running on GPU {gpu_id}\")\n",
    "device = torch.device('cuda:0' if torch.cuda.is_available() else 'cpu')\n",
    "\n",
    "%matplotlib inline"
   ]
  },
  {
   "cell_type": "code",
   "execution_count": 4,
   "metadata": {
    "collapsed": true
   },
   "outputs": [],
   "source": [
    "import bb_opt.src.utils as utils"
   ]
  },
  {
   "cell_type": "code",
   "execution_count": 3,
   "metadata": {},
   "outputs": [
    {
     "name": "stderr",
     "output_type": "stream",
     "text": [
      "/cluster/sj1/anaconda2/envs/py36/lib/python3.6/site-packages/sklearn/model_selection/_split.py:2026: FutureWarning: From version 0.21, test_size will always complement train_size unless both are specified.\n",
      "  FutureWarning)\n"
     ]
    }
   ],
   "source": [
    "n_train = 1000\n",
    "\n",
    "project = \"dna_binding\"\n",
    "dataset = \"crx_ref_r1\"\n",
    "\n",
    "exclude_top = 0.01\n",
    "\n",
    "root = \"/cluster/sj1/bb_opt/\"\n",
    "data_dir = get_path(root, \"data\", project, dataset)\n",
    "inputs = np.load(get_path(data_dir, \"inputs.npy\"))\n",
    "labels = np.load(get_path(data_dir, \"labels.npy\"))\n",
    "\n",
    "idx = np.arange(labels.shape[0])\n",
    "\n",
    "sort_idx = labels.argsort()[:-int(labels.shape[0]*exclude_top)]\n",
    "idx = idx[sort_idx]\n",
    "\n",
    "train_idx, _, _ = utils.train_val_test_split(idx, split=[n_train, 0])\n",
    "train_idx2, _, test_idx2 = utils.train_val_test_split(n_train, split=[0.9, 0])\n",
    "\n",
    "test_idx = train_idx[test_idx2]\n",
    "train_idx = train_idx[train_idx2]\n",
    "\n",
    "train_inputs = inputs[train_idx]\n",
    "train_labels = inputs[train_idx]\n",
    "\n",
    "test_inputs = inputs[test_idx]\n",
    "test_labels = inputs[test_idx]"
   ]
  },
  {
   "cell_type": "code",
   "execution_count": null,
   "metadata": {
    "collapsed": true
   },
   "outputs": [],
   "source": []
  }
 ],
 "metadata": {
  "kernelspec": {
   "display_name": "Python (py36)",
   "language": "python",
   "name": "py36"
  },
  "language_info": {
   "codemirror_mode": {
    "name": "ipython",
    "version": 3
   },
   "file_extension": ".py",
   "mimetype": "text/x-python",
   "name": "python",
   "nbconvert_exporter": "python",
   "pygments_lexer": "ipython3",
   "version": "3.6.6"
  }
 },
 "nbformat": 4,
 "nbformat_minor": 2
}
