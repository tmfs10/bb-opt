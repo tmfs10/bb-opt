{
 "cells": [
  {
   "cell_type": "code",
   "execution_count": 1,
   "metadata": {
    "collapsed": true
   },
   "outputs": [],
   "source": [
    "import sys\n",
    "sys.path.append('/cluster/sj1/bb_opt/scripts')"
   ]
  },
  {
   "cell_type": "code",
   "execution_count": 2,
   "metadata": {
    "collapsed": true
   },
   "outputs": [],
   "source": [
    "%load_ext autoreload\n",
    "%autoreload 2\n",
    "\n",
    "import torch\n",
    "import random\n",
    "import numpy as np\n",
    "import matplotlib.pyplot as plt\n",
    "import seaborn as sns\n",
    "import collect_stats as cs\n",
    "\n",
    "%matplotlib inline"
   ]
  },
  {
   "cell_type": "code",
   "execution_count": 3,
   "metadata": {
    "collapsed": true
   },
   "outputs": [],
   "source": [
    "import collect_stats as cs"
   ]
  },
  {
   "cell_type": "code",
   "execution_count": 5,
   "metadata": {
    "collapsed": true
   },
   "outputs": [],
   "source": [
    "exp_folder = '/cluster/sj1/bb_opt/experiments'\n",
    "test_filepath = '/cluster/sj1/bb_opt/data/tatsu_pbm/test_files'\n",
    "filedir = '/cluster/sj1/bb_opt/data/paper_data2'\n",
    "num_tfs_to_test = 38\n",
    "batches = [10, 20, 100, 200]\n",
    "batches = [10]\n",
    "num_acks = 30"
   ]
  },
  {
   "cell_type": "code",
   "execution_count": 6,
   "metadata": {
    "collapsed": true
   },
   "outputs": [],
   "source": [
    "with open(test_filepath, 'r') as f:\n",
    "    filenames = [k.strip() for k in f.readlines()][:num_tfs_to_test]"
   ]
  },
  {
   "cell_type": "code",
   "execution_count": 7,
   "metadata": {
    "collapsed": true
   },
   "outputs": [],
   "source": [
    "def sigmoid(x, exp=np.exp):\n",
    "  return 1.0 / (1.0 + exp(-x))"
   ]
  },
  {
   "cell_type": "code",
   "execution_count": 8,
   "metadata": {
    "collapsed": true
   },
   "outputs": [],
   "source": [
    "filenames = [\n",
    "    'HESX1_E149K_R1_8mers.txt',\n",
    "    'EGR2_D383Y_R1_8mers.txt',\n",
    "    'BCL6_H676Y_R1_8mers.txt',\n",
    "    'ARX_L343Q_R1_8mers.txt',\n",
    "    'CRX_E80A_R1_8mers.txt',\n",
    "    'ESX1_K193R_R1_8mers.txt',\n",
    "    'FOXC1_F112S_R1_8mers.txt',\n",
    "    'GFI1B_A204T_R1_8mers.txt',\n",
    "    'GFI1_L400F_R1_8mers.txt',\n",
    "    'HOXC4_N178S_R1_8mers.txt',\n",
    "    'HOXD13_I322L_R1_8mers.txt',\n",
    "    'ISX_R83Q_R1_8mers.txt',\n",
    "    'KLF11_R402Q_R1_8mers.txt',\n",
    "    'KLF1_E325K_R1_8mers.txt',\n",
    "    'MSX2_P148H_R1_8mers.txt',\n",
    "    'NKX2-5_K183E_R1_8mers.txt',\n",
    "    'NR1H4_C144R_R1_8mers.txt',\n",
    "    'NR2E3_G56R_R1_8mers.txt',\n",
    "    'OVOL2_D228E_R1_8mers.txt',\n",
    "    'PAX3_G48R_R1_8mers.txt',\n",
    "    'PAX4_R183C_R1_8mers.txt',\n",
    "    'PAX6_A79E_R1_8mers.txt',\n",
    "    'PAX7_P112L_R1_8mers.txt',\n",
    "    'PBX4_R215Q_R1_8mers.txt',\n",
    "    'PHOX2B_Q143R_R1_8mers.txt',\n",
    "    'PITX2_L100Q_R1_8mers.txt',\n",
    "    'POU3F4_A237G_R1_8mers.txt',\n",
    "    'POU4F3_K277R_R1_8mers.txt',\n",
    "    'POU6F2_E639K_R1_8mers.txt',\n",
    "    'PROP1_R112Q_R1_8mers.txt',\n",
    "    'SIX6_H141N_R1_8mers.txt',\n",
    "    'SNAI2_D119E_R1_8mers.txt',\n",
    "    'VAX2_L139M_R1_8mers.txt',\n",
    "    'VENTX_E101K_R1_8mers.txt',\n",
    "    'VSX1_G160D_R1_8mers.txt',\n",
    "    'WT1_F392L_R1_8mers.txt',\n",
    "    'ZNF200_H322Y_R1_8mers.txt',\n",
    "    'ZNF655_E327G_R1_8mers.txt',\n",
    "]"
   ]
  },
  {
   "cell_type": "code",
   "execution_count": 9,
   "metadata": {
    "collapsed": true
   },
   "outputs": [],
   "source": [
    "tf_max = {}\n",
    "tf_labels = {}\n",
    "for tf in filenames:\n",
    "    labels = np.load(filedir + \"/\" + tf + \"/labels.npy\")\n",
    "    labels = np.log(labels)\n",
    "    tf_max[tf] = float(labels.max())\n",
    "    tf_labels[tf] = labels"
   ]
  },
  {
   "cell_type": "code",
   "execution_count": 10,
   "metadata": {
    "collapsed": true
   },
   "outputs": [],
   "source": [
    "arrs = {}"
   ]
  },
  {
   "cell_type": "code",
   "execution_count": 11,
   "metadata": {
    "collapsed": true
   },
   "outputs": [],
   "source": [
    "import collect_stats as cs"
   ]
  },
  {
   "cell_type": "code",
   "execution_count": 76,
   "metadata": {
    "collapsed": true
   },
   "outputs": [],
   "source": [
    "to_read = {\n",
    "    #'ensemble14/o_none_ucb_': [None, 'normal'],\n",
    "    #'ensemble14/o_none_ucb_maxinvar_g000510204080_': [None, 'maxinvar_g80'],\n",
    "    #'ensemble14/o_none_ucb_maxvar_g000510204080_': [None, 'maxvar_g80'],\n",
    "    #'ensemble14/o_none_ucb_adve_': [None, 'adve'],\n",
    "    'ensemble14/o_none_ucb_nc_g000510204080_': [None, 'nc'],\n",
    "    #'ensemble14/o_none_ucb_mincov_g000510204080_': [None, 'mincorr'],\n",
    "}"
   ]
  },
  {
   "cell_type": "code",
   "execution_count": 77,
   "metadata": {},
   "outputs": [
    {
     "name": "stdout",
     "output_type": "stream",
     "text": [
      "reading ensemble14/o_none_ucb_nc_g000510204080_\n",
      "reading sample 1\n",
      "reading sample 2\n",
      "reading sample 3\n",
      "reading sample 4\n",
      "reading sample 5\n",
      "reading sample 6\n",
      "reading sample 7\n",
      "reading sample 8\n",
      "reading sample 9\n",
      "reading sample 10\n",
      "reading sample 11\n",
      "reading sample 12\n",
      "reading sample 13\n",
      "reading sample 14\n",
      "reading sample 15\n",
      "reading sample 16\n",
      "reading sample 17\n",
      "reading sample 18\n",
      "reading sample 19\n",
      "reading sample 20\n"
     ]
    }
   ],
   "source": [
    "for k in to_read:\n",
    "    arrs[k] = to_read[k]\n",
    "for experiment in to_read:\n",
    "    print('reading', experiment)\n",
    "    arrs[experiment][0] = cs.get_data(exp_folder, experiment, batches, num_samples=20, mode=\"bayes_opt\")\n",
    "    #cs.get_data(exp_folder, experiment, batches, num_samples=20, mode=\"bayes_opt\")"
   ]
  },
  {
   "cell_type": "code",
   "execution_count": 78,
   "metadata": {
    "collapsed": true
   },
   "outputs": [],
   "source": [
    "to_eval = [\n",
    "    'ensemble14/o_none_ucb_',\n",
    "    'ensemble14/o_none_ucb_maxinvar_g000510204080_',\n",
    "    'ensemble14/o_none_ucb_maxvar_g000510204080_',\n",
    "    'ensemble14/o_none_ucb_adve_',\n",
    "    'ensemble14/o_none_ucb_nc_g000510204080_',\n",
    "    #'ensemble14/o_none_ucb_mincov_g000510204080_',\n",
    "]"
   ]
  },
  {
   "cell_type": "code",
   "execution_count": 18,
   "metadata": {
    "collapsed": true
   },
   "outputs": [],
   "source": [
    "idx_data_extractor = lambda x, filename : x['idx_frac'][0].item()"
   ]
  },
  {
   "cell_type": "code",
   "execution_count": 19,
   "metadata": {
    "collapsed": true
   },
   "outputs": [],
   "source": [
    "ack_rel_opt_val_data_extractor = lambda x, filename : x['ack_rel_opt_value']"
   ]
  },
  {
   "cell_type": "code",
   "execution_count": 20,
   "metadata": {
    "collapsed": true
   },
   "outputs": [],
   "source": [
    "train_rmse_fn = lambda x, filename : x['logging'][1]['train']['std']"
   ]
  },
  {
   "cell_type": "code",
   "execution_count": 21,
   "metadata": {
    "collapsed": true
   },
   "outputs": [],
   "source": [
    "def ir_regret_fn(x, filename): \n",
    "    temp = x['ir_batch_cur_idx'].numpy().tolist()\n",
    "    temp2 = set(x['ack_idx'].numpy().tolist())\n",
    "    temp3 = None\n",
    "    for k in temp[::-1]:\n",
    "        if k not in temp2:\n",
    "            break\n",
    "    return np.exp(max(tf_labels[filename][k], tf_labels[filename][x['ack_idx']].max()))\n",
    "\n",
    "def ack_regret_fn(x, filename): \n",
    "    return np.exp(max(tf_labels[filename][x['ack_idx']].max(), tf_labels[filename][x['idx_at_each_iter'][0]].max()))\n",
    "    #return np.exp(tf_labels[filename][x['ack_idx']].max())\n",
    "\n"
   ]
  },
  {
   "cell_type": "code",
   "execution_count": 79,
   "metadata": {},
   "outputs": [
    {
     "name": "stdout",
     "output_type": "stream",
     "text": [
      "comparing nc maxvar_g80\n",
      "HESX1_E149K_R1_8mers.txt 0.06690432258177074 0.39588414803147315 0.4222561001777649 1 \t (std: 0.08566 0.07139, #n: 20 20)\n",
      "EGR2_D383Y_R1_8mers.txt 0.14187430931777045 0.12012195060960948 0.14298780364915728 1 \t (std: 0.07681 0.07557, #n: 20 20)\n",
      "BCL6_H676Y_R1_8mers.txt 0.18130763764497881 0.40015244036912917 0.3916158556938171 0 \t (std: 0.02151 0.02680, #n: 20 20)\n",
      "ARX_L343Q_R1_8mers.txt 0.4266577473903904 0.1797256089746952 0.18490853793919088 1 \t (std: 0.02611 0.02936, #n: 20 20)\n",
      "CRX_E80A_R1_8mers.txt 0.8204319271908568 0.16265243850648403 0.16021341532468797 0 \t (std: 0.03451 0.04136, #n: 20 20)\n",
      "ESX1_K193R_R1_8mers.txt 0.464796114867575 0.42591463178396227 0.4391768276691437 1 \t (std: 0.09094 0.05902, #n: 20 20)\n",
      "FOXC1_F112S_R1_8mers.txt 0.26178534940563736 0.208384145796299 0.2041158527135849 0 \t (std: 0.02241 0.02463, #n: 20 20)\n",
      "GFI1B_A204T_R1_8mers.txt 0.3081142573682527 0.09146341532468796 0.08262195196002722 0 \t (std: 0.03405 0.04144, #n: 20 20)\n",
      "GFI1_L400F_R1_8mers.txt 0.5925212066080213 0.11783536598086357 0.1260670715942979 1 \t (std: 0.06297 0.06306, #n: 20 20)\n",
      "HOXC4_N178S_R1_8mers.txt 0.5958539111871807 0.43399389982223513 0.4410060986876488 1 \t (std: 0.04386 0.03350, #n: 20 20)\n",
      "HOXD13_I322L_R1_8mers.txt 0.7505665199070056 0.39817073196172714 0.3998475581407547 1 \t (std: 0.02222 0.02646, #n: 20 20)\n",
      "ISX_R83Q_R1_8mers.txt 0.0595384033486063 0.4048780530691147 0.373018291592598 0 \t (std: 0.05862 0.05198, #n: 20 20)\n",
      "KLF11_R402Q_R1_8mers.txt 0.0018616180921902945 0.2637195147573948 0.2894817069172859 1 \t (std: 0.04254 0.02355, #n: 20 20)\n",
      "KLF1_E325K_R1_8mers.txt 0.047063663124280605 0.40640244064852593 0.3032012173440307 0 \t (std: 0.15207 0.16546, #n: 20 20)\n",
      "MSX2_P148H_R1_8mers.txt 0.10492138814053732 0.44512195587158204 0.46920731514692304 1 \t (std: 0.05473 0.03858, #n: 20 20)\n",
      "NKX2-5_K183E_R1_8mers.txt 0.5582108840566413 0.31722561120986936 0.3195121943950653 1 \t (std: 0.01511 0.01338, #n: 20 20)\n",
      "NR1H4_C144R_R1_8mers.txt 0.4295291290896126 0.23536585196852683 0.2321646325290203 0 \t (std: 0.01666 0.01875, #n: 20 20)\n",
      "OVOL2_D228E_R1_8mers.txt 0.03666980442830441 0.01036585345864296 0.047713414300233126 1 \t (std: 0.02875 0.06694, #n: 20 20)\n",
      "PAX3_G48R_R1_8mers.txt 0.1185907872493144 0.271189022064209 0.30868902429938316 1 \t (std: 0.08864 0.07624, #n: 20 20)\n",
      "PAX4_R183C_R1_8mers.txt 0.5276013005047404 0.3150914639234543 0.30990853533148766 0 \t (std: 0.03247 0.03126, #n: 20 20)\n",
      "PAX6_A79E_R1_8mers.txt 0.5189797732837602 0.017987804813310505 0.019207316916435957 1 \t (std: 0.00708 0.00676, #n: 20 20)\n",
      "PAX7_P112L_R1_8mers.txt 0.7916121049945706 0.2301829256117344 0.2286585360765457 0 \t (std: 0.01559 0.02077, #n: 20 20)\n",
      "PBX4_R215Q_R1_8mers.txt 0.7727629206947249 0.24771341532468796 0.24557926803827285 0 \t (std: 0.03104 0.02584, #n: 20 20)\n",
      "PHOX2B_Q143R_R1_8mers.txt 0.9445947283583358 0.33719512075185776 0.33856706991791724 1 \t (std: 0.06890 0.08382, #n: 20 20)\n",
      "POU3F4_A237G_R1_8mers.txt 0.8195806879060912 0.5038109689950943 0.5025914534926414 0 \t (std: 0.01521 0.02441, #n: 20 20)\n",
      "POU4F3_K277R_R1_8mers.txt 0.1029808279515986 0.48201218992471695 0.4730182930827141 0 \t (std: 0.02234 0.02218, #n: 20 20)\n",
      "POU6F2_E639K_R1_8mers.txt 0.6144617905982142 0.3510670721530914 0.35914633944630625 1 \t (std: 0.05824 0.06143, #n: 20 20)\n",
      "PROP1_R112Q_R1_8mers.txt 0.4873973804472337 0.44984756261110304 0.46280487477779386 1 \t (std: 0.06860 0.04611, #n: 20 20)\n",
      "SIX6_H141N_R1_8mers.txt 0.5111092211661505 0.25121950954198835 0.25670731589198115 1 \t (std: 0.03304 0.02810, #n: 20 20)\n",
      "SNAI2_D119E_R1_8mers.txt 0.411972223028767 0.21768292561173438 0.2192073158919811 1 \t (std: 0.00590 0.00660, #n: 20 20)\n",
      "VAX2_L139M_R1_8mers.txt 0.5888541219642287 0.42362805008888244 0.4289634168148041 1 \t (std: 0.05625 0.05723, #n: 20 20)\n",
      "VENTX_E101K_R1_8mers.txt 0.9572132841778617 0.1996951222419739 0.1993902437388897 0 \t (std: 0.02618 0.02095, #n: 20 20)\n",
      "VSX1_G160D_R1_8mers.txt 0.007729306626705782 0.43246951401233674 0.4689024373888969 1 \t (std: 0.05669 0.06482, #n: 20 20)\n",
      "WT1_F392L_R1_8mers.txt 0.11958931294205893 0.3042682930827141 0.2958841472864151 0 \t (std: 0.02363 0.01771, #n: 20 20)\n",
      "ZNF200_H322Y_R1_8mers.txt 0.13354283568837655 0.10609756074845791 0.10060975588858127 0 \t (std: 0.01422 0.01667, #n: 20 20)\n",
      "ZNF655_E327G_R1_8mers.txt 0.12582041582511444 0.08262195130810142 0.10076219579204918 1 \t (std: 0.04103 0.04145, #n: 20 20)\n",
      "combined pval: 0.15342 vs 0.00998\n",
      "count: 21/36\n"
     ]
    }
   ],
   "source": [
    "cs.prop_test(10, \n",
    "             filenames,\n",
    "             idx_data_extractor,\n",
    "             #ack_rel_opt_val_data_extractor, \n",
    "             arrs, \n",
    "             [to_eval[4], to_eval[2]],\n",
    "             29,\n",
    "             pval_threshold=1,\n",
    "             paired_test=True,\n",
    "            )"
   ]
  },
  {
   "cell_type": "code",
   "execution_count": 80,
   "metadata": {
    "scrolled": false
   },
   "outputs": [
    {
     "name": "stdout",
     "output_type": "stream",
     "text": [
      "comparing nc maxvar_g80\n",
      "HESX1_E149K_R1_8mers.txt 0.10571259403231917 18972.363 20547.2 1 \t (std: 3846.60522 3607.98804, #n: 20 20)\n",
      "EGR2_D383Y_R1_8mers.txt 0.5517484417292368 66774.23 71291.375 1 \t (std: 24099.80078 28775.30078, #n: 20 20)\n",
      "BCL6_H676Y_R1_8mers.txt 0.18641143545847969 10468.777 10375.498 0 \t (std: 135.53026 248.74219, #n: 20 20)\n",
      "ARX_L343Q_R1_8mers.txt 0.3732390185148047 82187.96 81978.33 0 \t (std: 827.33185 629.36133, #n: 20 20)\n",
      "CRX_E80A_R1_8mers.txt 0.22070353434595305 330505.62 323630.75 0 \t (std: 21662.79102 20437.97461, #n: 20 20)\n",
      "ESX1_K193R_R1_8mers.txt 0.0359742806104311 24964.824 26922.6 1 \t (std: 3517.72021 2005.68713, #n: 20 20)\n",
      "FOXC1_F112S_R1_8mers.txt 0.9125714024358829 84778.77 84773.89 0 \t (std: 204.05176 214.90680, #n: 20 20)\n",
      "GFI1B_A204T_R1_8mers.txt 0.46266884464337565 144654.34 142769.66 0 \t (std: 8650.21680 9239.40820, #n: 20 20)\n",
      "GFI1_L400F_R1_8mers.txt 0.23297753143389824 78964.95 83128.266 1 \t (std: 12648.97168 13194.69922, #n: 20 20)\n",
      "HOXC4_N178S_R1_8mers.txt 0.07898459770652265 168587.19 173381.36 1 \t (std: 10899.88867 4487.65039, #n: 20 20)\n",
      "HOXD13_I322L_R1_8mers.txt 0.9123727365550033 307490.62 308036.97 1 \t (std: 16239.26660 15632.15527, #n: 20 20)\n",
      "ISX_R83Q_R1_8mers.txt 0.2812329581682779 490669.4 529286.25 1 \t (std: 126988.17969 110536.23438, #n: 20 20)\n",
      "KLF11_R402Q_R1_8mers.txt 0.0020948217639623606 59138.805 59313.605 1 \t (std: 214.08348 0.00391, #n: 20 20)\n",
      "KLF1_E325K_R1_8mers.txt 0.28322718399295366 1220.2668 1163.3379 0 \t (std: 129.33846 184.39722, #n: 20 20)\n",
      "MSX2_P148H_R1_8mers.txt 0.6570106503151241 172413.78 172250.36 0 \t (std: 1612.91931 1461.47229, #n: 20 20)\n",
      "NKX2-5_K183E_R1_8mers.txt 0.47934457305511236 29198.39 30285.184 1 \t (std: 4265.57812 4868.47559, #n: 20 20)\n",
      "OVOL2_D228E_R1_8mers.txt 0.07332241925679388 148505.64 195863.17 1 \t (std: 65360.50391 96382.17969, #n: 20 20)\n",
      "PAX3_G48R_R1_8mers.txt 0.6668235293267497 114813.664 113874.414 0 \t (std: 6265.36230 7833.51318, #n: 20 20)\n",
      "PAX4_R183C_R1_8mers.txt 0.9272385245659349 232.73099 232.64848 0 \t (std: 4.37495 4.75203, #n: 20 20)\n",
      "PAX6_A79E_R1_8mers.txt 0.5044956101934035 34947.406 34932.895 0 \t (std: 76.53056 87.98970, #n: 20 20)\n",
      "PAX7_P112L_R1_8mers.txt 0.30612563983220115 34579.63 34493.42 0 \t (std: 420.21289 469.76068, #n: 20 20)\n",
      "PBX4_R215Q_R1_8mers.txt 0.2092427467482465 16374.294 16437.574 1 \t (std: 212.26610 164.85358, #n: 20 20)\n",
      "PHOX2B_Q143R_R1_8mers.txt 0.25893598496594755 53130.375 52706.387 0 \t (std: 952.43890 1220.67822, #n: 20 20)\n",
      "POU3F4_A237G_R1_8mers.txt 1.0 127025.984 127025.98 0 \t (std: 111.01060 111.01060, #n: 20 20)\n",
      "POU4F3_K277R_R1_8mers.txt 1.0 401960.4 401960.38 0 \t (std: 11024.49902 11024.50000, #n: 20 20)\n",
      "POU6F2_E639K_R1_8mers.txt 0.4935785645189994 102995.984 101982.81 0 \t (std: 3187.30884 5161.80664, #n: 20 20)\n",
      "PROP1_R112Q_R1_8mers.txt 0.31290664198936846 223704.08 223832.78 1 \t (std: 536.32941 38.25000, #n: 20 20)\n",
      "SIX6_H141N_R1_8mers.txt 0.07970334329895706 139060.6 143580.9 1 \t (std: 18766.22852 17953.32422, #n: 20 20)\n",
      "VAX2_L139M_R1_8mers.txt 0.01902038746124347 231208.62 236462.42 1 \t (std: 9048.40820 3565.71484, #n: 20 20)\n",
      "VENTX_E101K_R1_8mers.txt 0.10893039456214973 115406.61 116500.02 1 \t (std: 2912.07251 814.86646, #n: 20 20)\n",
      "VSX1_G160D_R1_8mers.txt 0.9723675487713379 156663.92 156852.6 1 \t (std: 16581.01172 20529.49023, #n: 20 20)\n",
      "WT1_F392L_R1_8mers.txt 0.16254999902972705 29322.887 29341.4 1 \t (std: 80.15556 66.09796, #n: 20 20)\n",
      "ZNF200_H322Y_R1_8mers.txt 0.7521542317487722 92378.34 91851.58 0 \t (std: 5273.81592 5128.71826, #n: 20 20)\n",
      "ZNF655_E327G_R1_8mers.txt 0.3431744757319207 54321.21 59331.28 1 \t (std: 11616.23242 18030.77344, #n: 20 20)\n",
      "combined pval: 0.88384 vs 0.00048\n",
      "count: 18/34\n"
     ]
    }
   ],
   "source": [
    "cs.prop_test(10,\n",
    "             filenames,\n",
    "             ack_regret_fn,\n",
    "             #ack_rel_opt_val_data_extractor,\n",
    "             arrs,\n",
    "             [to_eval[4], to_eval[2]],\n",
    "             29,\n",
    "             pval_threshold=1,\n",
    "             paired_test=True,\n",
    "            )"
   ]
  },
  {
   "cell_type": "code",
   "execution_count": 81,
   "metadata": {},
   "outputs": [
    {
     "name": "stdout",
     "output_type": "stream",
     "text": [
      "comparing nc maxvar_g80\n",
      "HESX1_E149K_R1_8mers.txt 0.10571259403231917 18972.363 20547.2 1 \t (std: 3846.60522 3607.98804, #n: 20 20)\n",
      "EGR2_D383Y_R1_8mers.txt 0.6053737428117263 67490.98 71291.375 1 \t (std: 23536.30273 28775.30078, #n: 20 20)\n",
      "BCL6_H676Y_R1_8mers.txt 0.18641143545847969 10468.777 10375.498 0 \t (std: 135.53026 248.74219, #n: 20 20)\n",
      "ARX_L343Q_R1_8mers.txt 0.3732390185148047 82187.96 81978.33 0 \t (std: 827.33185 629.36133, #n: 20 20)\n",
      "CRX_E80A_R1_8mers.txt 0.2963538981548161 330505.62 324729.44 0 \t (std: 21662.79102 20225.24219, #n: 20 20)\n",
      "ESX1_K193R_R1_8mers.txt 0.0359742806104311 24964.824 26922.6 1 \t (std: 3517.72021 2005.68713, #n: 20 20)\n",
      "FOXC1_F112S_R1_8mers.txt 0.9125714024358829 84778.77 84773.89 0 \t (std: 204.05176 214.90680, #n: 20 20)\n",
      "GFI1B_A204T_R1_8mers.txt 0.46266884464337565 144654.34 142769.66 0 \t (std: 8650.21680 9239.40820, #n: 20 20)\n",
      "GFI1_L400F_R1_8mers.txt 0.23297753143389824 78964.95 83128.266 1 \t (std: 12648.97168 13194.69922, #n: 20 20)\n",
      "HOXC4_N178S_R1_8mers.txt 0.07898459770652265 168587.19 173381.36 1 \t (std: 10899.88867 4487.65039, #n: 20 20)\n",
      "HOXD13_I322L_R1_8mers.txt 0.9123727365550033 307490.62 308036.97 1 \t (std: 16239.26660 15632.15527, #n: 20 20)\n",
      "ISX_R83Q_R1_8mers.txt 0.25930742331805007 490669.4 530987.1 1 \t (std: 126988.17969 108522.16406, #n: 20 20)\n",
      "KLF11_R402Q_R1_8mers.txt 0.0020948217639623606 59138.805 59313.605 1 \t (std: 214.08348 0.00391, #n: 20 20)\n",
      "KLF1_E325K_R1_8mers.txt 0.28322718399295366 1220.2668 1163.3379 0 \t (std: 129.33846 184.39722, #n: 20 20)\n",
      "MSX2_P148H_R1_8mers.txt 0.6570106503151241 172413.78 172250.36 0 \t (std: 1612.91931 1461.47229, #n: 20 20)\n",
      "NKX2-5_K183E_R1_8mers.txt 0.47934457305511236 29198.39 30285.184 1 \t (std: 4265.57812 4868.47559, #n: 20 20)\n",
      "OVOL2_D228E_R1_8mers.txt 0.08454094265649578 149885.33 195863.17 1 \t (std: 65650.88281 96382.17969, #n: 20 20)\n",
      "PAX3_G48R_R1_8mers.txt 0.6668235293267497 114813.664 113874.414 0 \t (std: 6265.36230 7833.51318, #n: 20 20)\n",
      "PAX4_R183C_R1_8mers.txt 0.9272385245659349 232.73099 232.64848 0 \t (std: 4.37495 4.75203, #n: 20 20)\n",
      "PAX6_A79E_R1_8mers.txt 0.5044956101934035 34947.406 34932.895 0 \t (std: 76.53056 87.98970, #n: 20 20)\n",
      "PAX7_P112L_R1_8mers.txt 0.30612563983220115 34579.63 34493.42 0 \t (std: 420.21289 469.76068, #n: 20 20)\n",
      "PBX4_R215Q_R1_8mers.txt 0.2092427467482465 16374.294 16437.574 1 \t (std: 212.26610 164.85358, #n: 20 20)\n",
      "PHOX2B_Q143R_R1_8mers.txt 0.25893598496594755 53130.375 52706.387 0 \t (std: 952.43890 1220.67822, #n: 20 20)\n",
      "POU3F4_A237G_R1_8mers.txt 1.0 127025.984 127025.98 0 \t (std: 111.01060 111.01060, #n: 20 20)\n",
      "POU4F3_K277R_R1_8mers.txt 1.0 401960.4 401960.38 0 \t (std: 11024.49902 11024.50000, #n: 20 20)\n",
      "POU6F2_E639K_R1_8mers.txt 0.4935785645189994 102995.984 101982.81 0 \t (std: 3187.30884 5161.80664, #n: 20 20)\n",
      "PROP1_R112Q_R1_8mers.txt 0.31290664198936846 223704.08 223832.78 1 \t (std: 536.32941 38.25000, #n: 20 20)\n",
      "SIX6_H141N_R1_8mers.txt 0.07970334329895706 139060.6 143580.9 1 \t (std: 18766.22852 17953.32422, #n: 20 20)\n",
      "VAX2_L139M_R1_8mers.txt 0.01902038746124347 231208.62 236462.42 1 \t (std: 9048.40820 3565.71484, #n: 20 20)\n",
      "VENTX_E101K_R1_8mers.txt 0.10893039456214973 115406.61 116500.02 1 \t (std: 2912.07251 814.86646, #n: 20 20)\n",
      "VSX1_G160D_R1_8mers.txt 0.9723675487713379 156663.92 156852.6 1 \t (std: 16581.01172 20529.49023, #n: 20 20)\n",
      "WT1_F392L_R1_8mers.txt 0.16254999902972705 29322.887 29341.4 1 \t (std: 80.15556 66.09796, #n: 20 20)\n",
      "ZNF200_H322Y_R1_8mers.txt 0.7521542317487722 92378.34 91851.58 0 \t (std: 5273.81592 5128.71826, #n: 20 20)\n",
      "ZNF655_E327G_R1_8mers.txt 0.3622604422705722 54514.926 59331.28 1 \t (std: 11571.18066 18030.77344, #n: 20 20)\n",
      "combined pval: 0.90107 vs 0.00053\n",
      "count: 18/34\n"
     ]
    }
   ],
   "source": [
    "cs.prop_test(10, \n",
    "             filenames, \n",
    "             ir_regret_fn, \n",
    "             arrs, \n",
    "             [to_eval[4], to_eval[2]], \n",
    "             29,\n",
    "             pval_threshold=1,\n",
    "             paired_test=True,\n",
    "            )"
   ]
  },
  {
   "cell_type": "code",
   "execution_count": null,
   "metadata": {
    "collapsed": true
   },
   "outputs": [],
   "source": [
    "cs.uniform_baseline(\n",
    "    3,\n",
    "    tf_labels,\n",
    "    20, \n",
    "    filenames, \n",
    "    ack_regret_fn, \n",
    "    #ack_rel_opt_val_data_extractor,\n",
    "    arrs,\n",
    "    to_eval[5], \n",
    "    14, \n",
    "    pval_threshold=1, \n",
    ")"
   ]
  },
  {
   "cell_type": "code",
   "execution_count": null,
   "metadata": {
    "collapsed": true
   },
   "outputs": [],
   "source": [
    "cs.prop_test(100, \n",
    "             filenames, \n",
    "             idx_data_extractor, \n",
    "             arrs, \n",
    "             [to_eval[-2], to_eval[-1]], \n",
    "             9,\n",
    "             pval_threshold=0.2,\n",
    "             paired_test=True,\n",
    "            )"
   ]
  },
  {
   "cell_type": "code",
   "execution_count": null,
   "metadata": {
    "collapsed": true
   },
   "outputs": [],
   "source": [
    "cs.prop_test(100, filenames, ir_regret_fn, arrs, [to_eval[-2], to_eval[-1]], 9, pval_threshold=0.2, paired_test=True)"
   ]
  },
  {
   "cell_type": "code",
   "execution_count": null,
   "metadata": {
    "collapsed": true
   },
   "outputs": [],
   "source": [
    "cs.prop_test(100, filenames, ack_regret_fn, arrs, [to_eval[-2], to_eval[-1]], 9, pval_threshold=1.4, paired_test=True)"
   ]
  },
  {
   "cell_type": "code",
   "execution_count": null,
   "metadata": {
    "collapsed": true
   },
   "outputs": [],
   "source": [
    "cs.prop_test(200, \n",
    "             filenames, \n",
    "             idx_data_extractor, \n",
    "             arrs, \n",
    "             [to_eval[-2], to_eval[-1]], \n",
    "             29, \n",
    "             pval_threshold=1,\n",
    "             paired_test=True,\n",
    "            )"
   ]
  },
  {
   "cell_type": "code",
   "execution_count": null,
   "metadata": {
    "collapsed": true
   },
   "outputs": [],
   "source": [
    "cs.prop_test(200, filenames, ack_rel_opt_val_data_extractor, arrs, [to_eval[-2], to_eval[-1]], 29, pval_threshold=1.4, paired_test=True)"
   ]
  },
  {
   "cell_type": "code",
   "execution_count": 62,
   "metadata": {
    "collapsed": true
   },
   "outputs": [],
   "source": [
    "to_eval = [\n",
    "    'ensemble14/o_none_ucb_',\n",
    "    'ensemble14/o_none_ucb_maxinvar_g000510204080_',\n",
    "    'ensemble14/o_none_ucb_maxvar_g000510204080_',\n",
    "    'ensemble14/o_none_ucb_adve_',\n",
    "    'ensemble14/o_none_ucb_nc_g000510204080_',\n",
    "    #'ensemble14/o_none_ucb_mincov_g000510204080_',\n",
    "]"
   ]
  },
  {
   "cell_type": "code",
   "execution_count": 65,
   "metadata": {
    "scrolled": false
   },
   "outputs": [
    {
     "name": "stdout",
     "output_type": "stream",
     "text": [
      "BATCH SIZE 10\n",
      "HESX1_E149K_R1_8mers.txt\n",
      "normal: 0.393140 0.146472 0.080921 0.042552 ;   0.00 val_nll ; 20 samples\n",
      "maxvar_g80: 0.422256 0.146290 0.079735 0.042180 ;   0.00 val_nll ; 20 samples\n",
      "adve: 0.403963 0.147536 0.080952 0.042499 ;   0.00 val_nll ; 20 samples\n",
      "nc: 0.395884 0.147901 0.081073 0.042529 ;   0.00 val_nll ; 20 samples\n",
      "EGR2_D383Y_R1_8mers.txt\n",
      "normal: 0.120427 0.058516 0.039739 0.027443 ;   0.00 val_nll ; 20 samples\n",
      "maxvar_g80: 0.142988 0.069799 0.044436 0.028842 ;   0.00 val_nll ; 20 samples\n",
      "adve: 0.135061 0.065389 0.042855 0.028500 ;   0.00 val_nll ; 20 samples\n",
      "nc: 0.120122 0.061283 0.040742 0.028127 ;   0.00 val_nll ; 20 samples\n",
      "BCL6_H676Y_R1_8mers.txt\n",
      "normal: 0.397409 0.156873 0.086014 0.043753 ;   0.00 val_nll ; 20 samples\n",
      "maxvar_g80: 0.391616 0.155596 0.085315 0.043646 ;   0.00 val_nll ; 20 samples\n",
      "adve: 0.396951 0.156144 0.085771 0.043722 ;   0.00 val_nll ; 20 samples\n",
      "nc: 0.400153 0.157786 0.085877 0.043768 ;   0.00 val_nll ; 20 samples\n",
      "ARX_L343Q_R1_8mers.txt\n",
      "normal: 0.182774 0.095712 0.062998 0.038060 ;   0.00 val_nll ; 20 samples\n",
      "maxvar_g80: 0.184909 0.093279 0.061478 0.037073 ;   0.00 val_nll ; 20 samples\n",
      "adve: 0.187652 0.096168 0.063317 0.037977 ;   0.00 val_nll ; 20 samples\n",
      "nc: 0.179726 0.096137 0.063606 0.038197 ;   0.00 val_nll ; 20 samples\n",
      "CRX_E80A_R1_8mers.txt\n",
      "normal: 0.165244 0.116606 0.073913 0.041670 ;   0.00 val_nll ; 20 samples\n",
      "maxvar_g80: 0.160213 0.112257 0.070553 0.040386 ;   0.00 val_nll ; 20 samples\n",
      "adve: 0.167683 0.117792 0.074263 0.041617 ;   0.00 val_nll ; 20 samples\n",
      "nc: 0.162652 0.118127 0.073791 0.041420 ;   0.00 val_nll ; 20 samples\n",
      "mincorr: 0.167683 0.113656 0.072484 0.041366 ;   0.00 val_nll ; 20 samples\n",
      "ESX1_K193R_R1_8mers.txt\n",
      "normal: 0.380640 0.153802 0.083810 0.043494 ;   0.00 val_nll ; 20 samples\n",
      "maxvar_g80: 0.439177 0.156478 0.083718 0.043434 ;   0.00 val_nll ; 20 samples\n",
      "adve: 0.391006 0.154836 0.084190 0.043487 ;   0.00 val_nll ; 20 samples\n",
      "nc: 0.425915 0.157178 0.084433 0.043684 ;   0.00 val_nll ; 20 samples\n",
      "FOXC1_F112S_R1_8mers.txt\n",
      "normal: 0.211128 0.108516 0.068364 0.040447 ;   0.00 val_nll ; 20 samples\n",
      "maxvar_g80: 0.204116 0.106083 0.066662 0.039626 ;   0.00 val_nll ; 20 samples\n",
      "adve: 0.213262 0.108333 0.068273 0.040470 ;   0.00 val_nll ; 20 samples\n",
      "nc: 0.208384 0.107603 0.067847 0.040318 ;   0.00 val_nll ; 20 samples\n",
      "GFI1B_A204T_R1_8mers.txt\n",
      "normal: 0.104878 0.073540 0.054059 0.036761 ;   0.00 val_nll ; 20 samples\n",
      "maxvar_g80: 0.082622 0.064964 0.050760 0.034777 ;   0.00 val_nll ; 20 samples\n",
      "adve: 0.105488 0.072871 0.054105 0.036677 ;   0.00 val_nll ; 20 samples\n",
      "nc: 0.090320 0.070408 0.053246 0.036271 ;   0.00 val_nll ; 8 samples\n",
      "GFI1_L400F_R1_8mers.txt\n",
      "normal: 0.106860 0.123571 0.078550 0.043099 ;   0.00 val_nll ; 20 samples\n",
      "maxvar_g80: 0.126067 0.122415 0.076452 0.042286 ;   0.00 val_nll ; 20 samples\n",
      "adve: 0.111128 0.124453 0.078808 0.043069 ;   0.00 val_nll ; 20 samples\n",
      "nc: 0.117835 0.122476 0.078261 0.042902 ;   0.00 val_nll ; 20 samples\n",
      "HOXC4_N178S_R1_8mers.txt\n",
      "normal: 0.441463 0.160097 0.085664 0.043882 ;   0.00 val_nll ; 20 samples\n",
      "maxvar_g80: 0.441006 0.158212 0.085406 0.043768 ;   0.00 val_nll ; 20 samples\n",
      "adve: 0.421341 0.158972 0.085223 0.043829 ;   0.00 val_nll ; 20 samples\n",
      "nc: 0.433994 0.159155 0.085710 0.043791 ;   0.00 val_nll ; 20 samples\n",
      "HOXD13_I322L_R1_8mers.txt\n",
      "normal: 0.392683 0.161466 0.085664 0.043722 ;   0.00 val_nll ; 20 samples\n",
      "maxvar_g80: 0.399848 0.160097 0.084752 0.043327 ;   0.00 val_nll ; 20 samples\n",
      "adve: 0.392226 0.160797 0.085406 0.043654 ;   0.00 val_nll ; 20 samples\n",
      "nc: 0.398171 0.161101 0.085421 0.043684 ;   0.00 val_nll ; 20 samples\n",
      "ISX_R83Q_R1_8mers.txt\n",
      "normal: 0.406555 0.151916 0.083566 0.043152 ;   0.00 val_nll ; 20 samples\n",
      "maxvar_g80: 0.373018 0.145590 0.081028 0.042598 ;   0.00 val_nll ; 20 samples\n",
      "adve: 0.410061 0.151460 0.083521 0.043259 ;   0.00 val_nll ; 20 samples\n",
      "nc: 0.405722 0.150290 0.083425 0.043238 ;   0.00 val_nll ; 13 samples\n",
      "KLF11_R402Q_R1_8mers.txt\n",
      "normal: 0.264024 0.123996 0.073731 0.041412 ;   0.00 val_nll ; 20 samples\n",
      "maxvar_g80: 0.289482 0.126429 0.073594 0.040857 ;   0.00 val_nll ; 20 samples\n",
      "adve: 0.266616 0.124300 0.074035 0.041420 ;   0.00 val_nll ; 20 samples\n",
      "nc: 0.263719 0.124970 0.074612 0.041594 ;   0.00 val_nll ; 20 samples\n",
      "KLF1_E325K_R1_8mers.txt\n",
      "normal: 0.367073 0.115085 0.063986 0.035112 ;   0.00 val_nll ; 20 samples\n",
      "maxvar_g80: 0.303201 0.096350 0.055762 0.032231 ;   0.00 val_nll ; 20 samples\n",
      "adve: 0.378354 0.118735 0.065430 0.035636 ;   0.00 val_nll ; 20 samples\n",
      "nc: 0.406402 0.122993 0.066753 0.036176 ;   0.00 val_nll ; 20 samples\n",
      "mincorr: 0.271342 0.093704 0.054333 0.032353 ;   0.00 val_nll ; 20 samples\n",
      "MSX2_P148H_R1_8mers.txt\n",
      "normal: 0.447409 0.160858 0.086500 0.044019 ;   0.00 val_nll ; 20 samples\n",
      "maxvar_g80: 0.469207 0.160189 0.085801 0.043821 ;   0.00 val_nll ; 20 samples\n",
      "adve: 0.452591 0.159824 0.086272 0.043996 ;   0.00 val_nll ; 20 samples\n",
      "nc: 0.445122 0.161071 0.086531 0.044042 ;   0.00 val_nll ; 20 samples\n",
      "NKX2-5_K183E_R1_8mers.txt\n",
      "normal: 0.320427 0.157664 0.086881 0.044049 ;   0.00 val_nll ; 20 samples\n",
      "maxvar_g80: 0.319512 0.154136 0.085269 0.043654 ;   0.00 val_nll ; 20 samples\n",
      "adve: 0.324695 0.157938 0.086637 0.044011 ;   0.00 val_nll ; 20 samples\n",
      "NR1H4_C144R_R1_8mers.txt\n",
      "normal: 0.232012 0.116302 0.077638 0.042666 ;   0.00 val_nll ; 20 samples\n",
      "maxvar_g80: 0.232165 0.115420 0.076513 0.042491 ;   0.00 val_nll ; 20 samples\n",
      "adve: 0.233841 0.117214 0.078002 0.042826 ;   0.00 val_nll ; 20 samples\n",
      "nc: 0.235366 0.116727 0.077592 0.042788 ;   0.00 val_nll ; 20 samples\n",
      "NR2E3_G56R_R1_8mers.txt\n",
      "normal: 0.101524 0.080292 0.059167 0.038038 ;   0.00 val_nll ; 20 samples\n",
      "maxvar_g80: 0.107927 0.080779 0.058574 0.037673 ;   0.00 val_nll ; 20 samples\n",
      "adve: 0.105335 0.080839 0.059076 0.037901 ;   0.00 val_nll ; 20 samples\n",
      "OVOL2_D228E_R1_8mers.txt\n",
      "normal: 0.004116 0.079592 0.070432 0.042886 ;   0.00 val_nll ; 20 samples\n",
      "maxvar_g80: 0.047713 0.083181 0.067483 0.040774 ;   0.00 val_nll ; 20 samples\n",
      "adve: 0.008841 0.080657 0.070538 0.042894 ;   0.00 val_nll ; 20 samples\n",
      "nc: 0.010366 0.080535 0.070386 0.042856 ;   0.00 val_nll ; 20 samples\n",
      "PAX3_G48R_R1_8mers.txt\n",
      "normal: 0.287652 0.128163 0.073594 0.040644 ;   0.00 val_nll ; 20 samples\n",
      "maxvar_g80: 0.308689 0.124787 0.072317 0.039960 ;   0.00 val_nll ; 20 samples\n",
      "adve: 0.314329 0.130474 0.074171 0.040629 ;   0.00 val_nll ; 20 samples\n",
      "nc: 0.271189 0.126946 0.072469 0.040302 ;   0.00 val_nll ; 20 samples\n",
      "PAX4_R183C_R1_8mers.txt\n",
      "normal: 0.315091 0.131417 0.079249 0.042993 ;   0.00 val_nll ; 20 samples\n",
      "maxvar_g80: 0.309909 0.128710 0.077744 0.042408 ;   0.00 val_nll ; 20 samples\n",
      "adve: 0.313262 0.131204 0.079325 0.042985 ;   0.00 val_nll ; 20 samples\n",
      "nc: 0.311253 0.131663 0.079549 0.042960 ;   0.00 val_nll ; 11 samples\n",
      "PAX6_A79E_R1_8mers.txt\n",
      "normal: 0.019207 0.015085 0.014062 0.012532 ;   0.00 val_nll ; 20 samples\n",
      "maxvar_g80: 0.019207 0.015602 0.013834 0.011856 ;   0.00 val_nll ; 20 samples\n",
      "adve: 0.019512 0.015785 0.014092 0.012608 ;   0.00 val_nll ; 20 samples\n",
      "nc: 0.017988 0.015876 0.014351 0.012433 ;   0.00 val_nll ; 20 samples\n",
      "PAX7_P112L_R1_8mers.txt\n",
      "normal: 0.233537 0.105566 0.069839 0.039983 ;   0.00 val_nll ; 20 samples\n",
      "maxvar_g80: 0.228659 0.102616 0.068273 0.039041 ;   0.00 val_nll ; 20 samples\n",
      "adve: 0.229878 0.104653 0.069641 0.040082 ;   0.00 val_nll ; 20 samples\n",
      "nc: 0.229421 0.105839 0.069702 0.040128 ;   0.00 val_nll ; 4 samples\n",
      "PBX4_R215Q_R1_8mers.txt\n",
      "normal: 0.242073 0.115268 0.073077 0.041777 ;   0.00 val_nll ; 20 samples\n",
      "maxvar_g80: 0.245579 0.111375 0.071602 0.041009 ;   0.00 val_nll ; 20 samples\n",
      "adve: 0.250152 0.116089 0.073351 0.041921 ;   0.00 val_nll ; 20 samples\n",
      "nc: 0.233232 0.111010 0.071906 0.041648 ;   0.00 val_nll ; 4 samples\n",
      "PHOX2B_Q143R_R1_8mers.txt\n",
      "normal: 0.330945 0.128650 0.074476 0.041017 ;   0.00 val_nll ; 20 samples\n",
      "maxvar_g80: 0.338567 0.127068 0.073031 0.040394 ;   0.00 val_nll ; 20 samples\n",
      "adve: 0.325610 0.128285 0.074293 0.041131 ;   0.00 val_nll ; 20 samples\n",
      "nc: 0.342988 0.130398 0.075289 0.041116 ;   0.00 val_nll ; 8 samples\n",
      "PITX2_L100Q_R1_8mers.txt\n",
      "normal: 0.226677 0.128437 0.078018 0.042704 ;   0.00 val_nll ; 20 samples\n",
      "maxvar_g80: 0.240244 0.127342 0.076528 0.041997 ;   0.00 val_nll ; 20 samples\n",
      "adve: 0.230488 0.128346 0.077394 0.042522 ;   0.00 val_nll ; 20 samples\n",
      "POU3F4_A237G_R1_8mers.txt\n",
      "normal: 0.498018 0.169526 0.087990 0.044072 ;   0.00 val_nll ; 20 samples\n",
      "maxvar_g80: 0.502591 0.167731 0.087215 0.043859 ;   0.00 val_nll ; 20 samples\n",
      "adve: 0.503354 0.169526 0.087793 0.044057 ;   0.00 val_nll ; 20 samples\n",
      "nc: 0.503811 0.169404 0.088036 0.044080 ;   0.00 val_nll ; 20 samples\n",
      "mincorr: 0.491816 0.168203 0.087885 0.044056 ;   0.00 val_nll ; 19 samples\n",
      "POU4F3_K277R_R1_8mers.txt\n",
      "normal: 0.479116 0.167336 0.086698 0.044011 ;   0.00 val_nll ; 20 samples\n",
      "maxvar_g80: 0.473018 0.165055 0.086288 0.043920 ;   0.00 val_nll ; 20 samples\n",
      "adve: 0.476220 0.167305 0.086881 0.044049 ;   0.00 val_nll ; 20 samples\n",
      "nc: 0.482012 0.167488 0.087033 0.044049 ;   0.00 val_nll ; 20 samples\n",
      "POU6F2_E639K_R1_8mers.txt\n",
      "normal: 0.335823 0.147384 0.080952 0.042696 ;   0.00 val_nll ; 20 samples\n",
      "maxvar_g80: 0.359146 0.147202 0.080617 0.042408 ;   0.00 val_nll ; 20 samples\n",
      "adve: 0.333079 0.146350 0.080632 0.042537 ;   0.00 val_nll ; 20 samples\n",
      "nc: 0.334756 0.148662 0.080815 0.042438 ;   0.00 val_nll ; 5 samples\n",
      "PROP1_R112Q_R1_8mers.txt\n",
      "normal: 0.445274 0.161679 0.085953 0.043586 ;   0.00 val_nll ; 20 samples\n",
      "maxvar_g80: 0.462805 0.160493 0.085269 0.043358 ;   0.00 val_nll ; 20 samples\n",
      "adve: 0.460366 0.161861 0.085695 0.043578 ;   0.00 val_nll ; 20 samples\n",
      "nc: 0.421167 0.160497 0.085349 0.043472 ;   0.00 val_nll ; 7 samples\n",
      "SIX6_H141N_R1_8mers.txt\n",
      "normal: 0.242530 0.127464 0.077926 0.042316 ;   0.00 val_nll ; 20 samples\n",
      "maxvar_g80: 0.256707 0.127403 0.076102 0.041306 ;   0.00 val_nll ; 20 samples\n",
      "adve: 0.253811 0.129015 0.077957 0.042240 ;   0.00 val_nll ; 20 samples\n",
      "nc: 0.251220 0.129410 0.077622 0.042149 ;   0.00 val_nll ; 20 samples\n",
      "SNAI2_D119E_R1_8mers.txt\n",
      "normal: 0.221189 0.151217 0.085604 0.044026 ;   0.00 val_nll ; 20 samples\n",
      "maxvar_g80: 0.219207 0.149361 0.084448 0.043768 ;   0.00 val_nll ; 20 samples\n",
      "adve: 0.219360 0.151946 0.085740 0.044026 ;   0.00 val_nll ; 20 samples\n",
      "nc: 0.217683 0.151490 0.085558 0.044042 ;   0.00 val_nll ; 20 samples\n",
      "VAX2_L139M_R1_8mers.txt\n",
      "normal: 0.433994 0.160280 0.085862 0.043966 ;   0.00 val_nll ; 20 samples\n",
      "maxvar_g80: 0.428963 0.158881 0.085877 0.043912 ;   0.00 val_nll ; 20 samples\n",
      "adve: 0.438720 0.160736 0.085938 0.043966 ;   0.00 val_nll ; 20 samples\n",
      "nc: 0.423628 0.161375 0.086242 0.043966 ;   0.00 val_nll ; 20 samples\n",
      "VENTX_E101K_R1_8mers.txt\n",
      "normal: 0.189634 0.109246 0.069200 0.040302 ;   0.00 val_nll ; 20 samples\n",
      "maxvar_g80: 0.199390 0.105414 0.066905 0.038927 ;   0.00 val_nll ; 20 samples\n",
      "adve: 0.196189 0.110462 0.069520 0.040188 ;   0.00 val_nll ; 20 samples\n",
      "nc: 0.199695 0.111679 0.070158 0.040492 ;   0.00 val_nll ; 20 samples\n",
      "VSX1_G160D_R1_8mers.txt\n",
      "normal: 0.434909 0.158455 0.085147 0.043806 ;   0.00 val_nll ; 20 samples\n",
      "maxvar_g80: 0.468902 0.159611 0.084828 0.043684 ;   0.00 val_nll ; 20 samples\n",
      "adve: 0.451067 0.159580 0.085330 0.043776 ;   0.00 val_nll ; 20 samples\n",
      "nc: 0.432470 0.158790 0.085011 0.043753 ;   0.00 val_nll ; 20 samples\n",
      "WT1_F392L_R1_8mers.txt\n",
      "normal: 0.299695 0.135462 0.082715 0.043684 ;   0.00 val_nll ; 20 samples\n",
      "maxvar_g80: 0.295884 0.132908 0.081134 0.043358 ;   0.00 val_nll ; 20 samples\n",
      "adve: 0.300305 0.136131 0.082761 0.043677 ;   0.00 val_nll ; 20 samples\n",
      "nc: 0.304268 0.136040 0.082837 0.043700 ;   0.00 val_nll ; 20 samples\n",
      "ZNF200_H322Y_R1_8mers.txt\n",
      "normal: 0.102744 0.070773 0.052250 0.034580 ;   0.00 val_nll ; 20 samples\n",
      "maxvar_g80: 0.100610 0.065450 0.049392 0.033736 ;   0.00 val_nll ; 20 samples\n",
      "adve: 0.102744 0.069830 0.052372 0.034572 ;   0.00 val_nll ; 20 samples\n",
      "nc: 0.106098 0.070134 0.052402 0.034914 ;   0.00 val_nll ; 20 samples\n",
      "ZNF655_E327G_R1_8mers.txt\n",
      "normal: 0.073628 0.072111 0.057525 0.038288 ;   0.00 val_nll ; 20 samples\n",
      "maxvar_g80: 0.100762 0.073996 0.055351 0.036731 ;   0.00 val_nll ; 20 samples\n",
      "adve: 0.077591 0.074027 0.058057 0.038106 ;   0.00 val_nll ; 20 samples\n",
      "nc: 0.082622 0.074696 0.057936 0.038425 ;   0.00 val_nll ; 20 samples\n"
     ]
    }
   ],
   "source": [
    "ack_iter = 29\n",
    "for batch_size in [10]:\n",
    "    print(\"BATCH SIZE\", batch_size)\n",
    "    for filename in filenames:\n",
    "        filename_printed = False\n",
    "        for experiment in to_eval:\n",
    "            if len(arrs[experiment][0]) == 0:\n",
    "                continue\n",
    "            idx_frac = None\n",
    "            num_used = 0\n",
    "            val_nll = 0\n",
    "            try:\n",
    "                for stats in arrs[experiment][0]:\n",
    "                    if filename not in stats:\n",
    "                        continue\n",
    "                    if batch_size not in stats[filename]:\n",
    "                        continue\n",
    "                    if len(stats[filename][batch_size]) <= ack_iter:\n",
    "                        continue\n",
    "                    num_used += 1\n",
    "                    mean = 0\n",
    "                    #for i in range(len(stats[filename][batch_size])):\n",
    "                        #mean += stats[filename][batch_size][i]['logging'][1]['best']['nll']\n",
    "                    if len(stats[filename][batch_size]) > 0:\n",
    "                        mean /= (len(stats[filename][batch_size]))\n",
    "                    #val_nll += stats[filename][batch_size][0]['logging'][1]['best']['nll']\n",
    "                    val_nll += mean\n",
    "                    if idx_frac is None:\n",
    "                        idx_frac = stats[filename][batch_size][ack_iter]['idx_frac']\n",
    "                        #idx_frac = tf_labels[filename][stats[filename][batch_size][ack_iter]['ir_batch_cur_idx'][-1]]\n",
    "                        #idx_frac = stats[filename][batch_size][ack_iter]['corr_stats'][1]\n",
    "                    else:\n",
    "                        idx_frac = idx_frac + stats[filename][batch_size][ack_iter]['idx_frac']\n",
    "                        #idx_frac = torch.max(idx_frac, stats[filename][batch_size][ack_iter]['idx_frac'])\n",
    "                        #idx_frac = idx_frac + tf_labels[filename][stats[filename][batch_size][ack_iter]['ir_batch_cur_idx'][-1]]\n",
    "                        #idx_frac = idx_frac + stats[filename][batch_size][ack_iter]['corr_stats'][1]\n",
    "                if num_used > 0:\n",
    "                    if not filename_printed:\n",
    "                        print(filename)\n",
    "                        filename_printed = True\n",
    "                    idx_frac = idx_frac/num_used\n",
    "                    #idx_frac = idx_frac.numpy()\n",
    "                    print(arrs[experiment][1] + \":\", \" \".join((\"{:6.6f}\".format(k) for k in idx_frac)), \";\", \"{:6.2f}\".format(val_nll/num_used), \"val_nll ;\", str(num_used), \"samples\")\n",
    "                    #print(arrs[experiment][1] + \":\", str(idx_frac), \";\", \"{:6.2f}\".format(val_nll/num_used), \"val_nll ;\", str(num_used), \"samples\")\n",
    "            except Exception as e:\n",
    "                pass"
   ]
  },
  {
   "cell_type": "code",
   "execution_count": null,
   "metadata": {
    "collapsed": true
   },
   "outputs": [],
   "source": [
    "import collect_stats as cs"
   ]
  },
  {
   "cell_type": "code",
   "execution_count": null,
   "metadata": {
    "collapsed": true,
    "scrolled": false
   },
   "outputs": [],
   "source": [
    "cs.plot_data_vs_ack_iter(\n",
    "    20,\n",
    "    filenames,\n",
    "    'avg_seeds',\n",
    "    'relative optimal value',\n",
    "    #ack_regret_fn,\n",
    "    ack_rel_opt_val_data_extractor,\n",
    "    14,\n",
    "    arrs,\n",
    "    to_eval,\n",
    "    legend_loc=3,\n",
    "    figsize=(6, 4),\n",
    "    num_samples_label=True,\n",
    "    save_path='/cluster/sj1/bb_opt/plots',\n",
    ")"
   ]
  },
  {
   "cell_type": "code",
   "execution_count": null,
   "metadata": {
    "collapsed": true
   },
   "outputs": [],
   "source": [
    "cs.plot_data_vs_ack_iter(\n",
    "    10,\n",
    "    filenames[0:15],\n",
    "    'avg_seeds',\n",
    "    'gamma',\n",
    "    lambda x : x['best_gamma'] if x['best_gamma'] is not None else 0,\n",
    "    30,\n",
    "    arrs,\n",
    "    to_eval,\n",
    "    legend_loc=3,\n",
    ")"
   ]
  },
  {
   "cell_type": "code",
   "execution_count": null,
   "metadata": {
    "collapsed": true
   },
   "outputs": [],
   "source": [
    "ack_iter = 0\n",
    "for filename in filenames:\n",
    "    print(filename)\n",
    "    for batch_size in batches:\n",
    "        for experiment in to_eval:\n",
    "            best_value = 0\n",
    "            num_used = 0\n",
    "            for stats in arrs[experiment][0]:\n",
    "                if filename not in stats:\n",
    "                    continue\n",
    "                if batch_size not in stats[filename]:\n",
    "                    continue\n",
    "                num_used += 1\n",
    "                best_value += stats[filename][batch_size][ack_iter]['logging'][9].item()\n",
    "            if num_used > 0:\n",
    "                best_value = best_value/num_used\n",
    "                print(arrs[experiment][1] + \":\", best_value, \";\", str(num_used), \"samples\")"
   ]
  },
  {
   "cell_type": "code",
   "execution_count": null,
   "metadata": {
    "collapsed": true
   },
   "outputs": [],
   "source": [
    "test_properties = [\n",
    "    'test_log_prob',\n",
    "    'test_mse',\n",
    "    'test_kt_corr',\n",
    "    'test_std_list',\n",
    "    'test_mse_std_corr'\n",
    "]\n",
    "\n",
    "avg = True\n",
    "\n",
    "for prop in test_properties[1:2]:\n",
    "    for filename in filenames[0:1]:\n",
    "        print(filename)\n",
    "        for batch_size in batches:\n",
    "            for experiment in arrs:\n",
    "                plt.figure(figsize=(15, 4))\n",
    "                plt.subplot(121)\n",
    "                prop_list = np.array([0.]*num_acks)\n",
    "                num_used = 0\n",
    "                for stats in arrs[experiment][0]:\n",
    "                    if filename not in stats:\n",
    "                        continue\n",
    "                    if batch_size not in stats[filename]:\n",
    "                        continue\n",
    "                    if len(stats[filename][batch_size]) < num_acks:\n",
    "                        continue\n",
    "                    num_used += 1\n",
    "                    if avg:\n",
    "                        prop_list += np.array([stats[filename][batch_size][i][prop][0].item() for i in range(num_acks)])\n",
    "                    else:\n",
    "                        prop_list = [stats[filename][batch_size][i][prop][0].item() for i in range(num_acks)]\n",
    "                    if not avg:\n",
    "                        plt.plot(prop_list)\n",
    "                if avg:\n",
    "                    plt.plot(prop_list/num_used)\n",
    "                plt.title(arrs[experiment][1] + \"; \" + prop + \"; all\")\n",
    "                plt.subplot(122)\n",
    "                prop_list = np.array([0.]*num_acks)\n",
    "                num_used = 0\n",
    "                for stats in arrs[experiment][0]:\n",
    "                    if filename not in stats:\n",
    "                        continue\n",
    "                    if batch_size not in stats[filename]:\n",
    "                        continue\n",
    "                    if len(stats[filename][batch_size]) < num_acks:\n",
    "                        continue\n",
    "                    num_used += 1\n",
    "                    if avg:\n",
    "                        prop_list += np.array([stats[filename][batch_size][i][prop][1].item() for i in range(num_acks)])\n",
    "                    else:\n",
    "                        prop_list = [stats[filename][batch_size][i][prop][1].item() for i in range(num_acks)]\n",
    "                    if not avg:\n",
    "                        plt.plot(prop_list)\n",
    "                if avg:\n",
    "                    plt.plot(prop_list/num_used)\n",
    "                plt.title(arrs[experiment][1] + \"; \" + prop + \"; top 10%\")"
   ]
  },
  {
   "cell_type": "code",
   "execution_count": null,
   "metadata": {
    "collapsed": true
   },
   "outputs": [],
   "source": [
    "ack_iter = 0\n",
    "for filename in filenames[2:3]:\n",
    "    print(filename)\n",
    "    for batch_size in batches:\n",
    "        for experiment in arrs:\n",
    "            plt.figure(figsize=(15, 4))\n",
    "            for stats in arrs[experiment][0]:\n",
    "                #for i in range(num_acks):\n",
    "                if filename not in stats:\n",
    "                    continue\n",
    "                if batch_size not in stats[filename]:\n",
    "                    continue\n",
    "                prop_list = stats[filename][batch_size][ack_iter]['logging'][-1].numpy()\n",
    "                plt.plot(prop_list)\n",
    "                plt.title(arrs[experiment][1] + \"; \" + str(ack_iter))"
   ]
  },
  {
   "cell_type": "code",
   "execution_count": null,
   "metadata": {
    "collapsed": true
   },
   "outputs": [],
   "source": [
    "to_eval = [\n",
    "    #'top_val_none_ucb_g0.0_',\n",
    "    'top_val_none_ucb_maxstd_g01051020_',\n",
    "    'top_val_none_ucb_g0.0_200epochs_last_',\n",
    "    #'top_val_none_ucb_maxvar_g01051020_',\n",
    "]"
   ]
  },
  {
   "cell_type": "code",
   "execution_count": null,
   "metadata": {
    "collapsed": true,
    "scrolled": false
   },
   "outputs": [],
   "source": [
    "ack_iter = 1\n",
    "for filename in filenames[:3]:\n",
    "    print(filename)\n",
    "    for batch_size in batches:\n",
    "        for experiment in to_eval:\n",
    "            plt.figure(figsize=(15, 4))\n",
    "            for stats in arrs[experiment][0]:\n",
    "                #for i in range(num_acks):\n",
    "                if filename not in stats:\n",
    "                    continue\n",
    "                if batch_size not in stats[filename]:\n",
    "                    continue\n",
    "                #prop_list = stats[filename][batch_size][ack_iter]['logging'][5].numpy()\n",
    "                prop_list = stats[filename][batch_size][ack_iter]['best_gamma']\n",
    "                plt.plot(prop_list)\n",
    "                plt.title(arrs[experiment][1] + \"; \" + str(ack_iter))"
   ]
  },
  {
   "cell_type": "code",
   "execution_count": null,
   "metadata": {
    "collapsed": true,
    "scrolled": false
   },
   "outputs": [],
   "source": [
    "test_properties = [\n",
    "    'test_log_prob',\n",
    "    'test_mse',\n",
    "    'test_kt_corr',\n",
    "    'test_std_list',\n",
    "    'test_mse_std_corr'\n",
    "]\n",
    "\n",
    "ack_iter = -1\n",
    "for filename in filenames:\n",
    "    print(filename)\n",
    "    for batch_size in [10]:\n",
    "        for experiment in to_eval:\n",
    "            m = None\n",
    "            num_used = 0\n",
    "            for stats in arrs[experiment][0]:\n",
    "                #for i in range(num_acks):\n",
    "                if filename not in stats:\n",
    "                    continue\n",
    "                if batch_size not in stats[filename]:\n",
    "                    continue\n",
    "                num_used += 1\n",
    "                #m += stats[filename][batch_size][ack_iter]['test_std_list'][0].item()\n",
    "                m2 = np.array([\n",
    "                    np.exp(stats[filename][batch_size][ack_iter]['ack_labels'].max()-tf_max[filename]),\n",
    "                    #stats[filename][batch_size][ack_iter]['test_std_list'][0].item(),\n",
    "                    #stats[filename][batch_size][ack_iter]['test_std_list'][1].item(),\n",
    "                    #stats[filename][batch_size][ack_iter]['test_std_list'][2].item()\n",
    "                ])\n",
    "                if m is None:\n",
    "                    m = m2\n",
    "                else:\n",
    "                    m += m2\n",
    "            if num_used > 0:\n",
    "                print(arrs[experiment][1], \":\", m/num_used, \";\", num_used, \"samples\")"
   ]
  },
  {
   "cell_type": "code",
   "execution_count": null,
   "metadata": {
    "collapsed": true
   },
   "outputs": [],
   "source": [
    "num_labels = 32897"
   ]
  },
  {
   "cell_type": "code",
   "execution_count": null,
   "metadata": {
    "collapsed": true
   },
   "outputs": [],
   "source": [
    "to_eval = [\n",
    "    'take_log_none_ucb_c1.0_g0.0_',\n",
    "    #'take_log_none_ucb_c2.0_g0.0_',\n",
    "    'take_log_none_ucb_c1.0_g5.0_',\n",
    "    'take_log_none_ucb_c1.0_g10.0_',\n",
    "    'take_log_none_ucb_c1.0_g20.0_',\n",
    "]\n",
    "\n",
    "to_eval = [\n",
    "    'take_log_none_ucb_num_acks_30_c1.0_g0.0_',\n",
    "    'take_log_none_ucb_num_acks_30_c1.0_g5.0_',\n",
    "    'take_log_none_ucb_num_acks_30_c1.0_g10.0_',\n",
    "]"
   ]
  },
  {
   "cell_type": "code",
   "execution_count": null,
   "metadata": {
    "collapsed": true
   },
   "outputs": [],
   "source": [
    "num_acks = 30"
   ]
  },
  {
   "cell_type": "code",
   "execution_count": null,
   "metadata": {
    "collapsed": true
   },
   "outputs": [],
   "source": [
    "to_eval = {\n",
    "    'take_log_none_ucb_num_acks_30_c1.0_g0.0_': 'Normal',\n",
    "    'take_log_none_ucb_num_acks_30_c1.0_maxvar_' : 'MOD',\n",
    "    'take_log_none_ucb_num_acks_30_c1.0_mincorr_' : 'MOD2',\n",
    "}\n",
    "\n",
    "to_eval = {\n",
    "    'take_log_none_ucb_ntest' : 'Normal',\n",
    "}"
   ]
  },
  {
   "cell_type": "code",
   "execution_count": null,
   "metadata": {
    "collapsed": true
   },
   "outputs": [],
   "source": [
    "to_eval = [\n",
    "    #'top_val_none_ucb_g0.0_',\n",
    "    'top_val_none_ucb_g0.0_modelseed',\n",
    "    #'top_val_none_ucb_maxstd_g01051020_',\n",
    "    #'top_val_none_ucb_g0.0_200epochs_last_',\n",
    "    #'top_val_none_ucb_maxvar_g01051020_',\n",
    "]"
   ]
  },
  {
   "cell_type": "code",
   "execution_count": null,
   "metadata": {
    "collapsed": true,
    "scrolled": false
   },
   "outputs": [],
   "source": [
    "avg = True\n",
    "num_acks = 10\n",
    "\n",
    "for batch_size in batches:\n",
    "    for filename in filenames:\n",
    "        if avg:\n",
    "            plt.figure(figsize=(6, 4))\n",
    "            legend = []\n",
    "        for experiment in to_eval:\n",
    "            if not avg:\n",
    "                plt.figure(figsize=(15, 4))\n",
    "            prop_list = []\n",
    "            num_used = 0\n",
    "            for stats in arrs[experiment][0]:\n",
    "                if filename not in stats:\n",
    "                    continue\n",
    "                if batch_size not in stats[filename]:\n",
    "                    continue\n",
    "                if len(stats[filename][batch_size]) < num_acks:\n",
    "                    continue\n",
    "                num_used += 1\n",
    "                if avg:\n",
    "                    #prop_list += [np.array([np.exp(stats[filename][batch_size][ack_iter]['ack_labels'].max()-tf_max[filename]) for ack_iter in range(num_acks)])]\n",
    "                    #prop_list += [np.array([(stats[filename][batch_size][ack_iter]['idx_frac'][0]) for ack_iter in range(num_acks)])]\n",
    "                    #prop_list += [np.array([(stats[filename][batch_size][ack_iter]['corr_stats'][0][-4]) for ack_iter in range(num_acks)])]\n",
    "                    prop_list += [np.array([(stats[filename][batch_size][ack_iter]['logging'][0][8]) for ack_iter in range(num_acks)])]\n",
    "                else:\n",
    "                    prop_list = [(stats[filename][batch_size][ack_iter]['ack_labels'].max()) for ack_iter in range(num_acks)]\n",
    "                    prop_list = [np.array([(stats[filename][batch_size][ack_iter]['corr_stats'][0][-4]) for ack_iter in range(num_acks)])]\n",
    "                if not avg:\n",
    "                    plt.plot(prop_list)\n",
    "            if avg and num_used > 0:\n",
    "                prop_list = np.stack(prop_list, axis=0)\n",
    "                plt.plot(np.median(prop_list, axis=0))\n",
    "                legend += [arrs[experiment][1]]\n",
    "            elif not avg:\n",
    "                plt.title(arrs[experiment][1] + \"; \" + str(batch_size) + \"; all\")\n",
    "        if avg:\n",
    "            plt.legend(legend)\n",
    "            plt.xlabel('Acquisition Iteration')\n",
    "            plt.ylabel('Relative optimal value')\n",
    "            #plt.title(filename + \"; \" + str(batch_size) + \"; all\")\n",
    "            plt.title(filename.split(\"_\")[0])"
   ]
  },
  {
   "cell_type": "code",
   "execution_count": null,
   "metadata": {
    "collapsed": true,
    "scrolled": false
   },
   "outputs": [],
   "source": [
    "avg = True\n",
    "\n",
    "for batch_size in batches:\n",
    "    for filename in filenames:\n",
    "        if avg:\n",
    "            plt.figure(figsize=(6, 4))\n",
    "            legend = []\n",
    "        for experiment in to_eval:\n",
    "            if not avg:\n",
    "                plt.figure(figsize=(15, 4))\n",
    "                \n",
    "            for prop_i in [5, 6]:\n",
    "                prop_list = []\n",
    "                num_used = 0\n",
    "                for stats in arrs[experiment][0]:\n",
    "                    if filename not in stats:\n",
    "                        continue\n",
    "                    if batch_size not in stats[filename]:\n",
    "                        continue\n",
    "                    if len(stats[filename][batch_size]) < num_acks:\n",
    "                        continue\n",
    "                    num_used += 1\n",
    "                    if avg:\n",
    "                        #prop_list += [np.array([np.exp(stats[filename][batch_size][ack_iter]['ack_labels'].max()-tf_max[filename]) for ack_iter in range(num_acks)])]\n",
    "                        #prop_list += [np.array([(stats[filename][batch_size][ack_iter]['idx_frac'][0]) for ack_iter in range(num_acks)])]\n",
    "                        #prop_list += [np.array([(stats[filename][batch_size][ack_iter]['corr_stats'][1][prop_i].item()) for ack_iter in range(num_acks)])]\n",
    "                        prop_list += [np.array([(stats[filename][batch_size][ack_iter]['best_gamma']) for ack_iter in range(num_acks)])]\n",
    "                    else:\n",
    "                        prop_list = [(stats[filename][batch_size][ack_iter]['ack_labels'].max()) for ack_iter in range(num_acks)]\n",
    "                        prop_list = [np.array([(stats[filename][batch_size][ack_iter]['corr_stats'][1][prop_i].item()) for ack_iter in range(num_acks)])]\n",
    "                    if not avg:\n",
    "                        plt.plot(prop_list)\n",
    "                if avg and num_used > 0:\n",
    "                    prop_list = np.stack(prop_list, axis=0)\n",
    "                    plt.plot(np.median(prop_list, axis=0))\n",
    "                    legend += [str(prop_i)]\n",
    "                elif not avg:\n",
    "                    plt.title(arrs[experiment][1] + \"; \" + str(batch_size) + \"; all\")\n",
    "        if avg:\n",
    "            plt.legend(legend)\n",
    "            plt.xlabel('Acquisition Iteration')\n",
    "            plt.ylabel('Relative optimal value')\n",
    "            #plt.title(filename + \"; \" + str(batch_size) + \"; all\")\n",
    "            plt.title(filename.split(\"_\")[0])"
   ]
  },
  {
   "cell_type": "code",
   "execution_count": null,
   "metadata": {
    "collapsed": true
   },
   "outputs": [],
   "source": [
    "avg = True\n",
    "\n",
    "plt.figure(figsize=(6, 4))\n",
    "legend = []\n",
    "for experiment in to_eval:\n",
    "    prop_list = []\n",
    "    for batch_size in [10]:\n",
    "        for filename in filenames:\n",
    "            for stats in arrs[experiment][0]:\n",
    "                if filename not in stats:\n",
    "                    continue\n",
    "                if batch_size not in stats[filename]:\n",
    "                    continue\n",
    "                if len(stats[filename][batch_size]) < num_acks:\n",
    "                    continue\n",
    "                prop_list += [np.array([np.exp(stats[filename][batch_size][ack_iter]['ack_labels'].max()-tf_max[filename]) for ack_iter in range(num_acks)])]\n",
    "                #prop_list += [np.array([(stats[filename][batch_size][ack_iter]['idx_frac'][0]) for ack_iter in range(num_acks)])]\n",
    "    prop_list = np.stack(prop_list, axis=0)\n",
    "    plt.plot(np.median(prop_list, axis=0))\n",
    "    #legend += [arrs[experiment][1]]\n",
    "    legend += [to_eval[experiment]]\n",
    "plt.legend(legend)\n",
    "plt.xlabel('Acquisition Iteration')\n",
    "plt.ylabel('Relative optimal value')"
   ]
  },
  {
   "cell_type": "code",
   "execution_count": null,
   "metadata": {
    "collapsed": true
   },
   "outputs": [],
   "source": []
  }
 ],
 "metadata": {
  "kernelspec": {
   "display_name": "Python (py36)",
   "language": "python",
   "name": "py36"
  },
  "language_info": {
   "codemirror_mode": {
    "name": "ipython",
    "version": 3
   },
   "file_extension": ".py",
   "mimetype": "text/x-python",
   "name": "python",
   "nbconvert_exporter": "python",
   "pygments_lexer": "ipython3",
   "version": "3.6.6"
  }
 },
 "nbformat": 4,
 "nbformat_minor": 2
}
