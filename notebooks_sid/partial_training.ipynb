{
 "cells": [
  {
   "cell_type": "code",
   "execution_count": 1,
   "metadata": {
    "collapsed": true
   },
   "outputs": [],
   "source": [
    "import sys\n",
    "sys.path.append('/cluster/sj1')"
   ]
  },
  {
   "cell_type": "code",
   "execution_count": 2,
   "metadata": {},
   "outputs": [
    {
     "name": "stdout",
     "output_type": "stream",
     "text": [
      "Running on GPU 5\n"
     ]
    }
   ],
   "source": [
    "%load_ext autoreload\n",
    "%autoreload 2\n",
    "\n",
    "import torch\n",
    "import pyro\n",
    "import numpy as np\n",
    "from scipy.stats import kendalltau\n",
    "from sklearn.model_selection import train_test_split\n",
    "import matplotlib.pyplot as plt\n",
    "import seaborn as sns\n",
    "from bb_opt.src.bayesian_opt import (\n",
    "    optimize,\n",
    "    get_model_bnn,\n",
    "    train_model_bnn,\n",
    "    partial_train_model_bnn,\n",
    "    train,\n",
    "    bnn_predict\n",
    ")\n",
    "from bb_opt.src.utils import get_path, save_pyro_model, load_pyro_model\n",
    "from gpu_utils.utils import gpu_init\n",
    "from tqdm import tnrange\n",
    "\n",
    "gpu_id = gpu_init(best_gpu_metric=\"mem\")\n",
    "print(f\"Running on GPU {gpu_id}\")\n",
    "device = torch.device('cuda:0' if torch.cuda.is_available() else 'cpu')\n",
    "\n",
    "%matplotlib inline"
   ]
  },
  {
   "cell_type": "code",
   "execution_count": 22,
   "metadata": {
    "collapsed": true
   },
   "outputs": [],
   "source": [
    "import pandas as pd"
   ]
  },
  {
   "cell_type": "code",
   "execution_count": 3,
   "metadata": {
    "collapsed": true
   },
   "outputs": [],
   "source": [
    "def jointplot(predicted, true, title: str=\"\"):\n",
    "    if isinstance(predicted, torch.Tensor):\n",
    "        predicted = predicted.detach().cpu().numpy()\n",
    "\n",
    "    if isinstance(true, torch.Tensor):\n",
    "        true = true.detach().cpu().numpy()\n",
    "        \n",
    "    ax = sns.jointplot(predicted, true, s=3, alpha=0.5)\n",
    "    #ax = sns.regplot(predicted, true)\n",
    "    ax.set_axis_labels('Predicted', 'True')\n",
    "    ax.ax_marg_x.set_title(title)\n",
    "    return ax"
   ]
  },
  {
   "cell_type": "code",
   "execution_count": 4,
   "metadata": {},
   "outputs": [
    {
     "name": "stderr",
     "output_type": "stream",
     "text": [
      "/cluster/sj1/anaconda2/envs/py36/lib/python3.6/site-packages/sklearn/model_selection/_split.py:2026: FutureWarning: From version 0.21, test_size will always complement train_size unless both are specified.\n",
      "  FutureWarning)\n"
     ]
    }
   ],
   "source": [
    "n_train = 1000\n",
    "\n",
    "project = \"dna_binding\"\n",
    "dataset = \"crx_ref_r1\"\n",
    "batch_size = 1\n",
    "retrain_every = 1000000\n",
    "partial_steps = 20\n",
    "\n",
    "root = \"/cluster/sj1/bb_opt/\"\n",
    "data_dir = get_path(root, \"data\", project, dataset)\n",
    "inputs = np.load(get_path(data_dir, \"inputs.npy\"))\n",
    "labels = np.load(get_path(data_dir, \"labels.npy\"))\n",
    "train_inputs, test_inputs, train_labels, test_labels = train_test_split(inputs, labels, train_size=n_train, random_state=521)\n",
    "train_inputs, val_inputs, train_labels, val_labels = train_test_split(train_inputs, train_labels, train_size=0.9, random_state=521)\n",
    "\n",
    "top_k_percent = 1"
   ]
  },
  {
   "cell_type": "code",
   "execution_count": 5,
   "metadata": {
    "collapsed": true
   },
   "outputs": [],
   "source": [
    "train_label_mean = train_labels.mean()\n",
    "train_label_std = train_labels.std()\n",
    "\n",
    "train_labels = (train_labels - train_label_mean) / train_label_std\n",
    "val_labels = (val_labels - train_label_mean) / train_label_std\n",
    "test_labels = (test_labels - train_label_mean) / train_label_std"
   ]
  },
  {
   "cell_type": "code",
   "execution_count": 6,
   "metadata": {
    "collapsed": true
   },
   "outputs": [],
   "source": [
    "n_samples = 10\n",
    "prior_mean = 0\n",
    "prior_std = 1\n",
    "\n",
    "bnn_model, guide = get_model_bnn(inputs.shape[1], batch_size, prior_mean, prior_std, device=device)\n",
    "optimizer = pyro.optim.Adam({})\n",
    "\n",
    "pyro.clear_param_store()\n",
    "\n",
    "svi = pyro.infer.SVI(bnn_model, guide, optimizer, pyro.infer.Trace_ELBO(n_samples))\n",
    "\n",
    "to_torch = lambda array: torch.tensor(array, dtype=torch.float32, device=device)\n",
    "train_inputs, val_inputs, test_inputs, train_labels, val_labels, test_labels = list(map(to_torch, [train_inputs, val_inputs, test_inputs, train_labels, val_labels, test_labels]))"
   ]
  },
  {
   "cell_type": "code",
   "execution_count": 7,
   "metadata": {
    "collapsed": true
   },
   "outputs": [],
   "source": [
    "train_losses = []\n",
    "val_losses = []\n",
    "\n",
    "train_corrs = []\n",
    "val_corrs = []"
   ]
  },
  {
   "cell_type": "code",
   "execution_count": null,
   "metadata": {
    "collapsed": true
   },
   "outputs": [],
   "source": [
    "model_path = \"crx_100_starter_sid\"\n",
    "\n",
    "progress = tnrange(1000)\n",
    "for i in progress:\n",
    "    print(i)\n",
    "    train_losses += train(svi, 5, train_inputs, train_labels, verbose=False)\n",
    "\n",
    "    preds = bnn_predict(guide, train_inputs, n_samples=50).mean(axis=0)\n",
    "    train_corrs.append(kendalltau(preds, train_labels)[0])\n",
    "\n",
    "#     if n_inputs == 1:\n",
    "#         mses.append((preds - train_labels.item()) ** 2)\n",
    "\n",
    "    preds = bnn_predict(guide, val_inputs, n_samples=50).mean(axis=0)\n",
    "    val_corr = kendalltau(preds, val_labels)[0]\n",
    "\n",
    "    if val_corr > max(val_corrs, default=-float(\"inf\")):\n",
    "        save_pyro_model(model_path, optimizer)\n",
    "\n",
    "    val_corrs.append(val_corr)\n",
    "    progress.set_description(f\"Corr: {val_corr:.3f}\")\n",
    "\n",
    "\n",
    "#     _, sorted_idx = train_labels.sort(descending=True)\n",
    "#     n_10_percent = int(len(train_labels) * .1)\n",
    "\n",
    "#     preds = bnn_predict(guide, train_inputs[sorted_idx][:n_10_percent], n_samples=50).mean(axis=0)\n",
    "#     best_train_corrs.append(kendalltau(preds, train_labels[sorted_idx][:n_10_percent])[0])\n",
    "\n",
    "#     _, sorted_idx = test_labels.sort(descending=True)\n",
    "#     n_10_percent = int(len(test_labels) * .1)\n",
    "\n",
    "#     preds = bnn_predict(guide, test_inputs[sorted_idx][:n_10_percent], n_samples=50).mean(axis=0)\n",
    "#     best_test_corrs.append(kendalltau(preds, test_labels[sorted_idx][:n_10_percent])[0])"
   ]
  },
  {
   "cell_type": "code",
   "execution_count": null,
   "metadata": {
    "collapsed": true
   },
   "outputs": [],
   "source": [
    "#model, guide = bnn_model()\n",
    "#model_dir = '/cluster/sj1/bb_opt/models'\n",
    "model_dir = '.'\n",
    "model_prefix = 'crx_100_starter'\n",
    "pyro.get_param_store().load(model_dir + '/' + model_prefix + '.params')\n",
    "optimizer = pyro.optim.Adam({})\n",
    "optimizer.load(model_dir+'/'+model_prefix+'.opt')"
   ]
  },
  {
   "cell_type": "code",
   "execution_count": null,
   "metadata": {
    "collapsed": true
   },
   "outputs": [],
   "source": [
    "plt.figure(figsize=(15, 4))\n",
    "\n",
    "plt.subplot(121)\n",
    "plt.plot(train_losses)\n",
    "plt.title(\"Loss\")\n",
    "\n",
    "plt.subplot(122)\n",
    "plt.plot(train_losses[-3000:])\n",
    "plt.title(\"Recent Loss\")\n",
    "\n",
    "plt.figure(figsize=(15, 4))\n",
    "\n",
    "# plt.subplot(121)\n",
    "# plt.plot(mses)\n",
    "# plt.title(\"MSE\")\n",
    "\n",
    "# plt.subplot(122)\n",
    "plt.plot(train_corrs, label=\"train_corrs\")\n",
    "plt.plot(val_corrs, label=\"val_corrs\")\n",
    "plt.legend()\n",
    "plt.title(\"Kendall Tau\");\n",
    "# plt.plot(pd.Series(losses[-3000:]).rolling(window=100).median());\n",
    "\n",
    "title = \"DNA Binding - CRX\"\n",
    "train_title = title + \" (train)\"\n",
    "val_title = title + \" (val)\"\n",
    "\n",
    "if n_train > 1:\n",
    "    preds = bnn_predict(guide, train_inputs, n_samples=100).mean(axis=0)\n",
    "    jointplot(preds, train_labels, train_title)\n",
    "\n",
    "preds = bnn_predict(guide, val_inputs, n_samples=100).mean(axis=0)\n",
    "jointplot(preds, val_labels, val_title);"
   ]
  },
  {
   "cell_type": "code",
   "execution_count": null,
   "metadata": {
    "collapsed": true
   },
   "outputs": [],
   "source": [
    "plt.figure(figsize=(15, 4))\n",
    "\n",
    "plt.subplot(121)\n",
    "plt.plot(losses)\n",
    "plt.title(\"Loss\")\n",
    "\n",
    "plt.subplot(122)\n",
    "plt.plot(losses[-3000:])\n",
    "plt.title(\"Recent Loss\")\n",
    "\n",
    "plt.figure(figsize=(15, 4))\n",
    "\n",
    "plt.subplot(121)\n",
    "plt.plot(mses)\n",
    "plt.title(\"MSE\")\n",
    "\n",
    "plt.subplot(122)\n",
    "plt.plot(train_corrs, label=\"train_corrs\")\n",
    "plt.plot(test_corrs, label=\"test_corrs\")\n",
    "plt.legend()\n",
    "plt.title(\"Kendall Tau\");\n",
    "# plt.plot(pd.Series(losses[-3000:]).rolling(window=100).median());\n",
    "\n",
    "title = \"DNA Binding - CRX\"\n",
    "train_title = title + \" (train)\"\n",
    "test_title = title + \" (test)\"\n",
    "\n",
    "if n_inputs > 1:\n",
    "    preds = bnn_predict(guide, train_inputs, n_samples=50).mean(axis=0)\n",
    "    jointplot([preds], train_labels, train_title)\n",
    "\n",
    "preds = bnn_predict(guide, test_inputs, n_samples=50).mean(axis=0)\n",
    "jointplot(preds, test_labels, test_title);"
   ]
  },
  {
   "cell_type": "code",
   "execution_count": null,
   "metadata": {
    "collapsed": true
   },
   "outputs": [],
   "source": [
    "save_pyro_model(model_path, optimizer)"
   ]
  },
  {
   "cell_type": "code",
   "execution_count": 8,
   "metadata": {
    "collapsed": true
   },
   "outputs": [],
   "source": [
    "from bb_opt.src.hsic import *"
   ]
  },
  {
   "cell_type": "code",
   "execution_count": 9,
   "metadata": {
    "collapsed": true
   },
   "outputs": [],
   "source": [
    "bnn_model, guide = get_model_bnn(inputs.shape[1], batch_size, prior_mean, prior_std, device=device)\n",
    "optimizer = pyro.optim.Adam({})\n",
    "pyro.clear_param_store()"
   ]
  },
  {
   "cell_type": "code",
   "execution_count": 10,
   "metadata": {
    "collapsed": true
   },
   "outputs": [],
   "source": [
    "load_pyro_model(\"../models/crx_1000\", optimizer)\n",
    "#load_pyro_model(\"../models/crx_100_starter\", optimizer)"
   ]
  },
  {
   "cell_type": "code",
   "execution_count": 11,
   "metadata": {
    "collapsed": true
   },
   "outputs": [],
   "source": [
    "preds = bnn_predict(guide, torch.tensor(inputs, device=device), 100)"
   ]
  },
  {
   "cell_type": "code",
   "execution_count": 12,
   "metadata": {},
   "outputs": [
    {
     "name": "stderr",
     "output_type": "stream",
     "text": [
      "/cluster/sj1/anaconda2/envs/py36/lib/python3.6/site-packages/scipy/stats/stats.py:1706: FutureWarning: Using a non-tuple sequence for multidimensional indexing is deprecated; use `arr[tuple(seq)]` instead of `arr[seq]`. In the future this will be interpreted as an array index, `arr[np.array(seq)]`, which will result either in an error or a different result.\n",
      "  return np.add.reduce(sorted[indexer] * weights, axis=axis) / sumval\n"
     ]
    },
    {
     "name": "stdout",
     "output_type": "stream",
     "text": [
      "0.6797758221155059\n"
     ]
    },
    {
     "data": {
      "image/png": "[encoded data removed]",
      "text/plain": [
       "<Figure size 432x432 with 3 Axes>"
      ]
     },
     "metadata": {},
     "output_type": "display_data"
    }
   ],
   "source": [
    "jointplot(preds.mean(axis=0), labels)\n",
    "print(np.corrcoef(preds.mean(axis=0), labels)[0, 1])"
   ]
  },
  {
   "cell_type": "code",
   "execution_count": 13,
   "metadata": {
    "collapsed": true
   },
   "outputs": [],
   "source": [
    "inputs = torch.tensor(inputs, device=device)"
   ]
  },
  {
   "cell_type": "code",
   "execution_count": 14,
   "metadata": {
    "collapsed": true
   },
   "outputs": [],
   "source": [
    "n_preds = 1000\n",
    "with torch.no_grad():\n",
    "    preds = [torch.unsqueeze(guide()(inputs).squeeze(), 0) for _ in range(n_preds)]\n",
    "preds = torch.cat(preds)"
   ]
  },
  {
   "cell_type": "code",
   "execution_count": 18,
   "metadata": {
    "collapsed": true
   },
   "outputs": [],
   "source": [
    "sort_idx = []\n",
    "\n",
    "for i in range(preds.shape[0]):\n",
    "    sort_idx += [preds[i].detach().cpu().numpy().argsort()]"
   ]
  },
  {
   "cell_type": "code",
   "execution_count": 58,
   "metadata": {},
   "outputs": [
    {
     "name": "stdout",
     "output_type": "stream",
     "text": [
      "0.49473684210526314 1.0\n"
     ]
    }
   ],
   "source": [
    "kt = []\n",
    "for i in range(1, len(sort_idx)):\n",
    "    kt += [kendalltau(sort_idx[0][-20:], sort_idx[i][-20:])[0]]\n",
    "kt = np.array(kt)\n",
    "print(kt.min(), kt.max())"
   ]
  },
  {
   "cell_type": "code",
   "execution_count": 59,
   "metadata": {
    "collapsed": true
   },
   "outputs": [],
   "source": [
    "kt_sort_idx = np.argsort(kt)"
   ]
  },
  {
   "cell_type": "code",
   "execution_count": 43,
   "metadata": {
    "collapsed": true
   },
   "outputs": [],
   "source": [
    "chosen = []\n",
    "for i in range(len(sort_idx)):\n",
    "    chosen += [np.random.choice(sort_idx[i][-10:])]"
   ]
  },
  {
   "cell_type": "code",
   "execution_count": null,
   "metadata": {
    "collapsed": true
   },
   "outputs": [],
   "source": [
    "kernel = dimwise_mixrq_kernels"
   ]
  },
  {
   "cell_type": "code",
   "execution_count": null,
   "metadata": {
    "collapsed": true
   },
   "outputs": [],
   "source": [
    "preds.shape"
   ]
  },
  {
   "cell_type": "code",
   "execution_count": null,
   "metadata": {
    "collapsed": true
   },
   "outputs": [],
   "source": [
    "all_hsic = []\n",
    "all_idx = list(range(len(inputs)))\n",
    "n_points_parallel = 50\n",
    "\n",
    "max_pred_idx = preds.argmax(dim=1)\n",
    "max_dist = inputs[max_pred_idx]\n",
    "\n",
    "batch_stats = precompute_batch_hsic_stats(max_dist.unsqueeze(1), kernel=kernel)\n",
    "\n",
    "for next_points in torch.tensor(all_idx).split(n_points_parallel):\n",
    "    hsics = compute_point_hsics(preds, next_points, *batch_stats, kernel)\n",
    "    all_hsic.append(hsics.cpu().numpy())\n",
    "\n",
    "all_hsic = np.concatenate(all_hsic)"
   ]
  },
  {
   "cell_type": "code",
   "execution_count": null,
   "metadata": {
    "collapsed": true
   },
   "outputs": [],
   "source": [
    "preds_norm = preds/preds.max().item()"
   ]
  },
  {
   "cell_type": "code",
   "execution_count": null,
   "metadata": {
    "collapsed": true
   },
   "outputs": [],
   "source": [
    "preds_norm.shape"
   ]
  },
  {
   "cell_type": "code",
   "execution_count": null,
   "metadata": {
    "collapsed": true
   },
   "outputs": [],
   "source": [
    "import bb_opt.src.knn_mi as knn_mi"
   ]
  },
  {
   "cell_type": "code",
   "execution_count": null,
   "metadata": {
    "collapsed": true
   },
   "outputs": [],
   "source": [
    "kernel = dimwise_mixrbf_kernels"
   ]
  },
  {
   "cell_type": "code",
   "execution_count": null,
   "metadata": {
    "collapsed": true
   },
   "outputs": [],
   "source": [
    "all_hsic_loc = []\n",
    "all_idx = list(range(len(inputs)))\n",
    "n_points_parallel = 50\n",
    "\n",
    "max_pred_idx = preds_norm.argmax(dim=1)\n",
    "max_loc = inputs[max_pred_idx]\n",
    "\n",
    "e = preds_norm.shape[1]\n",
    "e = 2\n",
    "for i in range(e):\n",
    "    if i % 1000 == 0:\n",
    "        print(i//1000, \"K samples done\")\n",
    "    kernel_loc = kernel(max_loc, bws=[2])\n",
    "    kernel_vals = kernel(preds_norm[:, i].unsqueeze(1), bws=[.05])\n",
    "    print(kernel_loc)\n",
    "    kernels = torch.cat([kernel_loc, kernel_vals], dim=-1)\n",
    "    hsic = total_hsic(kernels)\n",
    "    all_hsic_loc.append(hsic.item())\n",
    "\n",
    "all_hsic_loc = np.array(all_hsic_loc)"
   ]
  },
  {
   "cell_type": "code",
   "execution_count": null,
   "metadata": {
    "collapsed": true
   },
   "outputs": [],
   "source": [
    "all_hsic_norm = []\n",
    "all_mi = []\n",
    "all_idx = list(range(len(inputs)))\n",
    "n_points_parallel = 50\n",
    "\n",
    "max_pred_idx = preds_norm.argmax(dim=1)\n",
    "max_val_dist = preds_norm.gather(1, max_pred_idx.unsqueeze(1))\n",
    "\n",
    "e = preds_norm.shape[1]\n",
    "for i in range(e):\n",
    "    if i % 1000 == 0:\n",
    "        print(i//1000, \"K samples done\")\n",
    "    v = torch.cat([max_val_dist, preds_norm[:, i].unsqueeze(1)], dim=1)\n",
    "    kernels = kernel(v, bws=[.05])\n",
    "    #print(kernels.shape)\n",
    "    #print(kernels)\n",
    "    hsic = total_hsic(kernels)\n",
    "    mi = knn_mi.estimate_mi(v.detach().cpu().numpy().transpose())\n",
    "    all_mi.append(mi)\n",
    "    all_hsic_norm.append(hsic.item())\n",
    "\n",
    "all_hsic_norm = np.array(all_hsic_norm)\n",
    "all_mi = np.array(all_mi)"
   ]
  },
  {
   "cell_type": "code",
   "execution_count": null,
   "metadata": {
    "collapsed": true
   },
   "outputs": [],
   "source": [
    "all_hsic_loc"
   ]
  },
  {
   "cell_type": "code",
   "execution_count": null,
   "metadata": {
    "collapsed": true
   },
   "outputs": [],
   "source": [
    "sns.distplot(all_mi)"
   ]
  },
  {
   "cell_type": "code",
   "execution_count": null,
   "metadata": {
    "collapsed": true
   },
   "outputs": [],
   "source": [
    "sns.distplot(all_hsic_norm)"
   ]
  },
  {
   "cell_type": "code",
   "execution_count": null,
   "metadata": {
    "collapsed": true
   },
   "outputs": [],
   "source": [
    "sns.distplot(all_hsic_loc)"
   ]
  },
  {
   "cell_type": "code",
   "execution_count": null,
   "metadata": {
    "collapsed": true
   },
   "outputs": [],
   "source": [
    "jointplot(all_hsic_norm, labels)"
   ]
  },
  {
   "cell_type": "code",
   "execution_count": null,
   "metadata": {
    "collapsed": true
   },
   "outputs": [],
   "source": [
    "np.corrcoef(all_hsic_norm[top_idx], labels[top_idx])"
   ]
  },
  {
   "cell_type": "code",
   "execution_count": null,
   "metadata": {
    "collapsed": true
   },
   "outputs": [],
   "source": [
    "jointplot(all_hsic_loc, labels[:2000])"
   ]
  },
  {
   "cell_type": "code",
   "execution_count": null,
   "metadata": {
    "collapsed": true
   },
   "outputs": [],
   "source": [
    "np.corrcoef(all_hsic_loc, labels[:2000])"
   ]
  },
  {
   "cell_type": "code",
   "execution_count": null,
   "metadata": {
    "collapsed": true
   },
   "outputs": [],
   "source": [
    "jointplot(all_mi, labels)"
   ]
  },
  {
   "cell_type": "code",
   "execution_count": null,
   "metadata": {
    "collapsed": true
   },
   "outputs": [],
   "source": [
    "np.corrcoef(all_mi[top_idx], labels[top_idx])"
   ]
  },
  {
   "cell_type": "code",
   "execution_count": null,
   "metadata": {
    "collapsed": true
   },
   "outputs": [],
   "source": [
    "jointplot(preds_norm.sum(0), labels)"
   ]
  },
  {
   "cell_type": "code",
   "execution_count": null,
   "metadata": {
    "collapsed": true
   },
   "outputs": [],
   "source": [
    "sort_idx = labels.argsort()"
   ]
  },
  {
   "cell_type": "code",
   "execution_count": null,
   "metadata": {
    "collapsed": true
   },
   "outputs": [],
   "source": [
    "top_idx = sort_idx[-10:]"
   ]
  },
  {
   "cell_type": "code",
   "execution_count": null,
   "metadata": {
    "collapsed": true
   },
   "outputs": [],
   "source": [
    "np.corrcoef(preds_norm.sum(0)[top_idx], labels[top_idx])"
   ]
  },
  {
   "cell_type": "code",
   "execution_count": null,
   "metadata": {
    "collapsed": true
   },
   "outputs": [],
   "source": []
  }
 ],
 "metadata": {
  "kernelspec": {
   "display_name": "Python (py36)",
   "language": "python",
   "name": "py36"
  },
  "language_info": {
   "codemirror_mode": {
    "name": "ipython",
    "version": 3
   },
   "file_extension": ".py",
   "mimetype": "text/x-python",
   "name": "python",
   "nbconvert_exporter": "python",
   "pygments_lexer": "ipython3",
   "version": "3.6.6"
  }
 },
 "nbformat": 4,
 "nbformat_minor": 2
}
