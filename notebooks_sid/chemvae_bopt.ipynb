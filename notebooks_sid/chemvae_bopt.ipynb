{
 "cells": [
  {
   "cell_type": "code",
   "execution_count": null,
   "metadata": {},
   "outputs": [],
   "source": [
    "import tensorflow as tf\n",
    "import keras\n",
    "import os\n",
    "import sys\n",
    "import seaborn as sns\n",
    "from tensorflow.keras.backend import set_session\n",
    "\n",
    "os.environ['CUDA_VISIBLE_DEVICES'] = \"1\"\n",
    "config = tf.ConfigProto()\n",
    "config.gpu_options.per_process_gpu_memory_fraction = 0.3\n",
    "set_session(tf.Session(config=config))"
   ]
  },
  {
   "cell_type": "code",
   "execution_count": null,
   "metadata": {
    "collapsed": true
   },
   "outputs": [],
   "source": [
    "import torch\n",
    "import torch.nn\n",
    "import numpy as np\n",
    "import h5py\n",
    "from collections import namedtuple\n",
    "import torch.distributions as tdist\n",
    "from gpu_utils.utils import gpu_init\n",
    "from tqdm import tnrange\n",
    "import pandas as pd\n",
    "from bb_opt.src.utils import train_val_test_split\n",
    "\n",
    "%matplotlib inline"
   ]
  },
  {
   "cell_type": "code",
   "execution_count": null,
   "metadata": {
    "collapsed": true
   },
   "outputs": [],
   "source": [
    "sys.path.append('/cluster/sj1/bb_opt/src')\n",
    "sys.path.append('/cluster/sj1/')"
   ]
  },
  {
   "cell_type": "code",
   "execution_count": null,
   "metadata": {},
   "outputs": [],
   "source": [
    "import hsic\n",
    "import bayesian_opt as bopt\n",
    "import chemvae_bopt as cbopt\n",
    "import reparam_trainer as reparam"
   ]
  },
  {
   "cell_type": "code",
   "execution_count": null,
   "metadata": {
    "collapsed": true
   },
   "outputs": [],
   "source": [
    "from chemvae_keras import vae_utils\n",
    "from chemvae_keras import mol_utils as mu"
   ]
  },
  {
   "cell_type": "code",
   "execution_count": null,
   "metadata": {
    "collapsed": true
   },
   "outputs": [],
   "source": [
    "chemvae_num_z = 196"
   ]
  },
  {
   "cell_type": "code",
   "execution_count": null,
   "metadata": {},
   "outputs": [],
   "source": [
    "Params = namedtuple('params', [\n",
    "    'lr', \n",
    "    'output_dist_std', \n",
    "    'output_dist_fn',\n",
    "    'prior_mean', \n",
    "    'prior_std', \n",
    "    'num_epochs', \n",
    "    'num_samples', \n",
    "    'batch_size', \n",
    "    'device', \n",
    "    'exp_noise_samples',\n",
    "    \n",
    "    'prop_activation',\n",
    "    'prop_pred_num_input_features',\n",
    "    'prop_pred_num_random_inputs',\n",
    "    'prop_pred_num_hidden',\n",
    "    'prop_pred_dropout',\n",
    "    'prop_pred_depth',\n",
    "    'prop_pred_growth_factor',\n",
    "    'prop_batchnorm',\n",
    "    \n",
    "    'ack_batch_size',\n",
    "    'batch_opt_lr',\n",
    "    'batch_opt_num_iter',\n",
    "    'input_opt_lr',\n",
    "    'mves_kernel_fn',\n",
    "    'input_opt_num_iter',\n",
    "    'ack_num_model_samples',\n",
    "])\n",
    "\n",
    "params = Params(\n",
    "    batch_size=100, \n",
    "    output_dist_std=0.01,\n",
    "    output_dist_fn=tdist.Normal, \n",
    "    num_samples=10, \n",
    "    exp_noise_samples=2, \n",
    "    lr=1e-3, \n",
    "    prior_mean=0., \n",
    "    prior_std=1., \n",
    "    device='cuda', \n",
    "    num_epochs=1000,\n",
    "    \n",
    "    prop_activation='relu',\n",
    "    prop_pred_num_input_features=chemvae_num_z,\n",
    "    prop_pred_num_random_inputs=20,\n",
    "    prop_pred_num_hidden=50,\n",
    "    prop_pred_dropout=False,\n",
    "    prop_pred_depth=2,\n",
    "    prop_pred_growth_factor=1.5,\n",
    "    prop_batchnorm=True,\n",
    "    \n",
    "    ack_batch_size=5,\n",
    "    batch_opt_lr=1e-3,\n",
    "    batch_opt_num_iter=100,\n",
    "    input_opt_lr=1e-3,\n",
    "    mves_kernel_fn='mixrq_kernels',\n",
    "    input_opt_num_iter=100,\n",
    "    ack_num_model_samples=100,\n",
    ")"
   ]
  },
  {
   "cell_type": "code",
   "execution_count": null,
   "metadata": {
    "collapsed": true
   },
   "outputs": [],
   "source": []
  }
 ],
 "metadata": {
  "kernelspec": {
   "display_name": "Python (py36)",
   "language": "python",
   "name": "py36"
  },
  "language_info": {
   "codemirror_mode": {
    "name": "ipython",
    "version": 3
   },
   "file_extension": ".py",
   "mimetype": "text/x-python",
   "name": "python",
   "nbconvert_exporter": "python",
   "pygments_lexer": "ipython3",
   "version": "3.6.6"
  }
 },
 "nbformat": 4,
 "nbformat_minor": 2
}
