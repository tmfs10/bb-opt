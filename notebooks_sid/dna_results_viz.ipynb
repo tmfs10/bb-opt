{
 "cells": [
  {
   "cell_type": "code",
   "execution_count": 1,
   "metadata": {
    "collapsed": true
   },
   "outputs": [],
   "source": [
    "import sys\n",
    "sys.path.append('/cluster/sj1/bb_opt/scripts')"
   ]
  },
  {
   "cell_type": "code",
   "execution_count": 2,
   "metadata": {
    "collapsed": true
   },
   "outputs": [],
   "source": [
    "%load_ext autoreload\n",
    "%autoreload 2\n",
    "\n",
    "import torch\n",
    "import random\n",
    "import numpy as np\n",
    "import matplotlib.pyplot as plt\n",
    "import seaborn as sns\n",
    "import collect_stats as cs\n",
    "\n",
    "%matplotlib inline"
   ]
  },
  {
   "cell_type": "code",
   "execution_count": 3,
   "metadata": {
    "collapsed": true
   },
   "outputs": [],
   "source": [
    "import collect_stats as cs"
   ]
  },
  {
   "cell_type": "code",
   "execution_count": 4,
   "metadata": {
    "collapsed": true
   },
   "outputs": [],
   "source": [
    "exp_folder = '/cluster/sj1/bb_opt/experiments'\n",
    "test_filepath = '/cluster/sj1/bb_opt/data/tatsu_pbm/test_files'\n",
    "filedir = '/cluster/sj1/bb_opt/data/paper_data2'\n",
    "num_tfs_to_test = 38\n",
    "batches = [10, 20, 100, 200]\n",
    "batches = [10]\n",
    "num_acks = 15"
   ]
  },
  {
   "cell_type": "code",
   "execution_count": 5,
   "metadata": {
    "collapsed": true
   },
   "outputs": [],
   "source": [
    "with open(test_filepath, 'r') as f:\n",
    "    filenames = [k.strip() for k in f.readlines()][:num_tfs_to_test]"
   ]
  },
  {
   "cell_type": "code",
   "execution_count": 6,
   "metadata": {
    "collapsed": true
   },
   "outputs": [],
   "source": [
    "def sigmoid(x, exp=np.exp):\n",
    "  return 1.0 / (1.0 + exp(-x))"
   ]
  },
  {
   "cell_type": "code",
   "execution_count": 7,
   "metadata": {
    "collapsed": true
   },
   "outputs": [],
   "source": [
    "filenames = [\n",
    "    'HESX1_E149K_R1_8mers.txt',\n",
    "    'EGR2_D383Y_R1_8mers.txt',\n",
    "    'BCL6_H676Y_R1_8mers.txt',\n",
    "    'ARX_L343Q_R1_8mers.txt',\n",
    "    'CRX_E80A_R1_8mers.txt',\n",
    "    'ESX1_K193R_R1_8mers.txt',\n",
    "    'FOXC1_F112S_R1_8mers.txt',\n",
    "    'GFI1B_A204T_R1_8mers.txt',\n",
    "    'GFI1_L400F_R1_8mers.txt',\n",
    "    'HOXC4_N178S_R1_8mers.txt',\n",
    "    'HOXD13_I322L_R1_8mers.txt',\n",
    "    'ISX_R83Q_R1_8mers.txt',\n",
    "    'KLF11_R402Q_R1_8mers.txt',\n",
    "    'KLF1_E325K_R1_8mers.txt',\n",
    "    'MSX2_P148H_R1_8mers.txt',\n",
    "    'NKX2-5_K183E_R1_8mers.txt',\n",
    "    'NR1H4_C144R_R1_8mers.txt',\n",
    "    'NR2E3_G56R_R1_8mers.txt',\n",
    "    'OVOL2_D228E_R1_8mers.txt',\n",
    "    'PAX3_G48R_R1_8mers.txt',\n",
    "    'PAX4_R183C_R1_8mers.txt',\n",
    "    'PAX6_A79E_R1_8mers.txt',\n",
    "    'PAX7_P112L_R1_8mers.txt',\n",
    "    'PBX4_R215Q_R1_8mers.txt',\n",
    "    'PHOX2B_Q143R_R1_8mers.txt',\n",
    "    'PITX2_L100Q_R1_8mers.txt',\n",
    "    'POU3F4_A237G_R1_8mers.txt',\n",
    "    'POU4F3_K277R_R1_8mers.txt',\n",
    "    'POU6F2_E639K_R1_8mers.txt',\n",
    "    'PROP1_R112Q_R1_8mers.txt',\n",
    "    'SIX6_H141N_R1_8mers.txt',\n",
    "    'SNAI2_D119E_R1_8mers.txt',\n",
    "    'VAX2_L139M_R1_8mers.txt',\n",
    "    'VENTX_E101K_R1_8mers.txt',\n",
    "    'VSX1_G160D_R1_8mers.txt',\n",
    "    'WT1_F392L_R1_8mers.txt',\n",
    "    'ZNF200_H322Y_R1_8mers.txt',\n",
    "    'ZNF655_E327G_R1_8mers.txt',\n",
    "]"
   ]
  },
  {
   "cell_type": "code",
   "execution_count": 8,
   "metadata": {
    "collapsed": true
   },
   "outputs": [],
   "source": [
    "tf_max = {}\n",
    "tf_labels = {}\n",
    "for tf in filenames:\n",
    "    labels = np.load(filedir + \"/\" + tf + \"/labels.npy\")\n",
    "    labels = np.log(labels)\n",
    "    tf_max[tf] = float(labels.max())\n",
    "    tf_labels[tf] = labels"
   ]
  },
  {
   "cell_type": "code",
   "execution_count": 9,
   "metadata": {
    "collapsed": true
   },
   "outputs": [],
   "source": [
    "arrs = {}"
   ]
  },
  {
   "cell_type": "code",
   "execution_count": 10,
   "metadata": {
    "collapsed": true
   },
   "outputs": [],
   "source": [
    "import collect_stats as cs"
   ]
  },
  {
   "cell_type": "code",
   "execution_count": 317,
   "metadata": {
    "collapsed": true
   },
   "outputs": [],
   "source": [
    "to_read = {\n",
    "    #'ensemble7/o_none_ucb_modelseed_': [None, 'e7'],\n",
    "    #'ensemble7/o_none_ucb_ucb_step_0.1_modelseed_': [None, 'e7_ucb_step_0.1'],\n",
    "    #'ensemble7/o_none_ucb_maxvar_g000510204080_modelseed_': [None, 'e7_maxvar_g80'],\n",
    "    #'ensemble7/o_none_ucb_maxinoutvar_g000510204080_modelseed_': [None, 'e7_inoutvar_g80'],\n",
    "    #'ensemble7/o_none_ucb_maxinvar_g000510204080_modelseed_': [None, 'e7_invar_g80'],\n",
    "    #'ensemble7/o_none_ucb_dataseed_modelseed_': [None, 'e7'],\n",
    "    #'ensemble7/o_none_ucb_invar_g000510204080_dataseed_modelseed_' : [None, 'e7_datarand_invar_g80'],\n",
    "    #'ensemble7/o_none_ucb_maxvar_g000510204080_dataseed_modelseed_' : [None, 'e7_maxvar_g80'],\n",
    "    #'ensemble7/o_none_ucb_inoutvar_g000510204080_dataseed_modelseed_': [None, 'e7_datarand_inoutvar_g80'],\n",
    "    #'ensemble7/o_none_ucb_maxvar_inverse_g000510204080_': [None, 'MODD'],\n",
    "    #'ensemble9/o_none_ucb_modelseed_': [None, 'e9'],\n",
    "    #'ensemble9/o_none_ucb_maxvar_g000510204080_modelseed_': [None, 'e9_maxvar_g80'],\n",
    "    #'ensemble9/o_none_ucb_maxinvar_g000510204080_modelseed_': [None, 'e9_invar_g80'],\n",
    "    #'ensemble9/o_none_ucb_maxinoutvar_g000510204080_modelseed_': [None, 'e9_inoutvar_g80'],\n",
    "    #'ensemble7/o_kriging_believer_kb_modelseed_': [None, 'e7_kb'],\n",
    "    #'ensemble7/o_empirical_kb_div_3_modelseed_': [None, 'e7_empirical_kb'],\n",
    "    #'ensemble7/o_empirical_kb_ucb_weighted_div_10_modelseed_': [None, 'e7_wekb_div10'],\n",
    "    #'ensemble7/o_empirical_kb_ucb_weighted_0.5_div_10_modelseed_': [None, 'e7_wekb_0.5_div10'],\n",
    "    #'ensemble7/o_empirical_kb_ucb_weighted_mean_0.5_div_10_modelseed_': [None, 'e7_wekb_mean_0.5_div10'],\n",
    "    #'ensemble7/o_kb_dataseed_modelseed_': [None, 'e7_datarand_kb'],\n",
    "    #'ensemble10/o_kb_dataseed_modelseed_': [None, 'e10_datarand_kb'],\n",
    "    #'ensemble10/o_empirical_kb_ucb_weighted_0.5_div_10_dataseed_modelseed_': [None, 'e10_datarand_wekb_div10'],\n",
    "    #'ensemble11/o_kb_dataseed_modelseed_': [None, 'e11_datarand_kb'],\n",
    "    #'ensemble11/o_empirical_kb_ucb_weighted_0.5_div_10_dataseed_modelseed_': [None, 'e11_datarand_wekb_div10'],\n",
    "    #'ensemble11/o_kb_malaria_dataseed_modelseed_': [None, 'mal_datarand_kb'],\n",
    "    #'ensemble11/o_empirical_kb_malaria_ucb_weighted_0.5_div_10_dataseed_modelseed_': [None, 'mal_datarand_wekb_div10'],\n",
    "    #'ensemble11/o_kb_nolog_malaria_dataseed_modelseed_': [None, 'mal_datarand_kb_nolog'],\n",
    "    #'ensemble12/o_none_ucb_': [None, 'e7_2'],\n",
    "    #'ensemble12/o_none_ucb_maxinvar_g000510204080_': [None, 'maxinvar2'],\n",
    "    #'ensemble12/o_none_ucb_maxvar_g000510204080_': [None, 'maxvar2'],\n",
    "    #'ensemble12/o_none_ucb_maxvar_id_g000510204080_': [None, 'modr2'],\n",
    "    #'ensemble13/o_info_mves_div_5_minhsic_1_': [None, 'mves_div_5_minhsic_1'],\n",
    "    #'ensemble13/o_info_mves_div_5_minhsic_0.05_bs_0_': [None, 'mves_bs_0'],\n",
    "    #'ensemble13/o_none_ucb_': [None, 'e13'],\n",
    "    #'ensemble13/o_pdts_ucb_rand_randdiv_3_': [None, 'pdts_randdiv_3'],\n",
    "    #'ensemble13_init_train_20/o_info_mves_div_5_minhsic_0.05_bs_0_': [None, 'mves_bs_0_it20'],\n",
    "    #'ensemble13_init_train_20/o_info_mves_div_5_minhsic_0.05_bs_0_fill_pdts_': [None, 'mves_bs_0_it20_fp'],\n",
    "    #'ensemble13_init_train_20/o_info_mves_div_5_minhsic_0.0_bs_0_fill_pdts_': [None, 'mves_bs_0_it20_fp_mh_0'],\n",
    "    #'ensemble13_init_train_20/o_none_ucb_': [None, 'e13_it20'],\n",
    "    #'ensemble13_init_train_20/o_none_ucb_rand_randdiv_3_': [None, 'e13_it20_randdiv_3'],\n",
    "    #'ensemble13_init_train_20/o_none_ucb_rand_randdiv_2_': [None, 'e13_it20_randdiv_2'],\n",
    "    #'ensemble13_init_train_20/o_none_ucb_rand_randdiv_1_': [None, 'e13_it20_randdiv_1'],\n",
    "    #'ensemble13_init_train_20/o_info_rand_mves_div_5_randdiv_1_': [None, 'mves_it20_fucb_randdiv_1'],\n",
    "    #'ensemble13_init_train_20/o_ei_ucb_': [None, 'ei_it20'],\n",
    "    #'ensemble13_init_train_20/o_pdts_ucb_rand_div_5_': [None, 'pdts_rand_div_5'],\n",
    "    #'ensemble13_init_train_20/o_pdts_ucb_rand_div_3_': [None, 'pdts_rand_div_3'],\n",
    "    #'ensemble13_init_train_20/o_info_rand_mves_div_5_fucb_randdiv_3_': [None, 'mves_it20_div_5_randdiv_3_fucb'],\n",
    "    #'ensemble13_init_train_20/o_info_rand_mves_div_5_fp_randdiv_3_': [None, 'mves_it20_div_5_randdiv_3_fp'],\n",
    "    #'ensemble13_init_train_20/o_info_mves_div_5_minhsic_0.05_bs_0.9_': [None, 'mves_bs_0.9_it20'],\n",
    "    #'ensemble13_init_train_20/o_pdts_ucb_': [None, 'pdts_it20'],\n",
    "    #'ensemble13_init_train_20/o_info_mves_div_1_minhsic_0.05_bs_0_fill_pdts_': [None, 'mves_div_1_bs_0_it20'],\n",
    "    #'ensemble13_init_train_20/o_er_pdts_ucb_div_5_': [None, 'er_pdts_div_5_it20'],\n",
    "    #'ensemble13_init_train_10/o_info_mves_div_5_minhsic_0.05_bs_0_fill_pdts_': [None, 'mves_bs_0_it10_fp'],\n",
    "    #'ensemble13_init_train_10/o_pdts_ucb_': [None, 'pdts_it10'],\n",
    "    'ensemble13/o_pdts_ucb_': [None, 'pdts'],\n",
    "    #'ensemble13/o_info_pdts_cond_div_2_fp_': [None, 'pdts_cond_fp'],\n",
    "    #'ensemble13/o_info_pdts_cond_div_5_lasso_fp_': [None, 'lasso'],\n",
    "    #'ensemble13/o_info_m80_mves_div_5_fp_': [None, 'mves_m80_fp'],\n",
    "    #'ensemble13/o_info_pdts_cond_div_20_lasso_fp_': [None, 'pdts_cond_lasso_fp'],\n",
    "    #'ensemble13/o_info_mves_div_5_fp_': [None, 'mves_fp'],\n",
    "    #'ensemble13/o_pdts_ucb_rand_rdiv_1_': [None, 'pdts_rand_rdiv_1'],\n",
    "    #'ensemble13/o_none_ucb_rand_rdiv_1_': [None, 'ucb_rand_rdiv_1'],\n",
    "    #'ensemble13/o_none_ucb_0.9_': [None, 'bs_0.9'],\n",
    "    #'ensemble13/o_info_mves_div_5_minhsic_0.05_bs_0.9_': [None, 'mves_bs_0.9'],\n",
    "}"
   ]
  },
  {
   "cell_type": "code",
   "execution_count": 318,
   "metadata": {},
   "outputs": [
    {
     "name": "stdout",
     "output_type": "stream",
     "text": [
      "reading ensemble13/o_pdts_ucb_\n",
      "reading sample 1\n",
      "reading sample 2\n",
      "reading sample 3\n",
      "reading sample 4\n",
      "reading sample 5\n",
      "reading sample 6\n",
      "reading sample 7\n",
      "reading sample 8\n",
      "reading sample 9\n",
      "reading sample 10\n",
      "reading sample 11\n",
      "reading sample 12\n",
      "reading sample 13\n",
      "reading sample 14\n",
      "reading sample 15\n",
      "reading sample 16\n",
      "reading sample 17\n",
      "reading sample 18\n",
      "reading sample 19\n",
      "reading sample 20\n"
     ]
    }
   ],
   "source": [
    "for k in to_read:\n",
    "    arrs[k] = to_read[k]\n",
    "for experiment in to_read:\n",
    "    print('reading', experiment)\n",
    "    arrs[experiment][0] = cs.get_data(exp_folder, experiment, batches, num_samples=20, mode=\"bayes_opt\")\n",
    "    #cs.get_data(exp_folder, experiment, batches, num_samples=20, mode=\"bayes_opt\")"
   ]
  },
  {
   "cell_type": "code",
   "execution_count": 186,
   "metadata": {
    "collapsed": true
   },
   "outputs": [],
   "source": [
    "to_eval = [\n",
    "    #'ensemble7/o_none_ucb_modelseed_',\n",
    "    #'ensemble7/o_none_ucb_maxvar_g000510204080_modelseed_',\n",
    "    #'ensemble7/o_none_ucb_maxinvar_g000510204080_modelseed_',\n",
    "    #'ensemble7/o_none_ucb_maxinoutvar_g000510204080_modelseed_',\n",
    "    #'ensemble7/o_none_ucb_dataseed_modelseed_',\n",
    "    #'ensemble7/o_none_ucb_invar_g000510204080_dataseed_modelseed_',\n",
    "    #'ensemble7/o_none_ucb_maxvar_g000510204080_dataseed_modelseed_',\n",
    "    #'ensemble7/o_none_ucb_inoutvar_g000510204080_dataseed_modelseed_',\n",
    "    #'ensemble7/o_none_ucb_maxvar_inverse_g000510204080_',\n",
    "    #'ensemble7/o_kriging_believer_kb_modelseed_',\n",
    "    #'ensemble7/o_empirical_kb_ucb_weighted_0.5_div_10_modelseed_',\n",
    "    #'ensemble7/o_empirical_kb_ucb_weighted_mean_0.5_div_10_modelseed_',\n",
    "    #'ensemble7/o_kb_dataseed_modelseed_',\n",
    "    #'ensemble10/o_kb_dataseed_modelseed_',\n",
    "    #'ensemble10/o_empirical_kb_ucb_weighted_0.5_div_10_dataseed_modelseed_',\n",
    "    #'ensemble11/o_kb_dataseed_modelseed_',\n",
    "    #'ensemble11/o_empirical_kb_ucb_weighted_0.5_div_10_dataseed_modelseed_',\n",
    "    #'ensemble11/o_kb_malaria_dataseed_modelseed_',\n",
    "    #'ensemble11/o_empirical_kb_malaria_ucb_weighted_0.5_div_10_dataseed_modelseed_',\n",
    "    #'ensemble12/o_none_ucb_',\n",
    "    #'ensemble12/o_none_ucb_maxinvar_g000510204080_',\n",
    "    #'ensemble12/o_none_ucb_maxvar_g000510204080_',\n",
    "    #'ensemble12/o_none_ucb_maxvar_id_g000510204080_',\n",
    "    'ensemble13/o_none_ucb_',\n",
    "    'ensemble13/o_pdts_ucb_',\n",
    "    'ensemble13/o_info_pdts_cond_div_5_lasso_fp_',\n",
    "    #'ensemble13/o_info_m80_mves_div_5_fp_',\n",
    "    #'ensemble13/o_info_pdts_cond_div_2_fp_',\n",
    "    #'ensemble13/o_info_mves_div_5_fp_',\n",
    "    #'ensemble13/o_pdts_ucb_rand_rdiv_1_',\n",
    "    #'ensemble13/o_none_ucb_rand_rdiv_1_',\n",
    "    #'ensemble13/o_info_mves_div_5_minhsic_1_',\n",
    "    #'ensemble13/o_pdts_ucb_rand_randdiv_3_',\n",
    "    #'ensemble13/o_info_mves_div_5_minhsic_0.05_bs_0_',\n",
    "    \n",
    "    #'ensemble13_init_train_20/o_none_ucb_',\n",
    "    #'ensemble13_init_train_20/o_none_ucb_rand_randdiv_1_',\n",
    "    #'ensemble13_init_train_20/o_none_ucb_rand_randdiv_2_',\n",
    "    #'ensemble13_init_train_20/o_none_ucb_rand_randdiv_3_',\n",
    "    #'ensemble13_init_train_20/o_ei_ucb_',\n",
    "    #'ensemble13_init_train_20/o_pdts_ucb_',\n",
    "    #'ensemble13_init_train_20/o_pdts_ucb_rand_div_5_',\n",
    "    #'ensemble13_init_train_20/o_pdts_ucb_rand_div_3_',\n",
    "    #'ensemble13_init_train_20/o_er_pdts_ucb_div_5_',\n",
    "    #'ensemble13_init_train_20/o_info_mves_div_5_minhsic_0.05_bs_0_',\n",
    "    #'ensemble13_init_train_20/o_info_mves_div_5_minhsic_0.05_bs_0.9_',\n",
    "    #'ensemble13_init_train_20/o_info_mves_div_5_minhsic_0.05_bs_0_fill_pdts_',\n",
    "    #'ensemble13_init_train_20/o_info_rand_mves_div_5_fp_randdiv_3_',\n",
    "    #'ensemble13_init_train_20/o_info_rand_mves_div_5_fucb_randdiv_3_',\n",
    "    #'ensemble13_init_train_20/o_info_rand_mves_div_5_randdiv_1_',\n",
    "    #'ensemble13_init_train_20/o_info_mves_div_5_minhsic_0.0_bs_0_fill_pdts_',\n",
    "    #'ensemble13_init_train_20/o_info_mves_div_1_minhsic_0.05_bs_0_fill_pdts_',\n",
    "    #'ensemble13_init_train_10/o_info_mves_div_5_minhsic_0.05_bs_0_fill_pdts_',\n",
    "    #'ensemble13/o_info_mves_div_5_minhsic_0.05_bs_0.9_',\n",
    "    #'ensemble13/o_info_mves_div_5_minhsic_0.05_bs_0.95_',\n",
    "    #'ensemble13/o_none_ucb_0.9_',\n",
    "]"
   ]
  },
  {
   "cell_type": "code",
   "execution_count": null,
   "metadata": {
    "collapsed": true
   },
   "outputs": [],
   "source": [
    "idx_data_extractor = lambda x, filename : x['idx_frac'][0].item()"
   ]
  },
  {
   "cell_type": "code",
   "execution_count": null,
   "metadata": {
    "collapsed": true
   },
   "outputs": [],
   "source": [
    "ack_rel_opt_val_data_extractor = lambda x, filename : x['ack_rel_opt_value']"
   ]
  },
  {
   "cell_type": "code",
   "execution_count": null,
   "metadata": {
    "collapsed": true
   },
   "outputs": [],
   "source": [
    "train_rmse_fn = lambda x, filename : x['logging'][1]['train']['std']"
   ]
  },
  {
   "cell_type": "code",
   "execution_count": 17,
   "metadata": {
    "collapsed": true
   },
   "outputs": [],
   "source": [
    "def ir_regret_fn(x, filename): \n",
    "    temp = x['ir_batch_cur_idx'].numpy().tolist()\n",
    "    temp2 = set(x['ack_idx'].numpy().tolist())\n",
    "    temp3 = None\n",
    "    for k in temp[::-1]:\n",
    "        if k not in temp2:\n",
    "            break\n",
    "    return np.exp(max(tf_labels[filename][k], tf_labels[filename][x['ack_idx']].max()))\n",
    "\n",
    "def ack_regret_fn(x, filename): \n",
    "    return np.exp(max(tf_labels[filename][x['ack_idx']].max(), tf_labels[filename][x['idx_at_each_iter'][0]].max()))\n",
    "    #return np.exp(tf_labels[filename][x['ack_idx']].max())\n",
    "\n"
   ]
  },
  {
   "cell_type": "code",
   "execution_count": 319,
   "metadata": {},
   "outputs": [
    {
     "name": "stdout",
     "output_type": "stream",
     "text": [
      "comparing pdts lasso\n",
      "HESX1_E149K_R1_8mers.txt 0.7464607440877886 0.4067073196172714 0.4099085360765457 1 \t (std: 0.05985 0.05962, #n: 20 20)\n",
      "BCL6_H676Y_R1_8mers.txt 0.7916208094225134 0.41448170840740206 0.41326219141483306 0 \t (std: 0.02325 0.02082, #n: 20 20)\n",
      "ARX_L343Q_R1_8mers.txt 0.013971232556900293 0.20838414430618285 0.1966463379561901 0 \t (std: 0.02805 0.02629, #n: 20 20)\n",
      "CRX_E80A_R1_8mers.txt 0.5319603493359718 0.17042683027684688 0.17545731738209724 1 \t (std: 0.03496 0.04020, #n: 20 20)\n",
      "FOXC1_F112S_R1_8mers.txt 0.3860959023169428 0.21570122018456458 0.2192073158919811 1 \t (std: 0.01983 0.02383, #n: 20 20)\n",
      "GFI1_L400F_R1_8mers.txt 0.09836004153630763 0.11890243776142598 0.1336890237405896 1 \t (std: 0.05310 0.04333, #n: 20 20)\n",
      "HOXC4_N178S_R1_8mers.txt 0.47556250303939496 0.43125 0.43826219588518145 1 \t (std: 0.04058 0.02940, #n: 20 20)\n",
      "HOXD13_I322L_R1_8mers.txt 0.8427264594469861 0.4007621958851814 0.40198170244693754 1 \t (std: 0.02233 0.02288, #n: 20 20)\n",
      "KLF11_R402Q_R1_8mers.txt 0.9015796419146054 0.2879573151469231 0.2891768284142017 1 \t (std: 0.04297 0.03930, #n: 20 20)\n",
      "KLF1_E325K_R1_8mers.txt 0.30204969106128243 0.40624999925494193 0.4301829264964908 1 \t (std: 0.12346 0.13596, #n: 20 20)\n",
      "MSX2_P148H_R1_8mers.txt 0.5540237024699199 0.47682926803827286 0.4716463401913643 0 \t (std: 0.04838 0.05794, #n: 20 20)\n",
      "NR1H4_C144R_R1_8mers.txt 0.5164366200500903 0.23963414430618285 0.23795731440186502 0 \t (std: 0.01663 0.01504, #n: 20 20)\n",
      "OVOL2_D228E_R1_8mers.txt 0.34258535627440556 0.009908536355942488 0.01570121948607266 1 \t (std: 0.02105 0.03054, #n: 20 20)\n",
      "PAX3_G48R_R1_8mers.txt 0.8619642124685561 0.3176829248666763 0.32012195363640783 1 \t (std: 0.07394 0.08086, #n: 20 20)\n",
      "PAX6_A79E_R1_8mers.txt 0.770258310311942 0.019359755935147403 0.0187499996740371 0 \t (std: 0.00880 0.00921, #n: 20 20)\n",
      "POU3F4_A237G_R1_8mers.txt 0.016493724806803056 0.5073170676827431 0.5175304844975471 1 \t (std: 0.02131 0.01957, #n: 20 20)\n",
      "SIX6_H141N_R1_8mers.txt 0.2756219924597582 0.2605182960629463 0.2682926841080189 1 \t (std: 0.02861 0.03488, #n: 20 20)\n",
      "SNAI2_D119E_R1_8mers.txt 0.7315756652815497 0.2208841472864151 0.22134146168828012 1 \t (std: 0.00574 0.00724, #n: 20 20)\n",
      "VAX2_L139M_R1_8mers.txt 0.4350448829317297 0.45518292486667633 0.4634146332740784 1 \t (std: 0.04852 0.04688, #n: 20 20)\n",
      "VENTX_E101K_R1_8mers.txt 0.17516485736120954 0.20000000074505805 0.20670731663703917 1 \t (std: 0.01845 0.01998, #n: 20 20)\n",
      "WT1_F392L_R1_8mers.txt 0.023421699997486774 0.31250000447034837 0.30487805157899855 0 \t (std: 0.01565 0.02072, #n: 20 20)\n",
      "ZNF655_E327G_R1_8mers.txt 0.8405921821239564 0.08963414672762156 0.0917682928033173 1 \t (std: 0.03351 0.03901, #n: 20 20)\n",
      "combined pval: 0.07627 vs 0.45850\n",
      "count: 16/22\n"
     ]
    }
   ],
   "source": [
    "cs.prop_test(10, \n",
    "             filenames,\n",
    "             idx_data_extractor,\n",
    "             #ack_rel_opt_val_data_extractor,\n",
    "             arrs, \n",
    "             [to_eval[1], to_eval[2]],\n",
    "             29,\n",
    "             pval_threshold=1,\n",
    "             paired_test=True,\n",
    "            )"
   ]
  },
  {
   "cell_type": "code",
   "execution_count": 321,
   "metadata": {
    "scrolled": false
   },
   "outputs": [
    {
     "name": "stdout",
     "output_type": "stream",
     "text": [
      "comparing pdts lasso\n",
      "HESX1_E149K_R1_8mers.txt 0.5986340835363096 20319.748 20663.232 1 \t (std: 3548.03906 3460.87207, #n: 20 20)\n",
      "ARX_L343Q_R1_8mers.txt 0.2830359057668379 82287.29 82541.484 1 \t (std: 878.57147 1045.89417, #n: 20 20)\n",
      "CRX_E80A_R1_8mers.txt 0.9313249187068358 327924.2 328445.16 1 \t (std: 15281.68750 21436.79297, #n: 20 20)\n",
      "FOXC1_F112S_R1_8mers.txt 0.5770324017264918 84834.08 84803.984 0 \t (std: 131.17220 180.55783, #n: 20 20)\n",
      "GFI1_L400F_R1_8mers.txt 0.13177121259083638 81554.04 85329.16 1 \t (std: 14658.64453 13835.30762, #n: 20 20)\n",
      "HOXC4_N178S_R1_8mers.txt 0.22300178646930469 171783.31 169714.81 0 \t (std: 7624.70459 9440.60645, #n: 20 20)\n",
      "HOXD13_I322L_R1_8mers.txt 0.4119753037195054 306843.84 305763.38 0 \t (std: 18741.99219 17767.06445, #n: 20 20)\n",
      "KLF1_E325K_R1_8mers.txt 0.8579872642298296 1223.1144 1220.6139 0 \t (std: 77.99885 101.12472, #n: 20 20)\n",
      "MSX2_P148H_R1_8mers.txt 0.3298768009211248 172485.28 172260.6 0 \t (std: 1478.52783 1664.01367, #n: 20 20)\n",
      "NR1H4_C144R_R1_8mers.txt 0.3298768009211248 17961.654 17985.246 1 \t (std: 117.36092 117.36092, #n: 20 20)\n",
      "OVOL2_D228E_R1_8mers.txt 0.2820105070111173 157403.5 183799.97 1 \t (std: 66811.21094 84235.10938, #n: 20 20)\n",
      "PAX3_G48R_R1_8mers.txt 0.9837481269116993 114162.17 114200.875 1 \t (std: 6404.51758 7734.66309, #n: 20 20)\n",
      "PAX6_A79E_R1_8mers.txt 0.8038548084826416 34946.414 34939.266 0 \t (std: 88.96880 82.90876, #n: 20 20)\n",
      "POU3F4_A237G_R1_8mers.txt 0.374949190965579 126723.5 127000.516 1 \t (std: 1328.97473 0.00000, #n: 20 20)\n",
      "SIX6_H141N_R1_8mers.txt 0.07234063085960507 140440.4 146609.83 1 \t (std: 18284.95508 17138.53125, #n: 20 20)\n",
      "VAX2_L139M_R1_8mers.txt 0.5885334847473846 234285.16 235141.62 1 \t (std: 6506.05420 4229.80615, #n: 20 20)\n",
      "VENTX_E101K_R1_8mers.txt 0.06917243358511745 115027.375 116084.89 1 \t (std: 3196.96094 2096.63208, #n: 20 20)\n",
      "WT1_F392L_R1_8mers.txt 0.5770324017264918 29341.4 29332.145 0 \t (std: 66.09796 74.04453, #n: 20 20)\n",
      "ZNF655_E327G_R1_8mers.txt 0.7834875009677476 60377.24 61554.68 1 \t (std: 16877.52734 19947.53711, #n: 20 20)\n",
      "combined pval: 0.76690 vs 0.32180\n",
      "count: 12/19\n"
     ]
    }
   ],
   "source": [
    "cs.prop_test(10, \n",
    "             filenames, \n",
    "             ack_regret_fn,\n",
    "             #ack_rel_opt_val_data_extractor,\n",
    "             arrs,\n",
    "             [to_eval[1], to_eval[2]],\n",
    "             29,\n",
    "             pval_threshold=1,\n",
    "             paired_test=True,\n",
    "            )"
   ]
  },
  {
   "cell_type": "code",
   "execution_count": 295,
   "metadata": {},
   "outputs": [
    {
     "name": "stdout",
     "output_type": "stream",
     "text": [
      "comparing pdts lasso\n",
      "HESX1_E149K_R1_8mers.txt 0.5986340835363096 20319.748 20663.232 1 \t (std: 3548.03906 3460.87207, #n: 20 20)\n",
      "ARX_L343Q_R1_8mers.txt 0.2830359057668379 82287.29 82541.484 1 \t (std: 878.57147 1045.89417, #n: 20 20)\n",
      "CRX_E80A_R1_8mers.txt 0.806935357509135 328009.2 329458.84 1 \t (std: 15182.04590 21061.89062, #n: 20 20)\n",
      "FOXC1_F112S_R1_8mers.txt 0.5770324017264918 84834.08 84803.984 0 \t (std: 131.17220 180.55783, #n: 20 20)\n",
      "GFI1_L400F_R1_8mers.txt 0.18323806877569743 81897.21 85329.16 1 \t (std: 14440.65918 13835.30762, #n: 20 20)\n",
      "HOXC4_N178S_R1_8mers.txt 0.22300178646930469 171783.31 169714.81 0 \t (std: 7624.70459 9440.60645, #n: 20 20)\n",
      "KLF1_E325K_R1_8mers.txt 0.8579872642298296 1223.1144 1220.6139 0 \t (std: 77.99885 101.12472, #n: 20 20)\n",
      "MSX2_P148H_R1_8mers.txt 0.3298768009211248 172485.28 172260.6 0 \t (std: 1478.52783 1664.01367, #n: 20 20)\n",
      "NR1H4_C144R_R1_8mers.txt 0.3298768009211248 17961.654 17985.246 1 \t (std: 117.36092 117.36092, #n: 20 20)\n",
      "OVOL2_D228E_R1_8mers.txt 0.2820105070111173 157403.5 183799.97 1 \t (std: 66811.21094 84235.10938, #n: 20 20)\n",
      "PAX3_G48R_R1_8mers.txt 0.9837481269116993 114162.17 114200.875 1 \t (std: 6404.51758 7734.66309, #n: 20 20)\n",
      "PAX6_A79E_R1_8mers.txt 0.8038548084826416 34946.414 34939.266 0 \t (std: 88.96880 82.90876, #n: 20 20)\n",
      "POU3F4_A237G_R1_8mers.txt 0.374949190965579 126723.5 127000.516 1 \t (std: 1328.97473 0.00000, #n: 20 20)\n",
      "SIX6_H141N_R1_8mers.txt 0.07234063085960507 140440.4 146609.83 1 \t (std: 18284.95508 17138.53125, #n: 20 20)\n",
      "VAX2_L139M_R1_8mers.txt 0.5885334847473846 234285.16 235141.62 1 \t (std: 6506.05420 4229.80615, #n: 20 20)\n",
      "WT1_F392L_R1_8mers.txt 0.5770324017264918 29341.4 29332.145 0 \t (std: 66.09796 74.04453, #n: 20 20)\n",
      "ZNF655_E327G_R1_8mers.txt 0.7834875009677476 60377.24 61554.68 1 \t (std: 16877.52734 19947.53711, #n: 20 20)\n",
      "combined pval: 0.77237 vs 0.52575\n",
      "count: 11/17\n"
     ]
    }
   ],
   "source": [
    "cs.prop_test(10, \n",
    "             filenames, \n",
    "             ir_regret_fn, \n",
    "             arrs, \n",
    "             [to_eval[1], to_eval[2]],\n",
    "             29,\n",
    "             pval_threshold=1,\n",
    "             paired_test=True,\n",
    "            )"
   ]
  },
  {
   "cell_type": "code",
   "execution_count": 268,
   "metadata": {},
   "outputs": [
    {
     "ename": "IndexError",
     "evalue": "list index out of range",
     "output_type": "error",
     "traceback": [
      "\u001b[0;31m---------------------------------------------------------------------------\u001b[0m",
      "\u001b[0;31mIndexError\u001b[0m                                Traceback (most recent call last)",
      "\u001b[0;32m<ipython-input-268-8ceee3a66629>\u001b[0m in \u001b[0;36m<module>\u001b[0;34m()\u001b[0m\n\u001b[1;32m      7\u001b[0m     \u001b[0;31m#ack_rel_opt_val_data_extractor,\u001b[0m\u001b[0;34m\u001b[0m\u001b[0;34m\u001b[0m\u001b[0m\n\u001b[1;32m      8\u001b[0m     \u001b[0marrs\u001b[0m\u001b[0;34m,\u001b[0m\u001b[0;34m\u001b[0m\u001b[0m\n\u001b[0;32m----> 9\u001b[0;31m     \u001b[0mto_eval\u001b[0m\u001b[0;34m[\u001b[0m\u001b[0;36m5\u001b[0m\u001b[0;34m]\u001b[0m\u001b[0;34m,\u001b[0m\u001b[0;34m\u001b[0m\u001b[0m\n\u001b[0m\u001b[1;32m     10\u001b[0m     \u001b[0;36m14\u001b[0m\u001b[0;34m,\u001b[0m\u001b[0;34m\u001b[0m\u001b[0m\n\u001b[1;32m     11\u001b[0m     \u001b[0mpval_threshold\u001b[0m\u001b[0;34m=\u001b[0m\u001b[0;36m1\u001b[0m\u001b[0;34m,\u001b[0m\u001b[0;34m\u001b[0m\u001b[0m\n",
      "\u001b[0;31mIndexError\u001b[0m: list index out of range"
     ]
    }
   ],
   "source": [
    "cs.uniform_baseline(\n",
    "    3,\n",
    "    tf_labels,\n",
    "    20, \n",
    "    filenames, \n",
    "    ack_regret_fn, \n",
    "    #ack_rel_opt_val_data_extractor,\n",
    "    arrs,\n",
    "    to_eval[5], \n",
    "    14, \n",
    "    pval_threshold=1, \n",
    ")"
   ]
  },
  {
   "cell_type": "code",
   "execution_count": null,
   "metadata": {
    "collapsed": true
   },
   "outputs": [],
   "source": [
    "cs.prop_test(100, \n",
    "             filenames, \n",
    "             idx_data_extractor, \n",
    "             arrs, \n",
    "             [to_eval[-2], to_eval[-1]], \n",
    "             9,\n",
    "             pval_threshold=0.2,\n",
    "             paired_test=True,\n",
    "            )"
   ]
  },
  {
   "cell_type": "code",
   "execution_count": null,
   "metadata": {
    "collapsed": true
   },
   "outputs": [],
   "source": [
    "cs.prop_test(100, filenames, ir_regret_fn, arrs, [to_eval[-2], to_eval[-1]], 9, pval_threshold=0.2, paired_test=True)"
   ]
  },
  {
   "cell_type": "code",
   "execution_count": null,
   "metadata": {
    "collapsed": true
   },
   "outputs": [],
   "source": [
    "cs.prop_test(100, filenames, ack_regret_fn, arrs, [to_eval[-2], to_eval[-1]], 9, pval_threshold=1.4, paired_test=True)"
   ]
  },
  {
   "cell_type": "code",
   "execution_count": null,
   "metadata": {
    "collapsed": true
   },
   "outputs": [],
   "source": [
    "cs.prop_test(200, \n",
    "             filenames, \n",
    "             idx_data_extractor, \n",
    "             arrs, \n",
    "             [to_eval[-2], to_eval[-1]], \n",
    "             29, \n",
    "             pval_threshold=1,\n",
    "             paired_test=True,\n",
    "            )"
   ]
  },
  {
   "cell_type": "code",
   "execution_count": null,
   "metadata": {
    "collapsed": true
   },
   "outputs": [],
   "source": [
    "cs.prop_test(200, filenames, ack_rel_opt_val_data_extractor, arrs, [to_eval[-2], to_eval[-1]], 29, pval_threshold=1.4, paired_test=True)"
   ]
  },
  {
   "cell_type": "code",
   "execution_count": null,
   "metadata": {
    "collapsed": true
   },
   "outputs": [],
   "source": [
    "to_eval = [\n",
    "    #'ensemble7/o_none_ucb_modelseed_',\n",
    "    #'ensemble7/o_none_ucb_ucb_step_0.1_modelseed_',\n",
    "    #'ensemble7/o_none_ucb_maxvar_g000510204080_modelseed_',\n",
    "    #'ensemble7/o_none_ucb_maxinoutvar_g000510204080_modelseed_',\n",
    "    #'ensemble7/o_none_ucb_maxinvar_g000510204080_modelseed_',\n",
    "    \n",
    "    #'ensemble7/o_none_ucb_dataseed_modelseed_',\n",
    "    #'ensemble7/o_none_ucb_invar_g000510204080_dataseed_modelseed_',\n",
    "    #'ensemble7/o_none_ucb_maxvar_g000510204080_dataseed_modelseed_',\n",
    "    #'ensemble7/o_none_ucb_maxvar_inverse_g000510204080_',\n",
    "    \n",
    "    #'ensemble7/o_none_ucb_inoutvar_g000510204080_dataseed_modelseed_',\n",
    "    #'ensemble7/o_kriging_believer_kb_modelseed_',\n",
    "    #'ensemble7/o_empirical_kb_ucb_weighted_0.5_div_10_modelseed_',\n",
    "    #'ensemble7/o_empirical_kb_ucb_weighted_mean_0.5_div_10_modelseed_',\n",
    "    #'ensemble7/o_empirical_kb_div_3_modelseed_',\n",
    "    #'ensemble7/o_empirical_kb_ucb_weighted_div_10_modelseed_',\n",
    "    #'ensemble7/o_kb_dataseed_modelseed_',\n",
    "    #'ensemble7/o_empirical_kb_ucb_weighted_div_10_dataseed_modelseed_',\n",
    "    #'ensemble10/o_kb_dataseed_modelseed_',\n",
    "    #'ensemble10/o_empirical_kb_ucb_weighted_0.5_div_10_dataseed_modelseed_',\n",
    "    #'ensemble11/o_kb_dataseed_modelseed_',\n",
    "    #'ensemble11/o_empirical_kb_ucb_weighted_0.5_div_10_dataseed_modelseed_',\n",
    "    #'ensemble11/o_kb_malaria_dataseed_modelseed_',\n",
    "    #'ensemble11/o_empirical_kb_malaria_ucb_weighted_0.5_div_10_dataseed_modelseed_',\n",
    "    \n",
    "    #'ensemble12/o_none_ucb_',\n",
    "    #'ensemble13/o_info_mves_div_5_minhsic_1_',\n",
    "    'ensemble13/o_none_ucb_',\n",
    "    #'ensemble13/o_info_mves_div_5_minhsic_0.05_bs_0.95_',\n",
    "    #'ensemble13/o_info_mves_div_5_minhsic_0.05_bs_0.9_',\n",
    "    #'ensemble13/o_info_mves_div_5_minhsic_0.05_bs_0_',\n",
    "    #'ensemble13/o_none_ucb_0.9_',\n",
    "    'ensemble13/o_pdts_ucb_',\n",
    "    'ensemble13/o_info_m80_mves_div_5_fp_',\n",
    "    #'ensemble13/o_info_pdts_cond_div_5_lasso_fp_',\n",
    "    #'ensemble13_init_train_20/o_none_ucb_',\n",
    "    #'ensemble13_init_train_20/o_info_mves_div_5_minhsic_0.05_bs_0_',\n",
    "    #'ensemble13_init_train_20/o_info_mves_div_5_minhsic_0.05_bs_0_fill_pdts_',\n",
    "    #'ensemble13_init_train_20/o_info_mves_div_5_minhsic_0.05_bs_0.9_',\n",
    "    #'ensemble13_init_train_20/o_pdts_ucb_',\n",
    "]"
   ]
  },
  {
   "cell_type": "code",
   "execution_count": null,
   "metadata": {
    "scrolled": false
   },
   "outputs": [],
   "source": [
    "ack_iter = 14\n",
    "for batch_size in [10]:\n",
    "    print(\"BATCH SIZE\", batch_size)\n",
    "    for filename in filenames:\n",
    "        filename_printed = False\n",
    "        for experiment in to_eval:\n",
    "            if len(arrs[experiment][0]) == 0:\n",
    "                continue\n",
    "            idx_frac = None\n",
    "            num_used = 0\n",
    "            val_nll = 0\n",
    "            try:\n",
    "                for stats in arrs[experiment][0]:\n",
    "                    if filename not in stats:\n",
    "                        continue\n",
    "                    if batch_size not in stats[filename]:\n",
    "                        continue\n",
    "                    if len(stats[filename][batch_size]) <= ack_iter:\n",
    "                        continue\n",
    "                    num_used += 1\n",
    "                    mean = 0\n",
    "                    #for i in range(len(stats[filename][batch_size])):\n",
    "                        #mean += stats[filename][batch_size][i]['logging'][1]['best']['nll']\n",
    "                    if len(stats[filename][batch_size]) > 0:\n",
    "                        mean /= (len(stats[filename][batch_size]))\n",
    "                    #val_nll += stats[filename][batch_size][0]['logging'][1]['best']['nll']\n",
    "                    val_nll += mean\n",
    "                    if idx_frac is None:\n",
    "                        idx_frac = stats[filename][batch_size][ack_iter]['idx_frac']\n",
    "                        #idx_frac = tf_labels[filename][stats[filename][batch_size][ack_iter]['ir_batch_cur_idx'][-1]]\n",
    "                        #idx_frac = stats[filename][batch_size][ack_iter]['corr_stats'][1]\n",
    "                    else:\n",
    "                        idx_frac = idx_frac + stats[filename][batch_size][ack_iter]['idx_frac']\n",
    "                        #idx_frac = torch.max(idx_frac, stats[filename][batch_size][ack_iter]['idx_frac'])\n",
    "                        #idx_frac = idx_frac + tf_labels[filename][stats[filename][batch_size][ack_iter]['ir_batch_cur_idx'][-1]]\n",
    "                        #idx_frac = idx_frac + stats[filename][batch_size][ack_iter]['corr_stats'][1]\n",
    "                if num_used > 0:\n",
    "                    if not filename_printed:\n",
    "                        print(filename)\n",
    "                        filename_printed = True\n",
    "                    idx_frac = idx_frac/num_used\n",
    "                    #idx_frac = idx_frac.numpy()\n",
    "                    print(arrs[experiment][1] + \":\", \" \".join((\"{:6.6f}\".format(k) for k in idx_frac)), \";\", \"{:6.2f}\".format(val_nll/num_used), \"val_nll ;\", str(num_used), \"samples\")\n",
    "                    #print(arrs[experiment][1] + \":\", str(idx_frac), \";\", \"{:6.2f}\".format(val_nll/num_used), \"val_nll ;\", str(num_used), \"samples\")\n",
    "            except Exception as e:\n",
    "                pass"
   ]
  },
  {
   "cell_type": "code",
   "execution_count": null,
   "metadata": {
    "collapsed": true
   },
   "outputs": [],
   "source": [
    "import collect_stats as cs"
   ]
  },
  {
   "cell_type": "code",
   "execution_count": null,
   "metadata": {
    "collapsed": true,
    "scrolled": false
   },
   "outputs": [],
   "source": [
    "cs.plot_data_vs_ack_iter(\n",
    "    20,\n",
    "    filenames,\n",
    "    'avg_seeds',\n",
    "    'relative optimal value',\n",
    "    #ack_regret_fn,\n",
    "    ack_rel_opt_val_data_extractor,\n",
    "    14,\n",
    "    arrs,\n",
    "    to_eval,\n",
    "    legend_loc=3,\n",
    "    figsize=(6, 4),\n",
    "    num_samples_label=True,\n",
    "    save_path='/cluster/sj1/bb_opt/plots',\n",
    ")"
   ]
  },
  {
   "cell_type": "code",
   "execution_count": null,
   "metadata": {
    "collapsed": true
   },
   "outputs": [],
   "source": [
    "cs.plot_data_vs_ack_iter(\n",
    "    10,\n",
    "    filenames[0:15],\n",
    "    'avg_seeds',\n",
    "    'gamma',\n",
    "    lambda x : x['best_gamma'] if x['best_gamma'] is not None else 0,\n",
    "    30,\n",
    "    arrs,\n",
    "    to_eval,\n",
    "    legend_loc=3,\n",
    ")"
   ]
  },
  {
   "cell_type": "code",
   "execution_count": null,
   "metadata": {
    "collapsed": true
   },
   "outputs": [],
   "source": [
    "ack_iter = 0\n",
    "for filename in filenames:\n",
    "    print(filename)\n",
    "    for batch_size in batches:\n",
    "        for experiment in to_eval:\n",
    "            best_value = 0\n",
    "            num_used = 0\n",
    "            for stats in arrs[experiment][0]:\n",
    "                if filename not in stats:\n",
    "                    continue\n",
    "                if batch_size not in stats[filename]:\n",
    "                    continue\n",
    "                num_used += 1\n",
    "                best_value += stats[filename][batch_size][ack_iter]['logging'][9].item()\n",
    "            if num_used > 0:\n",
    "                best_value = best_value/num_used\n",
    "                print(arrs[experiment][1] + \":\", best_value, \";\", str(num_used), \"samples\")"
   ]
  },
  {
   "cell_type": "code",
   "execution_count": null,
   "metadata": {
    "collapsed": true
   },
   "outputs": [],
   "source": [
    "test_properties = [\n",
    "    'test_log_prob',\n",
    "    'test_mse',\n",
    "    'test_kt_corr',\n",
    "    'test_std_list',\n",
    "    'test_mse_std_corr'\n",
    "]\n",
    "\n",
    "avg = True\n",
    "\n",
    "for prop in test_properties[1:2]:\n",
    "    for filename in filenames[0:1]:\n",
    "        print(filename)\n",
    "        for batch_size in batches:\n",
    "            for experiment in arrs:\n",
    "                plt.figure(figsize=(15, 4))\n",
    "                plt.subplot(121)\n",
    "                prop_list = np.array([0.]*num_acks)\n",
    "                num_used = 0\n",
    "                for stats in arrs[experiment][0]:\n",
    "                    if filename not in stats:\n",
    "                        continue\n",
    "                    if batch_size not in stats[filename]:\n",
    "                        continue\n",
    "                    if len(stats[filename][batch_size]) < num_acks:\n",
    "                        continue\n",
    "                    num_used += 1\n",
    "                    if avg:\n",
    "                        prop_list += np.array([stats[filename][batch_size][i][prop][0].item() for i in range(num_acks)])\n",
    "                    else:\n",
    "                        prop_list = [stats[filename][batch_size][i][prop][0].item() for i in range(num_acks)]\n",
    "                    if not avg:\n",
    "                        plt.plot(prop_list)\n",
    "                if avg:\n",
    "                    plt.plot(prop_list/num_used)\n",
    "                plt.title(arrs[experiment][1] + \"; \" + prop + \"; all\")\n",
    "                plt.subplot(122)\n",
    "                prop_list = np.array([0.]*num_acks)\n",
    "                num_used = 0\n",
    "                for stats in arrs[experiment][0]:\n",
    "                    if filename not in stats:\n",
    "                        continue\n",
    "                    if batch_size not in stats[filename]:\n",
    "                        continue\n",
    "                    if len(stats[filename][batch_size]) < num_acks:\n",
    "                        continue\n",
    "                    num_used += 1\n",
    "                    if avg:\n",
    "                        prop_list += np.array([stats[filename][batch_size][i][prop][1].item() for i in range(num_acks)])\n",
    "                    else:\n",
    "                        prop_list = [stats[filename][batch_size][i][prop][1].item() for i in range(num_acks)]\n",
    "                    if not avg:\n",
    "                        plt.plot(prop_list)\n",
    "                if avg:\n",
    "                    plt.plot(prop_list/num_used)\n",
    "                plt.title(arrs[experiment][1] + \"; \" + prop + \"; top 10%\")"
   ]
  },
  {
   "cell_type": "code",
   "execution_count": null,
   "metadata": {
    "collapsed": true
   },
   "outputs": [],
   "source": [
    "ack_iter = 0\n",
    "for filename in filenames[2:3]:\n",
    "    print(filename)\n",
    "    for batch_size in batches:\n",
    "        for experiment in arrs:\n",
    "            plt.figure(figsize=(15, 4))\n",
    "            for stats in arrs[experiment][0]:\n",
    "                #for i in range(num_acks):\n",
    "                if filename not in stats:\n",
    "                    continue\n",
    "                if batch_size not in stats[filename]:\n",
    "                    continue\n",
    "                prop_list = stats[filename][batch_size][ack_iter]['logging'][-1].numpy()\n",
    "                plt.plot(prop_list)\n",
    "                plt.title(arrs[experiment][1] + \"; \" + str(ack_iter))"
   ]
  },
  {
   "cell_type": "code",
   "execution_count": null,
   "metadata": {
    "collapsed": true
   },
   "outputs": [],
   "source": [
    "to_eval = [\n",
    "    #'top_val_none_ucb_g0.0_',\n",
    "    'top_val_none_ucb_maxstd_g01051020_',\n",
    "    'top_val_none_ucb_g0.0_200epochs_last_',\n",
    "    #'top_val_none_ucb_maxvar_g01051020_',\n",
    "]"
   ]
  },
  {
   "cell_type": "code",
   "execution_count": null,
   "metadata": {
    "collapsed": true,
    "scrolled": false
   },
   "outputs": [],
   "source": [
    "ack_iter = 1\n",
    "for filename in filenames[:3]:\n",
    "    print(filename)\n",
    "    for batch_size in batches:\n",
    "        for experiment in to_eval:\n",
    "            plt.figure(figsize=(15, 4))\n",
    "            for stats in arrs[experiment][0]:\n",
    "                #for i in range(num_acks):\n",
    "                if filename not in stats:\n",
    "                    continue\n",
    "                if batch_size not in stats[filename]:\n",
    "                    continue\n",
    "                #prop_list = stats[filename][batch_size][ack_iter]['logging'][5].numpy()\n",
    "                prop_list = stats[filename][batch_size][ack_iter]['best_gamma']\n",
    "                plt.plot(prop_list)\n",
    "                plt.title(arrs[experiment][1] + \"; \" + str(ack_iter))"
   ]
  },
  {
   "cell_type": "code",
   "execution_count": null,
   "metadata": {
    "collapsed": true,
    "scrolled": false
   },
   "outputs": [],
   "source": [
    "test_properties = [\n",
    "    'test_log_prob',\n",
    "    'test_mse',\n",
    "    'test_kt_corr',\n",
    "    'test_std_list',\n",
    "    'test_mse_std_corr'\n",
    "]\n",
    "\n",
    "ack_iter = -1\n",
    "for filename in filenames:\n",
    "    print(filename)\n",
    "    for batch_size in [10]:\n",
    "        for experiment in to_eval:\n",
    "            m = None\n",
    "            num_used = 0\n",
    "            for stats in arrs[experiment][0]:\n",
    "                #for i in range(num_acks):\n",
    "                if filename not in stats:\n",
    "                    continue\n",
    "                if batch_size not in stats[filename]:\n",
    "                    continue\n",
    "                num_used += 1\n",
    "                #m += stats[filename][batch_size][ack_iter]['test_std_list'][0].item()\n",
    "                m2 = np.array([\n",
    "                    np.exp(stats[filename][batch_size][ack_iter]['ack_labels'].max()-tf_max[filename]),\n",
    "                    #stats[filename][batch_size][ack_iter]['test_std_list'][0].item(),\n",
    "                    #stats[filename][batch_size][ack_iter]['test_std_list'][1].item(),\n",
    "                    #stats[filename][batch_size][ack_iter]['test_std_list'][2].item()\n",
    "                ])\n",
    "                if m is None:\n",
    "                    m = m2\n",
    "                else:\n",
    "                    m += m2\n",
    "            if num_used > 0:\n",
    "                print(arrs[experiment][1], \":\", m/num_used, \";\", num_used, \"samples\")"
   ]
  },
  {
   "cell_type": "code",
   "execution_count": null,
   "metadata": {
    "collapsed": true
   },
   "outputs": [],
   "source": [
    "num_labels = 32897"
   ]
  },
  {
   "cell_type": "code",
   "execution_count": null,
   "metadata": {
    "collapsed": true
   },
   "outputs": [],
   "source": [
    "to_eval = [\n",
    "    'take_log_none_ucb_c1.0_g0.0_',\n",
    "    #'take_log_none_ucb_c2.0_g0.0_',\n",
    "    'take_log_none_ucb_c1.0_g5.0_',\n",
    "    'take_log_none_ucb_c1.0_g10.0_',\n",
    "    'take_log_none_ucb_c1.0_g20.0_',\n",
    "]\n",
    "\n",
    "to_eval = [\n",
    "    'take_log_none_ucb_num_acks_30_c1.0_g0.0_',\n",
    "    'take_log_none_ucb_num_acks_30_c1.0_g5.0_',\n",
    "    'take_log_none_ucb_num_acks_30_c1.0_g10.0_',\n",
    "]"
   ]
  },
  {
   "cell_type": "code",
   "execution_count": null,
   "metadata": {
    "collapsed": true
   },
   "outputs": [],
   "source": [
    "num_acks = 30"
   ]
  },
  {
   "cell_type": "code",
   "execution_count": null,
   "metadata": {
    "collapsed": true
   },
   "outputs": [],
   "source": [
    "to_eval = {\n",
    "    'take_log_none_ucb_num_acks_30_c1.0_g0.0_': 'Normal',\n",
    "    'take_log_none_ucb_num_acks_30_c1.0_maxvar_' : 'MOD',\n",
    "    'take_log_none_ucb_num_acks_30_c1.0_mincorr_' : 'MOD2',\n",
    "}\n",
    "\n",
    "to_eval = {\n",
    "    'take_log_none_ucb_ntest' : 'Normal',\n",
    "}"
   ]
  },
  {
   "cell_type": "code",
   "execution_count": null,
   "metadata": {
    "collapsed": true
   },
   "outputs": [],
   "source": [
    "to_eval = [\n",
    "    #'top_val_none_ucb_g0.0_',\n",
    "    'top_val_none_ucb_g0.0_modelseed',\n",
    "    #'top_val_none_ucb_maxstd_g01051020_',\n",
    "    #'top_val_none_ucb_g0.0_200epochs_last_',\n",
    "    #'top_val_none_ucb_maxvar_g01051020_',\n",
    "]"
   ]
  },
  {
   "cell_type": "code",
   "execution_count": null,
   "metadata": {
    "collapsed": true,
    "scrolled": false
   },
   "outputs": [],
   "source": [
    "avg = True\n",
    "num_acks = 10\n",
    "\n",
    "for batch_size in batches:\n",
    "    for filename in filenames:\n",
    "        if avg:\n",
    "            plt.figure(figsize=(6, 4))\n",
    "            legend = []\n",
    "        for experiment in to_eval:\n",
    "            if not avg:\n",
    "                plt.figure(figsize=(15, 4))\n",
    "            prop_list = []\n",
    "            num_used = 0\n",
    "            for stats in arrs[experiment][0]:\n",
    "                if filename not in stats:\n",
    "                    continue\n",
    "                if batch_size not in stats[filename]:\n",
    "                    continue\n",
    "                if len(stats[filename][batch_size]) < num_acks:\n",
    "                    continue\n",
    "                num_used += 1\n",
    "                if avg:\n",
    "                    #prop_list += [np.array([np.exp(stats[filename][batch_size][ack_iter]['ack_labels'].max()-tf_max[filename]) for ack_iter in range(num_acks)])]\n",
    "                    #prop_list += [np.array([(stats[filename][batch_size][ack_iter]['idx_frac'][0]) for ack_iter in range(num_acks)])]\n",
    "                    #prop_list += [np.array([(stats[filename][batch_size][ack_iter]['corr_stats'][0][-4]) for ack_iter in range(num_acks)])]\n",
    "                    prop_list += [np.array([(stats[filename][batch_size][ack_iter]['logging'][0][8]) for ack_iter in range(num_acks)])]\n",
    "                else:\n",
    "                    prop_list = [(stats[filename][batch_size][ack_iter]['ack_labels'].max()) for ack_iter in range(num_acks)]\n",
    "                    prop_list = [np.array([(stats[filename][batch_size][ack_iter]['corr_stats'][0][-4]) for ack_iter in range(num_acks)])]\n",
    "                if not avg:\n",
    "                    plt.plot(prop_list)\n",
    "            if avg and num_used > 0:\n",
    "                prop_list = np.stack(prop_list, axis=0)\n",
    "                plt.plot(np.median(prop_list, axis=0))\n",
    "                legend += [arrs[experiment][1]]\n",
    "            elif not avg:\n",
    "                plt.title(arrs[experiment][1] + \"; \" + str(batch_size) + \"; all\")\n",
    "        if avg:\n",
    "            plt.legend(legend)\n",
    "            plt.xlabel('Acquisition Iteration')\n",
    "            plt.ylabel('Relative optimal value')\n",
    "            #plt.title(filename + \"; \" + str(batch_size) + \"; all\")\n",
    "            plt.title(filename.split(\"_\")[0])"
   ]
  },
  {
   "cell_type": "code",
   "execution_count": null,
   "metadata": {
    "collapsed": true,
    "scrolled": false
   },
   "outputs": [],
   "source": [
    "avg = True\n",
    "\n",
    "for batch_size in batches:\n",
    "    for filename in filenames:\n",
    "        if avg:\n",
    "            plt.figure(figsize=(6, 4))\n",
    "            legend = []\n",
    "        for experiment in to_eval:\n",
    "            if not avg:\n",
    "                plt.figure(figsize=(15, 4))\n",
    "                \n",
    "            for prop_i in [5, 6]:\n",
    "                prop_list = []\n",
    "                num_used = 0\n",
    "                for stats in arrs[experiment][0]:\n",
    "                    if filename not in stats:\n",
    "                        continue\n",
    "                    if batch_size not in stats[filename]:\n",
    "                        continue\n",
    "                    if len(stats[filename][batch_size]) < num_acks:\n",
    "                        continue\n",
    "                    num_used += 1\n",
    "                    if avg:\n",
    "                        #prop_list += [np.array([np.exp(stats[filename][batch_size][ack_iter]['ack_labels'].max()-tf_max[filename]) for ack_iter in range(num_acks)])]\n",
    "                        #prop_list += [np.array([(stats[filename][batch_size][ack_iter]['idx_frac'][0]) for ack_iter in range(num_acks)])]\n",
    "                        #prop_list += [np.array([(stats[filename][batch_size][ack_iter]['corr_stats'][1][prop_i].item()) for ack_iter in range(num_acks)])]\n",
    "                        prop_list += [np.array([(stats[filename][batch_size][ack_iter]['best_gamma']) for ack_iter in range(num_acks)])]\n",
    "                    else:\n",
    "                        prop_list = [(stats[filename][batch_size][ack_iter]['ack_labels'].max()) for ack_iter in range(num_acks)]\n",
    "                        prop_list = [np.array([(stats[filename][batch_size][ack_iter]['corr_stats'][1][prop_i].item()) for ack_iter in range(num_acks)])]\n",
    "                    if not avg:\n",
    "                        plt.plot(prop_list)\n",
    "                if avg and num_used > 0:\n",
    "                    prop_list = np.stack(prop_list, axis=0)\n",
    "                    plt.plot(np.median(prop_list, axis=0))\n",
    "                    legend += [str(prop_i)]\n",
    "                elif not avg:\n",
    "                    plt.title(arrs[experiment][1] + \"; \" + str(batch_size) + \"; all\")\n",
    "        if avg:\n",
    "            plt.legend(legend)\n",
    "            plt.xlabel('Acquisition Iteration')\n",
    "            plt.ylabel('Relative optimal value')\n",
    "            #plt.title(filename + \"; \" + str(batch_size) + \"; all\")\n",
    "            plt.title(filename.split(\"_\")[0])"
   ]
  },
  {
   "cell_type": "code",
   "execution_count": null,
   "metadata": {
    "collapsed": true
   },
   "outputs": [],
   "source": [
    "avg = True\n",
    "\n",
    "plt.figure(figsize=(6, 4))\n",
    "legend = []\n",
    "for experiment in to_eval:\n",
    "    prop_list = []\n",
    "    for batch_size in [10]:\n",
    "        for filename in filenames:\n",
    "            for stats in arrs[experiment][0]:\n",
    "                if filename not in stats:\n",
    "                    continue\n",
    "                if batch_size not in stats[filename]:\n",
    "                    continue\n",
    "                if len(stats[filename][batch_size]) < num_acks:\n",
    "                    continue\n",
    "                prop_list += [np.array([np.exp(stats[filename][batch_size][ack_iter]['ack_labels'].max()-tf_max[filename]) for ack_iter in range(num_acks)])]\n",
    "                #prop_list += [np.array([(stats[filename][batch_size][ack_iter]['idx_frac'][0]) for ack_iter in range(num_acks)])]\n",
    "    prop_list = np.stack(prop_list, axis=0)\n",
    "    plt.plot(np.median(prop_list, axis=0))\n",
    "    #legend += [arrs[experiment][1]]\n",
    "    legend += [to_eval[experiment]]\n",
    "plt.legend(legend)\n",
    "plt.xlabel('Acquisition Iteration')\n",
    "plt.ylabel('Relative optimal value')"
   ]
  },
  {
   "cell_type": "code",
   "execution_count": null,
   "metadata": {
    "collapsed": true
   },
   "outputs": [],
   "source": []
  }
 ],
 "metadata": {
  "kernelspec": {
   "display_name": "Python (py36)",
   "language": "python",
   "name": "py36"
  },
  "language_info": {
   "codemirror_mode": {
    "name": "ipython",
    "version": 3
   },
   "file_extension": ".py",
   "mimetype": "text/x-python",
   "name": "python",
   "nbconvert_exporter": "python",
   "pygments_lexer": "ipython3",
   "version": "3.6.6"
  }
 },
 "nbformat": 4,
 "nbformat_minor": 2
}
