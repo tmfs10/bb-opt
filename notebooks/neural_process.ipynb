{
 "cells": [
  {
   "cell_type": "markdown",
   "metadata": {},
   "source": [
    "* Look at extrapolation beyond the edge of the image - what does the model think is out there? Is uncertainty higher?\n",
    "* Maybe we could think of each data set that we have (May, Dec, Apr) as being a separate \"image\" that we then pick a context from and train on predicting targets. What could we learn from this?\n",
    "* From [Kaspar's blog post][kaspar], how the uncertainty is quite low when the NP is failing to extrapolate to abs(sin(x)) and 2.5 * sin(x) - is there something we could change to make the uncertainty higher when the given context points are very different (at least, taken together) than those in training?\n",
    "  * See how a GP would do on similar tasks? But my GP will probably be sub-optimal because I don't know all the GP tricks...\n",
    "* [Face completion][face completion]\n",
    "\n",
    "[kaspar]: http://kasparmartens.rbind.io/post/np/\n",
    "[face completion]: http://scikit-learn.org/stable/auto_examples/plot_multioutput_face_completion.html#sphx-glr-auto-examples-plot-multioutput-face-completion-py"
   ]
  },
  {
   "cell_type": "code",
   "execution_count": 1,
   "metadata": {},
   "outputs": [],
   "source": [
    "%load_ext autoreload\n",
    "%autoreload 2\n",
    "\n",
    "import numpy as np\n",
    "import pandas as pd\n",
    "import torch\n",
    "import torch.nn as nn\n",
    "from torchvision.datasets import MNIST\n",
    "from torchvision import transforms\n",
    "import matplotlib.pyplot as plt\n",
    "import seaborn as sns\n",
    "from typing import Tuple, Callable\n",
    "\n",
    "import pyro\n",
    "import pyro.distributions as dist\n",
    "from pyro.infer import SVI, Trace_ELBO\n",
    "from pyro.optim import Adam\n",
    "\n",
    "device = torch.device('cuda:0' if torch.has_cudnn else 'cpu')\n",
    "pyro.enable_validation(True)\n",
    "%matplotlib inline"
   ]
  },
  {
   "cell_type": "code",
   "execution_count": 2,
   "metadata": {},
   "outputs": [],
   "source": [
    "data_dir = '../data'\n",
    "train_set = MNIST(data_dir, train=True, transform=transforms.ToTensor())\n",
    "train_imgs = train_set.train_data.float() / 255\n",
    "\n",
    "test_set = MNIST(data_dir, train=False, transform=transforms.ToTensor())\n",
    "test_imgs = test_set.test_data.float() / 255"
   ]
  },
  {
   "cell_type": "code",
   "execution_count": 3,
   "metadata": {},
   "outputs": [],
   "source": [
    "x_dim = 2\n",
    "y_dim = 1\n",
    "learning_rate = 1e-3\n",
    "hidden_dim = 128\n",
    "r_dim = 128\n",
    "z_dim = 128\n",
    "\n",
    "# the pixel locations are the same for all images\n",
    "width, height = train_imgs.shape[1:3]\n",
    "x = torch.tensor([[i / (height - 1), j / (width - 1)] for i in range(height) for j in range(width)])\n",
    "x = x.to(device)\n",
    "\n",
    "shuffle_idx = list(range(len(x)))"
   ]
  },
  {
   "cell_type": "code",
   "execution_count": 4,
   "metadata": {},
   "outputs": [],
   "source": [
    "# f(x_C, y_C) = r\n",
    "class Representer(nn.Module):\n",
    "    def __init__(self, x_y_dim, hidden_dim, r_dim):\n",
    "        super().__init__()\n",
    "\n",
    "        self.fc1 = nn.Linear(x_y_dim, hidden_dim)\n",
    "        self.fc2 = nn.Linear(hidden_dim, hidden_dim)\n",
    "        self.fc3 = nn.Linear(hidden_dim, hidden_dim)\n",
    "        self.fc4 = nn.Linear(hidden_dim, r_dim)\n",
    "#         self.r = torch.zeros(r_dim)\n",
    "\n",
    "        self.softplus = nn.Softplus()\n",
    "\n",
    "    def forward(self, x_y):\n",
    "        hidden = self.softplus(self.fc1(x_y))\n",
    "        hidden = self.softplus(self.fc2(hidden))\n",
    "        hidden = self.softplus(self.fc3(hidden))\n",
    "        r_i = self.fc4(hidden)\n",
    "        return r_i.mean(dim=0)"
   ]
  },
  {
   "cell_type": "code",
   "execution_count": 5,
   "metadata": {},
   "outputs": [],
   "source": [
    "# define the PyTorch module that parameterizes the\n",
    "# diagonal gaussian distribution q(z|r)\n",
    "class Encoder(nn.Module):\n",
    "    def __init__(self, r_dim, hidden_dim, z_dim):\n",
    "        super().__init__()\n",
    "\n",
    "        self.fc1 = nn.Linear(r_dim, hidden_dim)\n",
    "        self.fc21 = nn.Linear(hidden_dim, z_dim)\n",
    "        self.fc22 = nn.Linear(hidden_dim, z_dim)\n",
    "\n",
    "        self.softplus = nn.Softplus()\n",
    "\n",
    "    def forward(self, r):\n",
    "        hidden = self.softplus(self.fc1(r))\n",
    "        z_loc = self.fc21(hidden)\n",
    "        z_scale = self.softplus(self.fc22(hidden))\n",
    "        return z_loc, z_scale"
   ]
  },
  {
   "cell_type": "code",
   "execution_count": 6,
   "metadata": {},
   "outputs": [],
   "source": [
    "# y_mean = f(z, x)\n",
    "class Decoder(nn.Module):\n",
    "    def __init__(self, z_x_dim, hidden_dim, output_dim):\n",
    "        super().__init__()\n",
    "        # setup the two linear transformations used\n",
    "        self.fc1 = nn.Linear(z_x_dim, hidden_dim)\n",
    "        self.fc2 = nn.Linear(hidden_dim, hidden_dim)\n",
    "        self.fc3 = nn.Linear(hidden_dim, hidden_dim)\n",
    "        self.fc4 = nn.Linear(hidden_dim, hidden_dim)\n",
    "        self.fc5 = nn.Linear(hidden_dim, hidden_dim)\n",
    "        self.fc61 = nn.Linear(hidden_dim, output_dim)\n",
    "        self.fc62 = nn.Linear(hidden_dim, output_dim)\n",
    "        # setup the non-linearities\n",
    "        self.softplus = nn.Softplus()\n",
    "        self.sigmoid = nn.Sigmoid()\n",
    "\n",
    "    def forward(self, z_x):\n",
    "        hidden = self.softplus(self.fc1(z_x))\n",
    "        hidden = self.softplus(self.fc2(hidden))\n",
    "        alpha = self.fc31(hidden)\n",
    "        beta = self.fc32(hidden)\n",
    "        \n",
    "        alpha.clamp_(.01)\n",
    "        beta.clamp_(.01)\n",
    "        \n",
    "        return alpha, beta"
   ]
  },
  {
   "cell_type": "code",
   "execution_count": 7,
   "metadata": {},
   "outputs": [],
   "source": [
    "# y_mean = f(z, x)\n",
    "class Decoder(nn.Module):\n",
    "    def __init__(self, z_x_dim, hidden_dim, output_dim):\n",
    "        super().__init__()\n",
    "        # setup the two linear transformations used\n",
    "        self.fc1 = nn.Linear(z_x_dim, hidden_dim)\n",
    "        self.fc2 = nn.Linear(hidden_dim, hidden_dim)\n",
    "        self.fc3 = nn.Linear(hidden_dim, hidden_dim)\n",
    "        self.fc4 = nn.Linear(hidden_dim, hidden_dim)\n",
    "        self.fc5 = nn.Linear(hidden_dim, hidden_dim)\n",
    "        self.fc6 = nn.Linear(hidden_dim, output_dim)\n",
    "\n",
    "        # setup the non-linearities\n",
    "        self.softplus = nn.Softplus()\n",
    "\n",
    "    def forward(self, z_x):\n",
    "        hidden = self.softplus(self.fc1(z_x))\n",
    "        hidden = self.softplus(self.fc2(hidden))\n",
    "        hidden = self.softplus(self.fc3(hidden))\n",
    "        hidden = self.softplus(self.fc4(hidden))\n",
    "        hidden = self.softplus(self.fc5(hidden))\n",
    "        y_mean = self.fc6(hidden)\n",
    "        return y_mean"
   ]
  },
  {
   "cell_type": "code",
   "execution_count": 8,
   "metadata": {},
   "outputs": [],
   "source": [
    "# y_mean = f(z, x)\n",
    "class Decoder_CNP(nn.Module):\n",
    "    def __init__(self, r_x_dim, hidden_dim, output_dim):\n",
    "        super().__init__()\n",
    "        # setup the two linear transformations used\n",
    "        self.fc1 = nn.Linear(r_x_dim, hidden_dim)\n",
    "        self.fc2 = nn.Linear(hidden_dim, hidden_dim)\n",
    "        self.fc3 = nn.Linear(hidden_dim, hidden_dim)\n",
    "        self.fc4 = nn.Linear(hidden_dim, hidden_dim)\n",
    "        self.fc51 = nn.Linear(hidden_dim, output_dim)\n",
    "        self.fc52 = nn.Linear(hidden_dim, output_dim)\n",
    "\n",
    "        # setup the non-linearities\n",
    "        self.softplus = nn.Softplus()\n",
    "\n",
    "    def forward(self, r_x):\n",
    "        hidden = self.softplus(self.fc1(r_x))\n",
    "        hidden = self.softplus(self.fc2(hidden))\n",
    "        hidden = self.softplus(self.fc3(hidden))\n",
    "        hidden = self.softplus(self.fc4(hidden))\n",
    "        y_mean = self.fc51(hidden)\n",
    "        y_std = torch.exp(self.fc52(hidden))\n",
    "        return y_mean, y_std"
   ]
  },
  {
   "cell_type": "code",
   "execution_count": 9,
   "metadata": {},
   "outputs": [],
   "source": [
    "def plot_samples(model: Callable[[int, torch.Tensor, torch.Tensor], torch.Tensor], n_contexts: Tuple[int]=(10, 100, 300, 784), n_preds: int=3):\n",
    "    img_idx = np.random.randint(len(test_imgs))\n",
    "    y = test_imgs[img_idx].reshape(-1, 1).to(device)\n",
    "\n",
    "    np.random.shuffle(shuffle_idx)\n",
    "    unshuffle_idx = np.argsort(shuffle_idx)\n",
    "\n",
    "    fig, subplots = plt.subplots(figsize=(10, 10), nrows=n_preds + 1, ncols=len(n_contexts))\n",
    "\n",
    "    # n_context = np.random.randint(1, len(x) // 2)\n",
    "    for (context_i, n_context) in enumerate(n_contexts):\n",
    "        subplots[0, context_i].imshow(test_imgs[img_idx], cmap='Greys')\n",
    "        subplots[0, context_i].axis('off')\n",
    "        subplots[0, context_i].set_title(f'{n_context} context')\n",
    "\n",
    "        for i in range(n_preds):\n",
    "            pred = model(n_context, x[shuffle_idx], y[shuffle_idx])\n",
    "\n",
    "            try:\n",
    "                pred = pred.detach()\n",
    "            except AttributeError:  # not a torch.Tensor\n",
    "                pass\n",
    "#             return pred[unshuffle_idx]#.view((width, height, 1)).expand(-1, -1, 3)\n",
    "            subplots[i + 1, context_i].imshow(pred[unshuffle_idx].view((width, height, 1)).expand(-1, -1, 3))\n",
    "#             subplots[i + 1, context_i].imshow(pred[unshuffle_idx].reshape(width, height), cmap='Greys')\n",
    "            subplots[i + 1, context_i].axis('off')"
   ]
  },
  {
   "cell_type": "markdown",
   "metadata": {},
   "source": [
    "# KNN"
   ]
  },
  {
   "cell_type": "code",
   "execution_count": 9,
   "metadata": {},
   "outputs": [],
   "source": [
    "from sklearn.neighbors import KNeighborsRegressor\n",
    "\n",
    "def knn_model(n_context, x, y, k: int=3):\n",
    "    knn = KNeighborsRegressor(n_neighbors=k)\n",
    "    knn.fit(x[:n_context], y[:n_context])\n",
    "    return knn.predict(x)"
   ]
  },
  {
   "cell_type": "code",
   "execution_count": 10,
   "metadata": {},
   "outputs": [
    {
     "ename": "TypeError",
     "evalue": "data type not understood",
     "output_type": "error",
     "traceback": [
      "\u001b[0;31m---------------------------------------------------------------------------\u001b[0m",
      "\u001b[0;31mTypeError\u001b[0m                                 Traceback (most recent call last)",
      "\u001b[0;32m<ipython-input-10-c26f47239273>\u001b[0m in \u001b[0;36m<module>\u001b[0;34m()\u001b[0m\n\u001b[0;32m----> 1\u001b[0;31m \u001b[0mq\u001b[0m \u001b[0;34m=\u001b[0m \u001b[0mplot_samples\u001b[0m\u001b[0;34m(\u001b[0m\u001b[0mknn_model\u001b[0m\u001b[0;34m)\u001b[0m\u001b[0;34m\u001b[0m\u001b[0m\n\u001b[0m",
      "\u001b[0;32m<ipython-input-8-502794ccebe5>\u001b[0m in \u001b[0;36mplot_samples\u001b[0;34m(model, n_contexts, n_preds)\u001b[0m\n\u001b[1;32m     22\u001b[0m                 \u001b[0;32mpass\u001b[0m\u001b[0;34m\u001b[0m\u001b[0m\n\u001b[1;32m     23\u001b[0m \u001b[0;31m#             return pred[unshuffle_idx]#.view((width, height, 1)).expand(-1, -1, 3)\u001b[0m\u001b[0;34m\u001b[0m\u001b[0;34m\u001b[0m\u001b[0m\n\u001b[0;32m---> 24\u001b[0;31m             \u001b[0msubplots\u001b[0m\u001b[0;34m[\u001b[0m\u001b[0mi\u001b[0m \u001b[0;34m+\u001b[0m \u001b[0;36m1\u001b[0m\u001b[0;34m,\u001b[0m \u001b[0mcontext_i\u001b[0m\u001b[0;34m]\u001b[0m\u001b[0;34m.\u001b[0m\u001b[0mimshow\u001b[0m\u001b[0;34m(\u001b[0m\u001b[0mpred\u001b[0m\u001b[0;34m[\u001b[0m\u001b[0munshuffle_idx\u001b[0m\u001b[0;34m]\u001b[0m\u001b[0;34m.\u001b[0m\u001b[0mview\u001b[0m\u001b[0;34m(\u001b[0m\u001b[0;34m(\u001b[0m\u001b[0mwidth\u001b[0m\u001b[0;34m,\u001b[0m \u001b[0mheight\u001b[0m\u001b[0;34m,\u001b[0m \u001b[0;36m1\u001b[0m\u001b[0;34m)\u001b[0m\u001b[0;34m)\u001b[0m\u001b[0;34m.\u001b[0m\u001b[0mexpand\u001b[0m\u001b[0;34m(\u001b[0m\u001b[0;34m-\u001b[0m\u001b[0;36m1\u001b[0m\u001b[0;34m,\u001b[0m \u001b[0;34m-\u001b[0m\u001b[0;36m1\u001b[0m\u001b[0;34m,\u001b[0m \u001b[0;36m3\u001b[0m\u001b[0;34m)\u001b[0m\u001b[0;34m)\u001b[0m\u001b[0;34m\u001b[0m\u001b[0m\n\u001b[0m\u001b[1;32m     25\u001b[0m \u001b[0;31m#             subplots[i + 1, context_i].imshow(pred[unshuffle_idx].reshape(width, height), cmap='Greys')\u001b[0m\u001b[0;34m\u001b[0m\u001b[0;34m\u001b[0m\u001b[0m\n\u001b[1;32m     26\u001b[0m             \u001b[0msubplots\u001b[0m\u001b[0;34m[\u001b[0m\u001b[0mi\u001b[0m \u001b[0;34m+\u001b[0m \u001b[0;36m1\u001b[0m\u001b[0;34m,\u001b[0m \u001b[0mcontext_i\u001b[0m\u001b[0;34m]\u001b[0m\u001b[0;34m.\u001b[0m\u001b[0maxis\u001b[0m\u001b[0;34m(\u001b[0m\u001b[0;34m'off'\u001b[0m\u001b[0;34m)\u001b[0m\u001b[0;34m\u001b[0m\u001b[0m\n",
      "\u001b[0;31mTypeError\u001b[0m: data type not understood"
     ]
    },
    {
     "data": {
      "image/png": "[encoded data removed]",
      "text/plain": [
       "<matplotlib.figure.Figure at 0x7f31d57525c0>"
      ]
     },
     "metadata": {},
     "output_type": "display_data"
    }
   ],
   "source": [
    "q = plot_samples(knn_model)"
   ]
  },
  {
   "cell_type": "markdown",
   "metadata": {},
   "source": [
    "# CNP regressing GP"
   ]
  },
  {
   "cell_type": "markdown",
   "metadata": {},
   "source": [
    "$$\n",
    "r_i = h_\\theta(x_i, y_i) \\forall (x_i, y_i) \\in O \\\\\n",
    "r = r_1 \\bigoplus \\dots \\bigoplus r_n \\\\\n",
    "\\phi_i = q_\\theta(x_i, r) \\forall x_i \\in T\n",
    "$$\n",
    "\n",
    "where $h$ and $q$ are learned functions (e.g. neural networks)."
   ]
  },
  {
   "cell_type": "markdown",
   "metadata": {},
   "source": [
    "Matching networks (Vinyals 2016; Bartunov 2016) seem like they might do Sid's attention idea?\n",
    "* Normal scaling is O(nm); Snell, 2017 modifies to do O(n + m) (not sure how)"
   ]
  },
  {
   "cell_type": "code",
   "execution_count": 2,
   "metadata": {},
   "outputs": [],
   "source": [
    "n_inputs = 1\n",
    "n_hidden = 128\n",
    "representation_size = 128\n",
    "non_linearity = 'ReLU'\n",
    "\n",
    "representer = nn.Sequential(\n",
    "    nn.Linear(n_inputs, n_hidden),\n",
    "    getattr(nn, non_linearity)(),\n",
    "    nn.Linear(n_hidden, n_hidden),\n",
    "    getattr(nn, non_linearity)(),\n",
    "    nn.Linear(n_hidden, representation_size)\n",
    ").to(device)"
   ]
  },
  {
   "cell_type": "code",
   "execution_count": 41,
   "metadata": {},
   "outputs": [],
   "source": [
    "import pyro\n",
    "from pyro.distributions import MultivariateNormal\n",
    "from pyro.contrib import gp"
   ]
  },
  {
   "cell_type": "code",
   "execution_count": 93,
   "metadata": {},
   "outputs": [
    {
     "data": {
      "image/png": "[encoded data removed]",
      "text/plain": [
       "<matplotlib.figure.Figure at 0x7f0b0bd3f4a8>"
      ]
     },
     "metadata": {},
     "output_type": "display_data"
    }
   ],
   "source": [
    "variance = 5.0\n",
    "lengthscale = 10.0\n",
    "\n",
    "x = torch.linspace(-2, 2, 100)\n",
    "\n",
    "kernel = gp.kernels.Exponential(n_inputs, torch.tensor(variance), torch.tensor(lengthscale))\n",
    "\n",
    "cov = kernel.forward(x)\n",
    "\n",
    "y = MultivariateNormal(torch.zeros(len(cov)), cov).sample((1,))\n",
    "\n",
    "plt.plot(x.numpy()[:, None], y.numpy().T);"
   ]
  },
  {
   "cell_type": "code",
   "execution_count": null,
   "metadata": {},
   "outputs": [],
   "source": []
  },
  {
   "cell_type": "markdown",
   "metadata": {},
   "source": [
    "# NP\n",
    "\n",
    "* I'm assuming that we use a NN to parametrize $\\mu(r), \\sigma(r)$.\n",
    "\n",
    "Questions\n",
    "* $g(x_T, z)$ is deterministic, right? So then $p(y_T | x_T, z) = 1$ for the single value $y_T = g(x_T, z)$ and zero for all others; all of the randomness is in $z$. Maybe I should add a little noise in so that there's some probability for other values. Say, $p(y_T | x_T, z) \\sim \\mathcal N(g(x_T, z), \\sigma^2)$"
   ]
  },
  {
   "cell_type": "markdown",
   "metadata": {},
   "source": [
    "## Deterministic Version"
   ]
  },
  {
   "cell_type": "code",
   "execution_count": null,
   "metadata": {},
   "outputs": [],
   "source": [
    "# predicting on _all_ points, not just the target ones"
   ]
  },
  {
   "cell_type": "code",
   "execution_count": 80,
   "metadata": {},
   "outputs": [],
   "source": [
    "class DP(nn.Module):\n",
    "    def __init__(self, x_dim: int, y_dim: int, hidden_dim: int=128, r_dim: int=256, z_dim: int=128):\n",
    "        super().__init__()\n",
    "        self.representer = Representer(x_dim + y_dim, hidden_dim, r_dim)\n",
    "        self.decoder = Decoder(r_dim + x_dim, hidden_dim, y_dim)\n",
    "    \n",
    "    def forward(self, n_context, x, y, predict: bool=False):\n",
    "        y_scale = .01\n",
    "\n",
    "        x_context = x[:n_context]\n",
    "        y_context = y[:n_context]\n",
    "\n",
    "        # the prior is q(z|x_C, y_C)\n",
    "        r = self.representer.forward(torch.cat((x_context, y_context), dim=1))\n",
    "        y_pred = self.decoder.forward(torch.cat((r.expand(len(x), -1), x), dim=1))\n",
    "        return y_pred"
   ]
  },
  {
   "cell_type": "code",
   "execution_count": 115,
   "metadata": {},
   "outputs": [],
   "source": [
    "loss_op = nn.MSELoss()\n",
    "dp = DP(x_dim, y_dim, hidden_dim, r_dim, z_dim).to(device)\n",
    "optimizer = torch.optim.Adam(dp.parameters())"
   ]
  },
  {
   "cell_type": "code",
   "execution_count": 116,
   "metadata": {},
   "outputs": [
    {
     "name": "stdout",
     "output_type": "stream",
     "text": [
      "0: 12.7227\n",
      "1000: 9.1808\n",
      "2000: 9.1790\n",
      "3000: 9.1790\n",
      "4000: 9.1790\n",
      "5000: 9.1790\n",
      "6000: 9.1790\n",
      "7000: 9.1790\n",
      "8000: 9.1790\n",
      "9000: 9.1790\n",
      "10000: 9.1790\n",
      "11000: 9.1790\n",
      "12000: 9.1790\n",
      "13000: 9.1790\n",
      "14000: 9.1790\n",
      "15000: 9.1790\n",
      "16000: 9.1790\n",
      "17000: 9.1790\n",
      "18000: 9.1790\n",
      "19000: 9.1790\n",
      "20000: 9.1790\n",
      "21000: 9.1790\n",
      "22000: 9.1790\n",
      "23000: 9.1790\n",
      "24000: 9.1790\n",
      "25000: 9.1790\n",
      "26000: 9.1790\n",
      "27000: 9.1790\n",
      "28000: 9.1790\n",
      "29000: 9.1790\n",
      "30000: 9.1790\n",
      "31000: 9.1790\n",
      "32000: 9.1790\n",
      "33000: 9.1790\n",
      "34000: 9.1790\n",
      "35000: 9.1790\n",
      "36000: 9.1790\n",
      "37000: 9.1790\n",
      "38000: 9.1790\n",
      "39000: 9.1790\n",
      "40000: 9.1790\n",
      "41000: 9.1790\n",
      "42000: 9.1790\n",
      "43000: 9.1790\n",
      "44000: 9.1790\n",
      "45000: 9.1790\n",
      "46000: 9.1790\n",
      "47000: 9.1790\n",
      "48000: 9.1790\n",
      "49000: 9.1790\n",
      "50000: 9.1790\n",
      "51000: 9.1790\n",
      "52000: 9.1790\n",
      "53000: 9.1790\n",
      "54000: 9.1790\n",
      "55000: 9.1790\n",
      "56000: 9.1790\n",
      "57000: 9.1790\n",
      "58000: 9.1790\n",
      "59000: 9.1790\n",
      "60000: 9.1790\n",
      "61000: 9.1790\n",
      "62000: 9.1790\n",
      "63000: 9.1790\n",
      "64000: 9.1790\n",
      "65000: 9.1790\n",
      "66000: 9.1790\n",
      "67000: 9.1790\n",
      "68000: 9.1790\n",
      "69000: 9.1790\n",
      "70000: 9.1790\n",
      "71000: 9.1790\n",
      "72000: 9.1790\n",
      "73000: 9.1790\n",
      "74000: 9.1790\n",
      "75000: 9.1790\n",
      "76000: 9.1790\n",
      "77000: 9.1790\n",
      "78000: 9.1790\n",
      "79000: 9.1790\n",
      "80000: 9.1790\n",
      "81000: 9.1790\n",
      "82000: 9.1790\n",
      "83000: 9.1790\n",
      "84000: 9.1790\n",
      "85000: 9.1790\n",
      "86000: 9.1790\n",
      "87000: 9.1790\n",
      "88000: 9.1790\n",
      "89000: 9.1790\n",
      "90000: 9.1790\n",
      "91000: 9.1790\n",
      "92000: 9.1790\n",
      "93000: 9.1790\n",
      "94000: 9.1790\n",
      "95000: 9.1790\n",
      "96000: 9.1790\n",
      "97000: 9.1790\n",
      "98000: 9.1790\n",
      "99000: 9.1790\n",
      "100000: 9.1790\n",
      "101000: 9.1790\n",
      "102000: 9.1790\n",
      "103000: 9.1790\n",
      "104000: 9.1790\n",
      "105000: 9.1790\n",
      "106000: 9.1790\n",
      "107000: 9.1790\n",
      "108000: 9.1790\n",
      "109000: 9.1790\n",
      "110000: 9.1790\n",
      "111000: 9.1790\n",
      "112000: 9.1790\n",
      "113000: 9.1790\n",
      "114000: 9.1790\n",
      "115000: 9.1790\n",
      "116000: 9.1790\n",
      "117000: 9.1790\n",
      "118000: 9.1790\n",
      "119000: 9.1790\n",
      "120000: 9.1790\n",
      "121000: 9.1790\n",
      "122000: 9.1790\n",
      "123000: 9.1790\n",
      "124000: 9.1790\n",
      "125000: 9.1790\n",
      "126000: 9.1790\n",
      "127000: 9.1790\n",
      "128000: 9.1790\n",
      "129000: 9.1790\n",
      "130000: 9.1790\n",
      "131000: 9.1790\n",
      "132000: 9.1790\n",
      "133000: 9.1790\n",
      "134000: 9.1790\n",
      "135000: 9.1790\n",
      "136000: 9.1790\n",
      "137000: 9.1790\n",
      "138000: 9.1790\n",
      "139000: 9.1790\n",
      "140000: 9.1790\n",
      "141000: 9.1790\n",
      "142000: 9.1790\n",
      "143000: 9.1790\n",
      "144000: 9.1790\n",
      "145000: 9.1790\n",
      "146000: 9.1790\n",
      "147000: 9.1790\n",
      "148000: 9.1790\n",
      "149000: 9.1790\n",
      "150000: 9.1790\n",
      "151000: 9.1790\n",
      "152000: 9.1790\n",
      "153000: 9.1790\n",
      "154000: 9.1790\n",
      "155000: 9.1790\n",
      "156000: 9.1790\n",
      "157000: 9.1790\n",
      "158000: 9.1790\n",
      "159000: 9.1790\n",
      "160000: 9.1790\n",
      "161000: 9.1790\n",
      "162000: 9.1790\n",
      "163000: 9.1790\n",
      "164000: 9.1790\n",
      "165000: 9.1790\n",
      "166000: 9.1790\n",
      "167000: 9.1790\n",
      "168000: 9.1790\n",
      "169000: 9.1790\n",
      "170000: 9.1790\n",
      "171000: 9.1790\n",
      "172000: 9.1790\n",
      "173000: 9.1790\n",
      "174000: 9.1790\n",
      "175000: 9.1790\n",
      "176000: 9.1790\n",
      "177000: 9.1790\n",
      "178000: 9.1790\n",
      "179000: 9.1790\n"
     ]
    }
   ],
   "source": [
    "n_steps = 3 * len(train_imgs)\n",
    "\n",
    "losses = []\n",
    "for step in range(n_steps):\n",
    "    img_idx = np.random.randint(len(train_imgs))\n",
    "\n",
    "    y = train_imgs[img_idx].reshape(-1, 1).to(device)\n",
    "\n",
    "    np.random.shuffle(shuffle_idx)\n",
    "    n_context = np.random.randint(1, len(x) // 2)\n",
    "\n",
    "    optimizer.zero_grad()\n",
    "    \n",
    "    y_fake = 2 * x.mean(dim=1, keepdim=True) + 3\n",
    "    y_pred = dp(n_context, x[shuffle_idx], y_fake)\n",
    "    loss = loss_op(y_pred, y_fake)\n",
    "    \n",
    "#     y_pred = dp(n_context, x[shuffle_idx], y[shuffle_idx])\n",
    "#     loss = loss_op(y_pred, y[shuffle_idx])\n",
    "\n",
    "    loss.backward()\n",
    "    optimizer.step()\n",
    "\n",
    "    losses.append(loss.item())\n",
    "    if step % 1000 == 0:\n",
    "        print(f\"{step}: {np.mean(losses[-1000:]):.4f}\")"
   ]
  },
  {
   "cell_type": "code",
   "execution_count": null,
   "metadata": {},
   "outputs": [],
   "source": []
  },
  {
   "cell_type": "code",
   "execution_count": 102,
   "metadata": {},
   "outputs": [
    {
     "data": {
      "image/png": "[encoded data removed]",
      "text/plain": [
       "<matplotlib.figure.Figure at 0x7f88d9e88438>"
      ]
     },
     "metadata": {},
     "output_type": "display_data"
    }
   ],
   "source": [
    "n_preds = 3\n",
    "\n",
    "img_idx = np.random.randint(len(test_imgs))\n",
    "y = test_imgs[img_idx].reshape(-1, 1).to(device)\n",
    "\n",
    "np.random.shuffle(shuffle_idx)\n",
    "n_context = np.random.randint(1, len(x) // 2)\n",
    "\n",
    "plt.figure(figsize=(5, 10))\n",
    "\n",
    "plt.subplot(n_preds + 1, 1, 1)\n",
    "plt.imshow(test_imgs[img_idx], cmap='Greys')\n",
    "plt.axis('off')\n",
    "plt.title(f'{n_context} context')\n",
    "\n",
    "for i in range(n_preds):\n",
    "    pred = dp(n_context, x[shuffle_idx], y[shuffle_idx])\n",
    "\n",
    "    plt.subplot(n_preds + 1, 1, i + 2)\n",
    "    plt.imshow(pred.reshape(width, height).detach(), cmap='Greys')\n",
    "    plt.axis('off')"
   ]
  },
  {
   "cell_type": "markdown",
   "metadata": {},
   "source": [
    "## CNP"
   ]
  },
  {
   "cell_type": "code",
   "execution_count": 10,
   "metadata": {},
   "outputs": [],
   "source": [
    "class CNP(nn.Module):\n",
    "    def __init__(self, x_dim: int, y_dim: int, hidden_dim: int=128, r_dim: int=256, z_dim: int=128):\n",
    "        super().__init__()\n",
    "\n",
    "        self.representer = Representer(x_dim + y_dim, hidden_dim, r_dim)\n",
    "        self.decoder = Decoder_CNP(r_dim + x_dim, hidden_dim, y_dim)\n",
    "\n",
    "    def forward(self, n_context, x, y):\n",
    "        x_context = x[:n_context]\n",
    "        y_context = y[:n_context]\n",
    "\n",
    "        r = self.representer.forward(torch.cat((x_context, y_context), dim=1))\n",
    "        y_mean, y_std = self.decoder.forward(torch.cat((r.expand(len(x), -1), x), dim=1))\n",
    "        return y_mean, y_std"
   ]
  },
  {
   "cell_type": "code",
   "execution_count": 27,
   "metadata": {},
   "outputs": [],
   "source": [
    "loss_op = nn.MSELoss()\n",
    "cnp = CNP(x_dim, y_dim, hidden_dim, r_dim, z_dim).to(device)\n",
    "losses = []\n",
    "optimizer = torch.optim.Adam(cnp.parameters())"
   ]
  },
  {
   "cell_type": "code",
   "execution_count": 12,
   "metadata": {},
   "outputs": [
    {
     "name": "stdout",
     "output_type": "stream",
     "text": [
      "0: 1.3594\n",
      "1000: 0.2568\n",
      "2000: 0.2586\n",
      "3000: 0.2482\n",
      "4000: 0.2440\n",
      "5000: 0.2425\n",
      "6000: 0.2411\n",
      "7000: 0.2462\n",
      "8000: 0.2449\n",
      "9000: 0.0644\n",
      "10000: -0.1533\n",
      "11000: -0.2199\n",
      "12000: -0.1327\n",
      "13000: -0.1437\n",
      "14000: -0.2403\n",
      "15000: -0.2611\n",
      "16000: -0.2286\n",
      "17000: -0.1331\n",
      "18000: -0.1593\n",
      "19000: -0.1902\n",
      "20000: -0.0548\n",
      "21000: -0.1376\n",
      "22000: -0.1769\n",
      "23000: -0.2060\n",
      "24000: -0.2970\n",
      "25000: -0.1242\n",
      "26000: -0.3284\n",
      "27000: 0.1121\n",
      "28000: 0.0506\n",
      "29000: -0.2075\n",
      "30000: -0.2644\n",
      "31000: -0.3368\n",
      "32000: -0.3194\n",
      "33000: -0.3343\n",
      "34000: -0.3127\n",
      "35000: -0.3311\n",
      "36000: 0.0711\n",
      "37000: -0.2380\n",
      "38000: -0.1922\n",
      "39000: -0.2786\n",
      "40000: -0.1407\n",
      "41000: -0.2712\n",
      "42000: -0.0727\n",
      "43000: -0.2776\n",
      "44000: 0.0252\n",
      "45000: -0.2821\n",
      "46000: -0.2539\n",
      "47000: -0.1466\n",
      "48000: -0.3177\n",
      "49000: -0.2797\n",
      "50000: -0.0356\n",
      "51000: -0.0134\n",
      "52000: -0.2885\n",
      "53000: -0.1058\n",
      "54000: -0.2475\n",
      "55000: 0.1325\n",
      "56000: -0.1867\n",
      "57000: -0.1293\n",
      "58000: 0.0177\n",
      "59000: -0.0467\n",
      "60000: -0.0644\n",
      "61000: -0.2791\n",
      "62000: -0.2238\n",
      "63000: -0.2128\n",
      "64000: -0.2405\n",
      "65000: -0.2612\n",
      "66000: -0.1294\n",
      "67000: -0.0456\n",
      "68000: -0.0032\n",
      "69000: -0.2456\n",
      "70000: -0.2601\n",
      "71000: 0.0555\n",
      "72000: -0.2424\n",
      "73000: 0.2501\n",
      "74000: 0.1743\n",
      "75000: 0.2481\n",
      "76000: 0.1074\n",
      "77000: 0.0214\n",
      "78000: -0.0113\n",
      "79000: 0.1105\n",
      "80000: 0.0064\n",
      "81000: 0.0132\n",
      "82000: -0.1616\n",
      "83000: -0.0080\n",
      "84000: -0.2253\n",
      "85000: -0.2090\n",
      "86000: -0.0654\n",
      "87000: -0.0463\n",
      "88000: 0.0894\n",
      "89000: -0.0571\n",
      "90000: 0.0575\n",
      "91000: -0.1357\n",
      "92000: -0.1780\n",
      "93000: -0.2856\n",
      "94000: -0.0704\n",
      "95000: -0.1147\n",
      "96000: -0.2646\n",
      "97000: -0.1884\n",
      "98000: -0.0227\n",
      "99000: 0.0331\n",
      "100000: 0.0409\n",
      "101000: 0.2599\n",
      "102000: 0.2363\n",
      "103000: 0.0745\n",
      "104000: 0.1553\n",
      "105000: 0.1155\n",
      "106000: -0.0719\n",
      "107000: -0.2056\n",
      "108000: -0.0851\n",
      "109000: -0.0342\n",
      "110000: 0.1272\n",
      "111000: 0.1385\n",
      "112000: 0.2481\n",
      "113000: 0.0551\n",
      "114000: 0.1163\n",
      "115000: 0.0731\n",
      "116000: -0.0158\n",
      "117000: -0.0025\n",
      "118000: 0.2106\n",
      "119000: 0.2422\n",
      "120000: 0.2403\n",
      "121000: 0.1615\n",
      "122000: 0.1467\n",
      "123000: 0.2520\n",
      "124000: 0.2407\n",
      "125000: 0.2421\n",
      "126000: 0.2346\n",
      "127000: 0.2408\n",
      "128000: 0.2463\n",
      "129000: 0.2448\n",
      "130000: 0.2376\n",
      "131000: 0.2425\n",
      "132000: 0.2377\n",
      "133000: 0.2476\n",
      "134000: 0.2483\n",
      "135000: 0.2408\n",
      "136000: 0.2460\n",
      "137000: 0.2490\n",
      "138000: 0.2411\n",
      "139000: 0.2407\n",
      "140000: 0.2425\n",
      "141000: 0.2444\n",
      "142000: 0.2437\n",
      "143000: 0.2269\n",
      "144000: 0.2418\n",
      "145000: 0.2326\n",
      "146000: 0.2465\n",
      "147000: 0.2505\n",
      "148000: 0.2541\n",
      "149000: 0.2464\n",
      "150000: 0.2378\n",
      "151000: 0.2472\n",
      "152000: 0.2424\n",
      "153000: 0.2413\n",
      "154000: 0.2434\n",
      "155000: 0.2479\n",
      "156000: 0.2358\n",
      "157000: 0.2403\n",
      "158000: 0.2400\n",
      "159000: 0.2467\n",
      "160000: 0.2389\n",
      "161000: 0.2427\n",
      "162000: 0.2461\n",
      "163000: 0.2424\n",
      "164000: 0.2417\n",
      "165000: 0.2443\n",
      "166000: 0.2326\n",
      "167000: 0.2378\n",
      "168000: 0.2468\n",
      "169000: 0.2362\n",
      "170000: 0.2366\n",
      "171000: 0.2473\n",
      "172000: 0.2329\n",
      "173000: 0.2402\n",
      "174000: 0.2368\n",
      "175000: 0.2388\n",
      "176000: 0.2393\n",
      "177000: 0.2391\n",
      "178000: 0.2342\n",
      "179000: 0.2474\n"
     ]
    }
   ],
   "source": [
    "n_steps = 3 * len(train_imgs)\n",
    "\n",
    "for step in range(n_steps):\n",
    "    optimizer.zero_grad()\n",
    "\n",
    "    img_idx = np.random.randint(len(train_imgs))\n",
    "    y = train_imgs[img_idx].reshape(-1, 1).to(device)\n",
    "    np.random.shuffle(shuffle_idx)\n",
    "\n",
    "    n_context = np.random.randint(1, len(x) // 2)\n",
    "    y_mean, y_std = cnp(n_context, x[shuffle_idx], y[shuffle_idx])\n",
    "\n",
    "    loss = -torch.distributions.Normal(y_mean, y_std).log_prob(y[shuffle_idx]).sum() / len(x)\n",
    "\n",
    "    loss.backward()\n",
    "    optimizer.step()\n",
    "\n",
    "    losses.append(loss.item())\n",
    "    if step % 1000 == 0:\n",
    "        print(f\"{step}: {np.mean(losses[-1000:]):.4f}\")"
   ]
  },
  {
   "cell_type": "code",
   "execution_count": null,
   "metadata": {},
   "outputs": [
    {
     "name": "stdout",
     "output_type": "stream",
     "text": [
      "0: 0.9273\n",
      "100: 0.2549\n",
      "200: 0.2391\n",
      "300: 0.2385\n",
      "400: 0.2423\n",
      "500: 0.2466\n",
      "600: 0.2447\n",
      "700: 0.2430\n",
      "800: 0.2378\n",
      "900: 0.2237\n",
      "1300: 0.1825\n",
      "1400: 0.2277\n",
      "1500: 0.2439\n",
      "1600: 0.2317\n",
      "1700: 0.2173\n",
      "1800: 0.2535\n",
      "1900: 0.2427\n",
      "2000: 0.2444\n",
      "2100: 0.2419\n",
      "2200: 0.2421\n",
      "2300: 0.2444\n",
      "2400: 0.2464\n",
      "2500: 0.2454\n",
      "2600: 0.2365\n",
      "2700: 0.2469\n",
      "2800: 0.2422\n",
      "2900: 0.2450\n",
      "3000: 0.2404\n",
      "3100: 0.2376\n",
      "3200: 0.2455\n",
      "3300: 0.2406\n",
      "3400: 0.2460\n",
      "3500: 0.2406\n",
      "3600: 0.2494\n",
      "3700: 0.2469\n",
      "3800: 0.2431\n",
      "3900: 0.2426\n",
      "4000: 0.2438\n",
      "4100: 0.2407\n",
      "4200: 0.2435\n",
      "4300: 0.2477\n",
      "4400: 0.2448\n",
      "4500: 0.2488\n",
      "4600: 0.2468\n",
      "4700: 0.2417\n",
      "4800: 0.2414\n",
      "4900: 0.2500\n",
      "5000: 0.2496\n",
      "5100: 0.2455\n",
      "5200: 0.2468\n",
      "5300: 0.2410\n",
      "5400: 0.2469\n",
      "5500: 0.2428\n",
      "5600: 0.2398\n",
      "5700: 0.2487\n",
      "5800: 0.2424\n",
      "5900: 0.2513\n"
     ]
    }
   ],
   "source": [
    "n_steps = 3 * len(train_imgs)\n",
    "n_img_samples = 16\n",
    "n_context_samples = 10\n",
    "\n",
    "for step in range(n_steps):\n",
    "    optimizer.zero_grad()\n",
    "    step_loss = torch.tensor(0.).to(device)\n",
    "\n",
    "    for _ in range(n_img_samples):\n",
    "        img_idx = np.random.randint(len(train_imgs))\n",
    "        y = train_imgs[img_idx].reshape(-1, 1).to(device)\n",
    "        np.random.shuffle(shuffle_idx)\n",
    "\n",
    "        img_loss = torch.tensor(0.).to(device)\n",
    "        for _ in range(n_context_samples):\n",
    "            n_context = np.random.randint(1, len(x) // 2)\n",
    "            y_mean, y_std = cnp(n_context, x[shuffle_idx], y[shuffle_idx])\n",
    "\n",
    "            prob = -torch.distributions.Normal(y_mean, y_std).log_prob(y[shuffle_idx]).sum() / len(x)\n",
    "            img_loss += prob / n_context_samples\n",
    "        \n",
    "        step_loss += img_loss / n_img_samples\n",
    "\n",
    "    step_loss.backward()\n",
    "    optimizer.step()\n",
    "\n",
    "    losses.append(step_loss.item())\n",
    "    if step % 100 == 0:\n",
    "        print(f\"{step}: {np.mean(losses[-100:]):.4f}\")"
   ]
  },
  {
   "cell_type": "code",
   "execution_count": 27,
   "metadata": {},
   "outputs": [
    {
     "name": "stdout",
     "output_type": "stream",
     "text": [
      "0: 0.2750\n",
      "1000: 0.0991\n",
      "2000: 0.0991\n",
      "3000: 0.0959\n",
      "4000: 0.0965\n",
      "5000: 0.0986\n",
      "6000: 0.1004\n",
      "7000: 0.0986\n",
      "8000: 0.0969\n",
      "9000: 0.0970\n",
      "10000: 0.0971\n",
      "11000: 0.0989\n",
      "12000: 0.0972\n",
      "13000: 0.0968\n",
      "14000: 0.0964\n",
      "15000: 0.0965\n",
      "16000: 0.0974\n",
      "17000: 0.0960\n",
      "18000: 0.0974\n",
      "19000: 0.0956\n",
      "20000: 0.0975\n",
      "21000: 0.0961\n",
      "22000: 0.0968\n",
      "23000: 0.0979\n",
      "24000: 0.0968\n",
      "25000: 0.0976\n",
      "26000: 0.0981\n",
      "27000: 0.0957\n",
      "28000: 0.0979\n",
      "29000: 0.0976\n",
      "30000: 0.0967\n",
      "31000: 0.0954\n",
      "32000: 0.0980\n",
      "33000: 0.0982\n",
      "34000: 0.0971\n",
      "35000: 0.0963\n",
      "36000: 0.0949\n",
      "37000: 0.0972\n",
      "38000: 0.0970\n",
      "39000: 0.0957\n",
      "40000: 0.0978\n",
      "41000: 0.0956\n",
      "42000: 0.0962\n",
      "43000: 0.0953\n",
      "44000: 0.0951\n",
      "45000: 0.0952\n",
      "46000: 0.0972\n",
      "47000: 0.0945\n",
      "48000: 0.0965\n",
      "49000: 0.0963\n",
      "50000: 0.0963\n",
      "51000: 0.0957\n",
      "52000: 0.0963\n",
      "53000: 0.0966\n",
      "54000: 0.0973\n",
      "55000: 0.0963\n",
      "56000: 0.0974\n",
      "57000: 0.0961\n",
      "58000: 0.0947\n",
      "59000: 0.0969\n",
      "60000: 0.0976\n",
      "61000: 0.0972\n",
      "62000: 0.0964\n",
      "63000: 0.0954\n",
      "64000: 0.0959\n",
      "65000: 0.0952\n",
      "66000: 0.0958\n",
      "67000: 0.0971\n",
      "68000: 0.0958\n",
      "69000: 0.0964\n",
      "70000: 0.0972\n",
      "71000: 0.0947\n",
      "72000: 0.0953\n",
      "73000: 0.0985\n",
      "74000: 0.0962\n",
      "75000: 0.0959\n",
      "76000: 0.0971\n",
      "77000: 0.0957\n",
      "78000: 0.0974\n"
     ]
    },
    {
     "ename": "KeyboardInterrupt",
     "evalue": "",
     "output_type": "error",
     "traceback": [
      "\u001b[0;31m---------------------------------------------------------------------------\u001b[0m",
      "\u001b[0;31mKeyboardInterrupt\u001b[0m                         Traceback (most recent call last)",
      "\u001b[0;32m<ipython-input-27-2f89f6fecb24>\u001b[0m in \u001b[0;36m<module>\u001b[0;34m()\u001b[0m\n\u001b[1;32m     15\u001b[0m     \u001b[0mloss\u001b[0m \u001b[0;34m=\u001b[0m \u001b[0mloss_op\u001b[0m\u001b[0;34m(\u001b[0m\u001b[0my_mean\u001b[0m\u001b[0;34m,\u001b[0m \u001b[0my\u001b[0m\u001b[0;34m[\u001b[0m\u001b[0mshuffle_idx\u001b[0m\u001b[0;34m]\u001b[0m\u001b[0;34m)\u001b[0m\u001b[0;34m\u001b[0m\u001b[0m\n\u001b[1;32m     16\u001b[0m \u001b[0;34m\u001b[0m\u001b[0m\n\u001b[0;32m---> 17\u001b[0;31m     \u001b[0mloss\u001b[0m\u001b[0;34m.\u001b[0m\u001b[0mbackward\u001b[0m\u001b[0;34m(\u001b[0m\u001b[0;34m)\u001b[0m\u001b[0;34m\u001b[0m\u001b[0m\n\u001b[0m\u001b[1;32m     18\u001b[0m     \u001b[0moptimizer\u001b[0m\u001b[0;34m.\u001b[0m\u001b[0mstep\u001b[0m\u001b[0;34m(\u001b[0m\u001b[0;34m)\u001b[0m\u001b[0;34m\u001b[0m\u001b[0m\n\u001b[1;32m     19\u001b[0m \u001b[0;34m\u001b[0m\u001b[0m\n",
      "\u001b[0;32m~/anaconda/lib/python3.6/site-packages/torch/tensor.py\u001b[0m in \u001b[0;36mbackward\u001b[0;34m(self, gradient, retain_graph, create_graph)\u001b[0m\n\u001b[1;32m     91\u001b[0m                 \u001b[0mproducts\u001b[0m\u001b[0;34m.\u001b[0m \u001b[0mDefaults\u001b[0m \u001b[0mto\u001b[0m\u001b[0;31m \u001b[0m\u001b[0;31m`\u001b[0m\u001b[0;31m`\u001b[0m\u001b[0;32mFalse\u001b[0m\u001b[0;31m`\u001b[0m\u001b[0;31m`\u001b[0m\u001b[0;34m.\u001b[0m\u001b[0;34m\u001b[0m\u001b[0m\n\u001b[1;32m     92\u001b[0m         \"\"\"\n\u001b[0;32m---> 93\u001b[0;31m         \u001b[0mtorch\u001b[0m\u001b[0;34m.\u001b[0m\u001b[0mautograd\u001b[0m\u001b[0;34m.\u001b[0m\u001b[0mbackward\u001b[0m\u001b[0;34m(\u001b[0m\u001b[0mself\u001b[0m\u001b[0;34m,\u001b[0m \u001b[0mgradient\u001b[0m\u001b[0;34m,\u001b[0m \u001b[0mretain_graph\u001b[0m\u001b[0;34m,\u001b[0m \u001b[0mcreate_graph\u001b[0m\u001b[0;34m)\u001b[0m\u001b[0;34m\u001b[0m\u001b[0m\n\u001b[0m\u001b[1;32m     94\u001b[0m \u001b[0;34m\u001b[0m\u001b[0m\n\u001b[1;32m     95\u001b[0m     \u001b[0;32mdef\u001b[0m \u001b[0mregister_hook\u001b[0m\u001b[0;34m(\u001b[0m\u001b[0mself\u001b[0m\u001b[0;34m,\u001b[0m \u001b[0mhook\u001b[0m\u001b[0;34m)\u001b[0m\u001b[0;34m:\u001b[0m\u001b[0;34m\u001b[0m\u001b[0m\n",
      "\u001b[0;32m~/anaconda/lib/python3.6/site-packages/torch/autograd/__init__.py\u001b[0m in \u001b[0;36mbackward\u001b[0;34m(tensors, grad_tensors, retain_graph, create_graph, grad_variables)\u001b[0m\n\u001b[1;32m     87\u001b[0m     Variable._execution_engine.run_backward(\n\u001b[1;32m     88\u001b[0m         \u001b[0mtensors\u001b[0m\u001b[0;34m,\u001b[0m \u001b[0mgrad_tensors\u001b[0m\u001b[0;34m,\u001b[0m \u001b[0mretain_graph\u001b[0m\u001b[0;34m,\u001b[0m \u001b[0mcreate_graph\u001b[0m\u001b[0;34m,\u001b[0m\u001b[0;34m\u001b[0m\u001b[0m\n\u001b[0;32m---> 89\u001b[0;31m         allow_unreachable=True)  # allow_unreachable flag\n\u001b[0m\u001b[1;32m     90\u001b[0m \u001b[0;34m\u001b[0m\u001b[0m\n\u001b[1;32m     91\u001b[0m \u001b[0;34m\u001b[0m\u001b[0m\n",
      "\u001b[0;31mKeyboardInterrupt\u001b[0m: "
     ]
    }
   ],
   "source": [
    "n_steps = 3 * len(train_imgs)\n",
    "\n",
    "losses = []\n",
    "for step in range(n_steps):\n",
    "    img_idx = np.random.randint(len(train_imgs))\n",
    "\n",
    "    y = train_imgs[img_idx].reshape(-1, 1).to(device)\n",
    "\n",
    "    np.random.shuffle(shuffle_idx)\n",
    "    n_context = np.random.randint(1, len(x) // 2)\n",
    "\n",
    "    optimizer.zero_grad()\n",
    "\n",
    "    y_mean, y_std = cnp(n_context, x[shuffle_idx], y[shuffle_idx])\n",
    "    \n",
    "    loss = loss_op(y_mean, y[shuffle_idx])\n",
    "\n",
    "    loss.backward()\n",
    "    optimizer.step()\n",
    "\n",
    "    losses.append(loss.item())\n",
    "    if step % 1000 == 0:\n",
    "        print(f\"{step}: {np.mean(losses[-1000:]):.4f}\")"
   ]
  },
  {
   "cell_type": "code",
   "execution_count": 30,
   "metadata": {},
   "outputs": [
    {
     "data": {
      "text/plain": [
       "<matplotlib.axes._subplots.AxesSubplot at 0x7f345c29e278>"
      ]
     },
     "execution_count": 30,
     "metadata": {},
     "output_type": "execute_result"
    },
    {
     "data": {
      "image/png": "[encoded data removed]",
      "text/plain": [
       "<matplotlib.figure.Figure at 0x7f345c1bfc18>"
      ]
     },
     "metadata": {},
     "output_type": "display_data"
    }
   ],
   "source": [
    "pd.Series(losses).rolling(window=100).mean().plot()"
   ]
  },
  {
   "cell_type": "code",
   "execution_count": 31,
   "metadata": {},
   "outputs": [
    {
     "data": {
      "text/plain": [
       "<matplotlib.axes._subplots.AxesSubplot at 0x7f345c26c668>"
      ]
     },
     "execution_count": 31,
     "metadata": {},
     "output_type": "execute_result"
    },
    {
     "data": {
      "image/png": "[encoded data removed]",
      "text/plain": [
       "<matplotlib.figure.Figure at 0x7f344bab1d30>"
      ]
     },
     "metadata": {},
     "output_type": "display_data"
    }
   ],
   "source": [
    "(np.e ** -pd.Series(losses)).plot()"
   ]
  },
  {
   "cell_type": "code",
   "execution_count": 13,
   "metadata": {},
   "outputs": [
    {
     "data": {
      "text/plain": [
       "<matplotlib.axes._subplots.AxesSubplot at 0x7f35e04dc588>"
      ]
     },
     "execution_count": 13,
     "metadata": {},
     "output_type": "execute_result"
    },
    {
     "data": {
      "image/png": "[encoded data removed]",
      "text/plain": [
       "<matplotlib.figure.Figure at 0x7f35e7905470>"
      ]
     },
     "metadata": {},
     "output_type": "display_data"
    }
   ],
   "source": [
    "pd.Series(losses).rolling(window=100).mean().plot()"
   ]
  },
  {
   "cell_type": "code",
   "execution_count": 14,
   "metadata": {},
   "outputs": [
    {
     "data": {
      "text/plain": [
       "<matplotlib.axes._subplots.AxesSubplot at 0x7f34d535c2e8>"
      ]
     },
     "execution_count": 14,
     "metadata": {},
     "output_type": "execute_result"
    },
    {
     "data": {
      "image/png": "[encoded data removed]",
      "text/plain": [
       "<matplotlib.figure.Figure at 0x7f34d56456d8>"
      ]
     },
     "metadata": {},
     "output_type": "display_data"
    }
   ],
   "source": [
    "(np.e ** -pd.Series(losses)).plot()"
   ]
  },
  {
   "cell_type": "code",
   "execution_count": 35,
   "metadata": {},
   "outputs": [
    {
     "data": {
      "image/png": "[encoded data removed]",
      "text/plain": [
       "<matplotlib.figure.Figure at 0x7f351000c860>"
      ]
     },
     "metadata": {},
     "output_type": "display_data"
    }
   ],
   "source": [
    "plot_samples(lambda *args: cnp(*args)[0])"
   ]
  },
  {
   "cell_type": "code",
   "execution_count": 21,
   "metadata": {},
   "outputs": [
    {
     "data": {
      "image/png": "[encoded data removed]",
      "text/plain": [
       "<matplotlib.figure.Figure at 0x7f351000ce48>"
      ]
     },
     "metadata": {},
     "output_type": "display_data"
    }
   ],
   "source": [
    "plot_samples(lambda *args: cnp(*args)[0])"
   ]
  },
  {
   "cell_type": "code",
   "execution_count": 17,
   "metadata": {},
   "outputs": [
    {
     "data": {
      "image/png": "[encoded data removed]",
      "text/plain": [
       "<matplotlib.figure.Figure at 0x7f9cb0a5ed68>"
      ]
     },
     "metadata": {},
     "output_type": "display_data"
    }
   ],
   "source": [
    "plot_samples(lambda *args: cnp(*args)[1])"
   ]
  },
  {
   "cell_type": "code",
   "execution_count": null,
   "metadata": {},
   "outputs": [],
   "source": []
  },
  {
   "cell_type": "code",
   "execution_count": null,
   "metadata": {},
   "outputs": [],
   "source": []
  },
  {
   "cell_type": "code",
   "execution_count": null,
   "metadata": {},
   "outputs": [],
   "source": []
  },
  {
   "cell_type": "markdown",
   "metadata": {},
   "source": [
    "### Pyro CNP"
   ]
  },
  {
   "cell_type": "code",
   "execution_count": null,
   "metadata": {},
   "outputs": [],
   "source": [
    "class CNP(nn.Module):\n",
    "    def __init__(self, x_dim: int, y_dim: int, hidden_dim: int=128, r_dim: int=256, z_dim: int=128):\n",
    "        super().__init__()\n",
    "\n",
    "        self.representer = Representer(x_dim + y_dim, hidden_dim, r_dim)\n",
    "        self.decoder = Decoder_CNP(r_dim + x_dim, hidden_dim, 2 * y_dim)\n",
    "\n",
    "    def model(self, n_context, x, y, predict: bool=False):\n",
    "        pyro.module(\"representer\", self.representer)\n",
    "        pyro.module(\"decoder\", self.decoder)\n",
    "\n",
    "        x_context = x[:n_context]\n",
    "        y_context = y[:n_context]\n",
    "\n",
    "        # the prior is q(z|x_C, y_C)\n",
    "        r = self.representer.forward(torch.cat((x_context, y_context), dim=1))\n",
    "        y_mean, y_std = self.decoder.forward(torch.cat((r.expand(len(x), -1), x), dim=1))\n",
    "\n",
    "        # only evaluate the target predictions against real values\n",
    "        pyro.sample(\"obs\", dist.Normal(y_mean, y_std).independent(1), obs=y)\n",
    "        return y_mean, y_std\n",
    "\n",
    "    # approximate posterior for p(z|x, y), parametrized by\n",
    "    # the encoder + representer\n",
    "    def guide(self, n_context, x, y, predict: bool=False):\n",
    "        pyro.module(\"encoder\", self.encoder)\n",
    "        pyro.module(\"representer\", self.representer)\n",
    "        \n",
    "        # for the posterior, use all of x and y\n",
    "        r = self.representer.forward(torch.cat((x, y), dim=1))\n",
    "        z_loc, z_scale = self.encoder.forward(r)\n",
    "        z = pyro.sample(\"latent\", dist.Normal(z_loc, z_scale).independent(1))\n",
    "        \n",
    "        if predict:\n",
    "            # get predictions for the whole x, including context\n",
    "            with pyro.iarange(\"data\", len(x)) as i:\n",
    "                y_mean = self.decoder.forward(torch.cat((z.expand(len(x), -1), x[i]), dim=1))\n",
    "                return y_mean"
   ]
  },
  {
   "cell_type": "code",
   "execution_count": null,
   "metadata": {},
   "outputs": [],
   "source": []
  },
  {
   "cell_type": "code",
   "execution_count": null,
   "metadata": {},
   "outputs": [],
   "source": []
  },
  {
   "cell_type": "markdown",
   "metadata": {},
   "source": [
    "## Pyro NP"
   ]
  },
  {
   "cell_type": "code",
   "execution_count": 11,
   "metadata": {},
   "outputs": [],
   "source": [
    "class NP(nn.Module):\n",
    "    def __init__(self, x_dim: int, y_dim: int, hidden_dim: int=128, r_dim: int=256, z_dim: int=128):\n",
    "        super().__init__()\n",
    "\n",
    "        self.representer = Representer(x_dim + y_dim, hidden_dim, r_dim)\n",
    "        self.encoder = Encoder(r_dim, hidden_dim, z_dim)\n",
    "        self.decoder = Decoder(z_dim + x_dim, hidden_dim, y_dim)\n",
    "\n",
    "    def model(self, n_context, x, y, predict: bool=False):\n",
    "        y_scale = .01\n",
    "\n",
    "        pyro.module(\"representer\", self.representer)\n",
    "        pyro.module(\"encoder\", self.encoder)\n",
    "        pyro.module(\"decoder\", self.decoder)\n",
    "\n",
    "        x_context = x[:n_context]\n",
    "        y_context = y[:n_context]\n",
    "        x_target = x[n_context:]\n",
    "        y_target = y[n_context:]\n",
    "\n",
    "        # the prior is q(z|x_C, y_C)\n",
    "        r = self.representer.forward(torch.cat((x_context, y_context), dim=1))\n",
    "        z_loc, z_scale = self.encoder.forward(r)\n",
    "        # sample from prior (value will be sampled by guide when computing the ELBO)\n",
    "        z = pyro.sample(\"latent\", dist.Normal(z_loc, z_scale).independent(1))\n",
    "\n",
    "        # only evaluate the target predictions against real values\n",
    "        with pyro.iarange(\"data\", len(x_target)) as i:\n",
    "#             alpha, beta = self.decoder.forward(torch.cat((z.expand(len(x_target), -1), x_target[i]), dim=1))\n",
    "#             pyro.sample(\"obs\", dist.Beta(alpha, beta).independent(1), obs=y_target)\n",
    "#             return alpha, beta\n",
    "\n",
    "            y_mean = self.decoder.forward(torch.cat((z.expand(len(x_target), -1), x_target[i]), dim=1))\n",
    "            pyro.sample(\"obs\", dist.Normal(y_mean.squeeze(), y_scale), obs=y_target[i].squeeze())\n",
    "            return y_mean\n",
    "\n",
    "    # approximate posterior for p(z|x, y), parametrized by\n",
    "    # the encoder + representer\n",
    "    def guide(self, n_context, x, y, predict: bool=False):\n",
    "        pyro.module(\"encoder\", self.encoder)\n",
    "        pyro.module(\"representer\", self.representer)\n",
    "        pyro.module(\"decoder\", self.decoder) # need this?\n",
    "        \n",
    "        # for the posterior, use all of x and y\n",
    "        r = self.representer.forward(torch.cat((x, y), dim=1))\n",
    "        z_loc, z_scale = self.encoder.forward(r)\n",
    "        z = pyro.sample(\"latent\", dist.Normal(z_loc, z_scale).independent(1))\n",
    "        \n",
    "        if predict:\n",
    "            # get predictions for the whole x, including context\n",
    "#             with pyro.iarange(\"data\", len(x)) as i:\n",
    "            y_mean = self.decoder.forward(torch.cat((z.expand(len(x), -1), x), dim=1))\n",
    "            return y_mean"
   ]
  },
  {
   "cell_type": "code",
   "execution_count": null,
   "metadata": {},
   "outputs": [],
   "source": [
    "n_samples = 1000\n",
    "steps_per_print = 10\n",
    "\n",
    "nprocess = NP(x_dim, y_dim, hidden_dim, r_dim, z_dim).to(device)\n",
    "\n",
    "pyro.clear_param_store()\n",
    "optimizer = Adam({\"lr\": learning_rate})\n",
    "svi = SVI(nprocess.model, nprocess.guide, optimizer, loss=Trace_ELBO(n_samples))\n",
    "\n",
    "n_steps = 3 * len(train_imgs)\n",
    "\n",
    "elbos = []"
   ]
  },
  {
   "cell_type": "code",
   "execution_count": null,
   "metadata": {},
   "outputs": [
    {
     "name": "stdout",
     "output_type": "stream",
     "text": [
      "0: 155,285\n",
      "10: 298,995\n",
      "20: 185,918\n",
      "30: 142,085\n",
      "40: 303,303\n",
      "50: 209,807\n",
      "60: 227,509\n",
      "70: 253,328\n",
      "80: 133,847\n",
      "90: 282,435\n",
      "100: 194,430\n",
      "110: 181,626\n",
      "120: 245,281\n",
      "130: 178,462\n",
      "140: 133,874\n",
      "150: 206,436\n",
      "160: 227,581\n",
      "170: 250,771\n",
      "180: 217,624\n",
      "190: 225,339\n",
      "200: 96,021\n",
      "210: 210,531\n",
      "220: 154,394\n",
      "230: 222,915\n",
      "240: 185,245\n",
      "250: 114,035\n",
      "260: 224,932\n",
      "270: 265,978\n",
      "280: 93,350\n",
      "290: 132,257\n",
      "300: 159,776\n",
      "310: 197,886\n",
      "320: 196,483\n",
      "330: 143,891\n",
      "340: 202,770\n",
      "350: 225,909\n",
      "360: 161,781\n",
      "370: 109,655\n",
      "380: 193,393\n",
      "390: 200,841\n",
      "400: 155,157\n",
      "450: 164,318\n",
      "460: 142,558\n",
      "470: 281,030\n",
      "480: 184,442\n",
      "490: 176,759\n",
      "500: 236,768\n",
      "510: 262,118\n",
      "520: 223,802\n",
      "530: 266,835\n",
      "540: 225,182\n",
      "550: 182,570\n",
      "560: 204,975\n",
      "570: 188,789\n",
      "580: 155,008\n",
      "590: 183,061\n",
      "600: 224,810\n",
      "610: 241,113\n",
      "620: 264,147\n",
      "630: 197,304\n",
      "640: 160,807\n",
      "650: 169,098\n",
      "660: 217,884\n",
      "670: 147,608\n"
     ]
    },
    {
     "ename": "KeyboardInterrupt",
     "evalue": "",
     "output_type": "error",
     "traceback": [
      "\u001b[0;31m---------------------------------------------------------------------------\u001b[0m",
      "\u001b[0;31mKeyboardInterrupt\u001b[0m                         Traceback (most recent call last)",
      "\u001b[0;32m<ipython-input-15-44ad968743c7>\u001b[0m in \u001b[0;36m<module>\u001b[0;34m()\u001b[0m\n\u001b[1;32m      7\u001b[0m     \u001b[0mn_context\u001b[0m \u001b[0;34m=\u001b[0m \u001b[0mnp\u001b[0m\u001b[0;34m.\u001b[0m\u001b[0mrandom\u001b[0m\u001b[0;34m.\u001b[0m\u001b[0mrandint\u001b[0m\u001b[0;34m(\u001b[0m\u001b[0;36m1\u001b[0m\u001b[0;34m,\u001b[0m \u001b[0mlen\u001b[0m\u001b[0;34m(\u001b[0m\u001b[0mx\u001b[0m\u001b[0;34m)\u001b[0m \u001b[0;34m-\u001b[0m \u001b[0;36m1\u001b[0m\u001b[0;34m)\u001b[0m\u001b[0;34m\u001b[0m\u001b[0m\n\u001b[1;32m      8\u001b[0m \u001b[0;34m\u001b[0m\u001b[0m\n\u001b[0;32m----> 9\u001b[0;31m     \u001b[0melbo\u001b[0m \u001b[0;34m=\u001b[0m \u001b[0msvi\u001b[0m\u001b[0;34m.\u001b[0m\u001b[0mstep\u001b[0m\u001b[0;34m(\u001b[0m\u001b[0mn_context\u001b[0m\u001b[0;34m,\u001b[0m \u001b[0mx\u001b[0m\u001b[0;34m[\u001b[0m\u001b[0mshuffle_idx\u001b[0m\u001b[0;34m]\u001b[0m\u001b[0;34m,\u001b[0m \u001b[0my\u001b[0m\u001b[0;34m[\u001b[0m\u001b[0mshuffle_idx\u001b[0m\u001b[0;34m]\u001b[0m\u001b[0;34m)\u001b[0m\u001b[0;34m\u001b[0m\u001b[0m\n\u001b[0m\u001b[1;32m     10\u001b[0m     \u001b[0melbos\u001b[0m\u001b[0;34m.\u001b[0m\u001b[0mappend\u001b[0m\u001b[0;34m(\u001b[0m\u001b[0melbo\u001b[0m\u001b[0;34m)\u001b[0m\u001b[0;34m\u001b[0m\u001b[0m\n\u001b[1;32m     11\u001b[0m     \u001b[0;32mif\u001b[0m \u001b[0mstep\u001b[0m \u001b[0;34m%\u001b[0m \u001b[0msteps_per_print\u001b[0m \u001b[0;34m==\u001b[0m \u001b[0;36m0\u001b[0m\u001b[0;34m:\u001b[0m\u001b[0;34m\u001b[0m\u001b[0m\n",
      "\u001b[0;32m~/anaconda/lib/python3.6/site-packages/pyro/infer/svi.py\u001b[0m in \u001b[0;36mstep\u001b[0;34m(self, *args, **kwargs)\u001b[0m\n\u001b[1;32m     73\u001b[0m         \u001b[0;31m# get loss and compute gradients\u001b[0m\u001b[0;34m\u001b[0m\u001b[0;34m\u001b[0m\u001b[0m\n\u001b[1;32m     74\u001b[0m         \u001b[0;32mwith\u001b[0m \u001b[0mpoutine\u001b[0m\u001b[0;34m.\u001b[0m\u001b[0mtrace\u001b[0m\u001b[0;34m(\u001b[0m\u001b[0mparam_only\u001b[0m\u001b[0;34m=\u001b[0m\u001b[0;32mTrue\u001b[0m\u001b[0;34m)\u001b[0m \u001b[0;32mas\u001b[0m \u001b[0mparam_capture\u001b[0m\u001b[0;34m:\u001b[0m\u001b[0;34m\u001b[0m\u001b[0m\n\u001b[0;32m---> 75\u001b[0;31m             \u001b[0mloss\u001b[0m \u001b[0;34m=\u001b[0m \u001b[0mself\u001b[0m\u001b[0;34m.\u001b[0m\u001b[0mloss_and_grads\u001b[0m\u001b[0;34m(\u001b[0m\u001b[0mself\u001b[0m\u001b[0;34m.\u001b[0m\u001b[0mmodel\u001b[0m\u001b[0;34m,\u001b[0m \u001b[0mself\u001b[0m\u001b[0;34m.\u001b[0m\u001b[0mguide\u001b[0m\u001b[0;34m,\u001b[0m \u001b[0;34m*\u001b[0m\u001b[0margs\u001b[0m\u001b[0;34m,\u001b[0m \u001b[0;34m**\u001b[0m\u001b[0mkwargs\u001b[0m\u001b[0;34m)\u001b[0m\u001b[0;34m\u001b[0m\u001b[0m\n\u001b[0m\u001b[1;32m     76\u001b[0m \u001b[0;34m\u001b[0m\u001b[0m\n\u001b[1;32m     77\u001b[0m         params = set(site[\"value\"].unconstrained()\n",
      "\u001b[0;32m~/anaconda/lib/python3.6/site-packages/pyro/infer/trace_elbo.py\u001b[0m in \u001b[0;36mloss_and_grads\u001b[0;34m(self, model, guide, *args, **kwargs)\u001b[0m\n\u001b[1;32m    105\u001b[0m         \u001b[0melbo\u001b[0m \u001b[0;34m=\u001b[0m \u001b[0;36m0.0\u001b[0m\u001b[0;34m\u001b[0m\u001b[0m\n\u001b[1;32m    106\u001b[0m         \u001b[0;31m# grab a trace from the generator\u001b[0m\u001b[0;34m\u001b[0m\u001b[0;34m\u001b[0m\u001b[0m\n\u001b[0;32m--> 107\u001b[0;31m         \u001b[0;32mfor\u001b[0m \u001b[0mmodel_trace\u001b[0m\u001b[0;34m,\u001b[0m \u001b[0mguide_trace\u001b[0m \u001b[0;32min\u001b[0m \u001b[0mself\u001b[0m\u001b[0;34m.\u001b[0m\u001b[0m_get_traces\u001b[0m\u001b[0;34m(\u001b[0m\u001b[0mmodel\u001b[0m\u001b[0;34m,\u001b[0m \u001b[0mguide\u001b[0m\u001b[0;34m,\u001b[0m \u001b[0;34m*\u001b[0m\u001b[0margs\u001b[0m\u001b[0;34m,\u001b[0m \u001b[0;34m**\u001b[0m\u001b[0mkwargs\u001b[0m\u001b[0;34m)\u001b[0m\u001b[0;34m:\u001b[0m\u001b[0;34m\u001b[0m\u001b[0m\n\u001b[0m\u001b[1;32m    108\u001b[0m             \u001b[0melbo_particle\u001b[0m \u001b[0;34m=\u001b[0m \u001b[0;36m0\u001b[0m\u001b[0;34m\u001b[0m\u001b[0m\n\u001b[1;32m    109\u001b[0m             \u001b[0msurrogate_elbo_particle\u001b[0m \u001b[0;34m=\u001b[0m \u001b[0;36m0\u001b[0m\u001b[0;34m\u001b[0m\u001b[0m\n",
      "\u001b[0;32m~/anaconda/lib/python3.6/site-packages/pyro/infer/trace_elbo.py\u001b[0m in \u001b[0;36m_get_traces\u001b[0;34m(self, model, guide, *args, **kwargs)\u001b[0m\n\u001b[1;32m     52\u001b[0m         \"\"\"\n\u001b[1;32m     53\u001b[0m         \u001b[0;32mfor\u001b[0m \u001b[0mi\u001b[0m \u001b[0;32min\u001b[0m \u001b[0mrange\u001b[0m\u001b[0;34m(\u001b[0m\u001b[0mself\u001b[0m\u001b[0;34m.\u001b[0m\u001b[0mnum_particles\u001b[0m\u001b[0;34m)\u001b[0m\u001b[0;34m:\u001b[0m\u001b[0;34m\u001b[0m\u001b[0m\n\u001b[0;32m---> 54\u001b[0;31m             \u001b[0mguide_trace\u001b[0m \u001b[0;34m=\u001b[0m \u001b[0mpoutine\u001b[0m\u001b[0;34m.\u001b[0m\u001b[0mtrace\u001b[0m\u001b[0;34m(\u001b[0m\u001b[0mguide\u001b[0m\u001b[0;34m)\u001b[0m\u001b[0;34m.\u001b[0m\u001b[0mget_trace\u001b[0m\u001b[0;34m(\u001b[0m\u001b[0;34m*\u001b[0m\u001b[0margs\u001b[0m\u001b[0;34m,\u001b[0m \u001b[0;34m**\u001b[0m\u001b[0mkwargs\u001b[0m\u001b[0;34m)\u001b[0m\u001b[0;34m\u001b[0m\u001b[0m\n\u001b[0m\u001b[1;32m     55\u001b[0m             \u001b[0mmodel_trace\u001b[0m \u001b[0;34m=\u001b[0m \u001b[0mpoutine\u001b[0m\u001b[0;34m.\u001b[0m\u001b[0mtrace\u001b[0m\u001b[0;34m(\u001b[0m\u001b[0mpoutine\u001b[0m\u001b[0;34m.\u001b[0m\u001b[0mreplay\u001b[0m\u001b[0;34m(\u001b[0m\u001b[0mmodel\u001b[0m\u001b[0;34m,\u001b[0m \u001b[0mtrace\u001b[0m\u001b[0;34m=\u001b[0m\u001b[0mguide_trace\u001b[0m\u001b[0;34m)\u001b[0m\u001b[0;34m)\u001b[0m\u001b[0;34m.\u001b[0m\u001b[0mget_trace\u001b[0m\u001b[0;34m(\u001b[0m\u001b[0;34m*\u001b[0m\u001b[0margs\u001b[0m\u001b[0;34m,\u001b[0m \u001b[0;34m**\u001b[0m\u001b[0mkwargs\u001b[0m\u001b[0;34m)\u001b[0m\u001b[0;34m\u001b[0m\u001b[0m\n\u001b[1;32m     56\u001b[0m             \u001b[0;32mif\u001b[0m \u001b[0mis_validation_enabled\u001b[0m\u001b[0;34m(\u001b[0m\u001b[0;34m)\u001b[0m\u001b[0;34m:\u001b[0m\u001b[0;34m\u001b[0m\u001b[0m\n",
      "\u001b[0;32m~/anaconda/lib/python3.6/site-packages/pyro/poutine/trace_messenger.py\u001b[0m in \u001b[0;36mget_trace\u001b[0;34m(self, *args, **kwargs)\u001b[0m\n\u001b[1;32m    200\u001b[0m         \u001b[0mCalls\u001b[0m \u001b[0mthis\u001b[0m \u001b[0mpoutine\u001b[0m \u001b[0;32mand\u001b[0m \u001b[0mreturns\u001b[0m \u001b[0mits\u001b[0m \u001b[0mtrace\u001b[0m \u001b[0minstead\u001b[0m \u001b[0mof\u001b[0m \u001b[0mthe\u001b[0m \u001b[0mfunction\u001b[0m\u001b[0;31m'\u001b[0m\u001b[0ms\u001b[0m \u001b[0;32mreturn\u001b[0m \u001b[0mvalue\u001b[0m\u001b[0;34m.\u001b[0m\u001b[0;34m\u001b[0m\u001b[0m\n\u001b[1;32m    201\u001b[0m         \"\"\"\n\u001b[0;32m--> 202\u001b[0;31m         \u001b[0mself\u001b[0m\u001b[0;34m(\u001b[0m\u001b[0;34m*\u001b[0m\u001b[0margs\u001b[0m\u001b[0;34m,\u001b[0m \u001b[0;34m**\u001b[0m\u001b[0mkwargs\u001b[0m\u001b[0;34m)\u001b[0m\u001b[0;34m\u001b[0m\u001b[0m\n\u001b[0m\u001b[1;32m    203\u001b[0m         \u001b[0;32mreturn\u001b[0m \u001b[0mself\u001b[0m\u001b[0;34m.\u001b[0m\u001b[0mmsngr\u001b[0m\u001b[0;34m.\u001b[0m\u001b[0mget_trace\u001b[0m\u001b[0;34m(\u001b[0m\u001b[0;34m)\u001b[0m\u001b[0;34m\u001b[0m\u001b[0m\n",
      "\u001b[0;32m~/anaconda/lib/python3.6/site-packages/pyro/poutine/trace_messenger.py\u001b[0m in \u001b[0;36m__call__\u001b[0;34m(self, *args, **kwargs)\u001b[0m\n\u001b[1;32m    184\u001b[0m                                       \u001b[0mname\u001b[0m\u001b[0;34m=\u001b[0m\u001b[0;34m\"_INPUT\"\u001b[0m\u001b[0;34m,\u001b[0m \u001b[0mtype\u001b[0m\u001b[0;34m=\u001b[0m\u001b[0;34m\"args\"\u001b[0m\u001b[0;34m,\u001b[0m\u001b[0;34m\u001b[0m\u001b[0m\n\u001b[1;32m    185\u001b[0m                                       args=args, kwargs=kwargs)\n\u001b[0;32m--> 186\u001b[0;31m             \u001b[0mret\u001b[0m \u001b[0;34m=\u001b[0m \u001b[0mself\u001b[0m\u001b[0;34m.\u001b[0m\u001b[0mfn\u001b[0m\u001b[0;34m(\u001b[0m\u001b[0;34m*\u001b[0m\u001b[0margs\u001b[0m\u001b[0;34m,\u001b[0m \u001b[0;34m**\u001b[0m\u001b[0mkwargs\u001b[0m\u001b[0;34m)\u001b[0m\u001b[0;34m\u001b[0m\u001b[0m\n\u001b[0m\u001b[1;32m    187\u001b[0m             \u001b[0mself\u001b[0m\u001b[0;34m.\u001b[0m\u001b[0mmsngr\u001b[0m\u001b[0;34m.\u001b[0m\u001b[0mtrace\u001b[0m\u001b[0;34m.\u001b[0m\u001b[0madd_node\u001b[0m\u001b[0;34m(\u001b[0m\u001b[0;34m\"_RETURN\"\u001b[0m\u001b[0;34m,\u001b[0m \u001b[0mname\u001b[0m\u001b[0;34m=\u001b[0m\u001b[0;34m\"_RETURN\"\u001b[0m\u001b[0;34m,\u001b[0m \u001b[0mtype\u001b[0m\u001b[0;34m=\u001b[0m\u001b[0;34m\"return\"\u001b[0m\u001b[0;34m,\u001b[0m \u001b[0mvalue\u001b[0m\u001b[0;34m=\u001b[0m\u001b[0mret\u001b[0m\u001b[0;34m)\u001b[0m\u001b[0;34m\u001b[0m\u001b[0m\n\u001b[1;32m    188\u001b[0m         \u001b[0;32mreturn\u001b[0m \u001b[0mret\u001b[0m\u001b[0;34m\u001b[0m\u001b[0m\n",
      "\u001b[0;32m<ipython-input-11-c2e293bc914a>\u001b[0m in \u001b[0;36mguide\u001b[0;34m(self, n_context, x, y, predict)\u001b[0m\n\u001b[1;32m     44\u001b[0m         \u001b[0;31m# for the posterior, use all of x and y\u001b[0m\u001b[0;34m\u001b[0m\u001b[0;34m\u001b[0m\u001b[0m\n\u001b[1;32m     45\u001b[0m         \u001b[0mr\u001b[0m \u001b[0;34m=\u001b[0m \u001b[0mself\u001b[0m\u001b[0;34m.\u001b[0m\u001b[0mrepresenter\u001b[0m\u001b[0;34m.\u001b[0m\u001b[0mforward\u001b[0m\u001b[0;34m(\u001b[0m\u001b[0mtorch\u001b[0m\u001b[0;34m.\u001b[0m\u001b[0mcat\u001b[0m\u001b[0;34m(\u001b[0m\u001b[0;34m(\u001b[0m\u001b[0mx\u001b[0m\u001b[0;34m,\u001b[0m \u001b[0my\u001b[0m\u001b[0;34m)\u001b[0m\u001b[0;34m,\u001b[0m \u001b[0mdim\u001b[0m\u001b[0;34m=\u001b[0m\u001b[0;36m1\u001b[0m\u001b[0;34m)\u001b[0m\u001b[0;34m)\u001b[0m\u001b[0;34m\u001b[0m\u001b[0m\n\u001b[0;32m---> 46\u001b[0;31m         \u001b[0mz_loc\u001b[0m\u001b[0;34m,\u001b[0m \u001b[0mz_scale\u001b[0m \u001b[0;34m=\u001b[0m \u001b[0mself\u001b[0m\u001b[0;34m.\u001b[0m\u001b[0mencoder\u001b[0m\u001b[0;34m.\u001b[0m\u001b[0mforward\u001b[0m\u001b[0;34m(\u001b[0m\u001b[0mr\u001b[0m\u001b[0;34m)\u001b[0m\u001b[0;34m\u001b[0m\u001b[0m\n\u001b[0m\u001b[1;32m     47\u001b[0m         \u001b[0mz\u001b[0m \u001b[0;34m=\u001b[0m \u001b[0mpyro\u001b[0m\u001b[0;34m.\u001b[0m\u001b[0msample\u001b[0m\u001b[0;34m(\u001b[0m\u001b[0;34m\"latent\"\u001b[0m\u001b[0;34m,\u001b[0m \u001b[0mdist\u001b[0m\u001b[0;34m.\u001b[0m\u001b[0mNormal\u001b[0m\u001b[0;34m(\u001b[0m\u001b[0mz_loc\u001b[0m\u001b[0;34m,\u001b[0m \u001b[0mz_scale\u001b[0m\u001b[0;34m)\u001b[0m\u001b[0;34m.\u001b[0m\u001b[0mindependent\u001b[0m\u001b[0;34m(\u001b[0m\u001b[0;36m1\u001b[0m\u001b[0;34m)\u001b[0m\u001b[0;34m)\u001b[0m\u001b[0;34m\u001b[0m\u001b[0m\n\u001b[1;32m     48\u001b[0m \u001b[0;34m\u001b[0m\u001b[0m\n",
      "\u001b[0;32m<ipython-input-5-8e7a42519dae>\u001b[0m in \u001b[0;36mforward\u001b[0;34m(self, r)\u001b[0m\n\u001b[1;32m     14\u001b[0m         \u001b[0mhidden\u001b[0m \u001b[0;34m=\u001b[0m \u001b[0mself\u001b[0m\u001b[0;34m.\u001b[0m\u001b[0msoftplus\u001b[0m\u001b[0;34m(\u001b[0m\u001b[0mself\u001b[0m\u001b[0;34m.\u001b[0m\u001b[0mfc1\u001b[0m\u001b[0;34m(\u001b[0m\u001b[0mr\u001b[0m\u001b[0;34m)\u001b[0m\u001b[0;34m)\u001b[0m\u001b[0;34m\u001b[0m\u001b[0m\n\u001b[1;32m     15\u001b[0m         \u001b[0mz_loc\u001b[0m \u001b[0;34m=\u001b[0m \u001b[0mself\u001b[0m\u001b[0;34m.\u001b[0m\u001b[0mfc21\u001b[0m\u001b[0;34m(\u001b[0m\u001b[0mhidden\u001b[0m\u001b[0;34m)\u001b[0m\u001b[0;34m\u001b[0m\u001b[0m\n\u001b[0;32m---> 16\u001b[0;31m         \u001b[0mz_scale\u001b[0m \u001b[0;34m=\u001b[0m \u001b[0mself\u001b[0m\u001b[0;34m.\u001b[0m\u001b[0msoftplus\u001b[0m\u001b[0;34m(\u001b[0m\u001b[0mself\u001b[0m\u001b[0;34m.\u001b[0m\u001b[0mfc22\u001b[0m\u001b[0;34m(\u001b[0m\u001b[0mhidden\u001b[0m\u001b[0;34m)\u001b[0m\u001b[0;34m)\u001b[0m\u001b[0;34m\u001b[0m\u001b[0m\n\u001b[0m\u001b[1;32m     17\u001b[0m         \u001b[0;32mreturn\u001b[0m \u001b[0mz_loc\u001b[0m\u001b[0;34m,\u001b[0m \u001b[0mz_scale\u001b[0m\u001b[0;34m\u001b[0m\u001b[0m\n",
      "\u001b[0;32m~/anaconda/lib/python3.6/site-packages/torch/nn/modules/module.py\u001b[0m in \u001b[0;36m__call__\u001b[0;34m(self, *input, **kwargs)\u001b[0m\n\u001b[1;32m    475\u001b[0m             \u001b[0mresult\u001b[0m \u001b[0;34m=\u001b[0m \u001b[0mself\u001b[0m\u001b[0;34m.\u001b[0m\u001b[0m_slow_forward\u001b[0m\u001b[0;34m(\u001b[0m\u001b[0;34m*\u001b[0m\u001b[0minput\u001b[0m\u001b[0;34m,\u001b[0m \u001b[0;34m**\u001b[0m\u001b[0mkwargs\u001b[0m\u001b[0;34m)\u001b[0m\u001b[0;34m\u001b[0m\u001b[0m\n\u001b[1;32m    476\u001b[0m         \u001b[0;32melse\u001b[0m\u001b[0;34m:\u001b[0m\u001b[0;34m\u001b[0m\u001b[0m\n\u001b[0;32m--> 477\u001b[0;31m             \u001b[0mresult\u001b[0m \u001b[0;34m=\u001b[0m \u001b[0mself\u001b[0m\u001b[0;34m.\u001b[0m\u001b[0mforward\u001b[0m\u001b[0;34m(\u001b[0m\u001b[0;34m*\u001b[0m\u001b[0minput\u001b[0m\u001b[0;34m,\u001b[0m \u001b[0;34m**\u001b[0m\u001b[0mkwargs\u001b[0m\u001b[0;34m)\u001b[0m\u001b[0;34m\u001b[0m\u001b[0m\n\u001b[0m\u001b[1;32m    478\u001b[0m         \u001b[0;32mfor\u001b[0m \u001b[0mhook\u001b[0m \u001b[0;32min\u001b[0m \u001b[0mself\u001b[0m\u001b[0;34m.\u001b[0m\u001b[0m_forward_hooks\u001b[0m\u001b[0;34m.\u001b[0m\u001b[0mvalues\u001b[0m\u001b[0;34m(\u001b[0m\u001b[0;34m)\u001b[0m\u001b[0;34m:\u001b[0m\u001b[0;34m\u001b[0m\u001b[0m\n\u001b[1;32m    479\u001b[0m             \u001b[0mhook_result\u001b[0m \u001b[0;34m=\u001b[0m \u001b[0mhook\u001b[0m\u001b[0;34m(\u001b[0m\u001b[0mself\u001b[0m\u001b[0;34m,\u001b[0m \u001b[0minput\u001b[0m\u001b[0;34m,\u001b[0m \u001b[0mresult\u001b[0m\u001b[0;34m)\u001b[0m\u001b[0;34m\u001b[0m\u001b[0m\n",
      "\u001b[0;32m~/anaconda/lib/python3.6/site-packages/torch/nn/modules/activation.py\u001b[0m in \u001b[0;36mforward\u001b[0;34m(self, input)\u001b[0m\n\u001b[1;32m    506\u001b[0m \u001b[0;34m\u001b[0m\u001b[0m\n\u001b[1;32m    507\u001b[0m     \u001b[0;32mdef\u001b[0m \u001b[0mforward\u001b[0m\u001b[0;34m(\u001b[0m\u001b[0mself\u001b[0m\u001b[0;34m,\u001b[0m \u001b[0minput\u001b[0m\u001b[0;34m)\u001b[0m\u001b[0;34m:\u001b[0m\u001b[0;34m\u001b[0m\u001b[0m\n\u001b[0;32m--> 508\u001b[0;31m         \u001b[0;32mreturn\u001b[0m \u001b[0mF\u001b[0m\u001b[0;34m.\u001b[0m\u001b[0msoftplus\u001b[0m\u001b[0;34m(\u001b[0m\u001b[0minput\u001b[0m\u001b[0;34m,\u001b[0m \u001b[0mself\u001b[0m\u001b[0;34m.\u001b[0m\u001b[0mbeta\u001b[0m\u001b[0;34m,\u001b[0m \u001b[0mself\u001b[0m\u001b[0;34m.\u001b[0m\u001b[0mthreshold\u001b[0m\u001b[0;34m)\u001b[0m\u001b[0;34m\u001b[0m\u001b[0m\n\u001b[0m\u001b[1;32m    509\u001b[0m \u001b[0;34m\u001b[0m\u001b[0m\n\u001b[1;32m    510\u001b[0m     \u001b[0;32mdef\u001b[0m \u001b[0mextra_repr\u001b[0m\u001b[0;34m(\u001b[0m\u001b[0mself\u001b[0m\u001b[0;34m)\u001b[0m\u001b[0;34m:\u001b[0m\u001b[0;34m\u001b[0m\u001b[0m\n",
      "\u001b[0;31mKeyboardInterrupt\u001b[0m: "
     ]
    }
   ],
   "source": [
    "for step in range(n_steps):\n",
    "    img_idx = np.random.randint(len(train_imgs))\n",
    "\n",
    "    y = train_imgs[img_idx].reshape(-1, 1).to(device)\n",
    "\n",
    "    np.random.shuffle(shuffle_idx)\n",
    "    n_context = np.random.randint(1, len(x) - 1)\n",
    "\n",
    "    elbo = svi.step(n_context, x[shuffle_idx], y[shuffle_idx])\n",
    "    elbos.append(elbo)\n",
    "    if step % steps_per_print == 0:\n",
    "        print(f\"{step}: {np.mean(elbos[-steps_per_print:]):,.0f}\")"
   ]
  },
  {
   "cell_type": "code",
   "execution_count": null,
   "metadata": {},
   "outputs": [],
   "source": [
    "pd.Series(elbos).rolling(window=1).mean().plot()"
   ]
  },
  {
   "cell_type": "code",
   "execution_count": 23,
   "metadata": {},
   "outputs": [],
   "source": [
    "def plot_samples(model: Callable[[int, torch.Tensor, torch.Tensor], torch.Tensor], n_contexts: Tuple[int]=(10, 100, 300, 784), n_preds: int=3):\n",
    "    img_idx = np.random.randint(len(test_imgs))\n",
    "    y = test_imgs[img_idx].reshape(-1, 1).to(device)\n",
    "\n",
    "    np.random.shuffle(shuffle_idx)\n",
    "    unshuffle_idx = np.argsort(shuffle_idx)\n",
    "\n",
    "    fig, subplots = plt.subplots(figsize=(10, 10), nrows=n_preds + 1, ncols=len(n_contexts))\n",
    "\n",
    "    # n_context = np.random.randint(1, len(x) // 2)\n",
    "    for (context_i, n_context) in enumerate(n_contexts):\n",
    "        subplots[0, context_i].imshow(test_imgs[img_idx], cmap='Greys')\n",
    "        subplots[0, context_i].axis('off')\n",
    "        subplots[0, context_i].set_title(f'{n_context} context')\n",
    "\n",
    "        for i in range(n_preds):\n",
    "            pred = model(n_context, x[shuffle_idx], y[shuffle_idx])\n",
    "\n",
    "            try:\n",
    "                pred = pred.detach()\n",
    "            except AttributeError:  # not a torch.Tensor\n",
    "                pass\n",
    "#             return pred[unshuffle_idx]#.view((width, height, 1)).expand(-1, -1, 3)\n",
    "            subplots[i + 1, context_i].imshow(pred[unshuffle_idx].view((width, height, 1)).expand(-1, -1, 3))\n",
    "#             subplots[i + 1, context_i].imshow(pred[unshuffle_idx].reshape(width, height), cmap='Greys')\n",
    "            subplots[i + 1, context_i].axis('off')"
   ]
  },
  {
   "cell_type": "code",
   "execution_count": 26,
   "metadata": {},
   "outputs": [
    {
     "data": {
      "image/png": "[encoded data removed]",
      "text/plain": [
       "<matplotlib.figure.Figure at 0x7f31cbaccda0>"
      ]
     },
     "metadata": {},
     "output_type": "display_data"
    }
   ],
   "source": [
    "plot_samples(lambda *args: nprocess.guide(*args, predict=True))"
   ]
  },
  {
   "cell_type": "code",
   "execution_count": 53,
   "metadata": {},
   "outputs": [
    {
     "ename": "RuntimeError",
     "evalue": "cuda runtime error (59) : device-side assert triggered at /opt/conda/conda-bld/pytorch_1524586445097/work/aten/src/THC/generic/THCTensorCopy.c:20",
     "output_type": "error",
     "traceback": [
      "\u001b[0;31m---------------------------------------------------------------------------\u001b[0m",
      "\u001b[0;31mRuntimeError\u001b[0m                              Traceback (most recent call last)",
      "\u001b[0;32m<ipython-input-53-aec665333657>\u001b[0m in \u001b[0;36m<module>\u001b[0;34m()\u001b[0m\n\u001b[1;32m      1\u001b[0m \u001b[0mimg_idx\u001b[0m \u001b[0;34m=\u001b[0m \u001b[0mnp\u001b[0m\u001b[0;34m.\u001b[0m\u001b[0mrandom\u001b[0m\u001b[0;34m.\u001b[0m\u001b[0mrandint\u001b[0m\u001b[0;34m(\u001b[0m\u001b[0mlen\u001b[0m\u001b[0;34m(\u001b[0m\u001b[0mtest_imgs\u001b[0m\u001b[0;34m)\u001b[0m\u001b[0;34m)\u001b[0m\u001b[0;34m\u001b[0m\u001b[0m\n\u001b[0;32m----> 2\u001b[0;31m \u001b[0my\u001b[0m \u001b[0;34m=\u001b[0m \u001b[0mtest_imgs\u001b[0m\u001b[0;34m[\u001b[0m\u001b[0mimg_idx\u001b[0m\u001b[0;34m]\u001b[0m\u001b[0;34m.\u001b[0m\u001b[0mreshape\u001b[0m\u001b[0;34m(\u001b[0m\u001b[0;34m-\u001b[0m\u001b[0;36m1\u001b[0m\u001b[0;34m,\u001b[0m \u001b[0;36m1\u001b[0m\u001b[0;34m)\u001b[0m\u001b[0;34m.\u001b[0m\u001b[0mto\u001b[0m\u001b[0;34m(\u001b[0m\u001b[0mdevice\u001b[0m\u001b[0;34m)\u001b[0m\u001b[0;34m\u001b[0m\u001b[0m\n\u001b[0m\u001b[1;32m      3\u001b[0m \u001b[0;34m\u001b[0m\u001b[0m\n\u001b[1;32m      4\u001b[0m \u001b[0mnp\u001b[0m\u001b[0;34m.\u001b[0m\u001b[0mrandom\u001b[0m\u001b[0;34m.\u001b[0m\u001b[0mshuffle\u001b[0m\u001b[0;34m(\u001b[0m\u001b[0mshuffle_idx\u001b[0m\u001b[0;34m)\u001b[0m\u001b[0;34m\u001b[0m\u001b[0m\n\u001b[1;32m      5\u001b[0m \u001b[0munshuffle_idx\u001b[0m \u001b[0;34m=\u001b[0m \u001b[0mnp\u001b[0m\u001b[0;34m.\u001b[0m\u001b[0margsort\u001b[0m\u001b[0;34m(\u001b[0m\u001b[0mshuffle_idx\u001b[0m\u001b[0;34m)\u001b[0m\u001b[0;34m\u001b[0m\u001b[0m\n",
      "\u001b[0;31mRuntimeError\u001b[0m: cuda runtime error (59) : device-side assert triggered at /opt/conda/conda-bld/pytorch_1524586445097/work/aten/src/THC/generic/THCTensorCopy.c:20"
     ]
    }
   ],
   "source": [
    "img_idx = np.random.randint(len(test_imgs))\n",
    "y = test_imgs[img_idx].reshape(-1, 1).to(device)\n",
    "\n",
    "np.random.shuffle(shuffle_idx)\n",
    "unshuffle_idx = np.argsort(shuffle_idx)\n",
    "\n",
    "fig, subplots = plt.subplots(figsize=(10, 10), nrows=n_preds + 1, ncols=len(n_contexts))\n",
    "\n",
    "# n_context = np.random.randint(1, len(x) // 2)\n",
    "for (context_i, n_context) in enumerate(n_contexts):\n",
    "    subplots[0, context_i].imshow(test_imgs[img_idx], cmap='Greys')\n",
    "    subplots[0, context_i].axis('off')\n",
    "    subplots[0, context_i].set_title(f'{n_context} context')\n",
    "\n",
    "    for i in range(n_preds):\n",
    "        pred = model(n_context, x[shuffle_idx], y[shuffle_idx])\n",
    "\n",
    "        try:\n",
    "            pred = pred.detach()\n",
    "        except AttributeError:  # not a torch.Tensor\n",
    "            pass\n",
    "        return pred[unshuffle_idx]#.view((width, height, 1)).expand(-1, -1, 3)\n",
    "        subplots[i + 1, context_i].imshow(pred[unshuffle_idx].view((width, height, 1)).expand(-1, -1, 3))\n",
    "#             subplots[i + 1, context_i].imshow(pred[unshuffle_idx].reshape(width, height), cmap='Greys')\n",
    "        subplots[i + 1, context_i].axis('off')"
   ]
  },
  {
   "cell_type": "code",
   "execution_count": 114,
   "metadata": {},
   "outputs": [
    {
     "data": {
      "image/png": "[encoded data removed]",
      "text/plain": [
       "<matplotlib.figure.Figure at 0x7f9bcc5112e8>"
      ]
     },
     "metadata": {},
     "output_type": "display_data"
    }
   ],
   "source": [
    "plot_samples(lambda *args: nprocess.guide(*args, predict=True))"
   ]
  },
  {
   "cell_type": "code",
   "execution_count": null,
   "metadata": {},
   "outputs": [],
   "source": []
  },
  {
   "cell_type": "code",
   "execution_count": null,
   "metadata": {},
   "outputs": [],
   "source": []
  }
 ],
 "metadata": {
  "kernelspec": {
   "display_name": "Python 3",
   "language": "python",
   "name": "python3"
  },
  "language_info": {
   "codemirror_mode": {
    "name": "ipython",
    "version": 3
   },
   "file_extension": ".py",
   "mimetype": "text/x-python",
   "name": "python",
   "nbconvert_exporter": "python",
   "pygments_lexer": "ipython3",
   "version": "3.6.4"
  }
 },
 "nbformat": 4,
 "nbformat_minor": 2
}
