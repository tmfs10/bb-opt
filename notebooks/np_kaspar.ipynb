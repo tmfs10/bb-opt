{
 "cells": [
  {
   "cell_type": "code",
   "execution_count": 1,
   "metadata": {},
   "outputs": [],
   "source": [
    "import numpy as np\n",
    "import pandas as pd\n",
    "import torch\n",
    "import torch.nn as nn\n",
    "from torchvision.datasets import MNIST\n",
    "from torchvision import transforms\n",
    "import matplotlib.pyplot as plt\n",
    "import seaborn as sns\n",
    "from typing import Tuple, Callable\n",
    "\n",
    "import pyro\n",
    "import pyro.distributions as dist\n",
    "from pyro.infer import SVI, Trace_ELBO\n",
    "from pyro.optim import Adam\n",
    "\n",
    "device = torch.device('cuda:1' if torch.has_cudnn else 'cpu')\n",
    "%matplotlib inline"
   ]
  },
  {
   "cell_type": "code",
   "execution_count": 8,
   "metadata": {},
   "outputs": [],
   "source": [
    "# f(x, y) = r\n",
    "class Representer(nn.Module):\n",
    "    def __init__(self, x_y_dim, hidden_dim, r_dim):\n",
    "        super().__init__()\n",
    "\n",
    "        self.fc1 = nn.Linear(x_y_dim, hidden_dim)\n",
    "        self.fc2 = nn.Linear(hidden_dim, hidden_dim)\n",
    "        self.fc3 = nn.Linear(hidden_dim, hidden_dim)\n",
    "        self.fc4 = nn.Linear(hidden_dim, r_dim)\n",
    "        self.activation = nn.Softplus()\n",
    "\n",
    "    def forward(self, x_y):\n",
    "        hidden = self.activation(self.fc1(x_y))\n",
    "        hidden = self.activation(self.fc2(hidden))\n",
    "        hidden = self.activation(self.fc3(hidden))\n",
    "        r_i = self.fc4(hidden)\n",
    "        return r_i.mean(dim=0)"
   ]
  },
  {
   "cell_type": "code",
   "execution_count": 9,
   "metadata": {},
   "outputs": [],
   "source": [
    "# q(z|r) = q(z|x, y)\n",
    "class ZDistribution(nn.Module):\n",
    "    def __init__(self, r_dim, hidden_dim, z_dim):\n",
    "        super().__init__()\n",
    "\n",
    "#         self.fc1 = nn.Linear(r_dim, hidden_dim)\n",
    "#         self.fc2a = nn.Linear(hidden_dim, z_dim)\n",
    "#         self.fc2b = nn.Linear(hidden_dim, z_dim)\n",
    "\n",
    "#         self.activation = nn.Softplus()\n",
    "        self.softplus = nn.Softplus()\n",
    "#         self.sigmoid = nn.Sigmoid()\n",
    "\n",
    "    def forward(self, r):\n",
    "#         hidden = self.activation(self.fc1(r))\n",
    "#         z_loc = self.fc2a(hidden)\n",
    "#         z_scale = self.softplus(self.fc2b(hidden))\n",
    "        n_features = len(r)\n",
    "        z_loc = r[:n_features // 2]\n",
    "        z_scale = self.softplus(r[n_features // 2:])\n",
    "\n",
    "        return z_loc, z_scale"
   ]
  },
  {
   "cell_type": "code",
   "execution_count": 10,
   "metadata": {},
   "outputs": [],
   "source": [
    "# y_mean = f(z, x)\n",
    "class Predictor(nn.Module):\n",
    "    def __init__(self, z_x_dim, hidden_dim, output_dim):\n",
    "        super().__init__()\n",
    "\n",
    "        self.fc1 = nn.Linear(z_x_dim, hidden_dim)\n",
    "        self.fc2 = nn.Linear(hidden_dim, hidden_dim)\n",
    "        self.fc3 = nn.Linear(hidden_dim, hidden_dim)\n",
    "        self.fc4 = nn.Linear(hidden_dim, hidden_dim)\n",
    "        self.fc5 = nn.Linear(hidden_dim, output_dim)\n",
    "        self.activation = nn.Softplus()\n",
    "\n",
    "    def forward(self, z_x):\n",
    "        hidden = self.activation(self.fc1(z_x))\n",
    "        hidden = self.activation(self.fc2(hidden))\n",
    "        hidden = self.activation(self.fc3(hidden))\n",
    "        hidden = self.activation(self.fc4(hidden))\n",
    "        y_mean = self.fc5(hidden)\n",
    "        return y_mean"
   ]
  },
  {
   "cell_type": "code",
   "execution_count": 59,
   "metadata": {},
   "outputs": [],
   "source": [
    "class NP(nn.Module):\n",
    "    def __init__(self, x_dim: int, y_dim: int, hidden_dim: int=8, r_dim: int=2, z_dim: int=2):\n",
    "        super().__init__()\n",
    "\n",
    "        self.representer = Representer(x_dim + y_dim, hidden_dim, r_dim)\n",
    "        self.z_distribution = ZDistribution(r_dim, hidden_dim, z_dim)\n",
    "        self.predictor = Predictor(z_dim + x_dim, hidden_dim, y_dim)\n",
    "        self.n_samples = 30\n",
    "        self.cnp_mode = False\n",
    "\n",
    "    def forward(self, n_context, x_all, y_all, train: bool=True, return_z=False):\n",
    "        y_scale = 0.05\n",
    "\n",
    "        x_context = x_all[:n_context]\n",
    "        y_context = y_all[:n_context]\n",
    "        x_target = x_all[n_context:]\n",
    "        y_target = y_all[n_context:]\n",
    "\n",
    "        # the prior is q(z|x_C, y_C)\n",
    "        r_context = self.representer(torch.cat((x_context, y_context), dim=1))\n",
    "        r_all = self.representer(torch.cat((x_all, y_all), dim=1))\n",
    "\n",
    "        z_loc_context, z_scale_context = self.z_distribution(r_context)\n",
    "        z_loc_all, z_scale_all = self.z_distribution(r_all)\n",
    "\n",
    "        z_normal_all = torch.distributions.Normal(z_loc_all, z_scale_all)\n",
    "        z_normal_context = torch.distributions.Normal(z_loc_context, z_scale_context)\n",
    "\n",
    "#         fixed_sigma = torch.tensor(1.).to(device)\n",
    "#         z_normal_all = torch.distributions.Normal(z_loc_all, fixed_sigma)\n",
    "#         z_normal_context = torch.distributions.Normal(z_loc_context, fixed_sigma)\n",
    "                \n",
    "        if self.cnp_mode:\n",
    "            z = z_loc_all.view(-1, 1).expand(self.n_samples, -1)\n",
    "        else:\n",
    "            z = z_normal_all.sample((self.n_samples,))\n",
    "    \n",
    "        if return_z:\n",
    "            return z_loc_all, z_scale_all, z_loc_context, z_scale_context\n",
    "        \n",
    "        x = x_target if train else x_all\n",
    "        \n",
    "        # broadcast z and x to the same shape[:-1] : (n_samples, batch_size, n_features)\n",
    "        batch_size = len(x)\n",
    "        z = z.view(self.n_samples, 1, -1).expand(-1, batch_size, -1)\n",
    "        x = x.view(1, batch_size, -1).expand(self.n_samples, -1, -1)\n",
    "\n",
    "        z_x = torch.cat((z, x), dim=-1)\n",
    "        y_mean = self.predictor(z_x)\n",
    "\n",
    "        kl = torch.distributions.kl_divergence(z_normal_all, z_normal_context).sum()\n",
    "        \n",
    "        return y_mean, y_scale, kl"
   ]
  },
  {
   "cell_type": "code",
   "execution_count": 17,
   "metadata": {},
   "outputs": [],
   "source": [
    "def compute_log_likelihood(y_loc, y_scale, y_target):\n",
    "    normal = torch.distributions.Normal(y_loc, y_scale)\n",
    "    # sum over points, average over samples from z\n",
    "    return normal.log_prob(y_target).sum(dim=-1).mean()"
   ]
  },
  {
   "cell_type": "markdown",
   "metadata": {},
   "source": [
    "# Kaspar's 1st Experiment\n",
    "* Note that the exact architecture of the modules above may be different if they've been changed for experimenting with other tasks"
   ]
  },
  {
   "cell_type": "code",
   "execution_count": 18,
   "metadata": {},
   "outputs": [
    {
     "data": {
      "image/png": "[encoded data removed]",
      "text/plain": [
       "<matplotlib.figure.Figure at 0x7fd73b641f28>"
      ]
     },
     "metadata": {},
     "output_type": "display_data"
    }
   ],
   "source": [
    "x_min = -2\n",
    "x_max = 2\n",
    "x = np.array([[-2, -1, 0, 1, 2]]).T\n",
    "y = np.sin(x)\n",
    "plt.scatter(x, y)\n",
    "\n",
    "x = torch.tensor(x).float().to(device)\n",
    "y = torch.tensor(y).float().to(device)"
   ]
  },
  {
   "cell_type": "code",
   "execution_count": 23,
   "metadata": {},
   "outputs": [],
   "source": [
    "x_dim = 1\n",
    "y_dim = 1\n",
    "learning_rate = 1e-3\n",
    "hidden_dim = 8\n",
    "r_dim = 4\n",
    "z_dim = r_dim // 2\n",
    "\n",
    "nprocess = NP(x_dim, y_dim, hidden_dim, r_dim, z_dim).to(device)\n",
    "optimizer = torch.optim.Adam(nprocess.parameters(), learning_rate)"
   ]
  },
  {
   "cell_type": "code",
   "execution_count": 24,
   "metadata": {},
   "outputs": [
    {
     "name": "stdout",
     "output_type": "stream",
     "text": [
      "0: 184.095\n",
      "500: 77.108\n",
      "1000: 4.297\n",
      "1500: 1.880\n",
      "2000: 0.023\n",
      "2500: -1.064\n",
      "3000: -1.583\n",
      "3500: -1.858\n",
      "4000: -2.018\n",
      "4500: -2.063\n"
     ]
    }
   ],
   "source": [
    "n_steps = 5_000\n",
    "\n",
    "shuffle_idx = list(range(len(x)))\n",
    "\n",
    "losses = []\n",
    "kls = []\n",
    "log_likelihoods = []\n",
    "for step in range(n_steps):\n",
    "    optimizer.zero_grad()\n",
    "\n",
    "    np.random.shuffle(shuffle_idx)\n",
    "    n_context = np.random.randint(1, len(x))    \n",
    "\n",
    "    y_loc, y_scale, kl = nprocess(n_context, x[shuffle_idx], y[shuffle_idx])\n",
    "\n",
    "    y_target = y[shuffle_idx][n_context:]\n",
    "    log_likelihood = compute_log_likelihood(y_loc, y_scale, y_target)\n",
    "    loss = -log_likelihood + kl\n",
    "    \n",
    "    loss.backward()\n",
    "    optimizer.step()\n",
    "\n",
    "    losses.append(loss.item())\n",
    "    kls.append(kl.item())\n",
    "    log_likelihoods.append(log_likelihood.item())\n",
    "    if step % 500 == 0:\n",
    "        print(f\"{step}: {np.mean(losses[-500:]):,.3f}\")"
   ]
  },
  {
   "cell_type": "code",
   "execution_count": 25,
   "metadata": {},
   "outputs": [
    {
     "data": {
      "text/plain": [
       "<matplotlib.legend.Legend at 0x7fd73aaeaf60>"
      ]
     },
     "execution_count": 25,
     "metadata": {},
     "output_type": "execute_result"
    },
    {
     "data": {
      "image/png": "[encoded data removed]",
      "text/plain": [
       "<matplotlib.figure.Figure at 0x7fd73aaea128>"
      ]
     },
     "metadata": {},
     "output_type": "display_data"
    }
   ],
   "source": [
    "(pd.DataFrame({'loss': losses, 'kl': kls, '-log p': -np.array(log_likelihoods)})\n",
    "   .rolling(window=20).mean().plot()\n",
    ")\n",
    "plt.legend()"
   ]
  },
  {
   "cell_type": "code",
   "execution_count": 26,
   "metadata": {},
   "outputs": [
    {
     "data": {
      "text/plain": [
       "<matplotlib.legend.Legend at 0x7fd73a94ef28>"
      ]
     },
     "execution_count": 26,
     "metadata": {},
     "output_type": "execute_result"
    },
    {
     "data": {
      "image/png": "[encoded data removed]",
      "text/plain": [
       "<matplotlib.figure.Figure at 0x7fd73a9905c0>"
      ]
     },
     "metadata": {},
     "output_type": "display_data"
    }
   ],
   "source": [
    "x_plot = torch.cat((x, torch.linspace(-2, 2, 100).to(device).view(-1, 1)), dim=0)\n",
    "y_plot = torch.sin(x_plot)\n",
    "\n",
    "y_loc, y_scale, _ = nprocess(5, x_plot, y_plot)\n",
    "x_plot = x_plot[5:].cpu().numpy().ravel()\n",
    "y_plot = y_plot[5:].cpu().numpy().ravel()\n",
    "y_loc = y_loc[0].detach().cpu().numpy().ravel()\n",
    "\n",
    "plt.plot(x_plot, y_loc, label='Predicted')\n",
    "plt.fill_between(x_plot, y_loc - y_scale, y_loc + y_scale, alpha=0.5)\n",
    "plt.plot(x_plot, y_plot, label='True')\n",
    "plt.scatter(x, y, label='Observed', c='green', marker='+')\n",
    "plt.legend()"
   ]
  },
  {
   "cell_type": "markdown",
   "metadata": {},
   "source": [
    "# MNIST Image Completion"
   ]
  },
  {
   "cell_type": "code",
   "execution_count": 60,
   "metadata": {},
   "outputs": [],
   "source": [
    "data_dir = '../data'\n",
    "train_set = MNIST(data_dir, train=True, transform=transforms.ToTensor(), download=True)\n",
    "train_imgs = train_set.train_data.float() / 255\n",
    "\n",
    "test_set = MNIST(data_dir, train=False, transform=transforms.ToTensor(), download=True)\n",
    "test_imgs = test_set.test_data.float() / 255"
   ]
  },
  {
   "cell_type": "code",
   "execution_count": 22,
   "metadata": {},
   "outputs": [
    {
     "data": {
      "text/plain": [
       "torch.Size([2, 28, 28])"
      ]
     },
     "execution_count": 22,
     "metadata": {},
     "output_type": "execute_result"
    }
   ],
   "source": [
    "train_3 = train_imgs[train_set.train_labels == 3]\n",
    "train_5 = train_imgs[train_set.train_labels == 5]\n",
    "\n",
    "train_imgs = torch.cat((train_3[0:1], train_5[0:1])) \n",
    "train_imgs.shape"
   ]
  },
  {
   "cell_type": "code",
   "execution_count": 61,
   "metadata": {},
   "outputs": [],
   "source": [
    "x_dim = 2\n",
    "y_dim = 1\n",
    "learning_rate = 1e-3\n",
    "hidden_dim = 128\n",
    "r_dim = 128\n",
    "z_dim = r_dim // 2\n",
    "\n",
    "nprocess = NP(x_dim, y_dim, hidden_dim, r_dim, z_dim).to(device)\n",
    "optimizer = torch.optim.Adam(nprocess.parameters(), learning_rate)"
   ]
  },
  {
   "cell_type": "code",
   "execution_count": 62,
   "metadata": {},
   "outputs": [],
   "source": [
    "# the pixel locations are the same for all images\n",
    "width, height = train_imgs.shape[1:3]\n",
    "x = torch.tensor([[i / (height - 1), j / (width - 1)] for i in range(height) for j in range(width)])\n",
    "x = x.to(device)\n",
    "\n",
    "shuffle_idx = list(range(len(x)))\n",
    "\n",
    "losses = []\n",
    "kls = []\n",
    "log_likelihoods = []"
   ]
  },
  {
   "cell_type": "code",
   "execution_count": 25,
   "metadata": {},
   "outputs": [
    {
     "name": "stdout",
     "output_type": "stream",
     "text": [
      "0: 102.60\n",
      "1000: 39.18\n",
      "2000: 29.87\n",
      "3000: 27.76\n",
      "4000: 25.15\n",
      "5000: 24.41\n",
      "6000: 22.37\n",
      "7000: 14.40\n",
      "8000: 8.31\n",
      "9000: 7.37\n",
      "10000: 6.90\n",
      "11000: 6.37\n",
      "12000: 6.22\n",
      "13000: 6.09\n",
      "14000: 6.00\n"
     ]
    }
   ],
   "source": [
    "# n_steps = 3 * len(train_imgs)  # I usually interrupt it before this finishes\n",
    "n_steps = 15_000\n",
    "n_imgs = 2\n",
    "cnp_mode = False\n",
    "nprocess.n_samples = 1000\n",
    "\n",
    "for step in range(n_steps):\n",
    "    optimizer.zero_grad()\n",
    "    \n",
    "    loss = torch.tensor(0.).to(device)\n",
    "    \n",
    "    for img_idx in [0, 1]:\n",
    "        y = train_imgs[img_idx].reshape(-1, 1).to(device)\n",
    "\n",
    "        np.random.shuffle(shuffle_idx)\n",
    "    #     n_context = np.random.randint(1, len(x) // 2)\n",
    "        n_context = len(x) // 2\n",
    "        \n",
    "        y_loc, y_scale, kl = nprocess(n_context, x[shuffle_idx], y[shuffle_idx], cnp_mode=cnp_mode)\n",
    "\n",
    "        y_target = y[shuffle_idx][n_context:]\n",
    "        log_likelihood = compute_log_likelihood(y_loc, y_scale, y_target)\n",
    "        loss += -log_likelihood\n",
    "        \n",
    "        if not cnp_mode:\n",
    "            loss += kl\n",
    "\n",
    "    loss.backward()\n",
    "    optimizer.step()\n",
    "\n",
    "    losses.append(loss.item())\n",
    "    kls.append(kl.item())\n",
    "    log_likelihoods.append(log_likelihood.item())\n",
    "    if step % 1000 == 0:\n",
    "        print(f\"{step}: {np.mean(losses[-1000:]):,.2f}\")"
   ]
  },
  {
   "cell_type": "code",
   "execution_count": 52,
   "metadata": {},
   "outputs": [
    {
     "name": "stdout",
     "output_type": "stream",
     "text": [
      "0: 11.57\n",
      "1000: 11.76\n",
      "2000: 11.50\n",
      "3000: 11.76\n",
      "4000: 11.68\n",
      "5000: 11.28\n",
      "6000: 11.66\n",
      "7000: 11.54\n",
      "8000: 11.57\n",
      "9000: 11.38\n",
      "10000: 11.73\n",
      "11000: 11.61\n",
      "12000: 11.79\n",
      "13000: 11.69\n",
      "14000: 11.54\n",
      "15000: 11.92\n",
      "16000: 11.78\n",
      "17000: 12.09\n",
      "18000: 11.55\n",
      "19000: 11.55\n"
     ]
    }
   ],
   "source": [
    "# n_steps = 3 * len(train_imgs)  # I usually interrupt it before this finishes\n",
    "n_steps = 10_000\n",
    "\n",
    "for step in range(n_steps):\n",
    "    optimizer.zero_grad()\n",
    "    img_idx = np.random.randint(len(train_imgs))\n",
    "\n",
    "    y = train_imgs[img_idx].reshape(-1, 1).to(device)\n",
    "\n",
    "    np.random.shuffle(shuffle_idx)\n",
    "    n_context = np.random.randint(1, len(x))\n",
    "    \n",
    "    y_loc, y_scale, kl = nprocess(n_context, x[shuffle_idx], y[shuffle_idx])\n",
    "\n",
    "    y_target = y[shuffle_idx][n_context:]\n",
    "    log_likelihood = compute_log_likelihood(y_loc, y_scale, y_target)\n",
    "    loss = -log_likelihood# + kl\n",
    "\n",
    "    loss.backward()\n",
    "    optimizer.step()\n",
    "\n",
    "    losses.append(loss.item())\n",
    "    kls.append(kl.item())\n",
    "    log_likelihoods.append(log_likelihood.item())\n",
    "    if step % 1000 == 0:\n",
    "        print(f\"{step}: {np.mean(losses[-1000:]):,.2f}\")"
   ]
  },
  {
   "cell_type": "code",
   "execution_count": 56,
   "metadata": {},
   "outputs": [
    {
     "data": {
      "text/plain": [
       "<matplotlib.legend.Legend at 0x7fd72fea9cf8>"
      ]
     },
     "execution_count": 56,
     "metadata": {},
     "output_type": "execute_result"
    },
    {
     "data": {
      "image/png": "[encoded data removed]",
      "text/plain": [
       "<matplotlib.figure.Figure at 0x7fd72fea9f28>"
      ]
     },
     "metadata": {},
     "output_type": "display_data"
    }
   ],
   "source": [
    "(pd.DataFrame({'loss': losses, 'kl': kls, '-log p': -np.array(log_likelihoods)})\n",
    "   .rolling(window=20).mean().plot()\n",
    ")\n",
    "plt.legend()"
   ]
  },
  {
   "cell_type": "code",
   "execution_count": 57,
   "metadata": {},
   "outputs": [
    {
     "data": {
      "image/png": "[encoded data removed]",
      "text/plain": [
       "<matplotlib.figure.Figure at 0x7fd72fe486a0>"
      ]
     },
     "metadata": {},
     "output_type": "display_data"
    }
   ],
   "source": [
    "cnp_mode = False\n",
    "n_context = 350\n",
    "\n",
    "plot_img_pred(train_imgs[0], n_context=n_context, cnp_mode=cnp_mode)"
   ]
  },
  {
   "cell_type": "code",
   "execution_count": 66,
   "metadata": {},
   "outputs": [],
   "source": [
    "def greyscale_to_rgb(img):\n",
    "    return img.view((len(img), -1, 1)).expand(-1, -1, 3).clamp(0, 1)"
   ]
  },
  {
   "cell_type": "code",
   "execution_count": 58,
   "metadata": {},
   "outputs": [
    {
     "data": {
      "image/png": "[encoded data removed]",
      "text/plain": [
       "<matplotlib.figure.Figure at 0x7fd731d9d390>"
      ]
     },
     "metadata": {},
     "output_type": "display_data"
    }
   ],
   "source": [
    "plot_img_pred(train_imgs[1], n_context=n_context, cnp_mode=cnp_mode)"
   ]
  },
  {
   "cell_type": "code",
   "execution_count": 730,
   "metadata": {},
   "outputs": [
    {
     "data": {
      "text/plain": [
       "tensor([-0.8738], device='cuda:0', grad_fn=<MeanBackward0>)"
      ]
     },
     "execution_count": 730,
     "metadata": {},
     "output_type": "execute_result"
    }
   ],
   "source": [
    "r3_context = nprocess.representer(torch.cat((x[:n_context],\n",
    "                                             train_imgs[0].reshape(-1, 1).to(device)[:n_context]), dim=1))\n",
    "r3_context"
   ]
  },
  {
   "cell_type": "code",
   "execution_count": 731,
   "metadata": {},
   "outputs": [
    {
     "data": {
      "text/plain": [
       "tensor([-0.9226], device='cuda:0', grad_fn=<MeanBackward0>)"
      ]
     },
     "execution_count": 731,
     "metadata": {},
     "output_type": "execute_result"
    }
   ],
   "source": [
    "r3 = nprocess.representer(torch.cat((x, train_imgs[0].reshape(-1, 1).to(device)), dim=1))\n",
    "r3"
   ]
  },
  {
   "cell_type": "code",
   "execution_count": 732,
   "metadata": {},
   "outputs": [
    {
     "data": {
      "text/plain": [
       "(tensor([-5.9357], device='cuda:0', grad_fn=<ThAddBackward>),\n",
       " tensor([0.9995], device='cuda:0', grad_fn=<SigmoidBackward>))"
      ]
     },
     "execution_count": 732,
     "metadata": {},
     "output_type": "execute_result"
    }
   ],
   "source": [
    "nprocess.z_distribution(r3_context)"
   ]
  },
  {
   "cell_type": "code",
   "execution_count": 733,
   "metadata": {},
   "outputs": [
    {
     "data": {
      "text/plain": [
       "(tensor([-5.9357], device='cuda:0', grad_fn=<ThAddBackward>),\n",
       " tensor([0.9995], device='cuda:0', grad_fn=<SigmoidBackward>))"
      ]
     },
     "execution_count": 733,
     "metadata": {},
     "output_type": "execute_result"
    }
   ],
   "source": [
    "nprocess.z_distribution(r3)"
   ]
  },
  {
   "cell_type": "code",
   "execution_count": null,
   "metadata": {},
   "outputs": [],
   "source": []
  },
  {
   "cell_type": "code",
   "execution_count": 41,
   "metadata": {},
   "outputs": [],
   "source": [
    "def plot_samples(model: Callable[[int, torch.Tensor, torch.Tensor], torch.Tensor], n_contexts: Tuple[int]=(10, 100, 300, 784), n_preds: int=3):\n",
    "    img_idx = np.random.randint(len(test_imgs))\n",
    "    y = test_imgs[img_idx].reshape(-1, 1).to(device)\n",
    "\n",
    "    np.random.shuffle(shuffle_idx)\n",
    "    unshuffle_idx = np.argsort(shuffle_idx)\n",
    "\n",
    "    fig, subplots = plt.subplots(figsize=(10, 10), nrows=n_preds + 1, ncols=len(n_contexts))\n",
    "\n",
    "    # n_context = np.random.randint(1, len(x) // 2)\n",
    "    for (context_i, n_context) in enumerate(n_contexts):\n",
    "        subplots[0, context_i].imshow(test_imgs[img_idx], cmap='Greys_r')\n",
    "        subplots[0, context_i].axis('off')\n",
    "        subplots[0, context_i].set_title(f'{n_context} context')\n",
    "\n",
    "        for i in range(n_preds):\n",
    "            pred = model(n_context, x[shuffle_idx], y[shuffle_idx])\n",
    "\n",
    "            try:\n",
    "                pred = pred.detach()\n",
    "            except AttributeError:  # not a torch.Tensor\n",
    "                pass\n",
    "#             subplots[i + 1, context_i].imshow(pred[unshuffle_idx].view((width, height, 1)).expand(-1, -1, 3))\n",
    "            subplots[i + 1, context_i].imshow(pred[unshuffle_idx].reshape(width, height), cmap='Greys_r')\n",
    "            subplots[i + 1, context_i].axis('off')"
   ]
  },
  {
   "cell_type": "code",
   "execution_count": 42,
   "metadata": {},
   "outputs": [],
   "source": [
    "def get_pixel_idx(img) -> torch.Tensor:\n",
    "    height, width = img.shape\n",
    "    idx = torch.tensor([[i / (height - 1), j / (width - 1)] for i in range(height) for j in range(width)])\n",
    "    return idx"
   ]
  },
  {
   "cell_type": "code",
   "execution_count": 160,
   "metadata": {},
   "outputs": [],
   "source": [
    "def predict(img: torch.Tensor, n_context: int=100) -> torch.Tensor:\n",
    "    height, width = img.shape\n",
    "    pixel_idx = get_pixel_idx(img).to(device)\n",
    "    img = img.reshape(-1, 1).to(device)\n",
    "    \n",
    "    shuffle_idx = list(range(width * height))\n",
    "    np.random.shuffle(shuffle_idx)\n",
    "    unshuffle_idx = np.argsort(shuffle_idx)\n",
    "    \n",
    "    pred, *_ = nprocess(n_context, pixel_idx[shuffle_idx], img[shuffle_idx], train=False)\n",
    "    pred = pred[0][unshuffle_idx].reshape(height, width).detach()\n",
    "    context_idx = pixel_idx[shuffle_idx][:n_context]\n",
    "    return pred, context_idx\n",
    "\n",
    "\n",
    "def plot_img_pred(img, n_context: int=100):\n",
    "    pred, context_idx = predict(img, n_context)\n",
    "    context_idx[:, 0] *= img.shape[0] - 1\n",
    "    context_idx[:, 1] *= img.shape[1] - 1\n",
    "    context_idx = context_idx.long()\n",
    "\n",
    "    img = greyscale_to_rgb(img)\n",
    "    pred = greyscale_to_rgb(pred)\n",
    "\n",
    "    non_context_color = [0, .2, .9]\n",
    "    context = np.zeros_like(img)\n",
    "    context += non_context_color\n",
    "    context[context_idx[:, 0], context_idx[:, 1]] = img[context_idx[:, 0], context_idx[:, 1]]\n",
    "\n",
    "    plt.figure(figsize=(12, 6))\n",
    "\n",
    "    plt.subplot(1, 3, 1)\n",
    "    plt.imshow(pred)\n",
    "    plt.axis('off')\n",
    "    plt.title('Predicted')\n",
    "\n",
    "    plt.subplot(1, 3, 2)\n",
    "    plt.imshow(context)\n",
    "    plt.axis('off')\n",
    "    plt.title(f'Context ({n_context})')\n",
    "\n",
    "    plt.subplot(1, 3, 3)\n",
    "    plt.imshow(img)\n",
    "    plt.axis('off')\n",
    "    plt.title(f'True')"
   ]
  },
  {
   "cell_type": "code",
   "execution_count": 123,
   "metadata": {},
   "outputs": [
    {
     "data": {
      "image/png": "[encoded data removed]",
      "text/plain": [
       "<matplotlib.figure.Figure at 0x7fdf621b7550>"
      ]
     },
     "metadata": {},
     "output_type": "display_data"
    }
   ],
   "source": [
    "plot_img_pred(train_imgs[4], n_context=700)"
   ]
  },
  {
   "cell_type": "code",
   "execution_count": 124,
   "metadata": {},
   "outputs": [
    {
     "data": {
      "image/png": "[encoded data removed]",
      "text/plain": [
       "<matplotlib.figure.Figure at 0x7fdf621927f0>"
      ]
     },
     "metadata": {},
     "output_type": "display_data"
    }
   ],
   "source": [
    "plot_img_pred(train_imgs[0])"
   ]
  },
  {
   "cell_type": "code",
   "execution_count": 365,
   "metadata": {},
   "outputs": [
    {
     "data": {
      "image/png": "[encoded data removed]",
      "text/plain": [
       "<matplotlib.figure.Figure at 0x7f8942c40160>"
      ]
     },
     "metadata": {},
     "output_type": "display_data"
    }
   ],
   "source": [
    "plot_samples(lambda *args: nprocess(*args, train=False)[0][0])"
   ]
  }
 ],
 "metadata": {
  "kernelspec": {
   "display_name": "Python 3",
   "language": "python",
   "name": "python3"
  },
  "language_info": {
   "codemirror_mode": {
    "name": "ipython",
    "version": 3
   },
   "file_extension": ".py",
   "mimetype": "text/x-python",
   "name": "python",
   "nbconvert_exporter": "python",
   "pygments_lexer": "ipython3",
   "version": "3.6.4"
  }
 },
 "nbformat": 4,
 "nbformat_minor": 2
}
