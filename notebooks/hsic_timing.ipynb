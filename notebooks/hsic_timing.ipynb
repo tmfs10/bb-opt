{
 "cells": [
  {
   "cell_type": "code",
   "execution_count": 1,
   "metadata": {},
   "outputs": [
    {
     "data": {
      "text/plain": [
       "(18924, 512)"
      ]
     },
     "execution_count": 1,
     "metadata": {},
     "output_type": "execute_result"
    }
   ],
   "source": [
    "%load_ext autoreload\n",
    "%autoreload 2\n",
    "\n",
    "import numpy as np\n",
    "import pandas as pd\n",
    "from sklearn.model_selection import train_test_split\n",
    "import torch\n",
    "import torch.nn as nn\n",
    "import pyro\n",
    "import pyro.optim\n",
    "import matplotlib.pyplot as plt\n",
    "import seaborn as sns\n",
    "from typing import Union, Tuple, Optional, Callable, Dict, Set, List, Sequence\n",
    "import os\n",
    "from bb_opt.src.bayesian_opt import (\n",
    "    get_model_bnn, acquire_batch_bnn_greedy, train_model_bnn,\n",
    "    acquire_batch_hsic    \n",
    ")\n",
    "from bb_opt.src.utils import plot_performance\n",
    "from bb_opt.src.hsic import total_hsic, dimwise_mixrq_kernels, precompute_batch_hsic_stats, compute_point_hsics\n",
    "\n",
    "# always need to use device 0 in pytorch; if you want to use, e.g., gpu 1 instead,\n",
    "# make that the only visible GPU and reference it as 0 then\n",
    "\n",
    "os.environ[\"CUDA_VISIBLE_DEVICES\"] = \"6\"\n",
    "device = torch.device('cuda:0' if torch.cuda.is_available() else 'cpu')\n",
    "# device = torch.device('cpu')\n",
    "%matplotlib inline\n",
    "\n",
    "batch_size = 200\n",
    "\n",
    "ec50 = pd.read_csv('../data/malaria.csv').ec50.values\n",
    "fingerprints = np.load('../data/fingerprints.npy')\n",
    "fingerprints.shape"
   ]
  },
  {
   "cell_type": "code",
   "execution_count": 2,
   "metadata": {},
   "outputs": [],
   "source": [
    "model = get_model_bnn(batch_size=batch_size, device=device)\n",
    "inputs = torch.tensor(fingerprints).float().to(device)\n",
    "sampled_idx = set()\n",
    "n_points_parallel = 100"
   ]
  },
  {
   "cell_type": "code",
   "execution_count": null,
   "metadata": {},
   "outputs": [],
   "source": [
    "hsic_coeff = 5\n",
    "n_preds = 250\n",
    "bnn_model, guide = model\n",
    "\n",
    "with torch.no_grad():\n",
    "    preds = [torch.unsqueeze(guide()(inputs).squeeze(), 0) for _ in range(n_preds)]\n",
    "preds = torch.cat(preds)\n",
    "\n",
    "mean = preds.mean(dim=0)\n",
    "std = preds.std(dim=0)\n",
    "metric = mean / std\n",
    "\n",
    "acquirable_idx = set(range(len(metric))).difference(sampled_idx)\n",
    "\n",
    "best_metric = -float('inf')\n",
    "best_idx = None\n",
    "\n",
    "for idx in acquirable_idx:\n",
    "    if metric[idx] > best_metric:\n",
    "        best_metric = metric[idx]\n",
    "        best_idx = idx\n",
    "\n",
    "batch = [best_idx]\n",
    "acquirable_idx.remove(best_idx)\n",
    "\n",
    "while len(batch) < batch_size:\n",
    "    best_idx = None\n",
    "    best_batch_metric = -float('inf')\n",
    "\n",
    "    batch_stats = precompute_batch_hsic_stats(preds, batch)\n",
    "\n",
    "    for next_points in torch.tensor(list(acquirable_idx)).split(n_points_parallel):\n",
    "        hsics = compute_point_hsics(preds, next_points, *batch_stats)\n",
    "        idx = hsics.argmax()\n",
    "        hsic = hsics[idx]\n",
    "        idx = next_points[idx]\n",
    "\n",
    "        batch_metric = metric[idx] - hsic_coeff * hsic\n",
    "\n",
    "        \n",
    "        if batch_metric > best_batch_metric:\n",
    "            best_batch_metric = batch_metric\n",
    "            best_idx = idx.item()\n",
    "\n",
    "    batch.append(best_idx)\n",
    "    acquirable_idx.remove(best_idx)"
   ]
  },
  {
   "cell_type": "markdown",
   "metadata": {},
   "source": [
    "$m$ - batch size  \n",
    "$n$ - number of possible inputs  \n",
    "$q$ - number of BNN samples per input  \n",
    "$k$ - number of points used in computing HSIC\n",
    "\n",
    "PDTS is $O(nm)$ to construct a batch\n",
    "* $m$ BNN samples, each evaluated on $n$ input points\n",
    "* This can be parallelized over up to $m$ nodes, but if $m$ is very large, it might be impractical to have that many. Still, the constant factors will be much better with many nodes.\n",
    "* This is so fast because no comparison is needed between points during batch construction.\n",
    "\n",
    "HSIC is $O(n m^2 q^2)$ to construct a batch.\n",
    "* $m$ samples added to the batch; adding each involves looping over $n$ inputs to the find the best one. Finding the best one requires computing HSIC on the current batch, which is $O(mq^2)$.\n",
    "* The loop over $n$ can be parallelized, but having $n$ nodes is even less practical than $m$.\n",
    "* For large $m$, this probably just won't work. We'll need to subsample to just use $k$ points in computing HSIC to give a runtime of $O(nmkq^2))$.\n",
    "* We can improve constant factors in the HSIC runtime to by computing the kernels (and a little of the total HSIC) on the existing batch then, inside the for $n$ loop, just computing the kernel of the proposed point in and doing the final calculations for total HSIC.\n",
    "  * Might need to evaluate on multiple proposed points at once? The GPU will speed things up a lot if you're doing a batch of proposed points at a time instead of just one."
   ]
  },
  {
   "cell_type": "code",
   "execution_count": 6,
   "metadata": {},
   "outputs": [
    {
     "name": "stdout",
     "output_type": "stream",
     "text": [
      "20,000,000\n"
     ]
    }
   ],
   "source": [
    "q = 100\n",
    "k = 2000\n",
    "print(f\"{k * q ** 2:,}\")"
   ]
  },
  {
   "cell_type": "code",
   "execution_count": 23,
   "metadata": {},
   "outputs": [
    {
     "data": {
      "text/plain": [
       "85.2"
      ]
     },
     "execution_count": 23,
     "metadata": {},
     "output_type": "execute_result"
    }
   ],
   "source": [
    "n = 18000\n",
    "m = 200\n",
    "k = 2 / 1000 # seconds per k computation?\n",
    "k2 = 85.2 / 1000 # seconds per k^2 computation\n",
    "n * m * k2 / 3600"
   ]
  },
  {
   "cell_type": "code",
   "execution_count": 25,
   "metadata": {},
   "outputs": [
    {
     "data": {
      "text/plain": [
       "2.0047333333333333"
      ]
     },
     "execution_count": 25,
     "metadata": {},
     "output_type": "execute_result"
    }
   ],
   "source": [
    "(m * k2 + n * m * k) / 3600"
   ]
  },
  {
   "cell_type": "markdown",
   "metadata": {},
   "source": [
    "## Pre-compute Batch HSIC\n",
    "Note that the results below may vary for different batch sizes (`n_batch`). It seems clear, though, that precomputing everything possible works best and that there's a limit to how much speedup you can get by batching points together to compute their HSICs; batching 100 at a time seems like a good value to start with."
   ]
  },
  {
   "cell_type": "code",
   "execution_count": 18,
   "metadata": {},
   "outputs": [
    {
     "name": "stdout",
     "output_type": "stream",
     "text": [
      "7.48 ms ± 3.7 µs per loop (mean ± std. dev. of 7 runs, 100 loops each)\n",
      "8.95 ms ± 4.52 µs per loop (mean ± std. dev. of 7 runs, 100 loops each)\n",
      "\n",
      "# next points: 1\n",
      "9.59 ms ± 13.2 µs per loop (mean ± std. dev. of 7 runs, 100 loops each)\n",
      "2.75 ms ± 10.1 µs per loop (mean ± std. dev. of 7 runs, 100 loops each)\n",
      "1.45 ms ± 14 µs per loop (mean ± std. dev. of 7 runs, 1000 loops each)\n",
      "\n",
      "# next points: 50\n",
      "479 ms ± 286 µs per loop (mean ± std. dev. of 7 runs, 1 loop each)\n",
      "138 ms ± 559 µs per loop (mean ± std. dev. of 7 runs, 10 loops each)\n",
      "3.08 ms ± 1.72 µs per loop (mean ± std. dev. of 7 runs, 100 loops each)\n",
      "\n",
      "# next points: 100\n",
      "959 ms ± 976 µs per loop (mean ± std. dev. of 7 runs, 1 loop each)\n",
      "277 ms ± 1.35 ms per loop (mean ± std. dev. of 7 runs, 1 loop each)\n",
      "5.51 ms ± 5.89 µs per loop (mean ± std. dev. of 7 runs, 100 loops each)\n",
      "\n",
      "# next points: 500\n",
      "4.81 s ± 6.78 ms per loop (mean ± std. dev. of 7 runs, 1 loop each)\n",
      "1.39 s ± 4.46 ms per loop (mean ± std. dev. of 7 runs, 1 loop each)\n",
      "25.2 ms ± 6.2 µs per loop (mean ± std. dev. of 7 runs, 10 loops each)\n",
      "\n",
      "# next points: 1000\n",
      "9.63 s ± 4.08 ms per loop (mean ± std. dev. of 7 runs, 1 loop each)\n",
      "2.76 s ± 4.13 ms per loop (mean ± std. dev. of 7 runs, 1 loop each)\n",
      "49.5 ms ± 12.7 µs per loop (mean ± std. dev. of 7 runs, 10 loops each)\n",
      "\n",
      "# next points: 1500\n",
      "4.14 s ± 4.84 ms per loop (mean ± std. dev. of 7 runs, 1 loop each)\n",
      "74.4 ms ± 12.1 µs per loop (mean ± std. dev. of 7 runs, 10 loops each)\n",
      "\n",
      "# next points: 2000\n",
      "5.54 s ± 12.9 ms per loop (mean ± std. dev. of 7 runs, 1 loop each)\n",
      "97.9 ms ± 32.2 µs per loop (mean ± std. dev. of 7 runs, 10 loops each)\n"
     ]
    }
   ],
   "source": [
    "n_batch = 200\n",
    "n_nexts = np.array([1, 50, 100, 500, 1000, 1500, 2000])\n",
    "\n",
    "batch = list(range(n_batch))\n",
    "\n",
    "timings = {\n",
    "    'naive': [],\n",
    "    'precompute kernel' : [],\n",
    "    'precompute all': []\n",
    "}\n",
    "\n",
    "kernel_timing1 = %timeit -o dimwise_mixrq_kernels(preds[:, batch])\n",
    "batch_kernels = dimwise_mixrq_kernels(preds[:, batch])\n",
    "\n",
    "all_timing1 = %timeit -o precompute_batch_hsic_stats(preds, batch)\n",
    "batch_stats = precompute_batch_hsic_stats(preds, batch)\n",
    "\n",
    "for n_next in n_nexts:\n",
    "    print(f\"\\n# next points: {n_next}\")\n",
    "    next_points = list(range(n_batch, n_batch + n_next))\n",
    "\n",
    "    if n_next <= 1000:\n",
    "        timing = %timeit -o for i in next_points: total_hsic(dimwise_mixrq_kernels(preds[:, batch + [i]]))\n",
    "        timings['naive'].append((timing.average, timing.stdev))\n",
    "    else:\n",
    "        print(\"Timing skipped.\")\n",
    "        timings['naive'].append((float('nan'), float('nan')))\n",
    "\n",
    "    kernel_timing2 = %timeit -o for i in next_points: total_hsic(torch.cat((batch_kernels, dimwise_mixrq_kernels(preds[:, [i]])), dim=-1))\n",
    "    timings['precompute kernel'].append((kernel_timing1.average + kernel_timing2.average,\n",
    "                                         kernel_timing1.stdev + kernel_timing2.stdev))\n",
    "\n",
    "    all_timing2 = %timeit -o compute_point_hsics(preds, next_points, *batch_stats)\n",
    "    timings['precompute all'].append((all_timing1.average + all_timing2.average,\n",
    "                                      all_timing1.stdev + all_timing2.stdev))"
   ]
  },
  {
   "cell_type": "code",
   "execution_count": 21,
   "metadata": {},
   "outputs": [],
   "source": [
    "for key, val in timings.items():\n",
    "    timings[key] = np.array(val).T"
   ]
  },
  {
   "cell_type": "code",
   "execution_count": 22,
   "metadata": {},
   "outputs": [
    {
     "data": {
      "text/plain": [
       "<matplotlib.legend.Legend at 0x7faa6cad2668>"
      ]
     },
     "execution_count": 22,
     "metadata": {},
     "output_type": "execute_result"
    },
    {
     "data": {
      "image/png": "[encoded data removed]",
      "text/plain": [
       "<matplotlib.figure.Figure at 0x7faa6cb00e48>"
      ]
     },
     "metadata": {},
     "output_type": "display_data"
    }
   ],
   "source": [
    "for key in timings:\n",
    "    plt.plot(n_nexts, timings[key][0], label=key)\n",
    "    plt.fill_between(n_nexts, timings[key][0] + timings[key][1], timings[key][0] - timings[key][1])\n",
    "\n",
    "plt.xlabel('# next points')\n",
    "plt.ylabel('Time (s)')\n",
    "plt.title(f\"Batch size = {n_batch}\")\n",
    "plt.legend()"
   ]
  },
  {
   "cell_type": "code",
   "execution_count": 110,
   "metadata": {},
   "outputs": [
    {
     "data": {
      "text/plain": [
       "<matplotlib.legend.Legend at 0x7fa7c864e080>"
      ]
     },
     "execution_count": 110,
     "metadata": {},
     "output_type": "execute_result"
    },
    {
     "data": {
      "image/png": "[encoded data removed]",
      "text/plain": [
       "<matplotlib.figure.Figure at 0x7fa7c8634e48>"
      ]
     },
     "metadata": {},
     "output_type": "display_data"
    }
   ],
   "source": [
    "precompute_time = all_timing1.average\n",
    "times = timings[\"precompute all\"][0] - precompute_time\n",
    "\n",
    "n_nexts_ = np.concatenate((n_nexts, [5000, 7500, 10_000, 15_000, 20_000]))\n",
    "\n",
    "plt.figure(figsize=(13, 4))\n",
    "\n",
    "plt.subplot(121)\n",
    "for i in range(len(times)):\n",
    "    plt.plot(n_nexts_[i:], precompute_time + times[i] * n_nexts_[i:] / n_nexts_[i], label=str(n_nexts_[i]))\n",
    "\n",
    "plt.xlabel('# next points')\n",
    "plt.ylabel('Time (s)')\n",
    "plt.title(\"Optimized HSIC runtime by # points batched\")\n",
    "plt.legend()\n",
    "\n",
    "plt.subplot(122)\n",
    "for i in range(1, len(times)):\n",
    "    plt.plot(n_nexts_[i:], precompute_time + times[i] * n_nexts_[i:] / n_nexts_[i], label=str(n_nexts_[i]))\n",
    "\n",
    "plt.xlabel('# next points')\n",
    "plt.ylabel('Time (s)')\n",
    "plt.title(\"Optimized HSIC runtime by # points batched\")\n",
    "plt.legend()"
   ]
  },
  {
   "cell_type": "code",
   "execution_count": 10,
   "metadata": {},
   "outputs": [],
   "source": [
    "n_batch = 200\n",
    "n_next = 10_000\n",
    "\n",
    "batch = list(range(n_batch))\n",
    "next_points = list(range(n_batch, n_batch + n_next))"
   ]
  },
  {
   "cell_type": "code",
   "execution_count": 27,
   "metadata": {},
   "outputs": [
    {
     "name": "stdout",
     "output_type": "stream",
     "text": [
      "19.5 s ± 30.3 ms per loop (mean ± std. dev. of 7 runs, 1 loop each)\n"
     ]
    }
   ],
   "source": [
    "%%timeit\n",
    "for i in next_points:\n",
    "    total_hsic(dimwise_mixrq_kernels(preds[:, batch + [i]]))"
   ]
  },
  {
   "cell_type": "code",
   "execution_count": 28,
   "metadata": {},
   "outputs": [
    {
     "name": "stdout",
     "output_type": "stream",
     "text": [
      "5.84 s ± 74.2 ms per loop (mean ± std. dev. of 7 runs, 1 loop each)\n"
     ]
    }
   ],
   "source": [
    "%%timeit\n",
    "batch_kernels = dimwise_mixrq_kernels(preds[:, batch])\n",
    "for i in next_points:\n",
    "    point_kernels = dimwise_mixrq_kernels(preds[:, [i]])\n",
    "    total_hsic(torch.cat((batch_kernels, point_kernels), dim=-1))"
   ]
  },
  {
   "cell_type": "code",
   "execution_count": 29,
   "metadata": {},
   "outputs": [
    {
     "name": "stdout",
     "output_type": "stream",
     "text": [
      "107 ms ± 64.5 µs per loop (mean ± std. dev. of 7 runs, 10 loops each)\n"
     ]
    }
   ],
   "source": [
    "%%timeit\n",
    "batch_stats = precompute_batch_hsic_stats(preds, batch)\n",
    "point_hsics = compute_point_hsics(preds, next_points, *batch_stats)"
   ]
  },
  {
   "cell_type": "code",
   "execution_count": 9,
   "metadata": {},
   "outputs": [
    {
     "name": "stdout",
     "output_type": "stream",
     "text": [
      "5.25 s ± 114 ms per loop (mean ± std. dev. of 7 runs, 1 loop each)\n"
     ]
    }
   ],
   "source": [
    "%%timeit\n",
    "# CPU: 200 / 2K\n",
    "batch_stats = precompute_batch_hsic_stats(preds, batch)\n",
    "point_hsics = compute_point_hsics(preds, next_points, *batch_stats)"
   ]
  },
  {
   "cell_type": "code",
   "execution_count": 11,
   "metadata": {},
   "outputs": [
    {
     "name": "stdout",
     "output_type": "stream",
     "text": [
      "21.1 s ± 353 ms per loop (mean ± std. dev. of 7 runs, 1 loop each)\n"
     ]
    }
   ],
   "source": [
    "%%timeit\n",
    "# CPU: 200 / 10K\n",
    "batch_stats = precompute_batch_hsic_stats(preds, batch)\n",
    "point_hsics = compute_point_hsics(preds, next_points, *batch_stats)"
   ]
  },
  {
   "cell_type": "code",
   "execution_count": 25,
   "metadata": {},
   "outputs": [],
   "source": [
    "torch.cuda.empty_cache()"
   ]
  },
  {
   "cell_type": "markdown",
   "metadata": {},
   "source": [
    "# HSIC Validity Testing\n",
    "To within quite a small tolerance, we're computing exactly the same HSICs as with the unoptimized code."
   ]
  },
  {
   "cell_type": "code",
   "execution_count": 15,
   "metadata": {},
   "outputs": [
    {
     "name": "stdout",
     "output_type": "stream",
     "text": [
      "CPU times: user 832 ms, sys: 284 ms, total: 1.12 s\n",
      "Wall time: 1.12 s\n"
     ]
    }
   ],
   "source": [
    "%%time\n",
    "\n",
    "acquirable_idx = set(list(range(len(metric))))\n",
    "\n",
    "batch = [acquirable_idx.pop()]\n",
    "n_points_parallel = 100\n",
    "hsics_optimized = []\n",
    "while len(batch) < batch_size:\n",
    "    best_idx = None\n",
    "    best_batch_metric = -float('inf')\n",
    "    \n",
    "    batch_stats = precompute_batch_hsic_stats(preds, batch)\n",
    "\n",
    "    for next_points in torch.tensor(list(acquirable_idx)).split(n_points_parallel):\n",
    "        hsics = compute_point_hsics(preds, next_points, *batch_stats)\n",
    "        hsics_optimized.extend(hsics.tolist())\n",
    "        idx = hsics.argmax()\n",
    "        hsic = hsics[idx]\n",
    "        idx = next_points[idx]\n",
    "        \n",
    "        batch_metric = metric[idx] - hsic_coeff * hsic\n",
    "\n",
    "        if batch_metric > best_batch_metric:\n",
    "            best_batch_metric = batch_metric\n",
    "            best_idx = idx.item()\n",
    "\n",
    "    batch.append(best_idx)\n",
    "    acquirable_idx.remove(best_idx)\n",
    "    break"
   ]
  },
  {
   "cell_type": "code",
   "execution_count": 16,
   "metadata": {},
   "outputs": [
    {
     "name": "stdout",
     "output_type": "stream",
     "text": [
      "1000 2000 3000 4000 5000 6000 7000 8000 9000 10000 11000 12000 13000 14000 15000 16000 17000 18000 CPU times: user 27.6 s, sys: 276 ms, total: 27.9 s\n",
      "Wall time: 27.9 s\n"
     ]
    }
   ],
   "source": [
    "%%time\n",
    "\n",
    "acquirable_idx = set(list(range(len(metric))))\n",
    "\n",
    "batch = [acquirable_idx.pop()]\n",
    "hsics_naive = []\n",
    "while len(batch) < batch_size:\n",
    "    best_idx = None\n",
    "    best_batch_metric = -float('inf')\n",
    "    possible_batch = [*batch, None]\n",
    "\n",
    "    for i in acquirable_idx:\n",
    "        possible_batch[-1] = i\n",
    "        hsic = total_hsic(dimwise_mixrq_kernels(preds[:, possible_batch]))\n",
    "        hsics_naive.append(hsic)\n",
    "        batch_metric = metric[i] - hsic_coeff * hsic\n",
    "\n",
    "        if batch_metric > best_batch_metric:\n",
    "            best_batch_metric = batch_metric\n",
    "            best_idx = i\n",
    "        \n",
    "        if i % 1000 == 0:\n",
    "            print(i, end=\" \")\n",
    "\n",
    "    batch.append(best_idx)\n",
    "    acquirable_idx.remove(best_idx)\n",
    "    break"
   ]
  },
  {
   "cell_type": "code",
   "execution_count": 17,
   "metadata": {},
   "outputs": [],
   "source": [
    "hsics_optimized = np.array(hsics_optimized)\n",
    "hsics_naive = np.array(hsics_naive)"
   ]
  },
  {
   "cell_type": "code",
   "execution_count": 18,
   "metadata": {},
   "outputs": [
    {
     "data": {
      "text/plain": [
       "(False, True)"
      ]
     },
     "execution_count": 18,
     "metadata": {},
     "output_type": "execute_result"
    }
   ],
   "source": [
    "thresh = 0.000001\n",
    "np.allclose(hsics_optimized, hsics_naive), (abs(hsics_optimized - hsics_naive) <= thresh).all()"
   ]
  },
  {
   "cell_type": "code",
   "execution_count": 19,
   "metadata": {},
   "outputs": [
    {
     "data": {
      "image/png": "[encoded data removed]",
      "text/plain": [
       "<matplotlib.figure.Figure at 0x7f48e60e7908>"
      ]
     },
     "metadata": {},
     "output_type": "display_data"
    }
   ],
   "source": [
    "sns.distplot(hsics_optimized);"
   ]
  }
 ],
 "metadata": {
  "kernelspec": {
   "display_name": "Python 3",
   "language": "python",
   "name": "python3"
  },
  "language_info": {
   "codemirror_mode": {
    "name": "ipython",
    "version": 3
   },
   "file_extension": ".py",
   "mimetype": "text/x-python",
   "name": "python",
   "nbconvert_exporter": "python",
   "pygments_lexer": "ipython3",
   "version": "3.6.4"
  }
 },
 "nbformat": 4,
 "nbformat_minor": 2
}
